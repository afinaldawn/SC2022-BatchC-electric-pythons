{
 "cells": [
  {
   "cell_type": "code",
   "execution_count": 96,
   "metadata": {
    "collapsed": false
   },
   "outputs": [
   ],
   "source": [
    "import pandas as pd\n",
    "import numpy as np"
   ]
  },
  {
   "cell_type": "markdown",
   "metadata": {
    "collapsed": false
   },
   "source": [
    "Our dataset is from: [https://www.kaggle.com/datasets/jackogozaly/data\\-science\\-and\\-stem\\-salaries?datasetId=1640011&sortBy=voteCount](https://www.kaggle.com/datasets/jackogozaly/data-science-and-stem-salaries?datasetId=1640011&sortBy=voteCount)\n"
   ]
  },
  {
   "cell_type": "code",
   "execution_count": 97,
   "metadata": {
    "collapsed": false
   },
   "outputs": [
   ],
   "source": [
    "df = pd.read_csv(\"Levels_Fyi_Salary_Data.csv\")"
   ]
  },
  {
   "cell_type": "code",
   "execution_count": 98,
   "metadata": {
    "collapsed": false
   },
   "outputs": [
    {
     "data": {
      "text/html": [
       "<div>\n",
       "<style scoped>\n",
       "    .dataframe tbody tr th:only-of-type {\n",
       "        vertical-align: middle;\n",
       "    }\n",
       "\n",
       "    .dataframe tbody tr th {\n",
       "        vertical-align: top;\n",
       "    }\n",
       "\n",
       "    .dataframe thead th {\n",
       "        text-align: right;\n",
       "    }\n",
       "</style>\n",
       "<table border=\"1\" class=\"dataframe\">\n",
       "  <thead>\n",
       "    <tr style=\"text-align: right;\">\n",
       "      <th></th>\n",
       "      <th>timestamp</th>\n",
       "      <th>company</th>\n",
       "      <th>level</th>\n",
       "      <th>title</th>\n",
       "      <th>totalyearlycompensation</th>\n",
       "      <th>location</th>\n",
       "      <th>yearsofexperience</th>\n",
       "      <th>yearsatcompany</th>\n",
       "      <th>tag</th>\n",
       "      <th>basesalary</th>\n",
       "      <th>...</th>\n",
       "      <th>Doctorate_Degree</th>\n",
       "      <th>Highschool</th>\n",
       "      <th>Some_College</th>\n",
       "      <th>Race_Asian</th>\n",
       "      <th>Race_White</th>\n",
       "      <th>Race_Two_Or_More</th>\n",
       "      <th>Race_Black</th>\n",
       "      <th>Race_Hispanic</th>\n",
       "      <th>Race</th>\n",
       "      <th>Education</th>\n",
       "    </tr>\n",
       "  </thead>\n",
       "  <tbody>\n",
       "    <tr>\n",
       "      <th>0</th>\n",
       "      <td>6/7/2017 11:33:27</td>\n",
       "      <td>Oracle</td>\n",
       "      <td>L3</td>\n",
       "      <td>Product Manager</td>\n",
       "      <td>127000</td>\n",
       "      <td>Redwood City, CA</td>\n",
       "      <td>1.5</td>\n",
       "      <td>1.5</td>\n",
       "      <td>NaN</td>\n",
       "      <td>107000.0</td>\n",
       "      <td>...</td>\n",
       "      <td>0</td>\n",
       "      <td>0</td>\n",
       "      <td>0</td>\n",
       "      <td>0</td>\n",
       "      <td>0</td>\n",
       "      <td>0</td>\n",
       "      <td>0</td>\n",
       "      <td>0</td>\n",
       "      <td>NaN</td>\n",
       "      <td>NaN</td>\n",
       "    </tr>\n",
       "    <tr>\n",
       "      <th>1</th>\n",
       "      <td>6/10/2017 17:11:29</td>\n",
       "      <td>eBay</td>\n",
       "      <td>SE 2</td>\n",
       "      <td>Software Engineer</td>\n",
       "      <td>100000</td>\n",
       "      <td>San Francisco, CA</td>\n",
       "      <td>5.0</td>\n",
       "      <td>3.0</td>\n",
       "      <td>NaN</td>\n",
       "      <td>0.0</td>\n",
       "      <td>...</td>\n",
       "      <td>0</td>\n",
       "      <td>0</td>\n",
       "      <td>0</td>\n",
       "      <td>0</td>\n",
       "      <td>0</td>\n",
       "      <td>0</td>\n",
       "      <td>0</td>\n",
       "      <td>0</td>\n",
       "      <td>NaN</td>\n",
       "      <td>NaN</td>\n",
       "    </tr>\n",
       "    <tr>\n",
       "      <th>2</th>\n",
       "      <td>6/11/2017 14:53:57</td>\n",
       "      <td>Amazon</td>\n",
       "      <td>L7</td>\n",
       "      <td>Product Manager</td>\n",
       "      <td>310000</td>\n",
       "      <td>Seattle, WA</td>\n",
       "      <td>8.0</td>\n",
       "      <td>0.0</td>\n",
       "      <td>NaN</td>\n",
       "      <td>155000.0</td>\n",
       "      <td>...</td>\n",
       "      <td>0</td>\n",
       "      <td>0</td>\n",
       "      <td>0</td>\n",
       "      <td>0</td>\n",
       "      <td>0</td>\n",
       "      <td>0</td>\n",
       "      <td>0</td>\n",
       "      <td>0</td>\n",
       "      <td>NaN</td>\n",
       "      <td>NaN</td>\n",
       "    </tr>\n",
       "    <tr>\n",
       "      <th>3</th>\n",
       "      <td>6/17/2017 0:23:14</td>\n",
       "      <td>Apple</td>\n",
       "      <td>M1</td>\n",
       "      <td>Software Engineering Manager</td>\n",
       "      <td>372000</td>\n",
       "      <td>Sunnyvale, CA</td>\n",
       "      <td>7.0</td>\n",
       "      <td>5.0</td>\n",
       "      <td>NaN</td>\n",
       "      <td>157000.0</td>\n",
       "      <td>...</td>\n",
       "      <td>0</td>\n",
       "      <td>0</td>\n",
       "      <td>0</td>\n",
       "      <td>0</td>\n",
       "      <td>0</td>\n",
       "      <td>0</td>\n",
       "      <td>0</td>\n",
       "      <td>0</td>\n",
       "      <td>NaN</td>\n",
       "      <td>NaN</td>\n",
       "    </tr>\n",
       "    <tr>\n",
       "      <th>4</th>\n",
       "      <td>6/20/2017 10:58:51</td>\n",
       "      <td>Microsoft</td>\n",
       "      <td>60</td>\n",
       "      <td>Software Engineer</td>\n",
       "      <td>157000</td>\n",
       "      <td>Mountain View, CA</td>\n",
       "      <td>5.0</td>\n",
       "      <td>3.0</td>\n",
       "      <td>NaN</td>\n",
       "      <td>0.0</td>\n",
       "      <td>...</td>\n",
       "      <td>0</td>\n",
       "      <td>0</td>\n",
       "      <td>0</td>\n",
       "      <td>0</td>\n",
       "      <td>0</td>\n",
       "      <td>0</td>\n",
       "      <td>0</td>\n",
       "      <td>0</td>\n",
       "      <td>NaN</td>\n",
       "      <td>NaN</td>\n",
       "    </tr>\n",
       "  </tbody>\n",
       "</table>\n",
       "<p>5 rows × 29 columns</p>\n",
       "</div>"
      ],
      "text/plain": [
       "            timestamp    company level                         title  \\\n",
       "0   6/7/2017 11:33:27     Oracle    L3               Product Manager   \n",
       "1  6/10/2017 17:11:29       eBay  SE 2             Software Engineer   \n",
       "2  6/11/2017 14:53:57     Amazon    L7               Product Manager   \n",
       "3   6/17/2017 0:23:14      Apple    M1  Software Engineering Manager   \n",
       "4  6/20/2017 10:58:51  Microsoft    60             Software Engineer   \n",
       "\n",
       "   totalyearlycompensation           location  yearsofexperience  \\\n",
       "0                   127000   Redwood City, CA                1.5   \n",
       "1                   100000  San Francisco, CA                5.0   \n",
       "2                   310000        Seattle, WA                8.0   \n",
       "3                   372000      Sunnyvale, CA                7.0   \n",
       "4                   157000  Mountain View, CA                5.0   \n",
       "\n",
       "   yearsatcompany  tag  basesalary  ...  Doctorate_Degree  Highschool  \\\n",
       "0             1.5  NaN    107000.0  ...                 0           0   \n",
       "1             3.0  NaN         0.0  ...                 0           0   \n",
       "2             0.0  NaN    155000.0  ...                 0           0   \n",
       "3             5.0  NaN    157000.0  ...                 0           0   \n",
       "4             3.0  NaN         0.0  ...                 0           0   \n",
       "\n",
       "  Some_College Race_Asian  Race_White  Race_Two_Or_More  Race_Black  \\\n",
       "0            0          0           0                 0           0   \n",
       "1            0          0           0                 0           0   \n",
       "2            0          0           0                 0           0   \n",
       "3            0          0           0                 0           0   \n",
       "4            0          0           0                 0           0   \n",
       "\n",
       "   Race_Hispanic  Race  Education  \n",
       "0              0   NaN        NaN  \n",
       "1              0   NaN        NaN  \n",
       "2              0   NaN        NaN  \n",
       "3              0   NaN        NaN  \n",
       "4              0   NaN        NaN  \n",
       "\n",
       "[5 rows x 29 columns]"
      ]
     },
     "execution_count": 98,
     "metadata": {
     },
     "output_type": "execute_result"
    }
   ],
   "source": [
    "df.head()"
   ]
  },
  {
   "cell_type": "code",
   "execution_count": 99,
   "metadata": {
    "collapsed": false
   },
   "outputs": [
    {
     "data": {
      "text/plain": [
       "Index(['timestamp', 'company', 'level', 'title', 'totalyearlycompensation',\n",
       "       'location', 'yearsofexperience', 'yearsatcompany', 'tag', 'basesalary',\n",
       "       'stockgrantvalue', 'bonus', 'gender', 'otherdetails', 'cityid', 'dmaid',\n",
       "       'rowNumber', 'Masters_Degree', 'Bachelors_Degree', 'Doctorate_Degree',\n",
       "       'Highschool', 'Some_College', 'Race_Asian', 'Race_White',\n",
       "       'Race_Two_Or_More', 'Race_Black', 'Race_Hispanic', 'Race', 'Education'],\n",
       "      dtype='object')"
      ]
     },
     "execution_count": 99,
     "metadata": {
     },
     "output_type": "execute_result"
    }
   ],
   "source": [
    "df.columns"
   ]
  },
  {
   "cell_type": "code",
   "execution_count": 100,
   "metadata": {
    "collapsed": false
   },
   "outputs": [
    {
     "data": {
      "text/plain": [
       "True"
      ]
     },
     "execution_count": 100,
     "metadata": {
     },
     "output_type": "execute_result"
    }
   ],
   "source": [
    "df['company'].isnull().values.any()"
   ]
  },
  {
   "cell_type": "code",
   "execution_count": 101,
   "metadata": {
    "collapsed": false
   },
   "outputs": [
    {
     "data": {
      "text/plain": [
       "5"
      ]
     },
     "execution_count": 101,
     "metadata": {
     },
     "output_type": "execute_result"
    }
   ],
   "source": [
    "df['company'].isnull().sum() "
   ]
  },
  {
   "cell_type": "code",
   "execution_count": 102,
   "metadata": {
    "collapsed": false
   },
   "outputs": [
    {
     "data": {
      "text/plain": [
       "True"
      ]
     },
     "execution_count": 102,
     "metadata": {
     },
     "output_type": "execute_result"
    }
   ],
   "source": [
    "df['level'].isnull().values.any()"
   ]
  },
  {
   "cell_type": "code",
   "execution_count": 103,
   "metadata": {
    "collapsed": false
   },
   "outputs": [
    {
     "data": {
      "text/plain": [
       "119"
      ]
     },
     "execution_count": 103,
     "metadata": {
     },
     "output_type": "execute_result"
    }
   ],
   "source": [
    "df['level'].isnull().sum() "
   ]
  },
  {
   "cell_type": "code",
   "execution_count": 104,
   "metadata": {
    "collapsed": false
   },
   "outputs": [
    {
     "data": {
      "text/plain": [
       "False"
      ]
     },
     "execution_count": 104,
     "metadata": {
     },
     "output_type": "execute_result"
    }
   ],
   "source": [
    "df['title'].isnull().values.any()"
   ]
  },
  {
   "cell_type": "code",
   "execution_count": 105,
   "metadata": {
    "collapsed": false
   },
   "outputs": [
    {
     "data": {
      "text/plain": [
       "False"
      ]
     },
     "execution_count": 105,
     "metadata": {
     },
     "output_type": "execute_result"
    }
   ],
   "source": [
    "df['totalyearlycompensation'].isnull().values.any()"
   ]
  },
  {
   "cell_type": "code",
   "execution_count": 106,
   "metadata": {
    "collapsed": false
   },
   "outputs": [
    {
     "data": {
      "text/plain": [
       "False"
      ]
     },
     "execution_count": 106,
     "metadata": {
     },
     "output_type": "execute_result"
    }
   ],
   "source": [
    "df['location'].isnull().values.any()"
   ]
  },
  {
   "cell_type": "code",
   "execution_count": 107,
   "metadata": {
    "collapsed": false
   },
   "outputs": [
    {
     "data": {
      "text/plain": [
       "False"
      ]
     },
     "execution_count": 107,
     "metadata": {
     },
     "output_type": "execute_result"
    }
   ],
   "source": [
    "df['yearsofexperience'].isnull().values.any()"
   ]
  },
  {
   "cell_type": "code",
   "execution_count": 108,
   "metadata": {
    "collapsed": false
   },
   "outputs": [
    {
     "data": {
      "text/plain": [
       "False"
      ]
     },
     "execution_count": 108,
     "metadata": {
     },
     "output_type": "execute_result"
    }
   ],
   "source": [
    "df['yearsatcompany'].isnull().values.any()"
   ]
  },
  {
   "cell_type": "code",
   "execution_count": 109,
   "metadata": {
    "collapsed": false
   },
   "outputs": [
    {
     "data": {
      "text/plain": [
       "True"
      ]
     },
     "execution_count": 109,
     "metadata": {
     },
     "output_type": "execute_result"
    }
   ],
   "source": [
    "df['tag'].isnull().values.any()"
   ]
  },
  {
   "cell_type": "code",
   "execution_count": 110,
   "metadata": {
    "collapsed": false
   },
   "outputs": [
    {
     "data": {
      "text/plain": [
       "854"
      ]
     },
     "execution_count": 110,
     "metadata": {
     },
     "output_type": "execute_result"
    }
   ],
   "source": [
    "df['tag'].isnull().sum()"
   ]
  },
  {
   "cell_type": "code",
   "execution_count": 111,
   "metadata": {
    "collapsed": false
   },
   "outputs": [
    {
     "data": {
      "text/plain": [
       "False"
      ]
     },
     "execution_count": 111,
     "metadata": {
     },
     "output_type": "execute_result"
    }
   ],
   "source": [
    "df['basesalary'].isnull().values.any()"
   ]
  },
  {
   "cell_type": "code",
   "execution_count": 112,
   "metadata": {
    "collapsed": false
   },
   "outputs": [
    {
     "data": {
      "text/plain": [
       "False"
      ]
     },
     "execution_count": 112,
     "metadata": {
     },
     "output_type": "execute_result"
    }
   ],
   "source": [
    "df['Doctorate_Degree'].isnull().values.any()"
   ]
  },
  {
   "cell_type": "code",
   "execution_count": 113,
   "metadata": {
    "collapsed": false
   },
   "outputs": [
    {
     "data": {
      "text/plain": [
       "False"
      ]
     },
     "execution_count": 113,
     "metadata": {
     },
     "output_type": "execute_result"
    }
   ],
   "source": [
    "df['Highschool'].isnull().values.any()"
   ]
  },
  {
   "cell_type": "code",
   "execution_count": 114,
   "metadata": {
    "collapsed": false
   },
   "outputs": [
    {
     "data": {
      "text/plain": [
       "False"
      ]
     },
     "execution_count": 114,
     "metadata": {
     },
     "output_type": "execute_result"
    }
   ],
   "source": [
    "df['Some_College'].isnull().values.any()"
   ]
  },
  {
   "cell_type": "code",
   "execution_count": 115,
   "metadata": {
    "collapsed": false
   },
   "outputs": [
    {
     "data": {
      "text/plain": [
       "False"
      ]
     },
     "execution_count": 115,
     "metadata": {
     },
     "output_type": "execute_result"
    }
   ],
   "source": [
    "df['Race_Asian'].isnull().values.any()"
   ]
  },
  {
   "cell_type": "code",
   "execution_count": 116,
   "metadata": {
    "collapsed": false
   },
   "outputs": [
    {
     "data": {
      "text/plain": [
       "False"
      ]
     },
     "execution_count": 116,
     "metadata": {
     },
     "output_type": "execute_result"
    }
   ],
   "source": [
    "df['Race_White'].isnull().values.any()"
   ]
  },
  {
   "cell_type": "code",
   "execution_count": 117,
   "metadata": {
    "collapsed": false
   },
   "outputs": [
    {
     "data": {
      "text/plain": [
       "False"
      ]
     },
     "execution_count": 117,
     "metadata": {
     },
     "output_type": "execute_result"
    }
   ],
   "source": [
    "df['Race_Two_Or_More'].isnull().values.any()"
   ]
  },
  {
   "cell_type": "code",
   "execution_count": 118,
   "metadata": {
    "collapsed": false
   },
   "outputs": [
    {
     "data": {
      "text/plain": [
       "False"
      ]
     },
     "execution_count": 118,
     "metadata": {
     },
     "output_type": "execute_result"
    }
   ],
   "source": [
    "df['Race_Black'].isnull().values.any()"
   ]
  },
  {
   "cell_type": "code",
   "execution_count": 119,
   "metadata": {
    "collapsed": false
   },
   "outputs": [
    {
     "data": {
      "text/plain": [
       "False"
      ]
     },
     "execution_count": 119,
     "metadata": {
     },
     "output_type": "execute_result"
    }
   ],
   "source": [
    "df['Race_Hispanic'].isnull().values.any()"
   ]
  },
  {
   "cell_type": "code",
   "execution_count": 120,
   "metadata": {
    "collapsed": false
   },
   "outputs": [
    {
     "data": {
      "text/plain": [
       "True"
      ]
     },
     "execution_count": 120,
     "metadata": {
     },
     "output_type": "execute_result"
    }
   ],
   "source": [
    "df['Race'].isnull().values.any()"
   ]
  },
  {
   "cell_type": "code",
   "execution_count": 121,
   "metadata": {
    "collapsed": false
   },
   "outputs": [
    {
     "data": {
      "text/plain": [
       "40215"
      ]
     },
     "execution_count": 121,
     "metadata": {
     },
     "output_type": "execute_result"
    }
   ],
   "source": [
    "df['Race'].isnull().sum() "
   ]
  },
  {
   "cell_type": "code",
   "execution_count": 122,
   "metadata": {
    "collapsed": false
   },
   "outputs": [
    {
     "data": {
      "text/plain": [
       "True"
      ]
     },
     "execution_count": 122,
     "metadata": {
     },
     "output_type": "execute_result"
    }
   ],
   "source": [
    "df['Education'].isnull().values.any()"
   ]
  },
  {
   "cell_type": "code",
   "execution_count": 123,
   "metadata": {
    "collapsed": false
   },
   "outputs": [
    {
     "data": {
      "text/plain": [
       "32272"
      ]
     },
     "execution_count": 123,
     "metadata": {
     },
     "output_type": "execute_result"
    }
   ],
   "source": [
    "df['Education'].isnull().sum()"
   ]
  },
  {
   "cell_type": "code",
   "execution_count": 134,
   "metadata": {
    "collapsed": false
   },
   "outputs": [
    {
     "data": {
      "text/plain": [
       "Index(['timestamp', 'company', 'title', 'totalyearlycompensation', 'location',\n",
       "       'yearsofexperience', 'yearsatcompany', 'basesalary', 'stockgrantvalue',\n",
       "       'bonus', 'gender', 'cityid', 'rowNumber', 'Masters_Degree',\n",
       "       'Bachelors_Degree', 'Doctorate_Degree', 'Highschool', 'Some_College',\n",
       "       'Race_Asian', 'Race_White', 'Race_Two_Or_More', 'Race_Black',\n",
       "       'Race_Hispanic'],\n",
       "      dtype='object')"
      ]
     },
     "execution_count": 134,
     "metadata": {
     },
     "output_type": "execute_result"
    }
   ],
   "source": [
    "df.columns"
   ]
  },
  {
   "cell_type": "code",
   "execution_count": 125,
   "metadata": {
    "collapsed": false
   },
   "outputs": [
   ],
   "source": [
    "df = df.drop(['Race'], axis = 1)"
   ]
  },
  {
   "cell_type": "code",
   "execution_count": 127,
   "metadata": {
    "collapsed": false
   },
   "outputs": [
   ],
   "source": [
    "df = df.drop(['Education'], axis = 1)"
   ]
  },
  {
   "cell_type": "code",
   "execution_count": 128,
   "metadata": {
    "collapsed": false
   },
   "outputs": [
   ],
   "source": [
    "df = df.drop(['otherdetails'], axis = 1)"
   ]
  },
  {
   "cell_type": "code",
   "execution_count": 132,
   "metadata": {
    "collapsed": false
   },
   "outputs": [
   ],
   "source": [
    "df = df.drop(['level'], axis = 1)"
   ]
  },
  {
   "cell_type": "code",
   "execution_count": 131,
   "metadata": {
    "collapsed": false
   },
   "outputs": [
   ],
   "source": [
    "df = df.drop(['dmaid'], axis = 1)"
   ]
  },
  {
   "cell_type": "code",
   "execution_count": 133,
   "metadata": {
    "collapsed": false
   },
   "outputs": [
   ],
   "source": [
    "df = df.drop(['tag'], axis = 1)"
   ]
  },
  {
   "cell_type": "code",
   "execution_count": 136,
   "metadata": {
    "collapsed": false
   },
   "outputs": [
    {
     "data": {
      "text/html": [
       "<div>\n",
       "<style scoped>\n",
       "    .dataframe tbody tr th:only-of-type {\n",
       "        vertical-align: middle;\n",
       "    }\n",
       "\n",
       "    .dataframe tbody tr th {\n",
       "        vertical-align: top;\n",
       "    }\n",
       "\n",
       "    .dataframe thead th {\n",
       "        text-align: right;\n",
       "    }\n",
       "</style>\n",
       "<table border=\"1\" class=\"dataframe\">\n",
       "  <thead>\n",
       "    <tr style=\"text-align: right;\">\n",
       "      <th></th>\n",
       "      <th>timestamp</th>\n",
       "      <th>company</th>\n",
       "      <th>title</th>\n",
       "      <th>totalyearlycompensation</th>\n",
       "      <th>location</th>\n",
       "      <th>yearsofexperience</th>\n",
       "      <th>yearsatcompany</th>\n",
       "      <th>basesalary</th>\n",
       "      <th>stockgrantvalue</th>\n",
       "      <th>bonus</th>\n",
       "      <th>...</th>\n",
       "      <th>Masters_Degree</th>\n",
       "      <th>Bachelors_Degree</th>\n",
       "      <th>Doctorate_Degree</th>\n",
       "      <th>Highschool</th>\n",
       "      <th>Some_College</th>\n",
       "      <th>Race_Asian</th>\n",
       "      <th>Race_White</th>\n",
       "      <th>Race_Two_Or_More</th>\n",
       "      <th>Race_Black</th>\n",
       "      <th>Race_Hispanic</th>\n",
       "    </tr>\n",
       "  </thead>\n",
       "  <tbody>\n",
       "    <tr>\n",
       "      <th>264</th>\n",
       "      <td>4/12/2018 16:15:32</td>\n",
       "      <td>GE Digital</td>\n",
       "      <td>Software Engineer</td>\n",
       "      <td>140000</td>\n",
       "      <td>San Ramon, CA</td>\n",
       "      <td>4.0</td>\n",
       "      <td>4.0</td>\n",
       "      <td>130000.0</td>\n",
       "      <td>0.0</td>\n",
       "      <td>10000.0</td>\n",
       "      <td>...</td>\n",
       "      <td>0</td>\n",
       "      <td>0</td>\n",
       "      <td>0</td>\n",
       "      <td>0</td>\n",
       "      <td>0</td>\n",
       "      <td>0</td>\n",
       "      <td>0</td>\n",
       "      <td>0</td>\n",
       "      <td>0</td>\n",
       "      <td>0</td>\n",
       "    </tr>\n",
       "    <tr>\n",
       "      <th>265</th>\n",
       "      <td>4/12/2018 23:19:33</td>\n",
       "      <td>Amazon</td>\n",
       "      <td>Software Engineer</td>\n",
       "      <td>172000</td>\n",
       "      <td>Seattle, WA</td>\n",
       "      <td>12.0</td>\n",
       "      <td>2.0</td>\n",
       "      <td>142000.0</td>\n",
       "      <td>30000.0</td>\n",
       "      <td>0.0</td>\n",
       "      <td>...</td>\n",
       "      <td>0</td>\n",
       "      <td>0</td>\n",
       "      <td>0</td>\n",
       "      <td>0</td>\n",
       "      <td>0</td>\n",
       "      <td>0</td>\n",
       "      <td>0</td>\n",
       "      <td>0</td>\n",
       "      <td>0</td>\n",
       "      <td>0</td>\n",
       "    </tr>\n",
       "    <tr>\n",
       "      <th>266</th>\n",
       "      <td>4/13/2018 6:32:17</td>\n",
       "      <td>Uber</td>\n",
       "      <td>Software Engineer</td>\n",
       "      <td>325000</td>\n",
       "      <td>San Francisco, CA</td>\n",
       "      <td>7.0</td>\n",
       "      <td>2.0</td>\n",
       "      <td>161000.0</td>\n",
       "      <td>140000.0</td>\n",
       "      <td>25000.0</td>\n",
       "      <td>...</td>\n",
       "      <td>0</td>\n",
       "      <td>0</td>\n",
       "      <td>0</td>\n",
       "      <td>0</td>\n",
       "      <td>0</td>\n",
       "      <td>0</td>\n",
       "      <td>0</td>\n",
       "      <td>0</td>\n",
       "      <td>0</td>\n",
       "      <td>0</td>\n",
       "    </tr>\n",
       "    <tr>\n",
       "      <th>269</th>\n",
       "      <td>4/14/2018 13:05:22</td>\n",
       "      <td>Microsoft</td>\n",
       "      <td>Software Engineer</td>\n",
       "      <td>150000</td>\n",
       "      <td>Seattle, WA</td>\n",
       "      <td>4.0</td>\n",
       "      <td>0.0</td>\n",
       "      <td>118000.0</td>\n",
       "      <td>5000.0</td>\n",
       "      <td>12000.0</td>\n",
       "      <td>...</td>\n",
       "      <td>0</td>\n",
       "      <td>0</td>\n",
       "      <td>0</td>\n",
       "      <td>0</td>\n",
       "      <td>0</td>\n",
       "      <td>0</td>\n",
       "      <td>0</td>\n",
       "      <td>0</td>\n",
       "      <td>0</td>\n",
       "      <td>0</td>\n",
       "    </tr>\n",
       "    <tr>\n",
       "      <th>270</th>\n",
       "      <td>4/15/2018 11:47:53</td>\n",
       "      <td>Google</td>\n",
       "      <td>Software Engineer</td>\n",
       "      <td>640000</td>\n",
       "      <td>Mountain View, CA</td>\n",
       "      <td>11.0</td>\n",
       "      <td>4.0</td>\n",
       "      <td>210000.0</td>\n",
       "      <td>380000.0</td>\n",
       "      <td>50000.0</td>\n",
       "      <td>...</td>\n",
       "      <td>0</td>\n",
       "      <td>0</td>\n",
       "      <td>0</td>\n",
       "      <td>0</td>\n",
       "      <td>0</td>\n",
       "      <td>0</td>\n",
       "      <td>0</td>\n",
       "      <td>0</td>\n",
       "      <td>0</td>\n",
       "      <td>0</td>\n",
       "    </tr>\n",
       "    <tr>\n",
       "      <th>...</th>\n",
       "      <td>...</td>\n",
       "      <td>...</td>\n",
       "      <td>...</td>\n",
       "      <td>...</td>\n",
       "      <td>...</td>\n",
       "      <td>...</td>\n",
       "      <td>...</td>\n",
       "      <td>...</td>\n",
       "      <td>...</td>\n",
       "      <td>...</td>\n",
       "      <td>...</td>\n",
       "      <td>...</td>\n",
       "      <td>...</td>\n",
       "      <td>...</td>\n",
       "      <td>...</td>\n",
       "      <td>...</td>\n",
       "      <td>...</td>\n",
       "      <td>...</td>\n",
       "      <td>...</td>\n",
       "      <td>...</td>\n",
       "      <td>...</td>\n",
       "    </tr>\n",
       "    <tr>\n",
       "      <th>62610</th>\n",
       "      <td>8/4/2018 11:47:02</td>\n",
       "      <td>Amazon</td>\n",
       "      <td>Software Engineer</td>\n",
       "      <td>135000</td>\n",
       "      <td>Seattle, WA</td>\n",
       "      <td>1.0</td>\n",
       "      <td>0.0</td>\n",
       "      <td>104000.0</td>\n",
       "      <td>3000.0</td>\n",
       "      <td>18500.0</td>\n",
       "      <td>...</td>\n",
       "      <td>0</td>\n",
       "      <td>0</td>\n",
       "      <td>0</td>\n",
       "      <td>0</td>\n",
       "      <td>0</td>\n",
       "      <td>0</td>\n",
       "      <td>0</td>\n",
       "      <td>0</td>\n",
       "      <td>0</td>\n",
       "      <td>0</td>\n",
       "    </tr>\n",
       "    <tr>\n",
       "      <th>62611</th>\n",
       "      <td>8/4/2018 16:03:21</td>\n",
       "      <td>Amazon</td>\n",
       "      <td>Software Engineer</td>\n",
       "      <td>350000</td>\n",
       "      <td>Austin, TX</td>\n",
       "      <td>14.0</td>\n",
       "      <td>1.0</td>\n",
       "      <td>160000.0</td>\n",
       "      <td>175000.0</td>\n",
       "      <td>56250.0</td>\n",
       "      <td>...</td>\n",
       "      <td>0</td>\n",
       "      <td>0</td>\n",
       "      <td>0</td>\n",
       "      <td>0</td>\n",
       "      <td>0</td>\n",
       "      <td>0</td>\n",
       "      <td>0</td>\n",
       "      <td>0</td>\n",
       "      <td>0</td>\n",
       "      <td>0</td>\n",
       "    </tr>\n",
       "    <tr>\n",
       "      <th>62612</th>\n",
       "      <td>8/6/2018 10:11:10</td>\n",
       "      <td>Microsoft</td>\n",
       "      <td>Product Manager</td>\n",
       "      <td>305000</td>\n",
       "      <td>Seattle, WA</td>\n",
       "      <td>20.0</td>\n",
       "      <td>2.0</td>\n",
       "      <td>200000.0</td>\n",
       "      <td>75000.0</td>\n",
       "      <td>30000.0</td>\n",
       "      <td>...</td>\n",
       "      <td>0</td>\n",
       "      <td>0</td>\n",
       "      <td>0</td>\n",
       "      <td>0</td>\n",
       "      <td>0</td>\n",
       "      <td>0</td>\n",
       "      <td>0</td>\n",
       "      <td>0</td>\n",
       "      <td>0</td>\n",
       "      <td>0</td>\n",
       "    </tr>\n",
       "    <tr>\n",
       "      <th>62613</th>\n",
       "      <td>8/7/2018 21:07:28</td>\n",
       "      <td>Amazon</td>\n",
       "      <td>Software Engineer</td>\n",
       "      <td>152000</td>\n",
       "      <td>Seattle, WA</td>\n",
       "      <td>3.0</td>\n",
       "      <td>0.0</td>\n",
       "      <td>106000.0</td>\n",
       "      <td>26000.0</td>\n",
       "      <td>20000.0</td>\n",
       "      <td>...</td>\n",
       "      <td>0</td>\n",
       "      <td>0</td>\n",
       "      <td>0</td>\n",
       "      <td>0</td>\n",
       "      <td>0</td>\n",
       "      <td>0</td>\n",
       "      <td>0</td>\n",
       "      <td>0</td>\n",
       "      <td>0</td>\n",
       "      <td>0</td>\n",
       "    </tr>\n",
       "    <tr>\n",
       "      <th>62641</th>\n",
       "      <td>1/29/2019 5:12:59</td>\n",
       "      <td>apple</td>\n",
       "      <td>Software Engineer</td>\n",
       "      <td>200000</td>\n",
       "      <td>Sunnyvale, CA</td>\n",
       "      <td>0.0</td>\n",
       "      <td>0.0</td>\n",
       "      <td>155000.0</td>\n",
       "      <td>27000.0</td>\n",
       "      <td>19000.0</td>\n",
       "      <td>...</td>\n",
       "      <td>0</td>\n",
       "      <td>0</td>\n",
       "      <td>0</td>\n",
       "      <td>0</td>\n",
       "      <td>0</td>\n",
       "      <td>0</td>\n",
       "      <td>0</td>\n",
       "      <td>0</td>\n",
       "      <td>0</td>\n",
       "      <td>0</td>\n",
       "    </tr>\n",
       "  </tbody>\n",
       "</table>\n",
       "<p>43098 rows × 23 columns</p>\n",
       "</div>"
      ],
      "text/plain": [
       "                timestamp     company              title  \\\n",
       "264    4/12/2018 16:15:32  GE Digital  Software Engineer   \n",
       "265    4/12/2018 23:19:33      Amazon  Software Engineer   \n",
       "266     4/13/2018 6:32:17        Uber  Software Engineer   \n",
       "269    4/14/2018 13:05:22   Microsoft  Software Engineer   \n",
       "270    4/15/2018 11:47:53      Google  Software Engineer   \n",
       "...                   ...         ...                ...   \n",
       "62610   8/4/2018 11:47:02      Amazon  Software Engineer   \n",
       "62611   8/4/2018 16:03:21      Amazon  Software Engineer   \n",
       "62612   8/6/2018 10:11:10   Microsoft    Product Manager   \n",
       "62613   8/7/2018 21:07:28      Amazon  Software Engineer   \n",
       "62641   1/29/2019 5:12:59       apple  Software Engineer   \n",
       "\n",
       "       totalyearlycompensation           location  yearsofexperience  \\\n",
       "264                     140000      San Ramon, CA                4.0   \n",
       "265                     172000        Seattle, WA               12.0   \n",
       "266                     325000  San Francisco, CA                7.0   \n",
       "269                     150000        Seattle, WA                4.0   \n",
       "270                     640000  Mountain View, CA               11.0   \n",
       "...                        ...                ...                ...   \n",
       "62610                   135000        Seattle, WA                1.0   \n",
       "62611                   350000         Austin, TX               14.0   \n",
       "62612                   305000        Seattle, WA               20.0   \n",
       "62613                   152000        Seattle, WA                3.0   \n",
       "62641                   200000      Sunnyvale, CA                0.0   \n",
       "\n",
       "       yearsatcompany  basesalary  stockgrantvalue    bonus  ...  \\\n",
       "264               4.0    130000.0              0.0  10000.0  ...   \n",
       "265               2.0    142000.0          30000.0      0.0  ...   \n",
       "266               2.0    161000.0         140000.0  25000.0  ...   \n",
       "269               0.0    118000.0           5000.0  12000.0  ...   \n",
       "270               4.0    210000.0         380000.0  50000.0  ...   \n",
       "...               ...         ...              ...      ...  ...   \n",
       "62610             0.0    104000.0           3000.0  18500.0  ...   \n",
       "62611             1.0    160000.0         175000.0  56250.0  ...   \n",
       "62612             2.0    200000.0          75000.0  30000.0  ...   \n",
       "62613             0.0    106000.0          26000.0  20000.0  ...   \n",
       "62641             0.0    155000.0          27000.0  19000.0  ...   \n",
       "\n",
       "      Masters_Degree  Bachelors_Degree  Doctorate_Degree  Highschool  \\\n",
       "264                0                 0                 0           0   \n",
       "265                0                 0                 0           0   \n",
       "266                0                 0                 0           0   \n",
       "269                0                 0                 0           0   \n",
       "270                0                 0                 0           0   \n",
       "...              ...               ...               ...         ...   \n",
       "62610              0                 0                 0           0   \n",
       "62611              0                 0                 0           0   \n",
       "62612              0                 0                 0           0   \n",
       "62613              0                 0                 0           0   \n",
       "62641              0                 0                 0           0   \n",
       "\n",
       "       Some_College  Race_Asian  Race_White  Race_Two_Or_More  Race_Black  \\\n",
       "264               0           0           0                 0           0   \n",
       "265               0           0           0                 0           0   \n",
       "266               0           0           0                 0           0   \n",
       "269               0           0           0                 0           0   \n",
       "270               0           0           0                 0           0   \n",
       "...             ...         ...         ...               ...         ...   \n",
       "62610             0           0           0                 0           0   \n",
       "62611             0           0           0                 0           0   \n",
       "62612             0           0           0                 0           0   \n",
       "62613             0           0           0                 0           0   \n",
       "62641             0           0           0                 0           0   \n",
       "\n",
       "       Race_Hispanic  \n",
       "264                0  \n",
       "265                0  \n",
       "266                0  \n",
       "269                0  \n",
       "270                0  \n",
       "...              ...  \n",
       "62610              0  \n",
       "62611              0  \n",
       "62612              0  \n",
       "62613              0  \n",
       "62641              0  \n",
       "\n",
       "[43098 rows x 23 columns]"
      ]
     },
     "execution_count": 136,
     "metadata": {
     },
     "output_type": "execute_result"
    }
   ],
   "source": [
    "df.dropna()"
   ]
  },
  {
   "cell_type": "code",
   "execution_count": 0,
   "metadata": {
    "collapsed": false
   },
   "outputs": [
   ],
   "source": [
   ]
  }
 ],
 "metadata": {
  "kernelspec": {
   "display_name": "Python (ds_env)",
   "language": "python",
   "metadata": {
    "debugger": true
   },
   "name": "ds_env",
   "resource_dir": "/projects/0bcf82e6-7441-4432-a339-19b67c22cc5c/.local/share/jupyter/kernels/ds_env"
  },
  "language_info": {
   "codemirror_mode": {
    "name": "ipython",
    "version": 3
   },
   "file_extension": ".py",
   "mimetype": "text/x-python",
   "name": "python",
   "nbconvert_exporter": "python",
   "pygments_lexer": "ipython3",
   "version": "3.8.13"
  }
 },
 "nbformat": 4,
 "nbformat_minor": 4
}