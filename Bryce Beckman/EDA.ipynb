{
 "cells": [
  {
   "cell_type": "code",
   "execution_count": 2,
   "metadata": {
    "collapsed": false
   },
   "outputs": [
   ],
   "source": [
    "import pandas as pd\n",
    "import numpy as np"
   ]
  },
  {
   "cell_type": "markdown",
   "metadata": {
    "collapsed": false
   },
   "source": [
    "Our dataset is from: [https://www.kaggle.com/datasets/jackogozaly/data\\-science\\-and\\-stem\\-salaries?datasetId=1640011&sortBy=voteCount](https://www.kaggle.com/datasets/jackogozaly/data-science-and-stem-salaries?datasetId=1640011&sortBy=voteCount)\n"
   ]
  },
  {
   "cell_type": "code",
   "execution_count": 3,
   "metadata": {
    "collapsed": false
   },
   "outputs": [
   ],
   "source": [
    "df = pd.read_csv(\"Levels_Fyi_Salary_Data.csv\")"
   ]
  },
  {
   "cell_type": "code",
   "execution_count": 57,
   "metadata": {
    "collapsed": false
   },
   "outputs": [
    {
     "data": {
      "text/html": [
       "<div>\n",
       "<style scoped>\n",
       "    .dataframe tbody tr th:only-of-type {\n",
       "        vertical-align: middle;\n",
       "    }\n",
       "\n",
       "    .dataframe tbody tr th {\n",
       "        vertical-align: top;\n",
       "    }\n",
       "\n",
       "    .dataframe thead th {\n",
       "        text-align: right;\n",
       "    }\n",
       "</style>\n",
       "<table border=\"1\" class=\"dataframe\">\n",
       "  <thead>\n",
       "    <tr style=\"text-align: right;\">\n",
       "      <th></th>\n",
       "      <th>timestamp</th>\n",
       "      <th>company</th>\n",
       "      <th>title</th>\n",
       "      <th>totalyearlycompensation</th>\n",
       "      <th>location</th>\n",
       "      <th>yearsofexperience</th>\n",
       "      <th>yearsatcompany</th>\n",
       "      <th>basesalary</th>\n",
       "      <th>stockgrantvalue</th>\n",
       "      <th>bonus</th>\n",
       "      <th>...</th>\n",
       "      <th>Masters_Degree</th>\n",
       "      <th>Bachelors_Degree</th>\n",
       "      <th>Doctorate_Degree</th>\n",
       "      <th>Highschool</th>\n",
       "      <th>Some_College</th>\n",
       "      <th>Race_Asian</th>\n",
       "      <th>Race_White</th>\n",
       "      <th>Race_Two_Or_More</th>\n",
       "      <th>Race_Black</th>\n",
       "      <th>Race_Hispanic</th>\n",
       "    </tr>\n",
       "  </thead>\n",
       "  <tbody>\n",
       "    <tr>\n",
       "      <th>0</th>\n",
       "      <td>6/7/2017 11:33:27</td>\n",
       "      <td>Oracle</td>\n",
       "      <td>Product Manager</td>\n",
       "      <td>127000</td>\n",
       "      <td>Redwood City, CA</td>\n",
       "      <td>1.5</td>\n",
       "      <td>1.5</td>\n",
       "      <td>107000.0</td>\n",
       "      <td>20000.0</td>\n",
       "      <td>10000.0</td>\n",
       "      <td>...</td>\n",
       "      <td>0</td>\n",
       "      <td>0</td>\n",
       "      <td>0</td>\n",
       "      <td>0</td>\n",
       "      <td>0</td>\n",
       "      <td>0</td>\n",
       "      <td>0</td>\n",
       "      <td>0</td>\n",
       "      <td>0</td>\n",
       "      <td>0</td>\n",
       "    </tr>\n",
       "    <tr>\n",
       "      <th>1</th>\n",
       "      <td>6/10/2017 17:11:29</td>\n",
       "      <td>eBay</td>\n",
       "      <td>Software Engineer</td>\n",
       "      <td>100000</td>\n",
       "      <td>San Francisco, CA</td>\n",
       "      <td>5.0</td>\n",
       "      <td>3.0</td>\n",
       "      <td>0.0</td>\n",
       "      <td>0.0</td>\n",
       "      <td>0.0</td>\n",
       "      <td>...</td>\n",
       "      <td>0</td>\n",
       "      <td>0</td>\n",
       "      <td>0</td>\n",
       "      <td>0</td>\n",
       "      <td>0</td>\n",
       "      <td>0</td>\n",
       "      <td>0</td>\n",
       "      <td>0</td>\n",
       "      <td>0</td>\n",
       "      <td>0</td>\n",
       "    </tr>\n",
       "    <tr>\n",
       "      <th>2</th>\n",
       "      <td>6/11/2017 14:53:57</td>\n",
       "      <td>Amazon</td>\n",
       "      <td>Product Manager</td>\n",
       "      <td>310000</td>\n",
       "      <td>Seattle, WA</td>\n",
       "      <td>8.0</td>\n",
       "      <td>0.0</td>\n",
       "      <td>155000.0</td>\n",
       "      <td>0.0</td>\n",
       "      <td>0.0</td>\n",
       "      <td>...</td>\n",
       "      <td>0</td>\n",
       "      <td>0</td>\n",
       "      <td>0</td>\n",
       "      <td>0</td>\n",
       "      <td>0</td>\n",
       "      <td>0</td>\n",
       "      <td>0</td>\n",
       "      <td>0</td>\n",
       "      <td>0</td>\n",
       "      <td>0</td>\n",
       "    </tr>\n",
       "    <tr>\n",
       "      <th>3</th>\n",
       "      <td>6/17/2017 0:23:14</td>\n",
       "      <td>Apple</td>\n",
       "      <td>Software Engineering Manager</td>\n",
       "      <td>372000</td>\n",
       "      <td>Sunnyvale, CA</td>\n",
       "      <td>7.0</td>\n",
       "      <td>5.0</td>\n",
       "      <td>157000.0</td>\n",
       "      <td>180000.0</td>\n",
       "      <td>35000.0</td>\n",
       "      <td>...</td>\n",
       "      <td>0</td>\n",
       "      <td>0</td>\n",
       "      <td>0</td>\n",
       "      <td>0</td>\n",
       "      <td>0</td>\n",
       "      <td>0</td>\n",
       "      <td>0</td>\n",
       "      <td>0</td>\n",
       "      <td>0</td>\n",
       "      <td>0</td>\n",
       "    </tr>\n",
       "    <tr>\n",
       "      <th>4</th>\n",
       "      <td>6/20/2017 10:58:51</td>\n",
       "      <td>Microsoft</td>\n",
       "      <td>Software Engineer</td>\n",
       "      <td>157000</td>\n",
       "      <td>Mountain View, CA</td>\n",
       "      <td>5.0</td>\n",
       "      <td>3.0</td>\n",
       "      <td>0.0</td>\n",
       "      <td>0.0</td>\n",
       "      <td>0.0</td>\n",
       "      <td>...</td>\n",
       "      <td>0</td>\n",
       "      <td>0</td>\n",
       "      <td>0</td>\n",
       "      <td>0</td>\n",
       "      <td>0</td>\n",
       "      <td>0</td>\n",
       "      <td>0</td>\n",
       "      <td>0</td>\n",
       "      <td>0</td>\n",
       "      <td>0</td>\n",
       "    </tr>\n",
       "  </tbody>\n",
       "</table>\n",
       "<p>5 rows × 23 columns</p>\n",
       "</div>"
      ],
      "text/plain": [
       "            timestamp    company                         title  \\\n",
       "0   6/7/2017 11:33:27     Oracle               Product Manager   \n",
       "1  6/10/2017 17:11:29       eBay             Software Engineer   \n",
       "2  6/11/2017 14:53:57     Amazon               Product Manager   \n",
       "3   6/17/2017 0:23:14      Apple  Software Engineering Manager   \n",
       "4  6/20/2017 10:58:51  Microsoft             Software Engineer   \n",
       "\n",
       "   totalyearlycompensation           location  yearsofexperience  \\\n",
       "0                   127000   Redwood City, CA                1.5   \n",
       "1                   100000  San Francisco, CA                5.0   \n",
       "2                   310000        Seattle, WA                8.0   \n",
       "3                   372000      Sunnyvale, CA                7.0   \n",
       "4                   157000  Mountain View, CA                5.0   \n",
       "\n",
       "   yearsatcompany  basesalary  stockgrantvalue    bonus  ... Masters_Degree  \\\n",
       "0             1.5    107000.0          20000.0  10000.0  ...              0   \n",
       "1             3.0         0.0              0.0      0.0  ...              0   \n",
       "2             0.0    155000.0              0.0      0.0  ...              0   \n",
       "3             5.0    157000.0         180000.0  35000.0  ...              0   \n",
       "4             3.0         0.0              0.0      0.0  ...              0   \n",
       "\n",
       "   Bachelors_Degree  Doctorate_Degree  Highschool  Some_College  Race_Asian  \\\n",
       "0                 0                 0           0             0           0   \n",
       "1                 0                 0           0             0           0   \n",
       "2                 0                 0           0             0           0   \n",
       "3                 0                 0           0             0           0   \n",
       "4                 0                 0           0             0           0   \n",
       "\n",
       "   Race_White  Race_Two_Or_More  Race_Black  Race_Hispanic  \n",
       "0           0                 0           0              0  \n",
       "1           0                 0           0              0  \n",
       "2           0                 0           0              0  \n",
       "3           0                 0           0              0  \n",
       "4           0                 0           0              0  \n",
       "\n",
       "[5 rows x 23 columns]"
      ]
     },
     "execution_count": 57,
     "metadata": {
     },
     "output_type": "execute_result"
    }
   ],
   "source": [
    "df.head()"
   ]
  },
  {
   "cell_type": "code",
   "execution_count": 55,
   "metadata": {
    "collapsed": false
   },
   "outputs": [
    {
     "data": {
      "text/plain": [
       "Index(['timestamp', 'company', 'title', 'totalyearlycompensation', 'location',\n",
       "       'yearsofexperience', 'yearsatcompany', 'basesalary', 'stockgrantvalue',\n",
       "       'bonus', 'gender', 'cityid', 'rowNumber', 'Masters_Degree',\n",
       "       'Bachelors_Degree', 'Doctorate_Degree', 'Highschool', 'Some_College',\n",
       "       'Race_Asian', 'Race_White', 'Race_Two_Or_More', 'Race_Black',\n",
       "       'Race_Hispanic'],\n",
       "      dtype='object')"
      ]
     },
     "execution_count": 55,
     "metadata": {
     },
     "output_type": "execute_result"
    }
   ],
   "source": [
    "df.columns"
   ]
  },
  {
   "cell_type": "code",
   "execution_count": 6,
   "metadata": {
    "collapsed": false
   },
   "outputs": [
    {
     "data": {
      "text/plain": [
       "True"
      ]
     },
     "execution_count": 6,
     "metadata": {
     },
     "output_type": "execute_result"
    }
   ],
   "source": [
    "df['company'].isnull().values.any()"
   ]
  },
  {
   "cell_type": "code",
   "execution_count": 7,
   "metadata": {
    "collapsed": false
   },
   "outputs": [
    {
     "data": {
      "text/plain": [
       "5"
      ]
     },
     "execution_count": 7,
     "metadata": {
     },
     "output_type": "execute_result"
    }
   ],
   "source": [
    "df['company'].isnull().sum()"
   ]
  },
  {
   "cell_type": "code",
   "execution_count": 9,
   "metadata": {
    "collapsed": false
   },
   "outputs": [
    {
     "data": {
      "text/plain": [
       "62642"
      ]
     },
     "execution_count": 9,
     "metadata": {
     },
     "output_type": "execute_result"
    }
   ],
   "source": [
    "len(df)"
   ]
  },
  {
   "cell_type": "code",
   "execution_count": 11,
   "metadata": {
    "collapsed": false
   },
   "outputs": [
    {
     "data": {
      "text/plain": [
       "True"
      ]
     },
     "execution_count": 11,
     "metadata": {
     },
     "output_type": "execute_result"
    }
   ],
   "source": [
    "df['level'].isnull().values.any()"
   ]
  },
  {
   "cell_type": "code",
   "execution_count": 14,
   "metadata": {
    "collapsed": false
   },
   "outputs": [
    {
     "data": {
      "text/plain": [
       "119"
      ]
     },
     "execution_count": 14,
     "metadata": {
     },
     "output_type": "execute_result"
    }
   ],
   "source": [
    "df['level'].isnull().sum()"
   ]
  },
  {
   "cell_type": "code",
   "execution_count": 19,
   "metadata": {
    "collapsed": false
   },
   "outputs": [
    {
     "data": {
      "text/plain": [
       "True"
      ]
     },
     "execution_count": 19,
     "metadata": {
     },
     "output_type": "execute_result"
    }
   ],
   "source": [
    "df['tag'].isnull().values.any()"
   ]
  },
  {
   "cell_type": "code",
   "execution_count": 20,
   "metadata": {
    "collapsed": false
   },
   "outputs": [
    {
     "data": {
      "text/plain": [
       "854"
      ]
     },
     "execution_count": 20,
     "metadata": {
     },
     "output_type": "execute_result"
    }
   ],
   "source": [
    "df['tag'].isnull().sum()"
   ]
  },
  {
   "cell_type": "code",
   "execution_count": 24,
   "metadata": {
    "collapsed": false
   },
   "outputs": [
    {
     "data": {
      "text/plain": [
       "True"
      ]
     },
     "execution_count": 24,
     "metadata": {
     },
     "output_type": "execute_result"
    }
   ],
   "source": [
    "df['gender'].isnull().values.any()"
   ]
  },
  {
   "cell_type": "code",
   "execution_count": 25,
   "metadata": {
    "collapsed": false
   },
   "outputs": [
    {
     "data": {
      "text/plain": [
       "19540"
      ]
     },
     "execution_count": 25,
     "metadata": {
     },
     "output_type": "execute_result"
    }
   ],
   "source": [
    "df['gender'].isnull().sum()"
   ]
  },
  {
   "cell_type": "code",
   "execution_count": 26,
   "metadata": {
    "collapsed": false
   },
   "outputs": [
    {
     "data": {
      "text/plain": [
       "True"
      ]
     },
     "execution_count": 26,
     "metadata": {
     },
     "output_type": "execute_result"
    }
   ],
   "source": [
    "df['otherdetails'].isnull().values.any()"
   ]
  },
  {
   "cell_type": "code",
   "execution_count": 27,
   "metadata": {
    "collapsed": false
   },
   "outputs": [
    {
     "data": {
      "text/plain": [
       "22505"
      ]
     },
     "execution_count": 27,
     "metadata": {
     },
     "output_type": "execute_result"
    }
   ],
   "source": [
    "df['otherdetails'].isnull().sum()"
   ]
  },
  {
   "cell_type": "code",
   "execution_count": 29,
   "metadata": {
    "collapsed": false
   },
   "outputs": [
    {
     "data": {
      "text/plain": [
       "True"
      ]
     },
     "execution_count": 29,
     "metadata": {
     },
     "output_type": "execute_result"
    }
   ],
   "source": [
    "df['dmaid'].isnull().values.any()"
   ]
  },
  {
   "cell_type": "code",
   "execution_count": 30,
   "metadata": {
    "collapsed": false
   },
   "outputs": [
    {
     "data": {
      "text/plain": [
       "2"
      ]
     },
     "execution_count": 30,
     "metadata": {
     },
     "output_type": "execute_result"
    }
   ],
   "source": [
    "df['dmaid'].isnull().sum()"
   ]
  },
  {
   "cell_type": "code",
   "execution_count": 32,
   "metadata": {
    "collapsed": false
   },
   "outputs": [
    {
     "data": {
      "text/plain": [
       "False"
      ]
     },
     "execution_count": 32,
     "metadata": {
     },
     "output_type": "execute_result"
    }
   ],
   "source": [
    "df['Masters_Degree'].isnull().values.any()"
   ]
  },
  {
   "cell_type": "code",
   "execution_count": 42,
   "metadata": {
    "collapsed": false
   },
   "outputs": [
    {
     "data": {
      "text/plain": [
       "True"
      ]
     },
     "execution_count": 42,
     "metadata": {
     },
     "output_type": "execute_result"
    }
   ],
   "source": [
    "df['Race'].isnull().values.any()"
   ]
  },
  {
   "cell_type": "code",
   "execution_count": 43,
   "metadata": {
    "collapsed": false
   },
   "outputs": [
    {
     "data": {
      "text/plain": [
       "40215"
      ]
     },
     "execution_count": 43,
     "metadata": {
     },
     "output_type": "execute_result"
    }
   ],
   "source": [
    "df['Race'].isnull().sum()"
   ]
  },
  {
   "cell_type": "code",
   "execution_count": 44,
   "metadata": {
    "collapsed": false
   },
   "outputs": [
    {
     "data": {
      "text/plain": [
       "True"
      ]
     },
     "execution_count": 44,
     "metadata": {
     },
     "output_type": "execute_result"
    }
   ],
   "source": [
    "df['Education'].isnull().values.any()"
   ]
  },
  {
   "cell_type": "code",
   "execution_count": 45,
   "metadata": {
    "collapsed": false
   },
   "outputs": [
    {
     "data": {
      "text/plain": [
       "32272"
      ]
     },
     "execution_count": 45,
     "metadata": {
     },
     "output_type": "execute_result"
    }
   ],
   "source": [
    "df['Education'].isnull().sum()"
   ]
  },
  {
   "cell_type": "code",
   "execution_count": 52,
   "metadata": {
    "collapsed": false
   },
   "outputs": [
   ],
   "source": [
    "df = df.drop(['Race','Education','otherdetails','level','tag','dmaid'], axis = 1)"
   ]
  },
  {
   "cell_type": "code",
   "execution_count": 53,
   "metadata": {
    "collapsed": false
   },
   "outputs": [
    {
     "data": {
      "text/html": [
       "<div>\n",
       "<style scoped>\n",
       "    .dataframe tbody tr th:only-of-type {\n",
       "        vertical-align: middle;\n",
       "    }\n",
       "\n",
       "    .dataframe tbody tr th {\n",
       "        vertical-align: top;\n",
       "    }\n",
       "\n",
       "    .dataframe thead th {\n",
       "        text-align: right;\n",
       "    }\n",
       "</style>\n",
       "<table border=\"1\" class=\"dataframe\">\n",
       "  <thead>\n",
       "    <tr style=\"text-align: right;\">\n",
       "      <th></th>\n",
       "      <th>timestamp</th>\n",
       "      <th>company</th>\n",
       "      <th>title</th>\n",
       "      <th>totalyearlycompensation</th>\n",
       "      <th>location</th>\n",
       "      <th>yearsofexperience</th>\n",
       "      <th>yearsatcompany</th>\n",
       "      <th>basesalary</th>\n",
       "      <th>stockgrantvalue</th>\n",
       "      <th>bonus</th>\n",
       "      <th>...</th>\n",
       "      <th>Masters_Degree</th>\n",
       "      <th>Bachelors_Degree</th>\n",
       "      <th>Doctorate_Degree</th>\n",
       "      <th>Highschool</th>\n",
       "      <th>Some_College</th>\n",
       "      <th>Race_Asian</th>\n",
       "      <th>Race_White</th>\n",
       "      <th>Race_Two_Or_More</th>\n",
       "      <th>Race_Black</th>\n",
       "      <th>Race_Hispanic</th>\n",
       "    </tr>\n",
       "  </thead>\n",
       "  <tbody>\n",
       "    <tr>\n",
       "      <th>0</th>\n",
       "      <td>6/7/2017 11:33:27</td>\n",
       "      <td>Oracle</td>\n",
       "      <td>Product Manager</td>\n",
       "      <td>127000</td>\n",
       "      <td>Redwood City, CA</td>\n",
       "      <td>1.5</td>\n",
       "      <td>1.5</td>\n",
       "      <td>107000.0</td>\n",
       "      <td>20000.0</td>\n",
       "      <td>10000.0</td>\n",
       "      <td>...</td>\n",
       "      <td>0</td>\n",
       "      <td>0</td>\n",
       "      <td>0</td>\n",
       "      <td>0</td>\n",
       "      <td>0</td>\n",
       "      <td>0</td>\n",
       "      <td>0</td>\n",
       "      <td>0</td>\n",
       "      <td>0</td>\n",
       "      <td>0</td>\n",
       "    </tr>\n",
       "    <tr>\n",
       "      <th>1</th>\n",
       "      <td>6/10/2017 17:11:29</td>\n",
       "      <td>eBay</td>\n",
       "      <td>Software Engineer</td>\n",
       "      <td>100000</td>\n",
       "      <td>San Francisco, CA</td>\n",
       "      <td>5.0</td>\n",
       "      <td>3.0</td>\n",
       "      <td>0.0</td>\n",
       "      <td>0.0</td>\n",
       "      <td>0.0</td>\n",
       "      <td>...</td>\n",
       "      <td>0</td>\n",
       "      <td>0</td>\n",
       "      <td>0</td>\n",
       "      <td>0</td>\n",
       "      <td>0</td>\n",
       "      <td>0</td>\n",
       "      <td>0</td>\n",
       "      <td>0</td>\n",
       "      <td>0</td>\n",
       "      <td>0</td>\n",
       "    </tr>\n",
       "    <tr>\n",
       "      <th>2</th>\n",
       "      <td>6/11/2017 14:53:57</td>\n",
       "      <td>Amazon</td>\n",
       "      <td>Product Manager</td>\n",
       "      <td>310000</td>\n",
       "      <td>Seattle, WA</td>\n",
       "      <td>8.0</td>\n",
       "      <td>0.0</td>\n",
       "      <td>155000.0</td>\n",
       "      <td>0.0</td>\n",
       "      <td>0.0</td>\n",
       "      <td>...</td>\n",
       "      <td>0</td>\n",
       "      <td>0</td>\n",
       "      <td>0</td>\n",
       "      <td>0</td>\n",
       "      <td>0</td>\n",
       "      <td>0</td>\n",
       "      <td>0</td>\n",
       "      <td>0</td>\n",
       "      <td>0</td>\n",
       "      <td>0</td>\n",
       "    </tr>\n",
       "    <tr>\n",
       "      <th>3</th>\n",
       "      <td>6/17/2017 0:23:14</td>\n",
       "      <td>Apple</td>\n",
       "      <td>Software Engineering Manager</td>\n",
       "      <td>372000</td>\n",
       "      <td>Sunnyvale, CA</td>\n",
       "      <td>7.0</td>\n",
       "      <td>5.0</td>\n",
       "      <td>157000.0</td>\n",
       "      <td>180000.0</td>\n",
       "      <td>35000.0</td>\n",
       "      <td>...</td>\n",
       "      <td>0</td>\n",
       "      <td>0</td>\n",
       "      <td>0</td>\n",
       "      <td>0</td>\n",
       "      <td>0</td>\n",
       "      <td>0</td>\n",
       "      <td>0</td>\n",
       "      <td>0</td>\n",
       "      <td>0</td>\n",
       "      <td>0</td>\n",
       "    </tr>\n",
       "    <tr>\n",
       "      <th>4</th>\n",
       "      <td>6/20/2017 10:58:51</td>\n",
       "      <td>Microsoft</td>\n",
       "      <td>Software Engineer</td>\n",
       "      <td>157000</td>\n",
       "      <td>Mountain View, CA</td>\n",
       "      <td>5.0</td>\n",
       "      <td>3.0</td>\n",
       "      <td>0.0</td>\n",
       "      <td>0.0</td>\n",
       "      <td>0.0</td>\n",
       "      <td>...</td>\n",
       "      <td>0</td>\n",
       "      <td>0</td>\n",
       "      <td>0</td>\n",
       "      <td>0</td>\n",
       "      <td>0</td>\n",
       "      <td>0</td>\n",
       "      <td>0</td>\n",
       "      <td>0</td>\n",
       "      <td>0</td>\n",
       "      <td>0</td>\n",
       "    </tr>\n",
       "  </tbody>\n",
       "</table>\n",
       "<p>5 rows × 23 columns</p>\n",
       "</div>"
      ],
      "text/plain": [
       "            timestamp    company                         title  \\\n",
       "0   6/7/2017 11:33:27     Oracle               Product Manager   \n",
       "1  6/10/2017 17:11:29       eBay             Software Engineer   \n",
       "2  6/11/2017 14:53:57     Amazon               Product Manager   \n",
       "3   6/17/2017 0:23:14      Apple  Software Engineering Manager   \n",
       "4  6/20/2017 10:58:51  Microsoft             Software Engineer   \n",
       "\n",
       "   totalyearlycompensation           location  yearsofexperience  \\\n",
       "0                   127000   Redwood City, CA                1.5   \n",
       "1                   100000  San Francisco, CA                5.0   \n",
       "2                   310000        Seattle, WA                8.0   \n",
       "3                   372000      Sunnyvale, CA                7.0   \n",
       "4                   157000  Mountain View, CA                5.0   \n",
       "\n",
       "   yearsatcompany  basesalary  stockgrantvalue    bonus  ... Masters_Degree  \\\n",
       "0             1.5    107000.0          20000.0  10000.0  ...              0   \n",
       "1             3.0         0.0              0.0      0.0  ...              0   \n",
       "2             0.0    155000.0              0.0      0.0  ...              0   \n",
       "3             5.0    157000.0         180000.0  35000.0  ...              0   \n",
       "4             3.0         0.0              0.0      0.0  ...              0   \n",
       "\n",
       "   Bachelors_Degree  Doctorate_Degree  Highschool  Some_College  Race_Asian  \\\n",
       "0                 0                 0           0             0           0   \n",
       "1                 0                 0           0             0           0   \n",
       "2                 0                 0           0             0           0   \n",
       "3                 0                 0           0             0           0   \n",
       "4                 0                 0           0             0           0   \n",
       "\n",
       "   Race_White  Race_Two_Or_More  Race_Black  Race_Hispanic  \n",
       "0           0                 0           0              0  \n",
       "1           0                 0           0              0  \n",
       "2           0                 0           0              0  \n",
       "3           0                 0           0              0  \n",
       "4           0                 0           0              0  \n",
       "\n",
       "[5 rows x 23 columns]"
      ]
     },
     "execution_count": 53,
     "metadata": {
     },
     "output_type": "execute_result"
    }
   ],
   "source": [
    "df.head()"
   ]
  },
  {
   "cell_type": "code",
   "execution_count": 61,
   "metadata": {
    "collapsed": false
   },
   "outputs": [
   ],
   "source": [
    "df.dropna(inplace=True)\n",
    "df.reset_index(drop=True, inplace=True)"
   ]
  },
  {
   "cell_type": "code",
   "execution_count": 62,
   "metadata": {
    "collapsed": false
   },
   "outputs": [
    {
     "data": {
      "text/plain": [
       "False"
      ]
     },
     "execution_count": 62,
     "metadata": {
     },
     "output_type": "execute_result"
    }
   ],
   "source": [
    "df['company'].isnull().values.any()"
   ]
  },
  {
   "cell_type": "code",
   "execution_count": 63,
   "metadata": {
    "collapsed": false
   },
   "outputs": [
    {
     "data": {
      "text/plain": [
       "43098"
      ]
     },
     "execution_count": 63,
     "metadata": {
     },
     "output_type": "execute_result"
    }
   ],
   "source": [
    "len(df)"
   ]
  },
  {
   "cell_type": "code",
   "execution_count": 71,
   "metadata": {
    "collapsed": false
   },
   "outputs": [
    {
     "data": {
      "text/plain": [
       "Amazon                    5525\n",
       "Microsoft                 3641\n",
       "Google                    2978\n",
       "Facebook                  2118\n",
       "Apple                     1384\n",
       "                          ... \n",
       "GOogle                       1\n",
       "Refinitiv                    1\n",
       "cadence design systems       1\n",
       "Moody's analytics            1\n",
       "tableau software             1\n",
       "Name: company, Length: 1478, dtype: int64"
      ]
     },
     "execution_count": 71,
     "metadata": {
     },
     "output_type": "execute_result"
    }
   ],
   "source": [
    "df['company'].value_counts()"
   ]
  },
  {
   "cell_type": "code",
   "execution_count": 69,
   "metadata": {
    "collapsed": false
   },
   "outputs": [
    {
     "data": {
      "text/plain": [
       "Male                               35698\n",
       "Female                              6999\n",
       "Other                                400\n",
       "Title: Senior Software Engineer        1\n",
       "Name: gender, dtype: int64"
      ]
     },
     "execution_count": 69,
     "metadata": {
     },
     "output_type": "execute_result"
    }
   ],
   "source": [
    "df['gender'].value_counts()"
   ]
  },
  {
   "cell_type": "code",
   "execution_count": 72,
   "metadata": {
    "collapsed": false
   },
   "outputs": [
    {
     "data": {
      "text/plain": [
       "Seattle, WA                          5800\n",
       "San Francisco, CA                    4319\n",
       "New York, NY                         3102\n",
       "Redmond, WA                          1838\n",
       "Sunnyvale, CA                        1528\n",
       "                                     ... \n",
       "Graz, ST, Austria                       1\n",
       "Trondheim, ST, Norway                   1\n",
       "Mandaluyong City, MM, Philippines       1\n",
       "Elk Grove, CA                           1\n",
       "Hilbert, WI                             1\n",
       "Name: location, Length: 936, dtype: int64"
      ]
     },
     "execution_count": 72,
     "metadata": {
     },
     "output_type": "execute_result"
    }
   ],
   "source": [
    "df['location'].value_counts()"
   ]
  },
  {
   "cell_type": "code",
   "execution_count": 75,
   "metadata": {
    "collapsed": false
   },
   "outputs": [
    {
     "data": {
      "text/plain": [
       "0    31395\n",
       "1    11703\n",
       "Name: Race_Asian, dtype: int64"
      ]
     },
     "execution_count": 75,
     "metadata": {
     },
     "output_type": "execute_result"
    }
   ],
   "source": [
    "df['Race_Asian'].value_counts()"
   ]
  },
  {
   "cell_type": "code",
   "execution_count": 76,
   "metadata": {
    "collapsed": false
   },
   "outputs": [
    {
     "data": {
      "text/plain": [
       "0    42413\n",
       "1      685\n",
       "Name: Race_Black, dtype: int64"
      ]
     },
     "execution_count": 76,
     "metadata": {
     },
     "output_type": "execute_result"
    }
   ],
   "source": [
    "df['Race_Black'].value_counts()"
   ]
  },
  {
   "cell_type": "code",
   "execution_count": 77,
   "metadata": {
    "collapsed": false
   },
   "outputs": [
    {
     "data": {
      "text/plain": [
       "0    35095\n",
       "1     8003\n",
       "Name: Race_White, dtype: int64"
      ]
     },
     "execution_count": 77,
     "metadata": {
     },
     "output_type": "execute_result"
    }
   ],
   "source": [
    "df['Race_White'].value_counts()"
   ]
  },
  {
   "cell_type": "code",
   "execution_count": 78,
   "metadata": {
    "collapsed": false
   },
   "outputs": [
    {
     "data": {
      "text/plain": [
       "0    42302\n",
       "1      796\n",
       "Name: Race_Two_Or_More, dtype: int64"
      ]
     },
     "execution_count": 78,
     "metadata": {
     },
     "output_type": "execute_result"
    }
   ],
   "source": [
    "df['Race_Two_Or_More'].value_counts()"
   ]
  },
  {
   "cell_type": "code",
   "execution_count": 79,
   "metadata": {
    "collapsed": false
   },
   "outputs": [
    {
     "data": {
      "text/plain": [
       "0    41975\n",
       "1     1123\n",
       "Name: Race_Hispanic, dtype: int64"
      ]
     },
     "execution_count": 79,
     "metadata": {
     },
     "output_type": "execute_result"
    }
   ],
   "source": [
    "df['Race_Hispanic'].value_counts()"
   ]
  },
  {
   "cell_type": "code",
   "execution_count": 0,
   "metadata": {
    "collapsed": false
   },
   "outputs": [
   ],
   "source": [
   ]
  }
 ],
 "metadata": {
  "kernelspec": {
   "display_name": "Python (ds_env)",
   "language": "python",
   "metadata": {
    "debugger": true
   },
   "name": "ds_env",
   "resource_dir": "/projects/0bcf82e6-7441-4432-a339-19b67c22cc5c/.local/share/jupyter/kernels/ds_env"
  },
  "language_info": {
   "codemirror_mode": {
    "name": "ipython",
    "version": 3
   },
   "file_extension": ".py",
   "mimetype": "text/x-python",
   "name": "python",
   "nbconvert_exporter": "python",
   "pygments_lexer": "ipython3",
   "version": "3.8.13"
  }
 },
 "nbformat": 4,
 "nbformat_minor": 4
}