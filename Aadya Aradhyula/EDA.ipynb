{
 "cells": [
  {
   "cell_type": "code",
   "execution_count": 1,
   "metadata": {
    "collapsed": false
   },
   "outputs": [
   ],
   "source": [
    "#Loading And Understanding Our Data"
   ]
  },
  {
   "cell_type": "code",
   "execution_count": 63,
   "metadata": {
    "collapsed": false
   },
   "outputs": [
   ],
   "source": [
    "import pandas as pd\n",
    "import numpy as np"
   ]
  },
  {
   "cell_type": "markdown",
   "metadata": {
    "collapsed": false
   },
   "source": [
    "Our dataset is from: [https://www.kaggle.com/datasets/jackogozaly/data\\-science\\-and\\-stem\\-salaries?datasetId=1640011&sortBy=voteCount](https://www.kaggle.com/datasets/jackogozaly/data-science-and-stem-salaries?datasetId=1640011&sortBy=voteCount)\n"
   ]
  },
  {
   "cell_type": "code",
   "execution_count": 64,
   "metadata": {
    "collapsed": false
   },
   "outputs": [
   ],
   "source": [
    "df = pd.read_csv(\"Levels_Fyi_Salary_Data.csv\")"
   ]
  },
  {
   "cell_type": "code",
   "execution_count": 65,
   "metadata": {
    "collapsed": false
   },
   "outputs": [
    {
     "data": {
      "text/html": [
       "<div>\n",
       "<style scoped>\n",
       "    .dataframe tbody tr th:only-of-type {\n",
       "        vertical-align: middle;\n",
       "    }\n",
       "\n",
       "    .dataframe tbody tr th {\n",
       "        vertical-align: top;\n",
       "    }\n",
       "\n",
       "    .dataframe thead th {\n",
       "        text-align: right;\n",
       "    }\n",
       "</style>\n",
       "<table border=\"1\" class=\"dataframe\">\n",
       "  <thead>\n",
       "    <tr style=\"text-align: right;\">\n",
       "      <th></th>\n",
       "      <th>timestamp</th>\n",
       "      <th>company</th>\n",
       "      <th>level</th>\n",
       "      <th>title</th>\n",
       "      <th>totalyearlycompensation</th>\n",
       "      <th>location</th>\n",
       "      <th>yearsofexperience</th>\n",
       "      <th>yearsatcompany</th>\n",
       "      <th>tag</th>\n",
       "      <th>basesalary</th>\n",
       "      <th>...</th>\n",
       "      <th>Doctorate_Degree</th>\n",
       "      <th>Highschool</th>\n",
       "      <th>Some_College</th>\n",
       "      <th>Race_Asian</th>\n",
       "      <th>Race_White</th>\n",
       "      <th>Race_Two_Or_More</th>\n",
       "      <th>Race_Black</th>\n",
       "      <th>Race_Hispanic</th>\n",
       "      <th>Race</th>\n",
       "      <th>Education</th>\n",
       "    </tr>\n",
       "  </thead>\n",
       "  <tbody>\n",
       "    <tr>\n",
       "      <th>0</th>\n",
       "      <td>6/7/2017 11:33:27</td>\n",
       "      <td>Oracle</td>\n",
       "      <td>L3</td>\n",
       "      <td>Product Manager</td>\n",
       "      <td>127000</td>\n",
       "      <td>Redwood City, CA</td>\n",
       "      <td>1.5</td>\n",
       "      <td>1.5</td>\n",
       "      <td>NaN</td>\n",
       "      <td>107000.0</td>\n",
       "      <td>...</td>\n",
       "      <td>0</td>\n",
       "      <td>0</td>\n",
       "      <td>0</td>\n",
       "      <td>0</td>\n",
       "      <td>0</td>\n",
       "      <td>0</td>\n",
       "      <td>0</td>\n",
       "      <td>0</td>\n",
       "      <td>NaN</td>\n",
       "      <td>NaN</td>\n",
       "    </tr>\n",
       "    <tr>\n",
       "      <th>1</th>\n",
       "      <td>6/10/2017 17:11:29</td>\n",
       "      <td>eBay</td>\n",
       "      <td>SE 2</td>\n",
       "      <td>Software Engineer</td>\n",
       "      <td>100000</td>\n",
       "      <td>San Francisco, CA</td>\n",
       "      <td>5.0</td>\n",
       "      <td>3.0</td>\n",
       "      <td>NaN</td>\n",
       "      <td>0.0</td>\n",
       "      <td>...</td>\n",
       "      <td>0</td>\n",
       "      <td>0</td>\n",
       "      <td>0</td>\n",
       "      <td>0</td>\n",
       "      <td>0</td>\n",
       "      <td>0</td>\n",
       "      <td>0</td>\n",
       "      <td>0</td>\n",
       "      <td>NaN</td>\n",
       "      <td>NaN</td>\n",
       "    </tr>\n",
       "    <tr>\n",
       "      <th>2</th>\n",
       "      <td>6/11/2017 14:53:57</td>\n",
       "      <td>Amazon</td>\n",
       "      <td>L7</td>\n",
       "      <td>Product Manager</td>\n",
       "      <td>310000</td>\n",
       "      <td>Seattle, WA</td>\n",
       "      <td>8.0</td>\n",
       "      <td>0.0</td>\n",
       "      <td>NaN</td>\n",
       "      <td>155000.0</td>\n",
       "      <td>...</td>\n",
       "      <td>0</td>\n",
       "      <td>0</td>\n",
       "      <td>0</td>\n",
       "      <td>0</td>\n",
       "      <td>0</td>\n",
       "      <td>0</td>\n",
       "      <td>0</td>\n",
       "      <td>0</td>\n",
       "      <td>NaN</td>\n",
       "      <td>NaN</td>\n",
       "    </tr>\n",
       "    <tr>\n",
       "      <th>3</th>\n",
       "      <td>6/17/2017 0:23:14</td>\n",
       "      <td>Apple</td>\n",
       "      <td>M1</td>\n",
       "      <td>Software Engineering Manager</td>\n",
       "      <td>372000</td>\n",
       "      <td>Sunnyvale, CA</td>\n",
       "      <td>7.0</td>\n",
       "      <td>5.0</td>\n",
       "      <td>NaN</td>\n",
       "      <td>157000.0</td>\n",
       "      <td>...</td>\n",
       "      <td>0</td>\n",
       "      <td>0</td>\n",
       "      <td>0</td>\n",
       "      <td>0</td>\n",
       "      <td>0</td>\n",
       "      <td>0</td>\n",
       "      <td>0</td>\n",
       "      <td>0</td>\n",
       "      <td>NaN</td>\n",
       "      <td>NaN</td>\n",
       "    </tr>\n",
       "    <tr>\n",
       "      <th>4</th>\n",
       "      <td>6/20/2017 10:58:51</td>\n",
       "      <td>Microsoft</td>\n",
       "      <td>60</td>\n",
       "      <td>Software Engineer</td>\n",
       "      <td>157000</td>\n",
       "      <td>Mountain View, CA</td>\n",
       "      <td>5.0</td>\n",
       "      <td>3.0</td>\n",
       "      <td>NaN</td>\n",
       "      <td>0.0</td>\n",
       "      <td>...</td>\n",
       "      <td>0</td>\n",
       "      <td>0</td>\n",
       "      <td>0</td>\n",
       "      <td>0</td>\n",
       "      <td>0</td>\n",
       "      <td>0</td>\n",
       "      <td>0</td>\n",
       "      <td>0</td>\n",
       "      <td>NaN</td>\n",
       "      <td>NaN</td>\n",
       "    </tr>\n",
       "  </tbody>\n",
       "</table>\n",
       "<p>5 rows × 29 columns</p>\n",
       "</div>"
      ],
      "text/plain": [
       "            timestamp    company level                         title  \\\n",
       "0   6/7/2017 11:33:27     Oracle    L3               Product Manager   \n",
       "1  6/10/2017 17:11:29       eBay  SE 2             Software Engineer   \n",
       "2  6/11/2017 14:53:57     Amazon    L7               Product Manager   \n",
       "3   6/17/2017 0:23:14      Apple    M1  Software Engineering Manager   \n",
       "4  6/20/2017 10:58:51  Microsoft    60             Software Engineer   \n",
       "\n",
       "   totalyearlycompensation           location  yearsofexperience  \\\n",
       "0                   127000   Redwood City, CA                1.5   \n",
       "1                   100000  San Francisco, CA                5.0   \n",
       "2                   310000        Seattle, WA                8.0   \n",
       "3                   372000      Sunnyvale, CA                7.0   \n",
       "4                   157000  Mountain View, CA                5.0   \n",
       "\n",
       "   yearsatcompany  tag  basesalary  ...  Doctorate_Degree  Highschool  \\\n",
       "0             1.5  NaN    107000.0  ...                 0           0   \n",
       "1             3.0  NaN         0.0  ...                 0           0   \n",
       "2             0.0  NaN    155000.0  ...                 0           0   \n",
       "3             5.0  NaN    157000.0  ...                 0           0   \n",
       "4             3.0  NaN         0.0  ...                 0           0   \n",
       "\n",
       "  Some_College Race_Asian  Race_White  Race_Two_Or_More  Race_Black  \\\n",
       "0            0          0           0                 0           0   \n",
       "1            0          0           0                 0           0   \n",
       "2            0          0           0                 0           0   \n",
       "3            0          0           0                 0           0   \n",
       "4            0          0           0                 0           0   \n",
       "\n",
       "   Race_Hispanic  Race  Education  \n",
       "0              0   NaN        NaN  \n",
       "1              0   NaN        NaN  \n",
       "2              0   NaN        NaN  \n",
       "3              0   NaN        NaN  \n",
       "4              0   NaN        NaN  \n",
       "\n",
       "[5 rows x 29 columns]"
      ]
     },
     "execution_count": 65,
     "metadata": {
     },
     "output_type": "execute_result"
    }
   ],
   "source": [
    "df.head()"
   ]
  },
  {
   "cell_type": "code",
   "execution_count": 66,
   "metadata": {
    "collapsed": false
   },
   "outputs": [
   ],
   "source": [
    "#Cleaning Our Data"
   ]
  },
  {
   "cell_type": "code",
   "execution_count": 67,
   "metadata": {
    "collapsed": false
   },
   "outputs": [
    {
     "data": {
      "text/plain": [
       "Index(['timestamp', 'company', 'level', 'title', 'totalyearlycompensation',\n",
       "       'location', 'yearsofexperience', 'yearsatcompany', 'tag', 'basesalary',\n",
       "       'stockgrantvalue', 'bonus', 'gender', 'otherdetails', 'cityid', 'dmaid',\n",
       "       'rowNumber', 'Masters_Degree', 'Bachelors_Degree', 'Doctorate_Degree',\n",
       "       'Highschool', 'Some_College', 'Race_Asian', 'Race_White',\n",
       "       'Race_Two_Or_More', 'Race_Black', 'Race_Hispanic', 'Race', 'Education'],\n",
       "      dtype='object')"
      ]
     },
     "execution_count": 67,
     "metadata": {
     },
     "output_type": "execute_result"
    }
   ],
   "source": [
    "df.columns"
   ]
  },
  {
   "cell_type": "code",
   "execution_count": 68,
   "metadata": {
    "collapsed": false
   },
   "outputs": [
    {
     "data": {
      "text/plain": [
       "62642"
      ]
     },
     "execution_count": 68,
     "metadata": {
     },
     "output_type": "execute_result"
    }
   ],
   "source": [
    "#numbers of rows in dataset\n",
    "len(df)"
   ]
  },
  {
   "cell_type": "code",
   "execution_count": 69,
   "metadata": {
    "collapsed": false
   },
   "outputs": [
    {
     "data": {
      "text/plain": [
       "True"
      ]
     },
     "execution_count": 69,
     "metadata": {
     },
     "output_type": "execute_result"
    }
   ],
   "source": [
    "df['company'].isnull().values.any() #tells us if there are missing values in this column"
   ]
  },
  {
   "cell_type": "code",
   "execution_count": 70,
   "metadata": {
    "collapsed": false
   },
   "outputs": [
    {
     "data": {
      "text/plain": [
       "0"
      ]
     },
     "execution_count": 70,
     "metadata": {
     },
     "output_type": "execute_result"
    }
   ],
   "source": [
    "df['timestamp'].isnull().sum() #tells us how many null values are in a specific column"
   ]
  },
  {
   "cell_type": "code",
   "execution_count": 71,
   "metadata": {
    "collapsed": false
   },
   "outputs": [
    {
     "data": {
      "text/plain": [
       "<bound method NDFrame._add_numeric_operations.<locals>.sum of 0        False\n",
       "1        False\n",
       "2        False\n",
       "3        False\n",
       "4        False\n",
       "         ...  \n",
       "62637    False\n",
       "62638    False\n",
       "62639    False\n",
       "62640    False\n",
       "62641    False\n",
       "Name: company, Length: 62642, dtype: bool>"
      ]
     },
     "execution_count": 71,
     "metadata": {
     },
     "output_type": "execute_result"
    }
   ],
   "source": [
    "df['company'].isnull().sum"
   ]
  },
  {
   "cell_type": "code",
   "execution_count": 72,
   "metadata": {
    "collapsed": false
   },
   "outputs": [
    {
     "data": {
      "text/plain": [
       "timestamp                      0\n",
       "company                        5\n",
       "level                        119\n",
       "title                          0\n",
       "totalyearlycompensation        0\n",
       "location                       0\n",
       "yearsofexperience              0\n",
       "yearsatcompany                 0\n",
       "tag                          854\n",
       "basesalary                     0\n",
       "stockgrantvalue                0\n",
       "bonus                          0\n",
       "gender                     19540\n",
       "otherdetails               22505\n",
       "cityid                         0\n",
       "dmaid                          2\n",
       "rowNumber                      0\n",
       "Masters_Degree                 0\n",
       "Bachelors_Degree               0\n",
       "Doctorate_Degree               0\n",
       "Highschool                     0\n",
       "Some_College                   0\n",
       "Race_Asian                     0\n",
       "Race_White                     0\n",
       "Race_Two_Or_More               0\n",
       "Race_Black                     0\n",
       "Race_Hispanic                  0\n",
       "Race                       40215\n",
       "Education                  32272\n",
       "dtype: int64"
      ]
     },
     "execution_count": 72,
     "metadata": {
     },
     "output_type": "execute_result"
    }
   ],
   "source": [
    "#identifies all missing variables in all columns\n",
    "pd.isnull(df).sum()"
   ]
  },
  {
   "cell_type": "code",
   "execution_count": 73,
   "metadata": {
    "collapsed": false
   },
   "outputs": [
   ],
   "source": [
    "# code that identifies the number  of all N/A's in columns\n",
    "missing_cols = []\n",
    "for col in df.columns:\n",
    "    if df[col].isnull().values.any():\n",
    "        num = df[col].isnull().sum()\n",
    "        missing_cols.append([col, num])"
   ]
  },
  {
   "cell_type": "code",
   "execution_count": 74,
   "metadata": {
    "collapsed": false
   },
   "outputs": [
    {
     "data": {
      "text/plain": [
       "[['company', 5],\n",
       " ['level', 119],\n",
       " ['tag', 854],\n",
       " ['gender', 19540],\n",
       " ['otherdetails', 22505],\n",
       " ['dmaid', 2],\n",
       " ['Race', 40215],\n",
       " ['Education', 32272]]"
      ]
     },
     "execution_count": 74,
     "metadata": {
     },
     "output_type": "execute_result"
    }
   ],
   "source": [
    "missing_cols"
   ]
  },
  {
   "cell_type": "code",
   "execution_count": 75,
   "metadata": {
    "collapsed": false
   },
   "outputs": [
    {
     "data": {
      "text/plain": [
       "22427"
      ]
     },
     "execution_count": 75,
     "metadata": {
     },
     "output_type": "execute_result"
    }
   ],
   "source": [
    "#Finding the useless variables\n",
    "df['Race'].notnull().sum()"
   ]
  },
  {
   "cell_type": "code",
   "execution_count": 76,
   "metadata": {
    "collapsed": false
   },
   "outputs": [
    {
     "data": {
      "text/plain": [
       "L4                             5014\n",
       "L5                             4871\n",
       "L3                             3337\n",
       "L6                             2871\n",
       "Senior Software Engineer       1443\n",
       "                               ... \n",
       "Mid Market                        1\n",
       "Gr 7                              1\n",
       "Senior BA                         1\n",
       "Consulting Analyst                1\n",
       "Bioinformatics Scientist II       1\n",
       "Name: level, Length: 2923, dtype: int64"
      ]
     },
     "execution_count": 76,
     "metadata": {
     },
     "output_type": "execute_result"
    }
   ],
   "source": [
    "df['level'].value_counts()"
   ]
  },
  {
   "cell_type": "code",
   "execution_count": 77,
   "metadata": {
    "collapsed": false
   },
   "outputs": [
   ],
   "source": [
    "#Dropping all the N/A's\n",
    "df = df.drop(['Race'], axis = 1)"
   ]
  },
  {
   "cell_type": "code",
   "execution_count": 78,
   "metadata": {
    "collapsed": false
   },
   "outputs": [
   ],
   "source": [
    "df = df.drop(['Education'], axis = 1)"
   ]
  },
  {
   "cell_type": "code",
   "execution_count": 79,
   "metadata": {
    "collapsed": false
   },
   "outputs": [
   ],
   "source": [
    "df = df.drop(['otherdetails'], axis = 1)"
   ]
  },
  {
   "cell_type": "code",
   "execution_count": 80,
   "metadata": {
    "collapsed": false
   },
   "outputs": [
   ],
   "source": [
    "df = df.drop(['level'], axis = 1)"
   ]
  },
  {
   "cell_type": "code",
   "execution_count": 81,
   "metadata": {
    "collapsed": false
   },
   "outputs": [
   ],
   "source": [
    "df = df.drop(['tag'], axis = 1)"
   ]
  },
  {
   "cell_type": "code",
   "execution_count": 82,
   "metadata": {
    "collapsed": false
   },
   "outputs": [
   ],
   "source": [
    "df = df.drop(['dmaid'], axis = 1)"
   ]
  },
  {
   "cell_type": "code",
   "execution_count": 83,
   "metadata": {
    "collapsed": false
   },
   "outputs": [
   ],
   "source": [
    "df = df.drop(['cityid'], axis = 1)"
   ]
  },
  {
   "cell_type": "code",
   "execution_count": 84,
   "metadata": {
    "collapsed": false
   },
   "outputs": [
   ],
   "source": [
    "df = df.drop(['rowNumber'], axis = 1)"
   ]
  },
  {
   "cell_type": "code",
   "execution_count": 85,
   "metadata": {
    "collapsed": false
   },
   "outputs": [
   ],
   "source": [
    "df = df.drop(['timestamp'], axis = 1)"
   ]
  },
  {
   "cell_type": "code",
   "execution_count": 86,
   "metadata": {
    "collapsed": false
   },
   "outputs": [
   ],
   "source": [
    "df.dropna(inplace=True)\n",
    "df.reset_index(drop=True, inplace = True)"
   ]
  },
  {
   "cell_type": "code",
   "execution_count": 87,
   "metadata": {
    "collapsed": false
   },
   "outputs": [
    {
     "data": {
      "text/plain": [
       "Index(['company', 'title', 'totalyearlycompensation', 'location',\n",
       "       'yearsofexperience', 'yearsatcompany', 'basesalary', 'stockgrantvalue',\n",
       "       'bonus', 'gender', 'Masters_Degree', 'Bachelors_Degree',\n",
       "       'Doctorate_Degree', 'Highschool', 'Some_College', 'Race_Asian',\n",
       "       'Race_White', 'Race_Two_Or_More', 'Race_Black', 'Race_Hispanic'],\n",
       "      dtype='object')"
      ]
     },
     "execution_count": 87,
     "metadata": {
     },
     "output_type": "execute_result"
    }
   ],
   "source": [
    "# Columns left after dropping\n",
    "df.columns"
   ]
  },
  {
   "cell_type": "code",
   "execution_count": 103,
   "metadata": {
    "collapsed": false
   },
   "outputs": [
    {
     "data": {
      "text/html": [
       "<div>\n",
       "<style scoped>\n",
       "    .dataframe tbody tr th:only-of-type {\n",
       "        vertical-align: middle;\n",
       "    }\n",
       "\n",
       "    .dataframe tbody tr th {\n",
       "        vertical-align: top;\n",
       "    }\n",
       "\n",
       "    .dataframe thead th {\n",
       "        text-align: right;\n",
       "    }\n",
       "</style>\n",
       "<table border=\"1\" class=\"dataframe\">\n",
       "  <thead>\n",
       "    <tr style=\"text-align: right;\">\n",
       "      <th></th>\n",
       "      <th>company</th>\n",
       "      <th>title</th>\n",
       "      <th>totalyearlycompensation</th>\n",
       "      <th>location</th>\n",
       "      <th>yearsofexperience</th>\n",
       "      <th>yearsatcompany</th>\n",
       "      <th>basesalary</th>\n",
       "      <th>stockgrantvalue</th>\n",
       "      <th>bonus</th>\n",
       "      <th>gender</th>\n",
       "      <th>...</th>\n",
       "      <th>Bachelors_Degree</th>\n",
       "      <th>Doctorate_Degree</th>\n",
       "      <th>Highschool</th>\n",
       "      <th>Some_College</th>\n",
       "      <th>Race_Asian</th>\n",
       "      <th>Race_White</th>\n",
       "      <th>Race_Two_Or_More</th>\n",
       "      <th>Race_Black</th>\n",
       "      <th>Race_Hispanic</th>\n",
       "      <th>education</th>\n",
       "    </tr>\n",
       "  </thead>\n",
       "  <tbody>\n",
       "    <tr>\n",
       "      <th>27758</th>\n",
       "      <td>Facebook</td>\n",
       "      <td>Software Engineering Manager</td>\n",
       "      <td>1470000</td>\n",
       "      <td>Menlo Park, CA</td>\n",
       "      <td>9.0</td>\n",
       "      <td>7.0</td>\n",
       "      <td>290000.0</td>\n",
       "      <td>1100.0</td>\n",
       "      <td>80000.0</td>\n",
       "      <td>Male</td>\n",
       "      <td>...</td>\n",
       "      <td>1</td>\n",
       "      <td>0</td>\n",
       "      <td>0</td>\n",
       "      <td>0</td>\n",
       "      <td>1</td>\n",
       "      <td>0</td>\n",
       "      <td>0</td>\n",
       "      <td>0</td>\n",
       "      <td>0</td>\n",
       "      <td>Bachelors</td>\n",
       "    </tr>\n",
       "    <tr>\n",
       "      <th>27759</th>\n",
       "      <td>Google</td>\n",
       "      <td>Product Manager</td>\n",
       "      <td>4500000</td>\n",
       "      <td>San Francisco, CA</td>\n",
       "      <td>20.0</td>\n",
       "      <td>14.0</td>\n",
       "      <td>450000.0</td>\n",
       "      <td>3700.0</td>\n",
       "      <td>350000.0</td>\n",
       "      <td>Male</td>\n",
       "      <td>...</td>\n",
       "      <td>0</td>\n",
       "      <td>0</td>\n",
       "      <td>0</td>\n",
       "      <td>0</td>\n",
       "      <td>1</td>\n",
       "      <td>0</td>\n",
       "      <td>0</td>\n",
       "      <td>0</td>\n",
       "      <td>0</td>\n",
       "      <td>Masters</td>\n",
       "    </tr>\n",
       "    <tr>\n",
       "      <th>27760</th>\n",
       "      <td>Zapier</td>\n",
       "      <td>Software Engineering Manager</td>\n",
       "      <td>1605000</td>\n",
       "      <td>Denver, CO</td>\n",
       "      <td>16.0</td>\n",
       "      <td>2.0</td>\n",
       "      <td>250000.0</td>\n",
       "      <td>1305.0</td>\n",
       "      <td>50000.0</td>\n",
       "      <td>Female</td>\n",
       "      <td>...</td>\n",
       "      <td>0</td>\n",
       "      <td>0</td>\n",
       "      <td>0</td>\n",
       "      <td>0</td>\n",
       "      <td>0</td>\n",
       "      <td>1</td>\n",
       "      <td>0</td>\n",
       "      <td>0</td>\n",
       "      <td>0</td>\n",
       "      <td>Masters</td>\n",
       "    </tr>\n",
       "    <tr>\n",
       "      <th>27761</th>\n",
       "      <td>Facebook</td>\n",
       "      <td>Software Engineering Manager</td>\n",
       "      <td>2372000</td>\n",
       "      <td>Menlo Park, CA</td>\n",
       "      <td>22.0</td>\n",
       "      <td>2.0</td>\n",
       "      <td>315000.0</td>\n",
       "      <td>1933.0</td>\n",
       "      <td>124000.0</td>\n",
       "      <td>Male</td>\n",
       "      <td>...</td>\n",
       "      <td>0</td>\n",
       "      <td>0</td>\n",
       "      <td>0</td>\n",
       "      <td>0</td>\n",
       "      <td>0</td>\n",
       "      <td>0</td>\n",
       "      <td>0</td>\n",
       "      <td>1</td>\n",
       "      <td>0</td>\n",
       "      <td>Masters</td>\n",
       "    </tr>\n",
       "    <tr>\n",
       "      <th>27762</th>\n",
       "      <td>Facebook</td>\n",
       "      <td>Product Manager</td>\n",
       "      <td>4980000</td>\n",
       "      <td>Menlo Park, CA</td>\n",
       "      <td>17.0</td>\n",
       "      <td>0.0</td>\n",
       "      <td>380000.0</td>\n",
       "      <td>4400.0</td>\n",
       "      <td>200000.0</td>\n",
       "      <td>Male</td>\n",
       "      <td>...</td>\n",
       "      <td>0</td>\n",
       "      <td>0</td>\n",
       "      <td>0</td>\n",
       "      <td>0</td>\n",
       "      <td>1</td>\n",
       "      <td>0</td>\n",
       "      <td>0</td>\n",
       "      <td>0</td>\n",
       "      <td>0</td>\n",
       "      <td>Masters</td>\n",
       "    </tr>\n",
       "  </tbody>\n",
       "</table>\n",
       "<p>5 rows × 21 columns</p>\n",
       "</div>"
      ],
      "text/plain": [
       "        company                         title  totalyearlycompensation  \\\n",
       "27758  Facebook  Software Engineering Manager                  1470000   \n",
       "27759    Google               Product Manager                  4500000   \n",
       "27760    Zapier  Software Engineering Manager                  1605000   \n",
       "27761  Facebook  Software Engineering Manager                  2372000   \n",
       "27762  Facebook               Product Manager                  4980000   \n",
       "\n",
       "                location  yearsofexperience  yearsatcompany  basesalary  \\\n",
       "27758     Menlo Park, CA                9.0             7.0    290000.0   \n",
       "27759  San Francisco, CA               20.0            14.0    450000.0   \n",
       "27760         Denver, CO               16.0             2.0    250000.0   \n",
       "27761     Menlo Park, CA               22.0             2.0    315000.0   \n",
       "27762     Menlo Park, CA               17.0             0.0    380000.0   \n",
       "\n",
       "       stockgrantvalue     bonus  gender  ...  Bachelors_Degree  \\\n",
       "27758           1100.0   80000.0    Male  ...                 1   \n",
       "27759           3700.0  350000.0    Male  ...                 0   \n",
       "27760           1305.0   50000.0  Female  ...                 0   \n",
       "27761           1933.0  124000.0    Male  ...                 0   \n",
       "27762           4400.0  200000.0    Male  ...                 0   \n",
       "\n",
       "       Doctorate_Degree  Highschool  Some_College  Race_Asian  Race_White  \\\n",
       "27758                 0           0             0           1           0   \n",
       "27759                 0           0             0           1           0   \n",
       "27760                 0           0             0           0           1   \n",
       "27761                 0           0             0           0           0   \n",
       "27762                 0           0             0           1           0   \n",
       "\n",
       "       Race_Two_Or_More  Race_Black  Race_Hispanic  education  \n",
       "27758                 0           0              0  Bachelors  \n",
       "27759                 0           0              0    Masters  \n",
       "27760                 0           0              0    Masters  \n",
       "27761                 0           1              0    Masters  \n",
       "27762                 0           0              0    Masters  \n",
       "\n",
       "[5 rows x 21 columns]"
      ]
     },
     "execution_count": 103,
     "metadata": {
     },
     "output_type": "execute_result"
    }
   ],
   "source": [
    "df.tail()"
   ]
  },
  {
   "cell_type": "code",
   "execution_count": 89,
   "metadata": {
    "collapsed": false
   },
   "outputs": [
   ],
   "source": [
    "df = df[df['basesalary'] != 0]"
   ]
  },
  {
   "cell_type": "code",
   "execution_count": 90,
   "metadata": {
    "collapsed": false
   },
   "outputs": [
    {
     "data": {
      "text/plain": [
       "42109"
      ]
     },
     "execution_count": 90,
     "metadata": {
     },
     "output_type": "execute_result"
    }
   ],
   "source": [
    "#the number of rows in this dataset after cleaning data\n",
    "len(df)"
   ]
  },
  {
   "cell_type": "code",
   "execution_count": 97,
   "metadata": {
    "collapsed": false
   },
   "outputs": [
   ],
   "source": [
    "#making a new column for degree's/education\n",
    "def check_education(master, bach, doc, high, some):\n",
    "    if master == 1:\n",
    "        return \"Masters\"\n",
    "    elif bach == 1:\n",
    "        return \"Bachelors\"\n",
    "    elif doc == 1:\n",
    "        return \"PHD\"\n",
    "    elif high == 1:\n",
    "        return 'Highschool'\n",
    "    elif some == 1:\n",
    "        return \"Some\"\n",
    "    else:\n",
    "        return \"Missing\""
   ]
  },
  {
   "cell_type": "code",
   "execution_count": 98,
   "metadata": {
    "collapsed": false
   },
   "outputs": [
    {
     "data": {
      "text/html": [
       "<div>\n",
       "<style scoped>\n",
       "    .dataframe tbody tr th:only-of-type {\n",
       "        vertical-align: middle;\n",
       "    }\n",
       "\n",
       "    .dataframe tbody tr th {\n",
       "        vertical-align: top;\n",
       "    }\n",
       "\n",
       "    .dataframe thead th {\n",
       "        text-align: right;\n",
       "    }\n",
       "</style>\n",
       "<table border=\"1\" class=\"dataframe\">\n",
       "  <thead>\n",
       "    <tr style=\"text-align: right;\">\n",
       "      <th></th>\n",
       "      <th>company</th>\n",
       "      <th>title</th>\n",
       "      <th>totalyearlycompensation</th>\n",
       "      <th>location</th>\n",
       "      <th>yearsofexperience</th>\n",
       "      <th>yearsatcompany</th>\n",
       "      <th>basesalary</th>\n",
       "      <th>stockgrantvalue</th>\n",
       "      <th>bonus</th>\n",
       "      <th>gender</th>\n",
       "      <th>...</th>\n",
       "      <th>Bachelors_Degree</th>\n",
       "      <th>Doctorate_Degree</th>\n",
       "      <th>Highschool</th>\n",
       "      <th>Some_College</th>\n",
       "      <th>Race_Asian</th>\n",
       "      <th>Race_White</th>\n",
       "      <th>Race_Two_Or_More</th>\n",
       "      <th>Race_Black</th>\n",
       "      <th>Race_Hispanic</th>\n",
       "      <th>education</th>\n",
       "    </tr>\n",
       "  </thead>\n",
       "  <tbody>\n",
       "    <tr>\n",
       "      <th>0</th>\n",
       "      <td>Capital One</td>\n",
       "      <td>Data Scientist</td>\n",
       "      <td>125000</td>\n",
       "      <td>Washington, DC</td>\n",
       "      <td>1.0</td>\n",
       "      <td>0.0</td>\n",
       "      <td>121000.0</td>\n",
       "      <td>0.0</td>\n",
       "      <td>4000.0</td>\n",
       "      <td>Male</td>\n",
       "      <td>...</td>\n",
       "      <td>0</td>\n",
       "      <td>1</td>\n",
       "      <td>0</td>\n",
       "      <td>0</td>\n",
       "      <td>0</td>\n",
       "      <td>0</td>\n",
       "      <td>0</td>\n",
       "      <td>0</td>\n",
       "      <td>0</td>\n",
       "      <td>PHD</td>\n",
       "    </tr>\n",
       "    <tr>\n",
       "      <th>1</th>\n",
       "      <td>Bloomberg</td>\n",
       "      <td>Software Engineer</td>\n",
       "      <td>170000</td>\n",
       "      <td>New York, NY</td>\n",
       "      <td>0.0</td>\n",
       "      <td>0.0</td>\n",
       "      <td>142000.0</td>\n",
       "      <td>0.0</td>\n",
       "      <td>18000.0</td>\n",
       "      <td>Male</td>\n",
       "      <td>...</td>\n",
       "      <td>0</td>\n",
       "      <td>0</td>\n",
       "      <td>0</td>\n",
       "      <td>0</td>\n",
       "      <td>0</td>\n",
       "      <td>0</td>\n",
       "      <td>0</td>\n",
       "      <td>0</td>\n",
       "      <td>0</td>\n",
       "      <td>Masters</td>\n",
       "    </tr>\n",
       "    <tr>\n",
       "      <th>2</th>\n",
       "      <td>Amazon</td>\n",
       "      <td>Data Scientist</td>\n",
       "      <td>332000</td>\n",
       "      <td>Palo Alto, CA</td>\n",
       "      <td>1.0</td>\n",
       "      <td>0.0</td>\n",
       "      <td>185000.0</td>\n",
       "      <td>17000.0</td>\n",
       "      <td>130000.0</td>\n",
       "      <td>Male</td>\n",
       "      <td>...</td>\n",
       "      <td>0</td>\n",
       "      <td>1</td>\n",
       "      <td>0</td>\n",
       "      <td>0</td>\n",
       "      <td>0</td>\n",
       "      <td>0</td>\n",
       "      <td>0</td>\n",
       "      <td>0</td>\n",
       "      <td>0</td>\n",
       "      <td>PHD</td>\n",
       "    </tr>\n",
       "    <tr>\n",
       "      <th>3</th>\n",
       "      <td>Apple</td>\n",
       "      <td>Software Engineer</td>\n",
       "      <td>240000</td>\n",
       "      <td>Cupertino, CA</td>\n",
       "      <td>3.0</td>\n",
       "      <td>3.0</td>\n",
       "      <td>150000.0</td>\n",
       "      <td>75000.0</td>\n",
       "      <td>15000.0</td>\n",
       "      <td>Female</td>\n",
       "      <td>...</td>\n",
       "      <td>0</td>\n",
       "      <td>1</td>\n",
       "      <td>0</td>\n",
       "      <td>0</td>\n",
       "      <td>0</td>\n",
       "      <td>0</td>\n",
       "      <td>0</td>\n",
       "      <td>0</td>\n",
       "      <td>0</td>\n",
       "      <td>PHD</td>\n",
       "    </tr>\n",
       "    <tr>\n",
       "      <th>4</th>\n",
       "      <td>Synopsys</td>\n",
       "      <td>Software Engineer</td>\n",
       "      <td>310000</td>\n",
       "      <td>Mountain View, CA</td>\n",
       "      <td>25.0</td>\n",
       "      <td>9.0</td>\n",
       "      <td>210000.0</td>\n",
       "      <td>40000.0</td>\n",
       "      <td>60000.0</td>\n",
       "      <td>Male</td>\n",
       "      <td>...</td>\n",
       "      <td>0</td>\n",
       "      <td>1</td>\n",
       "      <td>0</td>\n",
       "      <td>0</td>\n",
       "      <td>0</td>\n",
       "      <td>0</td>\n",
       "      <td>0</td>\n",
       "      <td>0</td>\n",
       "      <td>0</td>\n",
       "      <td>PHD</td>\n",
       "    </tr>\n",
       "  </tbody>\n",
       "</table>\n",
       "<p>5 rows × 21 columns</p>\n",
       "</div>"
      ],
      "text/plain": [
       "       company              title  totalyearlycompensation           location  \\\n",
       "0  Capital One     Data Scientist                   125000     Washington, DC   \n",
       "1    Bloomberg  Software Engineer                   170000       New York, NY   \n",
       "2       Amazon     Data Scientist                   332000      Palo Alto, CA   \n",
       "3        Apple  Software Engineer                   240000      Cupertino, CA   \n",
       "4     Synopsys  Software Engineer                   310000  Mountain View, CA   \n",
       "\n",
       "   yearsofexperience  yearsatcompany  basesalary  stockgrantvalue     bonus  \\\n",
       "0                1.0             0.0    121000.0              0.0    4000.0   \n",
       "1                0.0             0.0    142000.0              0.0   18000.0   \n",
       "2                1.0             0.0    185000.0          17000.0  130000.0   \n",
       "3                3.0             3.0    150000.0          75000.0   15000.0   \n",
       "4               25.0             9.0    210000.0          40000.0   60000.0   \n",
       "\n",
       "   gender  ...  Bachelors_Degree  Doctorate_Degree  Highschool  Some_College  \\\n",
       "0    Male  ...                 0                 1           0             0   \n",
       "1    Male  ...                 0                 0           0             0   \n",
       "2    Male  ...                 0                 1           0             0   \n",
       "3  Female  ...                 0                 1           0             0   \n",
       "4    Male  ...                 0                 1           0             0   \n",
       "\n",
       "   Race_Asian  Race_White  Race_Two_Or_More  Race_Black  Race_Hispanic  \\\n",
       "0           0           0                 0           0              0   \n",
       "1           0           0                 0           0              0   \n",
       "2           0           0                 0           0              0   \n",
       "3           0           0                 0           0              0   \n",
       "4           0           0                 0           0              0   \n",
       "\n",
       "   education  \n",
       "0        PHD  \n",
       "1    Masters  \n",
       "2        PHD  \n",
       "3        PHD  \n",
       "4        PHD  \n",
       "\n",
       "[5 rows x 21 columns]"
      ]
     },
     "execution_count": 98,
     "metadata": {
     },
     "output_type": "execute_result"
    }
   ],
   "source": [
    "df['education'] = df.apply(lambda x: check_education(x.Masters_Degree, x.Bachelors_Degree, x.Doctorate_Degree, x.Highschool, x.Some_College), axis = 1)\n",
    "df.head()"
   ]
  },
  {
   "cell_type": "code",
   "execution_count": 99,
   "metadata": {
    "collapsed": false
   },
   "outputs": [
    {
     "data": {
      "text/plain": [
       "0"
      ]
     },
     "execution_count": 99,
     "metadata": {
     },
     "output_type": "execute_result"
    }
   ],
   "source": [
    "# see how many are variables missing \n",
    "len(df[df['education'] == 'Missing'])"
   ]
  },
  {
   "cell_type": "code",
   "execution_count": 100,
   "metadata": {
    "collapsed": false
   },
   "outputs": [
   ],
   "source": [
    "df = df[df['education'] != 'Missing']\n",
    "df.reset_index(drop=True, inplace=True)"
   ]
  },
  {
   "cell_type": "code",
   "execution_count": 104,
   "metadata": {
    "collapsed": false
   },
   "outputs": [
    {
     "data": {
      "text/plain": [
       "0"
      ]
     },
     "execution_count": 104,
     "metadata": {
     },
     "output_type": "execute_result"
    }
   ],
   "source": [
    "# post results after cleaning data\n",
    "len(df[df['education'] == 'Missing'])"
   ]
  },
  {
   "cell_type": "code",
   "execution_count": 0,
   "metadata": {
    "collapsed": false
   },
   "outputs": [
   ],
   "source": [
    "#Making a new column for race\n"
   ]
  },
  {
   "cell_type": "code",
   "execution_count": 0,
   "metadata": {
    "collapsed": false
   },
   "outputs": [
   ],
   "source": [
   ]
  },
  {
   "cell_type": "code",
   "execution_count": 0,
   "metadata": {
    "collapsed": false
   },
   "outputs": [
   ],
   "source": [
   ]
  },
  {
   "cell_type": "markdown",
   "metadata": {
    "collapsed": false
   },
   "source": [
    "**Exploring Our Data**\n"
   ]
  },
  {
   "cell_type": "code",
   "execution_count": 28,
   "metadata": {
    "collapsed": false
   },
   "outputs": [
    {
     "data": {
      "text/plain": [
       "1000000.0"
      ]
     },
     "execution_count": 28,
     "metadata": {
     },
     "output_type": "execute_result"
    }
   ],
   "source": [
    "#what is the largest bonus\n",
    "max(df['bonus'])"
   ]
  },
  {
   "cell_type": "code",
   "execution_count": 29,
   "metadata": {
    "collapsed": false
   },
   "outputs": [
    {
     "data": {
      "text/plain": [
       "42623    7.0\n",
       "Name: yearsofexperience, dtype: float64"
      ]
     },
     "execution_count": 29,
     "metadata": {
     },
     "output_type": "execute_result"
    }
   ],
   "source": [
    "#find how much years of expierence is needed to get a base salary above $1,000,000\n",
    "df.describe()\n",
    "df['yearsofexperience'][df['basesalary'] >= 1000000 ]"
   ]
  },
  {
   "cell_type": "code",
   "execution_count": 30,
   "metadata": {
    "collapsed": false
   },
   "outputs": [
    {
     "data": {
      "text/plain": [
       "<bound method Series.mode of 0        GE Digital\n",
       "1            Amazon\n",
       "2              Uber\n",
       "3         Microsoft\n",
       "4            Google\n",
       "            ...    \n",
       "43093        Amazon\n",
       "43094        Amazon\n",
       "43095     Microsoft\n",
       "43096        Amazon\n",
       "43097         apple\n",
       "Name: company, Length: 43098, dtype: object>"
      ]
     },
     "execution_count": 30,
     "metadata": {
     },
     "output_type": "execute_result"
    }
   ],
   "source": [
    "#find which company is more popular\n",
    "df['company'].mode #finds out the most frequent variable in a column"
   ]
  },
  {
   "cell_type": "code",
   "execution_count": 31,
   "metadata": {
    "collapsed": false
   },
   "outputs": [
   ],
   "source": [
    "#Featuring engineering and more cleaning"
   ]
  },
  {
   "cell_type": "code",
   "execution_count": 32,
   "metadata": {
    "collapsed": false
   },
   "outputs": [
   ],
   "source": [
    "#basically simplifying to show the popular state\n",
    "def get_state(x):\n",
    "    words = x.split(', ')\n",
    "    state = words[1]\n",
    "    if state == 'CA':\n",
    "        return 'CA'\n",
    "    elif state == 'WA':\n",
    "        return 'WA'\n",
    "    elif state == 'NY':\n",
    "        return 'NY'\n",
    "    else:\n",
    "        return 'Other'"
   ]
  },
  {
   "cell_type": "code",
   "execution_count": 33,
   "metadata": {
    "collapsed": false
   },
   "outputs": [
   ],
   "source": [
    "df['state'] = df['location'].apply(get_state)\n",
    "df.drop(['location'], axis = 1, inplace = True)"
   ]
  },
  {
   "cell_type": "code",
   "execution_count": 34,
   "metadata": {
    "collapsed": false
   },
   "outputs": [
    {
     "data": {
      "text/html": [
       "<div>\n",
       "<style scoped>\n",
       "    .dataframe tbody tr th:only-of-type {\n",
       "        vertical-align: middle;\n",
       "    }\n",
       "\n",
       "    .dataframe tbody tr th {\n",
       "        vertical-align: top;\n",
       "    }\n",
       "\n",
       "    .dataframe thead th {\n",
       "        text-align: right;\n",
       "    }\n",
       "</style>\n",
       "<table border=\"1\" class=\"dataframe\">\n",
       "  <thead>\n",
       "    <tr style=\"text-align: right;\">\n",
       "      <th></th>\n",
       "      <th>company</th>\n",
       "      <th>title</th>\n",
       "      <th>totalyearlycompensation</th>\n",
       "      <th>yearsofexperience</th>\n",
       "      <th>yearsatcompany</th>\n",
       "      <th>basesalary</th>\n",
       "      <th>stockgrantvalue</th>\n",
       "      <th>bonus</th>\n",
       "      <th>gender</th>\n",
       "      <th>Masters_Degree</th>\n",
       "      <th>Bachelors_Degree</th>\n",
       "      <th>Doctorate_Degree</th>\n",
       "      <th>Highschool</th>\n",
       "      <th>Some_College</th>\n",
       "      <th>Race_Asian</th>\n",
       "      <th>Race_White</th>\n",
       "      <th>Race_Two_Or_More</th>\n",
       "      <th>Race_Black</th>\n",
       "      <th>Race_Hispanic</th>\n",
       "      <th>state</th>\n",
       "    </tr>\n",
       "  </thead>\n",
       "  <tbody>\n",
       "    <tr>\n",
       "      <th>0</th>\n",
       "      <td>GE Digital</td>\n",
       "      <td>Software Engineer</td>\n",
       "      <td>140000</td>\n",
       "      <td>4.0</td>\n",
       "      <td>4.0</td>\n",
       "      <td>130000.0</td>\n",
       "      <td>0.0</td>\n",
       "      <td>10000.0</td>\n",
       "      <td>Male</td>\n",
       "      <td>0</td>\n",
       "      <td>0</td>\n",
       "      <td>0</td>\n",
       "      <td>0</td>\n",
       "      <td>0</td>\n",
       "      <td>0</td>\n",
       "      <td>0</td>\n",
       "      <td>0</td>\n",
       "      <td>0</td>\n",
       "      <td>0</td>\n",
       "      <td>CA</td>\n",
       "    </tr>\n",
       "    <tr>\n",
       "      <th>1</th>\n",
       "      <td>Amazon</td>\n",
       "      <td>Software Engineer</td>\n",
       "      <td>172000</td>\n",
       "      <td>12.0</td>\n",
       "      <td>2.0</td>\n",
       "      <td>142000.0</td>\n",
       "      <td>30000.0</td>\n",
       "      <td>0.0</td>\n",
       "      <td>Male</td>\n",
       "      <td>0</td>\n",
       "      <td>0</td>\n",
       "      <td>0</td>\n",
       "      <td>0</td>\n",
       "      <td>0</td>\n",
       "      <td>0</td>\n",
       "      <td>0</td>\n",
       "      <td>0</td>\n",
       "      <td>0</td>\n",
       "      <td>0</td>\n",
       "      <td>WA</td>\n",
       "    </tr>\n",
       "    <tr>\n",
       "      <th>2</th>\n",
       "      <td>Uber</td>\n",
       "      <td>Software Engineer</td>\n",
       "      <td>325000</td>\n",
       "      <td>7.0</td>\n",
       "      <td>2.0</td>\n",
       "      <td>161000.0</td>\n",
       "      <td>140000.0</td>\n",
       "      <td>25000.0</td>\n",
       "      <td>Male</td>\n",
       "      <td>0</td>\n",
       "      <td>0</td>\n",
       "      <td>0</td>\n",
       "      <td>0</td>\n",
       "      <td>0</td>\n",
       "      <td>0</td>\n",
       "      <td>0</td>\n",
       "      <td>0</td>\n",
       "      <td>0</td>\n",
       "      <td>0</td>\n",
       "      <td>CA</td>\n",
       "    </tr>\n",
       "    <tr>\n",
       "      <th>3</th>\n",
       "      <td>Microsoft</td>\n",
       "      <td>Software Engineer</td>\n",
       "      <td>150000</td>\n",
       "      <td>4.0</td>\n",
       "      <td>0.0</td>\n",
       "      <td>118000.0</td>\n",
       "      <td>5000.0</td>\n",
       "      <td>12000.0</td>\n",
       "      <td>Male</td>\n",
       "      <td>0</td>\n",
       "      <td>0</td>\n",
       "      <td>0</td>\n",
       "      <td>0</td>\n",
       "      <td>0</td>\n",
       "      <td>0</td>\n",
       "      <td>0</td>\n",
       "      <td>0</td>\n",
       "      <td>0</td>\n",
       "      <td>0</td>\n",
       "      <td>WA</td>\n",
       "    </tr>\n",
       "    <tr>\n",
       "      <th>4</th>\n",
       "      <td>Google</td>\n",
       "      <td>Software Engineer</td>\n",
       "      <td>640000</td>\n",
       "      <td>11.0</td>\n",
       "      <td>4.0</td>\n",
       "      <td>210000.0</td>\n",
       "      <td>380000.0</td>\n",
       "      <td>50000.0</td>\n",
       "      <td>Male</td>\n",
       "      <td>0</td>\n",
       "      <td>0</td>\n",
       "      <td>0</td>\n",
       "      <td>0</td>\n",
       "      <td>0</td>\n",
       "      <td>0</td>\n",
       "      <td>0</td>\n",
       "      <td>0</td>\n",
       "      <td>0</td>\n",
       "      <td>0</td>\n",
       "      <td>CA</td>\n",
       "    </tr>\n",
       "  </tbody>\n",
       "</table>\n",
       "</div>"
      ],
      "text/plain": [
       "      company              title  totalyearlycompensation  yearsofexperience  \\\n",
       "0  GE Digital  Software Engineer                   140000                4.0   \n",
       "1      Amazon  Software Engineer                   172000               12.0   \n",
       "2        Uber  Software Engineer                   325000                7.0   \n",
       "3   Microsoft  Software Engineer                   150000                4.0   \n",
       "4      Google  Software Engineer                   640000               11.0   \n",
       "\n",
       "   yearsatcompany  basesalary  stockgrantvalue    bonus gender  \\\n",
       "0             4.0    130000.0              0.0  10000.0   Male   \n",
       "1             2.0    142000.0          30000.0      0.0   Male   \n",
       "2             2.0    161000.0         140000.0  25000.0   Male   \n",
       "3             0.0    118000.0           5000.0  12000.0   Male   \n",
       "4             4.0    210000.0         380000.0  50000.0   Male   \n",
       "\n",
       "   Masters_Degree  Bachelors_Degree  Doctorate_Degree  Highschool  \\\n",
       "0               0                 0                 0           0   \n",
       "1               0                 0                 0           0   \n",
       "2               0                 0                 0           0   \n",
       "3               0                 0                 0           0   \n",
       "4               0                 0                 0           0   \n",
       "\n",
       "   Some_College  Race_Asian  Race_White  Race_Two_Or_More  Race_Black  \\\n",
       "0             0           0           0                 0           0   \n",
       "1             0           0           0                 0           0   \n",
       "2             0           0           0                 0           0   \n",
       "3             0           0           0                 0           0   \n",
       "4             0           0           0                 0           0   \n",
       "\n",
       "   Race_Hispanic state  \n",
       "0              0    CA  \n",
       "1              0    WA  \n",
       "2              0    CA  \n",
       "3              0    WA  \n",
       "4              0    CA  "
      ]
     },
     "execution_count": 34,
     "metadata": {
     },
     "output_type": "execute_result"
    }
   ],
   "source": [
    "df.head()"
   ]
  },
  {
   "cell_type": "code",
   "execution_count": 35,
   "metadata": {
    "collapsed": false
   },
   "outputs": [
    {
     "data": {
      "text/plain": [
       "Other    16507\n",
       "CA       15023\n",
       "WA        8347\n",
       "NY        3221\n",
       "Name: state, dtype: int64"
      ]
     },
     "execution_count": 35,
     "metadata": {
     },
     "output_type": "execute_result"
    }
   ],
   "source": [
    "df.state.value_counts()"
   ]
  },
  {
   "cell_type": "code",
   "execution_count": 36,
   "metadata": {
    "collapsed": false
   },
   "outputs": [
   ],
   "source": [
    "#making a new column for top 15 companies\n",
    "top_15_popular = list(df['company'].value_counts().index)[:15]\n",
    "def in_popular(x):\n",
    "    if x in top_15_popular:\n",
    "        return True\n",
    "    else:\n",
    "        return False\n",
    "df['in_top_15'] = df['company'].apply(in_popular)"
   ]
  },
  {
   "cell_type": "code",
   "execution_count": 37,
   "metadata": {
    "collapsed": false
   },
   "outputs": [
    {
     "data": {
      "text/html": [
       "<div>\n",
       "<style scoped>\n",
       "    .dataframe tbody tr th:only-of-type {\n",
       "        vertical-align: middle;\n",
       "    }\n",
       "\n",
       "    .dataframe tbody tr th {\n",
       "        vertical-align: top;\n",
       "    }\n",
       "\n",
       "    .dataframe thead th {\n",
       "        text-align: right;\n",
       "    }\n",
       "</style>\n",
       "<table border=\"1\" class=\"dataframe\">\n",
       "  <thead>\n",
       "    <tr style=\"text-align: right;\">\n",
       "      <th></th>\n",
       "      <th>company</th>\n",
       "      <th>title</th>\n",
       "      <th>totalyearlycompensation</th>\n",
       "      <th>yearsofexperience</th>\n",
       "      <th>yearsatcompany</th>\n",
       "      <th>basesalary</th>\n",
       "      <th>stockgrantvalue</th>\n",
       "      <th>bonus</th>\n",
       "      <th>gender</th>\n",
       "      <th>Masters_Degree</th>\n",
       "      <th>...</th>\n",
       "      <th>Doctorate_Degree</th>\n",
       "      <th>Highschool</th>\n",
       "      <th>Some_College</th>\n",
       "      <th>Race_Asian</th>\n",
       "      <th>Race_White</th>\n",
       "      <th>Race_Two_Or_More</th>\n",
       "      <th>Race_Black</th>\n",
       "      <th>Race_Hispanic</th>\n",
       "      <th>state</th>\n",
       "      <th>in_top_15</th>\n",
       "    </tr>\n",
       "  </thead>\n",
       "  <tbody>\n",
       "    <tr>\n",
       "      <th>0</th>\n",
       "      <td>GE Digital</td>\n",
       "      <td>Software Engineer</td>\n",
       "      <td>140000</td>\n",
       "      <td>4.0</td>\n",
       "      <td>4.0</td>\n",
       "      <td>130000.0</td>\n",
       "      <td>0.0</td>\n",
       "      <td>10000.0</td>\n",
       "      <td>Male</td>\n",
       "      <td>0</td>\n",
       "      <td>...</td>\n",
       "      <td>0</td>\n",
       "      <td>0</td>\n",
       "      <td>0</td>\n",
       "      <td>0</td>\n",
       "      <td>0</td>\n",
       "      <td>0</td>\n",
       "      <td>0</td>\n",
       "      <td>0</td>\n",
       "      <td>CA</td>\n",
       "      <td>False</td>\n",
       "    </tr>\n",
       "    <tr>\n",
       "      <th>1</th>\n",
       "      <td>Amazon</td>\n",
       "      <td>Software Engineer</td>\n",
       "      <td>172000</td>\n",
       "      <td>12.0</td>\n",
       "      <td>2.0</td>\n",
       "      <td>142000.0</td>\n",
       "      <td>30000.0</td>\n",
       "      <td>0.0</td>\n",
       "      <td>Male</td>\n",
       "      <td>0</td>\n",
       "      <td>...</td>\n",
       "      <td>0</td>\n",
       "      <td>0</td>\n",
       "      <td>0</td>\n",
       "      <td>0</td>\n",
       "      <td>0</td>\n",
       "      <td>0</td>\n",
       "      <td>0</td>\n",
       "      <td>0</td>\n",
       "      <td>WA</td>\n",
       "      <td>True</td>\n",
       "    </tr>\n",
       "    <tr>\n",
       "      <th>2</th>\n",
       "      <td>Uber</td>\n",
       "      <td>Software Engineer</td>\n",
       "      <td>325000</td>\n",
       "      <td>7.0</td>\n",
       "      <td>2.0</td>\n",
       "      <td>161000.0</td>\n",
       "      <td>140000.0</td>\n",
       "      <td>25000.0</td>\n",
       "      <td>Male</td>\n",
       "      <td>0</td>\n",
       "      <td>...</td>\n",
       "      <td>0</td>\n",
       "      <td>0</td>\n",
       "      <td>0</td>\n",
       "      <td>0</td>\n",
       "      <td>0</td>\n",
       "      <td>0</td>\n",
       "      <td>0</td>\n",
       "      <td>0</td>\n",
       "      <td>CA</td>\n",
       "      <td>True</td>\n",
       "    </tr>\n",
       "    <tr>\n",
       "      <th>3</th>\n",
       "      <td>Microsoft</td>\n",
       "      <td>Software Engineer</td>\n",
       "      <td>150000</td>\n",
       "      <td>4.0</td>\n",
       "      <td>0.0</td>\n",
       "      <td>118000.0</td>\n",
       "      <td>5000.0</td>\n",
       "      <td>12000.0</td>\n",
       "      <td>Male</td>\n",
       "      <td>0</td>\n",
       "      <td>...</td>\n",
       "      <td>0</td>\n",
       "      <td>0</td>\n",
       "      <td>0</td>\n",
       "      <td>0</td>\n",
       "      <td>0</td>\n",
       "      <td>0</td>\n",
       "      <td>0</td>\n",
       "      <td>0</td>\n",
       "      <td>WA</td>\n",
       "      <td>True</td>\n",
       "    </tr>\n",
       "    <tr>\n",
       "      <th>4</th>\n",
       "      <td>Google</td>\n",
       "      <td>Software Engineer</td>\n",
       "      <td>640000</td>\n",
       "      <td>11.0</td>\n",
       "      <td>4.0</td>\n",
       "      <td>210000.0</td>\n",
       "      <td>380000.0</td>\n",
       "      <td>50000.0</td>\n",
       "      <td>Male</td>\n",
       "      <td>0</td>\n",
       "      <td>...</td>\n",
       "      <td>0</td>\n",
       "      <td>0</td>\n",
       "      <td>0</td>\n",
       "      <td>0</td>\n",
       "      <td>0</td>\n",
       "      <td>0</td>\n",
       "      <td>0</td>\n",
       "      <td>0</td>\n",
       "      <td>CA</td>\n",
       "      <td>True</td>\n",
       "    </tr>\n",
       "  </tbody>\n",
       "</table>\n",
       "<p>5 rows × 21 columns</p>\n",
       "</div>"
      ],
      "text/plain": [
       "      company              title  totalyearlycompensation  yearsofexperience  \\\n",
       "0  GE Digital  Software Engineer                   140000                4.0   \n",
       "1      Amazon  Software Engineer                   172000               12.0   \n",
       "2        Uber  Software Engineer                   325000                7.0   \n",
       "3   Microsoft  Software Engineer                   150000                4.0   \n",
       "4      Google  Software Engineer                   640000               11.0   \n",
       "\n",
       "   yearsatcompany  basesalary  stockgrantvalue    bonus gender  \\\n",
       "0             4.0    130000.0              0.0  10000.0   Male   \n",
       "1             2.0    142000.0          30000.0      0.0   Male   \n",
       "2             2.0    161000.0         140000.0  25000.0   Male   \n",
       "3             0.0    118000.0           5000.0  12000.0   Male   \n",
       "4             4.0    210000.0         380000.0  50000.0   Male   \n",
       "\n",
       "   Masters_Degree  ...  Doctorate_Degree  Highschool  Some_College  \\\n",
       "0               0  ...                 0           0             0   \n",
       "1               0  ...                 0           0             0   \n",
       "2               0  ...                 0           0             0   \n",
       "3               0  ...                 0           0             0   \n",
       "4               0  ...                 0           0             0   \n",
       "\n",
       "   Race_Asian  Race_White  Race_Two_Or_More  Race_Black  Race_Hispanic  state  \\\n",
       "0           0           0                 0           0              0     CA   \n",
       "1           0           0                 0           0              0     WA   \n",
       "2           0           0                 0           0              0     CA   \n",
       "3           0           0                 0           0              0     WA   \n",
       "4           0           0                 0           0              0     CA   \n",
       "\n",
       "  in_top_15  \n",
       "0     False  \n",
       "1      True  \n",
       "2      True  \n",
       "3      True  \n",
       "4      True  \n",
       "\n",
       "[5 rows x 21 columns]"
      ]
     },
     "execution_count": 37,
     "metadata": {
     },
     "output_type": "execute_result"
    }
   ],
   "source": [
    "df.head()"
   ]
  },
  {
   "cell_type": "code",
   "execution_count": 38,
   "metadata": {
    "collapsed": false
   },
   "outputs": [
   ],
   "source": [
    "# name_of_dataframe.groupby(by = name of column you want to group by)[column of data you want to look at].what function you want to apply\n",
    "# u can use .max, .min, .mean, .count, .reset_index, \n",
    "# https://pandas.pydata.org/docs/reference/api/pandas.DataFrame.groupby.html"
   ]
  },
  {
   "cell_type": "code",
   "execution_count": 39,
   "metadata": {
    "collapsed": false
   },
   "outputs": [
    {
     "data": {
      "text/plain": [
       "title\n",
       "Business Analyst                 5.812144\n",
       "Data Scientist                   4.913218\n",
       "Hardware Engineer                7.902423\n",
       "Human Resources                 10.526570\n",
       "Management Consultant            7.338710\n",
       "Marketing                        9.248227\n",
       "Mechanical Engineer              6.115132\n",
       "Product Designer                 7.584427\n",
       "Product Manager                  9.084068\n",
       "Recruiter                        8.135036\n",
       "Sales                            8.814286\n",
       "Software Engineer                6.027325\n",
       "Software Engineering Manager    14.123154\n",
       "Solution Architect              12.717662\n",
       "Technical Program Manager       12.272116\n",
       "Name: yearsofexperience, dtype: float64"
      ]
     },
     "execution_count": 39,
     "metadata": {
     },
     "output_type": "execute_result"
    }
   ],
   "source": [
    "df.groupby(by = 'title')['yearsofexperience'].mean()"
   ]
  },
  {
   "cell_type": "code",
   "execution_count": 40,
   "metadata": {
    "collapsed": false
   },
   "outputs": [
   ],
   "source": [
    "#Graphs"
   ]
  },
  {
   "cell_type": "code",
   "execution_count": 41,
   "metadata": {
    "collapsed": false
   },
   "outputs": [
   ],
   "source": [
    "import plotly.express as px #importing plotly"
   ]
  },
  {
   "cell_type": "code",
   "execution_count": 76,
   "metadata": {
    "collapsed": false
   },
   "outputs": [
    {
     "data": {
      "text/plain": [
       "6"
      ]
     },
     "execution_count": 76,
     "metadata": {
     },
     "output_type": "execute_result"
    }
   ],
   "source": [
    "len('Female')"
   ]
  },
  {
   "cell_type": "code",
   "execution_count": 93,
   "metadata": {
    "collapsed": false
   },
   "outputs": [
    {
     "data": {
      "text/html": "<html>\n<head><meta charset=\"utf-8\" /></head>\n<body>\n    <div>            <script src=\"https://cdnjs.cloudflare.com/ajax/libs/mathjax/2.7.5/MathJax.js?config=TeX-AMS-MML_SVG\"></script><script type=\"text/javascript\">if (window.MathJax) {MathJax.Hub.Config({SVG: {font: \"STIX-Web\"}});}</script>                <script type=\"text/javascript\">window.PlotlyConfig = {MathJaxConfig: 'local'};</script>\n        <script src=\"https://cdn.plot.ly/plotly-2.9.0.min.js\"></script>                <div id=\"3eecbf20-c4ae-44e1-9e5d-ae48d9ba4fb1\" class=\"plotly-graph-div\" style=\"height:525px; width:100%;\"></div>            <script type=\"text/javascript\">                                    window.PLOTLYENV=window.PLOTLYENV || {};                                    if (document.getElementById(\"3eecbf20-c4ae-44e1-9e5d-ae48d9ba4fb1\")) {                    Plotly.newPlot(                        \"3eecbf20-c4ae-44e1-9e5d-ae48d9ba4fb1\",                        [{\"alignmentgroup\":\"True\",\"bingroup\":\"x\",\"hovertemplate\":\"state=CA<br>basesalary=%{x}<br>count=%{y}<extra></extra>\",\"legendgroup\":\"CA\",\"marker\":{\"color\":\"#636efa\",\"pattern\":{\"shape\":\"\"}},\"name\":\"CA\",\"offsetgroup\":\"CA\",\"orientation\":\"v\",\"showlegend\":true,\"x\":[130000.0,161000.0,210000.0,123000.0,126000.0,185000.0,180000.0,130000.0,215000.0,175000.0,135000.0,125000.0,16100.000000000002,125000.0,215000.0,168000.0,202000.0,191000.0,105000.0,135000.0,135000.0,150000.0,330000.0,178000.0,153000.0,144000.0,155000.0,150000.0,180000.0,109000.0,168000.0,180000.0,117000.0,170000.0,185000.0,125000.0,130000.0,150000.0,170000.0,131000.0,118000.0,145000.0,128000.0,116000.0,122000.0,160000.0,200000.0,140000.0,105000.0,116000.0,155000.0,270000.0,190000.0,190000.0,203000.0,203000.0,180000.0,138000.0,168000.0,190000.0,115000.0,138000.0,168000.0,165000.0,113000.0,100000.0,127000.0,200000.0,155000.0,122000.0,140000.0,200000.0,146000.0,216000.0,130000.0,140000.0,155000.0,113000.0,113000.0,110000.0,205000.0,220000.0,175000.0,160000.0,160000.0,160000.0,140000.0,140000.0,225000.0,170000.0,115000.0,140000.0,165000.0,178000.0,200000.0,133000.0,110000.0,162000.0,131000.0,210000.0,142000.0,145000.0,250000.0,170000.0,155000.0,125000.0,102000.0,125000.0,140000.0,160000.0,170000.0,180000.0,115000.0,150000.0,161000.0,220000.0,140000.0,170000.0,210000.0,140000.0,150000.0,200000.0,150000.0,122000.0,145000.0,135000.0,165000.0,115000.0,150000.0,185000.0,176000.0,170000.0,240000.0,148000.0,200000.0,135000.0,200000.0,116000.0,214000.0,120000.0,120000.0,175000.0,160000.0,150000.0,157000.0,140000.0,220000.0,133000.0,147000.0,223000.0,140000.0,180000.0,188000.0,120000.0,140000.0,150000.0,130000.0,160000.0,130000.0,125000.0,136000.0,193000.0,150000.0,125000.0,155000.0,160000.0,165000.0,155000.0,140000.0,126000.0,170000.0,100000.0,155000.0,175000.0,130000.0,120000.0,145000.0,175000.0,130000.0,175000.0,140000.0,125000.0,130000.0,155000.0,206000.0,180000.0,138000.0,136000.0,115000.0,170000.0,140000.0,147000.0,125000.0,105000.0,117000.0,145000.0,154000.0,125000.0,155000.0,120000.0,120000.0,144000.0,155000.0,180000.0,145000.0,170000.0,210000.0,190000.0,210000.0,130000.0,120000.0,180000.0,125000.0,175000.0,155000.0,172000.0,172000.0,125000.0,118000.0,157000.0,130000.0,110000.0,179000.0,153000.0,210000.0,155000.0,175000.0,215000.0,117000.0,145000.0,180000.0,160000.0,165000.0,145000.0,270000.0,135000.0,170000.0,120000.0,200000.0,152000.0,125000.0,130000.0,115000.0,174000.0,100000.0,120000.0,110000.0,200000.0,165000.0,110000.0,140000.0,160000.0,118000.0,160000.0,190000.0,135000.0,130000.0,110000.0,130000.0,120000.0,120000.0,238000.0,100000.0,185000.0,141000.0,153000.0,125000.0,175000.0,180000.0,150000.0,145000.0,141000.0,115000.0,240000.0,155000.0,133000.0,240000.0,172000.0,160000.0,213000.0,110000.0,198000.0,195000.0,125000.0,210000.0,120000.0,140000.0,110000.0,153000.0,244000.0,135000.0,161000.0,170000.0,146000.0,96000.0,150000.0,125000.0,155000.0,120000.0,190000.0,160000.0,135000.0,150000.0,150000.0,95000.0,150000.0,150000.0,125000.0,235000.0,130000.0,130000.0,202000.0,250000.0,160000.0,185000.0,190000.0,154000.0,160000.0,129000.0,181000.0,209000.0,155000.0,183000.0,480000.0,165000.0,115000.0,170000.0,150000.0,190000.0,380000.0,125000.0,170000.0,83000.0,170000.0,150000.0,135000.0,158000.0,140000.0,108000.0,125000.0,125000.0,200000.0,140000.0,198000.0,175000.0,215000.0,190000.0,121000.0,110000.0,110000.0,180000.0,190000.0,190000.0,165000.0,113000.0,165000.0,180000.0,135000.0,175000.0,420000.0,150000.0,180000.0,171000.0,140000.0,129000.0,174000.0,145000.0,207000.0,110000.0,172000.0,180000.0,144000.0,165000.0,180000.0,145000.0,110000.0,145000.0,190000.0,124000.0,160000.0,190000.0,250000.0,125000.0,170000.0,170000.0,170000.0,160000.0,125000.0,210000.0,135000.0,148000.0,230000.0,196000.0,162000.0,140000.0,140000.0,200000.0,110000.0,179000.0,142000.0,145000.0,160000.0,120000.0,120000.0,190000.0,430000.0,180000.0,120000.0,140000.0,190000.0,107000.0,185000.0,151000.0,130000.0,200000.0,170000.0,140000.0,115000.0,170000.0,128000.0,131000.0,215000.0,168000.0,130000.0,172000.0,210000.0,151000.0,152000.0,125000.0,130000.0,156000.0,125000.0,135000.0,195000.0,140000.0,150000.0,113000.0,140000.0,160000.0,126000.0,215000.0,120000.0,86000.0,141000.0,190000.0,141000.0,151000.0,236000.0,144000.0,180000.0,179000.0,160000.0,160000.0,160000.0,185000.0,140000.0,95000.0,129000.0,155000.0,135000.0,230000.0,136000.0,220000.0,200000.0,175000.0,210000.0,200000.0,157000.0,126000.0,190000.0,165000.0,125000.0,145000.0,140000.0,165000.0,130000.0,161000.0,214000.0,110000.0,175000.0,150000.0,130000.0,172000.0,144000.0,250000.0,225000.0,127000.0,175000.0,137000.0,150000.0,130000.0,130000.0,150000.0,136000.0,185000.0,129000.0,180000.0,230000.0,155000.0,196000.0,95000.0,135000.0,200000.0,170000.0,235000.0,174000.0,200000.0,195000.0,160000.0,144000.0,138000.0,155000.0,115000.0,140000.0,172000.0,164000.0,175000.0,176000.0,134000.0,150000.0,260000.0,130000.0,115000.0,115000.0,165000.0,175000.0,110000.0,222000.0,120000.0,132000.0,225000.0,155000.0,150000.0,172000.0,160000.0,100000.0,140000.0,154000.0,130000.0,124000.0,120000.0,240000.0,180000.0,135000.0,190000.0,126000.0,200000.0,110000.0,175000.0,130000.0,185000.0,200000.0,125000.0,162000.0,165000.0,192000.0,190000.0,220000.0,104000.0,175000.0,150000.0,91000.0,130000.0,156000.0,209000.0,140000.0,125000.0,170000.0,153000.0,173000.0,190000.0,155000.0,190000.0,130000.0,267000.0,140000.0,180000.0,127000.0,140000.0,139000.0,135000.0,140000.0,113000.0,130000.0,210000.0,140000.0,140000.0,160000.0,150000.0,150000.0,149000.0,150000.0,190000.0,154000.0,108000.0,180000.0,170000.0,105000.0,138000.0,155000.0,145000.0,192000.0,145000.0,160000.0,114000.0,155000.0,127000.0,122000.0,200000.0,150000.0,155000.0,140000.0,155000.0,129000.0,152000.0,135000.0,190000.0,118000.0,130000.0,135000.0,153000.0,135000.0,183000.0,195000.0,138000.0,135000.0,160000.0,235000.0,181000.0,285000.0,165000.0,155000.0,170000.0,120000.0,184000.0,202000.0,195000.0,110000.0,110000.0,210000.0,205000.0,160000.0,110000.0,130000.0,167000.0,140000.0,183000.0,160000.0,153000.0,129000.0,112000.0,128000.0,200000.0,137000.0,120000.0,229000.0,460000.0,100000.0,120000.0,130000.0,115000.0,113000.0,180000.0,90000.0,131000.0,200000.0,18000.0,134000.0,170000.0,204000.0,185000.0,181000.0,131000.0,142000.0,165000.0,160000.0,260000.0,108000.0,150000.0,160000.0,178000.0,161000.0,115000.0,125000.0,125000.0,190000.0,135000.0,185000.0,143000.0,103000.0,192000.0,160000.0,145000.0,125000.0,125000.0,185000.0,140000.0,170000.0,180000.0,137000.0,165000.0,120000.0,175000.0,170000.0,110000.0,160000.0,160000.0,150000.0,195000.0,120000.0,197000.0,131000.0,145000.0,170000.0,144000.0,146000.0,176000.0,250000.0,200000.0,126000.0,140000.0,160000.0,153000.0,203000.0,130000.0,185000.0,180000.0,133000.0,123000.0,123000.0,150000.0,192000.0,145000.0,180000.0,121000.0,145000.0,200000.0,129000.0,224000.0,230000.0,224000.0,160000.0,201000.0,135000.0,150000.0,172000.0,375000.0,210000.0,125000.0,128000.0,157000.0,188000.0,105000.0,230000.0,192000.0,135000.0,180000.0,145000.0,240000.0,190000.0,165000.0,127000.0,142000.0,145000.0,230000.0,129000.0,122000.0,180000.0,125000.0,170000.0,120000.0,165000.0,128000.0,170000.0,135000.0,150000.0,135000.0,144000.0,141000.0,178000.0,178000.0,200000.0,170000.0,162000.0,180000.0,200000.0,120000.0,140000.0,105000.0,143000.0,192000.0,120000.0,121000.0,146000.0,181000.0,120000.0,160000.0,330000.0,205000.0,175000.0,150000.0,140000.0,100000.0,105000.0,146000.0,190000.0,135000.0,122000.0,175000.0,145000.0,152000.0,120000.0,124000.0,140000.0,134000.0,135000.0,180000.0,188000.0,110000.0,145000.0,153000.0,120000.0,148000.0,130000.0,151000.0,107000.0,124000.0,130000.0,96000.0,105000.0,125000.0,105000.0,125000.0,130000.0,143000.0,174000.0,120000.0,140000.0,130000.0,173000.0,225000.0,175000.0,202000.0,135000.0,130000.0,152000.0,150000.0,129000.0,153000.0,120000.0,195000.0,140000.0,175000.0,195000.0,120000.0,155000.0,129000.0,120000.0,180000.0,125000.0,120000.0,165000.0,183000.0,120000.0,135000.0,212000.0,140000.0,130000.0,195000.0,137000.0,150000.0,145000.0,170000.0,149000.0,176000.0,160000.0,165000.0,120000.0,135000.0,125000.0,225000.0,220000.0,160000.0,145000.0,140000.0,110000.0,120000.0,160000.0,135000.0,120000.0,108000.0,185000.0,155000.0,160000.0,170000.0,135000.0,115000.0,135000.0,235000.0,107000.0,190000.0,160000.0,115000.0,203000.0,155000.0,145000.0,200000.0,220000.0,130000.0,230000.0,133000.0,135000.0,152000.0,140000.0,125000.0,125000.0,121000.0,135000.0,160000.0,80000.0,124000.0,112000.0,190000.0,210000.0,185000.0,117000.0,150000.0,146000.0,325000.0,182000.0,130000.0,145000.0,150000.0,185000.0,140000.0,140000.0,121000.0,130000.0,146000.0,150000.0,250000.0,190000.0,154000.0,136000.0,148000.0,125000.0,129000.0,125000.0,167000.0,120000.0,140000.0,150000.0,155000.0,176000.0,140000.0,158000.0,150000.0,129000.0,150000.0,230000.0,200000.0,162000.0,120000.0,142000.0,226000.0,190000.0,125000.0,145000.0,131000.0,125000.0,167000.0,205000.0,131000.0,100000.0,160000.0,160000.0,196000.0,156000.0,156000.0,160000.0,154000.0,240000.0,130000.0,178000.0,96000.0,137000.0,133000.0,145000.0,117000.0,150000.0,140000.0,200000.0,135000.0,152000.0,124000.0,195000.0,212000.0,240000.0,180000.0,190000.0,168000.0,168000.0,123000.0,190000.0,205000.0,155000.0,180000.0,140000.0,110000.0,110000.0,200000.0,184000.0,176000.0,130000.0,120000.0,153000.0,203000.0,140000.0,185000.0,155000.0,175000.0,201000.0,230000.0,120000.0,210000.0,150000.0,190000.0,200000.0,145000.0,150000.0,216000.0,130000.0,164000.0,150000.0,120000.0,135000.0,265000.0,210000.0,158000.0,145000.0,120000.0,110000.0,190000.0,190000.0,150000.0,115000.0,148000.0,145000.0,175000.0,135000.0,138000.0,192000.0,190000.0,130000.0,119000.0,125000.0,145000.0,125000.0,180000.0,210000.0,150000.0,190000.0,215000.0,143000.0,185000.0,135000.0,180000.0,155000.0,140000.0,185000.0,188000.0,175000.0,128000.0,170000.0,160000.0,216000.0,130000.0,125000.0,135000.0,175000.0,150000.0,230000.0,150000.0,600000.0,160000.0,205000.0,120000.0,120000.0,190000.0,183000.0,150000.0,215000.0,130000.0,350000.0,150000.0,160000.0,160000.0,168000.0,155000.0,141000.0,165000.0,195000.0,205000.0,160000.0,128000.0,162000.0,170000.0,150000.0,151000.0,124000.0,200000.0,135000.0,150000.0,145000.0,167000.0,130000.0,130000.0,230000.0,139000.0,150000.0,385000.0,220000.0,160000.0,153000.0,141000.0,120000.0,152000.0,500000.0,230000.0,230000.0,150000.0,127000.0,142000.0,190000.0,115000.0,135000.0,120000.0,160000.0,194000.0,165000.0,129000.0,120000.0,165000.0,123000.0,158000.0,140000.0,178000.0,200000.0,150000.0,110000.0,260000.0,170000.0,135000.0,182000.0,192000.0,260000.0,145000.0,164000.0,190000.0,110000.0,130000.0,126000.0,136000.0,131000.0,140000.0,280000.0,137000.0,100000.0,180000.0,140000.0,180000.0,151000.0,125000.0,112000.0,150000.0,165000.0,175000.0,206000.0,235000.0,170000.0,139000.0,138000.0,150000.0,180000.0,145000.0,185000.0,145000.0,290000.0,175000.0,145000.0,167000.0,120000.0,155000.0,140000.0,160000.0,140000.0,225000.0,170000.0,140000.0,175000.0,105000.0,195000.0,127000.0,123000.0,153000.0,120000.0,150000.0,150000.0,180000.0,162000.0,143000.0,132000.0,125000.0,186000.0,157000.0,165000.0,140000.0,125000.0,200000.0,105000.0,183000.0,195000.0,230000.0,142000.0,225000.0,175000.0,190000.0,200000.0,218000.0,220000.0,178000.0,155000.0,110000.0,220000.0,150000.0,125000.0,125000.0,140000.0,135000.0,225000.0,170000.0,117000.0,162000.0,130000.0,170000.0,121000.0,230000.0,163000.0,172000.0,120000.0,145000.0,225000.0,155000.0,165000.0,185000.0,153000.0,110000.0,152000.0,210000.0,146000.0,172000.0,113000.0,158000.0,200000.0,185000.0,130000.0,120000.0,100000.0,120000.0,155000.0,160000.0,213000.0,140000.0,152000.0,150000.0,120000.0,173000.0,132000.0,130000.0,225000.0,250000.0,170000.0,163000.0,125000.0,200000.0,210000.0,102000.0,190000.0,260000.0,145000.0,130000.0,142000.0,205000.0,115000.0,160000.0,166000.0,250000.0,150000.0,132000.0,174000.0,150000.0,185000.0,151000.0,170000.0,172000.0,150000.0,200000.0,240000.0,200000.0,256000.0,175000.0,179000.0,118000.0,148000.0,112000.0,165000.0,149000.0,160000.0,141000.0,150000.0,195000.0,152000.0,165000.0,140000.0,140000.0,150000.0,204000.0,150000.0,125000.0,142000.0,172000.0,210000.0,126000.0,120000.0,142000.0,181000.0,135000.0,129000.0,160000.0,180000.0,120000.0,301000.0,123000.0,165000.0,110000.0,390000.0,150000.0,142000.0,184000.0,172000.0,152000.0,175000.0,160000.0,160000.0,130000.0,190000.0,214000.0,120000.0,205000.0,87000.0,157000.0,120000.0,155000.0,142000.0,145000.0,218000.0,400000.0,165000.0,120000.0,157000.0,118000.0,172000.0,160000.0,143000.0,185000.0,105000.0,145000.0,142000.0,125000.0,143000.0,175000.0,185000.0,140000.0,218000.0,176000.0,180000.0,137000.0,108000.0,109000.0,220000.0,160000.0,184000.0,160000.0,204000.0,140000.0,165000.0,215000.0,117000.0,140000.0,130000.0,121000.0,128000.0,154000.0,108000.0,205000.0,114000.0,175000.0,116000.0,135000.0,153000.0,215000.0,140000.0,143000.0,130000.0,145000.0,138000.0,130000.0,120000.0,125000.0,220000.0,200000.0,225000.0,115000.0,120000.0,170000.0,135000.0,146000.0,187000.0,120000.0,190000.0,130000.0,260000.0,153000.0,185000.0,135000.0,110000.0,175000.0,187000.0,180000.0,120000.0,200000.0,170000.0,178000.0,149000.0,125000.0,195000.0,170000.0,125000.0,190000.0,122000.0,170000.0,160000.0,185000.0,180000.0,115000.0,129000.0,150000.0,155000.0,132000.0,148000.0,179000.0,120000.0,200000.0,149000.0,151000.0,162000.0,125000.0,110000.0,124000.0,194000.0,95000.0,97000.0,400000.0,235000.0,148000.0,116000.0,170000.0,120000.0,157000.0,165000.0,135000.0,108000.0,102000.0,175000.0,190000.0,133000.0,112000.0,155000.0,160000.0,170000.0,130000.0,130000.0,134000.0,125000.0,190000.0,185000.0,125000.0,130000.0,130000.0,170000.0,125000.0,120000.0,150000.0,120000.0,150000.0,130000.0,185000.0,144000.0,165000.0,132000.0,128000.0,270000.0,141000.0,145000.0,143000.0,195000.0,148000.0,172000.0,180000.0,130000.0,220000.0,140000.0,145000.0,177000.0,151000.0,118000.0,155000.0,129000.0,130000.0,165000.0,117000.0,152000.0,138000.0,193000.0,154000.0,195000.0,220000.0,220000.0,180000.0,146000.0,190000.0,150000.0,150000.0,152000.0,185000.0,165000.0,160000.0,158000.0,105000.0,110000.0,210000.0,153000.0,180000.0,150000.0,180000.0,243000.0,12000.0,160000.0,170000.0,175000.0,139000.0,170000.0,125000.0,117000.0,160000.0,153000.0,130000.0,180000.0,160000.0,175000.0,160000.0,160000.0,150000.0,141000.0,185000.0,185000.0,126000.0,130000.0,146000.0,150000.0,135000.0,240000.0,195000.0,204000.0,125000.0,128000.0,158000.0,158000.0,185000.0,180000.0,183000.0,175000.0,120000.0,124000.0,88000.0,197000.0,200000.0,160000.0,160000.0,160000.0,165000.0,160000.0,190000.0,145000.0,160000.0,120000.0,165000.0,120000.0,150000.0,115000.0,250000.0,135000.0,136000.0,130000.0,198000.0,151000.0,142000.0,190000.0,125000.0,155000.0,130000.0,160000.0,180000.0,158000.0,120000.0,110000.0,61000.0,115000.0,128000.0,240000.0,200000.0,170000.0,155000.0,125000.0,160000.0,190000.0,150000.0,150000.0,110000.0,160000.0,160000.0,135000.0,193000.0,139000.0,139000.0,143000.0,110000.0,220000.0,120000.0,126000.0,145000.0,120000.0,154000.0,130000.0,117000.0,173000.0,170000.0,177000.0,140000.0,194000.0,148000.0,217000.0,220000.0,102000.0,108000.0,170000.0,160000.0,78000.0,160000.0,140000.0,140000.0,180000.0,135000.0,182000.0,135000.0,215000.0,170000.0,200000.0,120000.0,137000.0,80000.0,210000.0,162000.0,147000.0,109000.0,115000.0,173000.0,165000.0,157000.0,165000.0,165000.0,250000.0,172000.0,160000.0,240000.0,151000.0,135000.0,170000.0,170000.0,130000.0,190000.0,194000.0,145000.0,145000.0,195000.0,153000.0,173000.0,180000.0,160000.0,180000.0,201000.0,160000.0,125000.0,178000.0,112000.0,153000.0,475000.0,180000.0,132000.0,112000.0,180000.0,180000.0,175000.0,145000.0,157000.0,150000.0,130000.0,251000.0,218000.0,90000.0,420000.0,167000.0,110000.0,110000.0,215000.0,200000.0,440000.0,201000.0,190000.0,120000.0,190000.0,101000.0,100000.0,120000.0,111000.0,130000.0,117000.0,148000.0,149000.0,195000.0,165000.0,190000.0,162000.0,128000.0,160000.0,155000.0,130000.0,148000.0,190000.0,200000.0,235000.0,120000.0,185000.0,155000.0,112000.0,150000.0,142000.0,120000.0,130000.0,160000.0,180000.0,135000.0,180000.0,167000.0,129000.0,141000.0,236000.0,100000.0,125000.0,190000.0,159000.0,200000.0,100000.0,175000.0,140000.0,170000.0,118000.0,160000.0,155000.0,160000.0,215000.0,157000.0,155000.0,140000.0,167000.0,175000.0,138000.0,212000.0,160000.0,120000.0,160000.0,113000.0,189000.0,150000.0,215000.0,200000.0,167000.0,115000.0,215000.0,130000.0,123000.0,135000.0,129000.0,168000.0,140000.0,250000.0,244000.0,240000.0,195000.0,167000.0,205000.0,150000.0,107000.0,79000.0,180000.0,121000.0,120000.0,190000.0,200000.0,230000.0,135000.0,220000.0,160000.0,165000.0,128000.0,144000.0,135000.0,118000.0,130000.0,225000.0,123000.0,125000.0,128000.0,180000.0,134000.0,215000.0,144000.0,133000.0,150000.0,230000.0,185000.0,160000.0,140000.0,126000.0,115000.0,145000.0,160000.0,144000.0,167000.0,118000.0,117000.0,160000.0,194000.0,194000.0,167000.0,170000.0,120000.0,195000.0,110000.0,120000.0,153000.0,165000.0,280000.0,165000.0,135000.0,130000.0,171000.0,112000.0,146000.0,155000.0,125000.0,120000.0,172000.0,130000.0,128000.0,120000.0,130000.0,250000.0,180000.0,160000.0,180000.0,150000.0,220000.0,144000.0,210000.0,135000.0,170000.0,200000.0,190000.0,180000.0,178000.0,200000.0,135000.0,145000.0,133000.0,143000.0,188000.0,120000.0,104000.0,185000.0,150000.0,115000.0,175000.0,150000.0,167000.0,162000.0,147000.0,180000.0,155000.0,125000.0,158000.0,215000.0,121000.0,215000.0,230000.0,155000.0,190000.0,110000.0,135000.0,160000.0,165000.0,178000.0,124000.0,120000.0,117000.0,165000.0,212000.0,240000.0,140000.0,250000.0,120000.0,165000.0,180000.0,160000.0,133000.0,190000.0,150000.0,121000.0,128000.0,200000.0,170000.0,200000.0,125000.0,188000.0,123000.0,157000.0,146000.0,230000.0,175000.0,200000.0,147000.0,175000.0,182000.0,171000.0,120000.0,160000.0,129000.0,200000.0,240000.0,209000.0,178000.0,108000.0,570000.0,170000.0,200000.0,145000.0,170000.0,180000.0,146000.0,135000.0,153000.0,118000.0,160000.0,117000.0,128000.0,220000.0,135000.0,145000.0,149000.0,165000.0,250000.0,155000.0,109000.0,175000.0,129000.0,135000.0,155000.0,165000.0,145000.0,147000.0,175000.0,260000.0,137000.0,250000.0,150000.0,155000.0,119000.0,160000.0,105000.0,155000.0,152000.0,125000.0,97000.0,120000.0,210000.0,155000.0,138000.0,118000.0,96000.0,116000.0,125000.0,180000.0,125000.0,190000.0,115000.0,405000.0,205000.0,460000.0,133000.0,150000.0,120000.0,133000.0,250000.0,120000.0,222000.0,150000.0,130000.0,180000.0,143000.0,176000.0,131000.0,125000.0,320000.0,205000.0,174000.0,110000.0,212000.0,175000.0,150000.0,145000.0,120000.0,127000.0,137000.0,320000.0,105000.0,145000.0,142000.0,180000.0,170000.0,189000.0,205000.0,142000.0,145000.0,205000.0,150000.0,160000.0,167000.0,255000.0,128000.0,142000.0,200000.0,125000.0,160000.0,120000.0,140000.0,155000.0,179000.0,125000.0,194000.0,169000.0,212000.0,130000.0,266000.0,173000.0,152000.0,200000.0,126000.0,125000.0,180000.0,170000.0,113000.0,195000.0,127000.0,150000.0,143000.0,180000.0,200000.0,148000.0,190000.0,155000.0,132000.0,195000.0,125000.0,160000.0,125000.0,215000.0,192000.0,152000.0,170000.0,161000.0,215000.0,150000.0,210000.0,134000.0,150000.0,150000.0,190000.0,200000.0,150000.0,150000.0,201000.0,212000.0,180000.0,110000.0,110000.0,175000.0,170000.0,135000.0,132000.0,150000.0,150000.0,180000.0,150000.0,180000.0,149000.0,135000.0,120000.0,150000.0,134000.0,120000.0,220000.0,135000.0,164000.0,130000.0,195000.0,165000.0,179000.0,250000.0,175000.0,175000.0,125000.0,105000.0,150000.0,125000.0,180000.0,105000.0,118000.0,167000.0,145000.0,118000.0,180000.0,230000.0,128000.0,180000.0,170000.0,190000.0,125000.0,280000.0,100000.0,125000.0,160000.0,129000.0,139000.0,170000.0,160000.0,150000.0,151000.0,190000.0,180000.0,170000.0,160000.0,181000.0,185000.0,170000.0,175000.0,188000.0,140000.0,160000.0,165000.0,149000.0,138000.0,200000.0,190000.0,170000.0,220000.0,202000.0,104000.0,155000.0,129000.0,180000.0,175000.0,180000.0,140000.0,130000.0,125000.0,135000.0,190000.0,260000.0,77000.0,151000.0,210000.0,148000.0,190000.0,180000.0,120000.0,185000.0,156000.0,190000.0,160000.0,110000.0,129000.0,152000.0,155000.0,115000.0,150000.0,214000.0,197000.0,135000.0,120000.0,118000.0,405000.0,226000.0,135000.0,195000.0,166000.0,166000.0,157000.0,420000.0,176000.0,130000.0,200000.0,210000.0,135000.0,500000.0,210000.0,210000.0,150000.0,192000.0,200000.0,200000.0,160000.0,130000.0,190000.0,190000.0,163000.0,144000.0,199000.0,160000.0,216000.0,115000.0,150000.0,165000.0,180000.0,155000.0,160000.0,240000.0,97000.0,220000.0,185000.0,145000.0,190000.0,170000.0,120000.0,145000.0,150000.0,118000.0,117000.0,177000.0,139000.0,140000.0,140000.0,108000.0,175000.0,170000.0,230000.0,132000.0,170000.0,160000.0,400000.0,160000.0,177000.0,168000.0,145000.0,153000.0,214000.0,170000.0,152000.0,140000.0,140000.0,153000.0,180000.0,175000.0,142000.0,130000.0,120000.0,198000.0,110000.0,133000.0,166000.0,155000.0,185000.0,135000.0,220000.0,132000.0,140000.0,215000.0,159000.0,187000.0,235000.0,205000.0,133000.0,163000.0,145000.0,190000.0,160000.0,172000.0,127000.0,160000.0,130000.0,139000.0,150000.0,148000.0,178000.0,150000.0,190000.0,175000.0,175000.0,250000.0,238000.0,180000.0,150000.0,110000.0,120000.0,205000.0,170000.0,170000.0,183000.0,175000.0,178000.0,143000.0,420000.0,175000.0,139000.0,160000.0,104000.0,165000.0,185000.0,165000.0,111000.0,169000.0,153000.0,150000.0,400000.0,155000.0,182000.0,200000.0,95000.0,85000.0,125000.0,145000.0,187000.0,155000.0,142000.0,170000.0,107000.0,150000.0,202000.0,182000.0,110000.0,200000.0,131000.0,168000.0,175000.0,116000.0,180000.0,130000.0,157000.0,125000.0,150000.0,125000.0,129000.0,200000.0,170000.0,148000.0,200000.0,190000.0,160000.0,142000.0,115000.0,148000.0,151000.0,137000.0,145000.0,227000.0,145000.0,115000.0,200000.0,250000.0,200000.0,205000.0,123000.0,170000.0,200000.0,200000.0,150000.0,230000.0,160000.0,118000.0,132000.0,118000.0,220000.0,160000.0,142000.0,153000.0,750000.0,200000.0,125000.0,120000.0,200000.0,130000.0,135000.0,156000.0,170000.0,197000.0,130000.0,125000.0,135000.0,155000.0,152000.0,163000.0,147000.0,130000.0,195000.0,195000.0,135000.0,163000.0,120000.0,120000.0,117000.0,117000.0,110000.0,118000.0,170000.0,155000.0,110000.0,156000.0,160000.0,167000.0,185000.0,110000.0,123000.0,175000.0,130000.0,110000.0,114000.0,130000.0,213000.0,130000.0,140000.0,131000.0,135000.0,170000.0,178000.0,190000.0,160000.0,125000.0,142000.0,133000.0,390000.0,180000.0,230000.0,120000.0,150000.0,168000.0,112000.0,139000.0,145000.0,149000.0,240000.0,115000.0,141000.0,150000.0,139000.0,131000.0,135000.0,155000.0,165000.0,185000.0,150000.0,187000.0,140000.0,220000.0,132000.0,160000.0,150000.0,135000.0,130000.0,200000.0,130000.0,171000.0,160000.0,220000.0,125000.0,122000.0,250000.0,133000.0,120000.0,151000.0,150000.0,130000.0,210000.0,160000.0,180000.0,150000.0,170000.0,180000.0,450000.0,125000.0,155000.0,180000.0,185000.0,130000.0,148000.0,190000.0,160000.0,130000.0,210000.0,145000.0,130000.0,130000.0,130000.0,136000.0,165000.0,190000.0,120000.0,165000.0,200000.0,150000.0,155000.0,125000.0,153000.0,150000.0,226000.0,180000.0,130000.0,150000.0,135000.0,150000.0,142000.0,135000.0,115000.0,104000.0,140000.0,123000.0,160000.0,135000.0,185000.0,108000.0,128000.0,145000.0,108000.0,200000.0,125000.0,150000.0,170000.0,130000.0,190000.0,190000.0,230000.0,143000.0,87000.0,182000.0,120000.0,142000.0,138000.0,167000.0,118000.0,100000.0,215000.0,139000.0,79000.0,145000.0,147000.0,200000.0,215000.0,200000.0,200000.0,126000.0,175000.0,155000.0,258000.0,125000.0,175000.0,128000.0,160000.0,82000.0,230000.0,120000.0,170000.0,161000.0,270000.0,205000.0,135000.0,118000.0,220000.0,570000.0,160000.0,205000.0,105000.0,115000.0,125000.0,150000.0,175000.0,125000.0,175000.0,129000.0,162000.0,180000.0,100000.0,190000.0,126000.0,115000.0,150000.0,230000.0,83000.0,113000.0,150000.0,185000.0,120000.0,150000.0,145000.0,156000.0,190000.0,300000.0,175000.0,200000.0,130000.0,180000.0,161000.0,130000.0,150000.0,159000.0,120000.0,160000.0,163000.0,93000.0,170000.0,167000.0,203000.0,135000.0,190000.0,130000.0,169000.0,100000.0,118000.0,185000.0,195000.0,140000.0,137000.0,125000.0,125000.0,174000.0,120000.0,120000.0,130000.0,149000.0,195000.0,142000.0,180000.0,115000.0,120000.0,103000.0,160000.0,105000.0,160000.0,120000.0,147000.0,202000.0,110000.0,120000.0,122000.0,280000.0,170000.0,145000.0,120000.0,130000.0,125000.0,125000.0,160000.0,209000.0,180000.0,100000.0,162000.0,161000.0,125000.0,135000.0,126000.0,165000.0,155000.0,135000.0,105000.0,135000.0,162000.0,150000.0,192000.0,118000.0,141000.0,250000.0,248000.0,190000.0,118000.0,190000.0,180000.0,142000.0,125000.0,142000.0,195000.0,180000.0,122000.0,130000.0,131000.0,250000.0,130000.0,175000.0,200000.0,165000.0,100000.0,112000.0,115000.0,125000.0,125000.0,120000.0,195000.0,144000.0,155000.0,196000.0,148000.0,100000.0,138000.0,118000.0,138000.0,125000.0,118000.0,120000.0,188000.0,106000.0,90000.0,180000.0,222000.0,205000.0,225000.0,525000.0,155000.0,185000.0,152000.0,220000.0,160000.0,125000.0,165000.0,213000.0,130000.0,140000.0,128000.0,160000.0,440000.0,185000.0,130000.0,73000.0,140000.0,450000.0,135000.0,120000.0,124000.0,137000.0,143000.0,153000.0,120000.0,130000.0,180000.0,150000.0,129000.0,185000.0,170000.0,119000.0,190000.0,185000.0,160000.0,120000.0,156000.0,166000.0,118000.0,350000.0,185000.0,190000.0,230000.0,175000.0,117000.0,118000.0,132000.0,119000.0,120000.0,125000.0,180000.0,280000.0,120000.0,125000.0,224000.0,180000.0,150000.0,190000.0,190000.0,163000.0,190000.0,149000.0,129000.0,190000.0,125000.0,138000.0,151000.0,130000.0,138000.0,174000.0,120000.0,130000.0,160000.0,155000.0,220000.0,115000.0,164000.0,200000.0,125000.0,130000.0,135000.0,140000.0,148000.0,169000.0,125000.0,158000.0,122000.0,185000.0,99000.0,133000.0,143000.0,136000.0,118000.0,247000.0,150000.0,156000.0,160000.0,125000.0,120000.0,171000.0,147000.0,171000.0,175000.0,165000.0,295000.0,150000.0,220000.0,205000.0,145000.0,223000.0,180000.0,140000.0,120000.0,247000.0,163000.0,170000.0,200000.0,185000.0,195000.0,178000.0,133000.0,176000.0,185000.0,109000.0,238000.0,130000.0,154000.0,190000.0,158000.0,167000.0,107000.0,250000.0,211000.0,450000.0,140000.0,180000.0,185000.0,155000.0,180000.0,185000.0,143000.0,123000.0,157000.0,164000.0,217000.0,200000.0,119000.0,157000.0,225000.0,186000.0,146000.0,280000.0,140000.0,240000.0,140000.0,126000.0,240000.0,150000.0,170000.0,170000.0,170000.0,140000.0,188000.0,142000.0,180000.0,142000.0,230000.0,225000.0,180000.0,120000.0,165000.0,170000.0,155000.0,140000.0,173000.0,190000.0,240000.0,120000.0,160000.0,187000.0,140000.0,155000.0,126000.0,140000.0,110000.0,156000.0,142000.0,205000.0,180000.0,200000.0,155000.0,169000.0,113000.0,115000.0,100000.0,210000.0,185000.0,250000.0,107000.0,120000.0,113000.0,200000.0,185000.0,120000.0,92000.0,200000.0,128000.0,250000.0,120000.0,149000.0,138000.0,200000.0,182000.0,170000.0,140000.0,197000.0,420000.0,180000.0,145000.0,300000.0,159000.0,159000.0,146000.0,153000.0,154000.0,129000.0,136000.0,180000.0,161000.0,136000.0,118000.0,180000.0,150000.0,150000.0,161000.0,158000.0,210000.0,150000.0,200000.0,405000.0,160000.0,125000.0,186000.0,170000.0,110000.0,140000.0,112000.0,130000.0,76000.0,130000.0,130000.0,149000.0,100000.0,180000.0,99000.0,130000.0,178000.0,116000.0,130000.0,202000.0,164000.0,118000.0,105000.0,167000.0,150000.0,165000.0,155000.0,120000.0,137000.0,170000.0,205000.0,135000.0,163000.0,125000.0,170000.0,138000.0,178000.0,190000.0,127000.0,212000.0,128000.0,240000.0,123000.0,115000.0,130000.0,110000.0,192000.0,172000.0,210000.0,200000.0,120000.0,125000.0,125000.0,120000.0,131000.0,160000.0,137000.0,141000.0,152000.0,125000.0,130000.0,118000.0,165000.0,129000.0,145000.0,125000.0,156000.0,165000.0,165000.0,200000.0,137000.0,195000.0,200000.0,160000.0,205000.0,175000.0,130000.0,223000.0,160000.0,140000.0,130000.0,177000.0,121000.0,204000.0,137000.0,195000.0,150000.0,225000.0,140000.0,155000.0,180000.0,185000.0,192000.0,146000.0,200000.0,180000.0,143000.0,125000.0,220000.0,215000.0,165000.0,142000.0,180000.0,124000.0,172000.0,141000.0,125000.0,139000.0,160000.0,175000.0,228000.0,197000.0,185000.0,131000.0,205000.0,100000.0,280000.0,126000.0,110000.0,186000.0,257000.0,147000.0,163000.0,155000.0,180000.0,160000.0,235000.0,155000.0,185000.0,197000.0,140000.0,145000.0,182000.0,105000.0,185000.0,160000.0,185000.0,155000.0,155000.0,165000.0,150000.0,175000.0,230000.0,180000.0,178000.0,132000.0,175000.0,190000.0,152000.0,160000.0,160000.0,153000.0,175000.0,180000.0,200000.0,140000.0,180000.0,220000.0,155000.0,131000.0,110000.0,295000.0,128000.0,163000.0,129000.0,147000.0,180000.0,144000.0,250000.0,145000.0,220000.0,117000.0,152000.0,140000.0,120000.0,166000.0,125000.0,160000.0,170000.0,165000.0,210000.0,141000.0,175000.0,218000.0,140000.0,132000.0,190000.0,120000.0,160000.0,100000.0,116000.0,156000.0,195000.0,166000.0,152000.0,155000.0,147000.0,150000.0,150000.0,185000.0,215000.0,120000.0,126000.0,145000.0,210000.0,160000.0,148000.0,152000.0,165000.0,316000.0,185000.0,160000.0,160000.0,195000.0,185000.0,250000.0,160000.0,180000.0,128000.0,210000.0,131000.0,119000.0,230000.0,215000.0,160000.0,200000.0,180000.0,157000.0,165000.0,136000.0,168000.0,150000.0,139000.0,168000.0,430000.0,160000.0,126000.0,113000.0,150000.0,149000.0,130000.0,195000.0,205000.0,201000.0,140000.0,95000.0,125000.0,124000.0,197000.0,185000.0,475000.0,160000.0,170000.0,175000.0,150000.0,245000.0,132000.0,143000.0,100000.0,128000.0,180000.0,167000.0,198000.0,103000.0,113000.0,160000.0,152000.0,160000.0,160000.0,225000.0,190000.0,183000.0,181000.0,173000.0,121000.0,155000.0,180000.0,180000.0,110000.0,142000.0,225000.0,200000.0,180000.0,150000.0,170000.0,242000.0,250000.0,200000.0,130000.0,110000.0,155000.0,130000.0,139000.0,225000.0,155000.0,225000.0,420000.0,165000.0,147000.0,140000.0,140000.0,128000.0,155000.0,148000.0,167000.0,130000.0,130000.0,150000.0,170000.0,165000.0,208000.0,137000.0,185000.0,147000.0,231000.0,125000.0,175000.0,100000.0,175000.0,150000.0,155000.0,145000.0,149000.0,190000.0,218000.0,160000.0,135000.0,189000.0,175000.0,160000.0,210000.0,135000.0,172000.0,140000.0,185000.0,148000.0,165000.0,147000.0,167000.0,155000.0,180000.0,170000.0,180000.0,210000.0,180000.0,133000.0,141000.0,180000.0,180000.0,154000.0,190000.0,115000.0,120000.0,127000.0,160000.0,210000.0,205000.0,200000.0,180000.0,165000.0,200000.0,124000.0,120000.0,130000.0,151000.0,120000.0,200000.0,210000.0,145000.0,167000.0,140000.0,130000.0,131000.0,160000.0,140000.0,153000.0,230000.0,230000.0,280000.0,145000.0,118000.0,91000.0,92000.0,560000.0,125000.0,150000.0,105000.0,110000.0,115000.0,161000.0,110000.0,153000.0,82000.0,251000.0,135000.0,160000.0,116000.0,100000.0,120000.0,97000.0,149000.0,140000.0,230000.0,135000.0,125000.0,175000.0,225000.0,160000.0,138000.0,168000.0,135000.0,149000.0,130000.0,150000.0,108000.0,165000.0,150000.0,300000.0,140000.0,115000.0,145000.0,165000.0,215000.0,118000.0,162000.0,195000.0,240000.0,147000.0,132000.0,206000.0,100000.0,160000.0,129000.0,135000.0,200000.0,177000.0,162000.0,126000.0,189000.0,110000.0,149000.0,175000.0,214000.0,150000.0,280000.0,160000.0,170000.0,183000.0,160000.0,190000.0,140000.0,150000.0,164000.0,120000.0,175000.0,150000.0,93000.0,165000.0,125000.0,152000.0,165000.0,222000.0,130000.0,150000.0,140000.0,190000.0,155000.0,150000.0,118000.0,155000.0,170000.0,214000.0,169000.0,200000.0,197000.0,250000.0,143000.0,160000.0,137000.0,165000.0,107000.0,150000.0,125000.0,145000.0,160000.0,220000.0,139000.0,130000.0,150000.0,167000.0,150000.0,430000.0,140000.0,165000.0,140000.0,135000.0,171000.0,159000.0,120000.0,128000.0,136000.0,160000.0,126000.0,130000.0,130000.0,145000.0,210000.0,137000.0,129000.0,138000.0,220000.0,130000.0,151000.0,175000.0,130000.0,162000.0,100000.0,201000.0,210000.0,132000.0,178000.0,360000.0,103000.0,174000.0,186000.0,150000.0,148000.0,172000.0,202000.0,140000.0,130000.0,175000.0,170000.0,170000.0,175000.0,100000.0,170000.0,108000.0,172000.0,400000.0,170000.0,105000.0,150000.0,200000.0,140000.0,200000.0,146000.0,210000.0,215000.0,190000.0,130000.0,240000.0,275000.0,255000.0,230000.0,155000.0,235000.0,199000.0,170000.0,200000.0,450000.0,133000.0,195000.0,120000.0,134000.0,185000.0,550000.0,163000.0,180000.0,230000.0,185000.0,245000.0,174000.0,160000.0,125000.0,197000.0,160000.0,185000.0,170000.0,190000.0,195000.0,135000.0,135000.0,135000.0,182000.0,150000.0,110000.0,154000.0,193000.0,125000.0,138000.0,150000.0,225000.0,165000.0,194000.0,198000.0,194000.0,142000.0,155000.0,126000.0,178000.0,115000.0,180000.0,165000.0,270000.0,168000.0,230000.0,185000.0,160000.0,157000.0,110000.0,190000.0,179000.0,82000.0,130000.0,144000.0,130000.0,165000.0,145000.0,230000.0,395000.0,170000.0,135000.0,138000.0,142000.0,160000.0,160000.0,165000.0,135000.0,190000.0,185000.0,228000.0,130000.0,210000.0,170000.0,195000.0,238000.0,205000.0,102000.0,140000.0,121000.0,267000.0,220000.0,165000.0,165000.0,201000.0,160000.0,132000.0,200000.0,197000.0,123000.0,180000.0,103000.0,380000.0,139000.0,110000.0,186000.0,160000.0,170000.0,115000.0,110000.0,148000.0,242000.0,117000.0,135000.0,170000.0,112000.0,165000.0,180000.0,157000.0,160000.0,179000.0,195000.0,217000.0,160000.0,278000.0,135000.0,160000.0,205000.0,250000.0,222000.0,158000.0,160000.0,193000.0,125000.0,133000.0,155000.0,130000.0,180000.0,180000.0,120000.0,188000.0,148000.0,290000.0,145000.0,140000.0,155000.0,165000.0,170000.0,158000.0,185000.0,515000.0,200000.0,149000.0,135000.0,162000.0,200000.0,132000.0,152000.0,133000.0,150000.0,150000.0,120000.0,149000.0,190000.0,180000.0,135000.0,192000.0,200000.0,158000.0,149000.0,230000.0,103000.0,225000.0,140000.0,170000.0,152000.0,115000.0,245000.0,135000.0,123000.0,118000.0,170000.0,130000.0,160000.0,150000.0,160000.0,170000.0,200000.0,155000.0,170000.0,203000.0,151000.0,196000.0,160000.0,155000.0,160000.0,165000.0,165000.0,150000.0,170000.0,145000.0,170000.0,137000.0,92000.0,135000.0,180000.0,145000.0,172000.0,153000.0,205000.0,175000.0,135000.0,128000.0,110000.0,160000.0,94000.0,150000.0,140000.0,208000.0,175000.0,170000.0,124000.0,163000.0,189000.0,173000.0,130000.0,136000.0,123000.0,180000.0,195000.0,129000.0,180000.0,169000.0,155000.0,182000.0,152000.0,120000.0,190000.0,144000.0,170000.0,105000.0,150000.0,213000.0,210000.0,140000.0,175000.0,130000.0,142000.0,170000.0,160000.0,220000.0,182000.0,55000.0,195000.0,143000.0,133000.0,150000.0,143000.0,160000.0,155000.0,152000.0,130000.0,170000.0,140000.0,165000.0,165000.0,150000.0,80000.0,118000.0,126000.0,146000.0,160000.0,200000.0,130000.0,190000.0,223000.0,136000.0,181000.0,170000.0,140000.0,180000.0,153000.0,180000.0,155000.0,135000.0,135000.0,177000.0,145000.0,180000.0,200000.0,190000.0,120000.0,170000.0,228000.0,170000.0,145000.0,200000.0,140000.0,193000.0,162000.0,196000.0,168000.0,170000.0,215000.0,135000.0,133000.0,180000.0,167000.0,158000.0,124000.0,137000.0,126000.0,120000.0,200000.0,181000.0,184000.0,195000.0,221000.0,152000.0,106000.0,127000.0,150000.0,205000.0,127000.0,145000.0,143000.0,130000.0,161000.0,160000.0,114000.0,180000.0,172000.0,163000.0,178000.0,152000.0,131000.0,106000.0,167000.0,194000.0,134000.0,191000.0,150000.0,170000.0,160000.0,216000.0,160000.0,160000.0,198000.0,100000.0,190000.0,137000.0,175000.0,150000.0,145000.0,209000.0,185000.0,152000.0,202000.0,192000.0,390000.0,135000.0,148000.0,171000.0,144000.0,101000.0,210000.0,119000.0,140000.0,108000.0,195000.0,153000.0,98000.0,150000.0,155000.0,208000.0,235000.0,150000.0,148000.0,163000.0,134000.0,115000.0,172000.0,139000.0,132000.0,160000.0,180000.0,230000.0,118000.0,179000.0,166000.0,160000.0,205000.0,165000.0,148000.0,155000.0,195000.0,185000.0,195000.0,165000.0,120000.0,135000.0,160000.0,155000.0,185000.0,167000.0,199000.0,175000.0,160000.0,300000.0,160000.0,214000.0,115000.0,180000.0,189000.0,170000.0,189000.0,138000.0,151000.0,180000.0,190000.0,132000.0,129000.0,120000.0,115000.0,160000.0,122000.0,157000.0,140000.0,129000.0,147000.0,210000.0,150000.0,155000.0,167000.0,200000.0,225000.0,165000.0,133000.0,187000.0,100000.0,115000.0,130000.0,123000.0,125000.0,160000.0,200000.0,145000.0,174000.0,165000.0,143000.0,150000.0,165000.0,141000.0,154000.0,168000.0,171000.0,205000.0,125000.0,175000.0,103000.0,169000.0,180000.0,178000.0,147000.0,201000.0,155000.0,174000.0,127000.0,250000.0,128000.0,160000.0,150000.0,135000.0,202000.0,150000.0,140000.0,175000.0,165000.0,210000.0,159000.0,182000.0,130000.0,170000.0,174000.0,187000.0,205000.0,135000.0,180000.0,193000.0,145000.0,115000.0,144000.0,255000.0,165000.0,150000.0,120000.0,128000.0,275000.0,176000.0,103000.0,172000.0,186000.0,206000.0,157000.0,182000.0,107000.0,165000.0,167000.0,176000.0,125000.0,150000.0,180000.0,120000.0,225000.0,200000.0,130000.0,123000.0,160000.0,185000.0,167000.0,130000.0,165000.0,117000.0,197000.0,131000.0,118000.0,200000.0,175000.0,120000.0,135000.0,209000.0,200000.0,118000.0,132000.0,138000.0,170000.0,151000.0,156000.0,136000.0,108000.0,128000.0,133000.0,160000.0,155000.0,143000.0,93000.0,139000.0,130000.0,150000.0,195000.0,125000.0,163000.0,150000.0,143000.0,133000.0,130000.0,180000.0,120000.0,125000.0,160000.0,125000.0,130000.0,150000.0,185000.0,250000.0,166000.0,115000.0,141000.0,162000.0,150000.0,161000.0,166000.0,123000.0,145000.0,150000.0,172000.0,195000.0,170000.0,91000.0,150000.0,121000.0,100000.0,190000.0,185000.0,150000.0,153000.0,165000.0,100000.0,155000.0,146000.0,140000.0,155000.0,145000.0,169000.0,135000.0,150000.0,187000.0,132000.0,170000.0,150000.0,170000.0,200000.0,146000.0,135000.0,201000.0,160000.0,150000.0,138000.0,200000.0,120000.0,208000.0,167000.0,138000.0,129000.0,148000.0,156000.0,160000.0,132000.0,156000.0,120000.0,155000.0,123000.0,178000.0,160000.0,189000.0,185000.0,155000.0,160000.0,195000.0,200000.0,165000.0,172000.0,180000.0,136000.0,210000.0,170000.0,135000.0,170000.0,185000.0,136000.0,185000.0,167000.0,130000.0,166000.0,135000.0,200000.0,135000.0,160000.0,178000.0,130000.0,212000.0,149000.0,113000.0,205000.0,130000.0,196000.0,170000.0,200000.0,180000.0,180000.0,126000.0,132000.0,120000.0,150000.0,135000.0,120000.0,150000.0,144000.0,188000.0,144000.0,140000.0,134000.0,147000.0,125000.0,200000.0,200000.0,130000.0,156000.0,118000.0,118000.0,190000.0,175000.0,180000.0,200000.0,200000.0,200000.0,215000.0,148000.0,214000.0,150000.0,202000.0,151000.0,163000.0,150000.0,186000.0,157000.0,140000.0,134000.0,95000.0,133000.0,118000.0,155000.0,165000.0,120000.0,154000.0,60000.0,170000.0,128000.0,210000.0,190000.0,150000.0,88000.0,165000.0,225000.0,167000.0,175000.0,220000.0,195000.0,122000.0,120000.0,215000.0,197000.0,118000.0,65000.0,150000.0,185000.0,160000.0,155000.0,130000.0,234000.0,128000.0,140000.0,157000.0,140000.0,173000.0,125000.0,164000.0,155000.0,180000.0,127000.0,140000.0,175000.0,199000.0,160000.0,160000.0,230000.0,183000.0,150000.0,188000.0,195000.0,160000.0,132000.0,181000.0,150000.0,125000.0,145000.0,125000.0,195000.0,203000.0,147000.0,240000.0,175000.0,175000.0,185000.0,175000.0,112000.0,200000.0,150000.0,139000.0,125000.0,159000.0,194000.0,100000.0,155000.0,185000.0,195000.0,195000.0,160000.0,160000.0,155000.0,200000.0,120000.0,126000.0,150000.0,165000.0,145000.0,191000.0,142000.0,155000.0,150000.0,159000.0,160000.0,183000.0,220000.0,135000.0,260000.0,180000.0,141000.0,160000.0,87000.0,260000.0,172000.0,173000.0,175000.0,200000.0,208000.0,190000.0,170000.0,126000.0,160000.0,131000.0,205000.0,200000.0,145000.0,155000.0,182000.0,130000.0,129000.0,200000.0,230000.0,160000.0,125000.0,160000.0,135000.0,85000.0,190000.0,183000.0,201000.0,140000.0,130000.0,165000.0,211000.0,120000.0,155000.0,143000.0,405000.0,171000.0,167000.0,185000.0,148000.0,183000.0,185000.0,160000.0,240000.0,135000.0,135000.0,183000.0,120000.0,162000.0,129000.0,160000.0,200000.0,130000.0,220000.0,126000.0,140000.0,152000.0,150000.0,225000.0,190000.0,154000.0,122000.0,110000.0,98000.0,160000.0,162000.0,170000.0,120000.0,90000.0,245000.0,200000.0,155000.0,181000.0,178000.0,151000.0,132000.0,176000.0,120000.0,190000.0,118000.0,135000.0,149000.0,220000.0,180000.0,150000.0,158000.0,260000.0,420000.0,120000.0,149000.0,177000.0,120000.0,140000.0,155000.0,140000.0,260000.0,250000.0,154000.0,201000.0,160000.0,222000.0,150000.0,185000.0,230000.0,124000.0,135000.0,170000.0,130000.0,195000.0,125000.0,167000.0,160000.0,141000.0,146000.0,150000.0,205000.0,148000.0,153000.0,200000.0,170000.0,118000.0,131000.0,200000.0,220000.0,181000.0,190000.0,145000.0,176000.0,205000.0,160000.0,135000.0,111000.0,131000.0,225000.0,152000.0,240000.0,156000.0,250000.0,260000.0,135000.0,160000.0,122000.0,118000.0,205000.0,195000.0,155000.0,180000.0,110000.0,145000.0,153000.0,154000.0,160000.0,166000.0,184000.0,172000.0,223000.0,200000.0,195000.0,140000.0,118000.0,70000.0,220000.0,128000.0,156000.0,146000.0,190000.0,170000.0,280000.0,192000.0,155000.0,192000.0,149000.0,232000.0,250000.0,190000.0,125000.0,160000.0,180000.0,130000.0,200000.0,205000.0,230000.0,159000.0,150000.0,185000.0,130000.0,270000.0,178000.0,140000.0,158000.0,145000.0,170000.0,162000.0,200000.0,155000.0,190000.0,150000.0,125000.0,175000.0,170000.0,188000.0,450000.0,190000.0,165000.0,200000.0,150000.0,187000.0,120000.0,236000.0,165000.0,135000.0,160000.0,240000.0,175000.0,88000.0,152000.0,174000.0,215000.0,180000.0,141000.0,205000.0,155000.0,171000.0,205000.0,164000.0,130000.0,210000.0,140000.0,150000.0,210000.0,160000.0,229000.0,160000.0,160000.0,100000.0,155000.0,180000.0,200000.0,175000.0,130000.0,500000.0,110000.0,118000.0,160000.0,100000.0,150000.0,167000.0,200000.0,123000.0,185000.0,150000.0,166000.0,170000.0,175000.0,150000.0,140000.0,155000.0,115000.0,170000.0,200000.0,117000.0,160000.0,73000.0,230000.0,150000.0,130000.0,145000.0,115000.0,135000.0,135000.0,141000.0,126000.0,180000.0,235000.0,125000.0,180000.0,140000.0,185000.0,110000.0,174000.0,158000.0,109000.0,160000.0,170000.0,150000.0,120000.0,165000.0,105000.0,130000.0,200000.0,240000.0,135000.0,135000.0,185000.0,135000.0,195000.0,165000.0,172000.0,118000.0,152000.0,160000.0,119000.0,150000.0,136000.0,200000.0,135000.0,170000.0,195000.0,192000.0,165000.0,110000.0,213000.0,170000.0,175000.0,97000.0,160000.0,125000.0,185000.0,180000.0,170000.0,132000.0,180000.0,185000.0,172000.0,205000.0,220000.0,145000.0,125000.0,165000.0,165000.0,158000.0,240000.0,167000.0,175000.0,240000.0,162000.0,115000.0,100000.0,170000.0,140000.0,135000.0,160000.0,165000.0,220000.0,134000.0,230000.0,143000.0,115000.0,125000.0,160000.0,160000.0,200000.0,144000.0,220000.0,172000.0,184000.0,120000.0,149000.0,125000.0,127000.0,95000.0,165000.0,200000.0,200000.0,170000.0,130000.0,160000.0,190000.0,160000.0,270000.0,166000.0,200000.0,134000.0,140000.0,212000.0,250000.0,140000.0,200000.0,185000.0,140000.0,200000.0,150000.0,205000.0,153000.0,131000.0,175000.0,135000.0,150000.0,187000.0,190000.0,112000.0,144000.0,192000.0,195000.0,137000.0,175000.0,210000.0,232000.0,190000.0,425000.0,185000.0,165000.0,150000.0,262000.0,210000.0,146000.0,155000.0,167000.0,120000.0,127000.0,135000.0,139000.0,230000.0,205000.0,235000.0,175000.0,180000.0,155000.0,135000.0,194000.0,180000.0,187000.0,134000.0,160000.0,130000.0,205000.0,202000.0,175000.0,166000.0,136000.0,225000.0,450000.0,135000.0,450000.0,120000.0,139000.0,165000.0,200000.0,160000.0,168000.0,220000.0,210000.0,130000.0,146000.0,160000.0,225000.0,180000.0,165000.0,160000.0,172000.0,124000.0,145000.0,140000.0,176000.0,175000.0,165000.0,120000.0,195000.0,138000.0,190000.0,123000.0,135000.0,173000.0,140000.0,169000.0,200000.0,103000.0,171000.0,126000.0,176000.0,125000.0,125000.0,85000.0,180000.0,140000.0,165000.0,120000.0,200000.0,195000.0,175000.0,125000.0,225000.0,145000.0,166000.0,130000.0,215000.0,196000.0,135000.0,140000.0,155000.0,145000.0,175000.0,162000.0,155000.0,215000.0,150000.0,160000.0,168000.0,130000.0,190000.0,145000.0,140000.0,200000.0,235000.0,200000.0,225000.0,200000.0,177000.0,128000.0,166000.0,155000.0,240000.0,149000.0,154000.0,220000.0,213000.0,154000.0,133000.0,120000.0,160000.0,160000.0,115000.0,128000.0,137000.0,150000.0,225000.0,135000.0,210000.0,150000.0,135000.0,190000.0,257000.0,143000.0,160000.0,170000.0,140000.0,144000.0,168000.0,129000.0,100000.0,165000.0,165000.0,100000.0,165000.0,162000.0,113000.0,160000.0,180000.0,500000.0,110000.0,175000.0,230000.0,160000.0,195000.0,137000.0,174000.0,156000.0,165000.0,143000.0,150000.0,195000.0,206000.0,148000.0,145000.0,165000.0,150000.0,230000.0,134000.0,167000.0,137000.0,178000.0,285000.0,170000.0,155000.0,180000.0,137000.0,146000.0,160000.0,185000.0,180000.0,171000.0,155000.0,134000.0,126000.0,166000.0,206000.0,135000.0,177000.0,165000.0,140000.0,114000.0,167000.0,215000.0,215000.0,180000.0,160000.0,185000.0,155000.0,180000.0,180000.0,210000.0,130000.0,127000.0,198000.0,163000.0,191000.0,107000.0,150000.0,150000.0,192000.0,130000.0,140000.0,183000.0,112000.0,140000.0,123000.0,178000.0,148000.0,150000.0,420000.0,185000.0,180000.0,125000.0,103000.0,215000.0,250000.0,160000.0,130000.0,195000.0,152000.0,127000.0,145000.0,200000.0,195000.0,90000.0,128000.0,200000.0,200000.0,143000.0,210000.0,175000.0,180000.0,160000.0,180000.0,190000.0,135000.0,145000.0,450000.0,130000.0,145000.0,155000.0,225000.0,140000.0,80000.0,650000.0,145000.0,160000.0,181000.0,130000.0,140000.0,180000.0,125000.0,165000.0,166000.0,111000.0,225000.0,145000.0,167000.0,177000.0,129000.0,166000.0,205000.0,190000.0,133000.0,150000.0,167000.0,145000.0,135000.0,202000.0,180000.0,141000.0,191000.0,105000.0,150000.0,150000.0,120000.0,120000.0,115000.0,170000.0,129000.0,136000.0,115000.0,165000.0,195000.0,160000.0,200000.0,146000.0,150000.0,158000.0,180000.0,129000.0,205000.0,220000.0,151000.0,195000.0,190000.0,125000.0,138000.0,131000.0,132000.0,186000.0,162000.0,200000.0,156000.0,131000.0,200000.0,185000.0,150000.0,187000.0,160000.0,270000.0,225000.0,260000.0,107000.0,175000.0,190000.0,130000.0,160000.0,143000.0,200000.0,119000.0,195000.0,220000.0,205000.0,204000.0,203000.0,130000.0,142000.0,125000.0,260000.0,250000.0,131000.0,92000.0,188000.0,200000.0,157000.0,153000.0,138000.0,200000.0,205000.0,127000.0,190000.0,146000.0,128000.0,175000.0,131000.0,128000.0,165000.0,98000.0,210000.0,159000.0,130000.0,170000.0,127000.0,200000.0,131000.0,128000.0,140000.0,225000.0,103000.0,200000.0,219000.0,145000.0,128000.0,143000.0,150000.0,165000.0,125000.0,176000.0,175000.0,125000.0,127000.0,132000.0,185000.0,180000.0,165000.0,185000.0,160000.0,149000.0,170000.0,205000.0,230000.0,192000.0,169000.0,139000.0,215000.0,150000.0,130000.0,130000.0,130000.0,122000.0,178000.0,120000.0,140000.0,133000.0,168000.0,149000.0,113000.0,118000.0,153000.0,140000.0,150000.0,170000.0,160000.0,187000.0,160000.0,118000.0,120000.0,200000.0,155000.0,150000.0,170000.0,140000.0,200000.0,123000.0,150000.0,115000.0,157000.0,144000.0,152000.0,165000.0,196000.0,155000.0,108000.0,168000.0,180000.0,110000.0,130000.0,204000.0,170000.0,210000.0,120000.0,130000.0,144000.0,150000.0,155000.0,185000.0,136000.0,190000.0,137000.0,168000.0,145000.0,170000.0,180000.0,125000.0,120000.0,190000.0,186000.0,182000.0,120000.0,129000.0,135000.0,123000.0,140000.0,150000.0,146000.0,160000.0,130000.0,140000.0,110000.0,187000.0,105000.0,105000.0,168000.0,183000.0,129000.0,200000.0,133000.0,165000.0,160000.0,135000.0,143000.0,131000.0,150000.0,155000.0,180000.0,132000.0,133000.0,150000.0,140000.0,153000.0,110000.0,125000.0,170000.0,212000.0,185000.0,138000.0,176000.0,175000.0,180000.0,150000.0,105000.0,110000.0,130000.0,118000.0,210000.0,201000.0,125000.0,180000.0,153000.0,155000.0,175000.0,185000.0,215000.0,138000.0,118000.0,165000.0,165000.0,125000.0,144000.0,118000.0,93000.0,175000.0,135000.0,130000.0,140000.0,135000.0,325000.0,240000.0,130000.0,203000.0,129000.0,164000.0,145000.0,128000.0,172000.0,150000.0,100000.0,148000.0,230000.0,420000.0,178000.0,134000.0,225000.0,160000.0,79000.0,220000.0,147000.0,130000.0,162000.0,180000.0,120000.0,185000.0,170000.0,112000.0,110000.0,182000.0,136000.0,164000.0,135000.0,118000.0,150000.0,208000.0,242000.0,145000.0,180000.0,240000.0,250000.0,150000.0,125000.0,165000.0,146000.0,154000.0,160000.0,140000.0,135000.0,137000.0,170000.0,147000.0,135000.0,155000.0,142000.0,200000.0,200000.0,206000.0,250000.0,146000.0,135000.0,190000.0,118000.0,240000.0,170000.0,200000.0,170000.0,147000.0,214000.0,133000.0,118000.0,125000.0,167000.0,139000.0,127000.0,140000.0,196000.0,225000.0,135000.0,235000.0,200000.0,140000.0,205000.0,200000.0,150000.0,150000.0,125000.0,162000.0,128000.0,118000.0,118000.0,221000.0,128000.0,400000.0,153000.0,132000.0,210000.0,165000.0,138000.0,165000.0,150000.0,175000.0,100000.0,155000.0,174000.0,183000.0,160000.0,157000.0,162000.0,159000.0,123000.0,145000.0,125000.0,145000.0,160000.0,160000.0,195000.0,195000.0,160000.0,120000.0,160000.0,135000.0,109000.0,120000.0,142000.0,150000.0,100000.0,194000.0,195000.0,158000.0,132000.0,135000.0,152000.0,163000.0,128000.0,100000.0,165000.0,160000.0,137000.0,157000.0,160000.0,185000.0,240000.0,155000.0,194000.0,175000.0,96000.0,118000.0,210000.0,150000.0,163000.0,170000.0,170000.0,160000.0,150000.0,145000.0,123000.0,55000.0,152000.0,220000.0,150000.0,210000.0,150000.0,160000.0,137000.0,167000.0,140000.0,135000.0,135000.0,125000.0,96000.0,130000.0,200000.0,103000.0,145000.0,101000.0,205000.0,165000.0,225000.0,135000.0,212000.0,175000.0,119000.0,125000.0,120000.0,123000.0,140000.0,147000.0,160000.0,93000.0,156000.0,223000.0,190000.0,122000.0,205000.0,145000.0,170000.0,180000.0,195000.0,167000.0,140000.0,130000.0,121000.0,180000.0,170000.0,141000.0,194000.0,170000.0,175000.0,168000.0,135000.0,134000.0,160000.0,140000.0,125000.0,190000.0,211000.0,195000.0,160000.0,195000.0,160000.0,165000.0,165000.0,117000.0,190000.0,85000.0,250000.0,139000.0,130000.0,134000.0,123000.0,118000.0,132000.0,143000.0,100000.0,118000.0,175000.0,89000.0,131000.0,198000.0,140000.0,124000.0,175000.0,150000.0,160000.0,115000.0,132000.0,190000.0,134000.0,104000.0,173000.0,150000.0,120000.0,200000.0,145000.0,221000.0,163000.0,205000.0,200000.0,195000.0,200000.0,110000.0,195000.0,155000.0,152000.0,118000.0,175000.0,300000.0,126000.0,150000.0,130000.0,161000.0,126000.0,155000.0,160000.0,172000.0,143000.0,144000.0,122000.0,166000.0,158000.0,160000.0,200000.0,210000.0,238000.0,165000.0,135000.0,158000.0,165000.0,145000.0,160000.0,144000.0,175000.0,183000.0,136000.0,179000.0,220000.0,205000.0,130000.0,190000.0,180000.0,140000.0,100000.0,127000.0,167000.0,185000.0,118000.0,160000.0,135000.0,230000.0,130000.0,133000.0,120000.0,130000.0,180000.0,150000.0,144000.0,147000.0,140000.0,155000.0,195000.0,150000.0,120000.0,131000.0,200000.0,142000.0,170000.0,139000.0,220000.0,170000.0,185000.0,123000.0,192000.0,160000.0,118000.0,207000.0,129000.0,155000.0,165000.0,170000.0,250000.0,200000.0,130000.0,141000.0,117000.0,120000.0,98000.0,120000.0,120000.0,135000.0,140000.0,125000.0,162000.0,159000.0,207000.0,154000.0,175000.0,125000.0,174000.0,128000.0,150000.0,550000.0,147000.0,135000.0,135000.0,130000.0,127000.0,160000.0,200000.0,160000.0,135000.0,150000.0,175000.0,130000.0,135000.0,183000.0,123000.0,93000.0,120000.0,163000.0,195000.0,200000.0,135000.0,185000.0,165000.0,155000.0,120000.0,240000.0,180000.0,150000.0,170000.0,95000.0,110000.0,250000.0,170000.0,149000.0,130000.0,160000.0,180000.0,170000.0,188000.0,138000.0,165000.0,230000.0,200000.0,117000.0,227000.0,185000.0,183000.0,190000.0,195000.0,250000.0,130000.0,196000.0,180000.0,130000.0,113000.0,165000.0,166000.0,140000.0,230000.0,430000.0,170000.0,125000.0,150000.0,215000.0,156000.0,236000.0,140000.0,233000.0,162000.0,186000.0,158000.0,227000.0,181000.0,140000.0,152000.0,223000.0,185000.0,110000.0,139000.0,145000.0,155000.0,252000.0,180000.0,135000.0,130000.0,134000.0,120000.0,176000.0,149000.0,153000.0,152000.0,123000.0,195000.0,181000.0,195000.0,250000.0,147000.0,130000.0,95000.0,126000.0,220000.0,160000.0,161000.0,144000.0,120000.0,170000.0,135000.0,176000.0,200000.0,184000.0,158000.0,100000.0,170000.0,180000.0,165000.0,210000.0,160000.0,155000.0,180000.0,160000.0,115000.0,150000.0,180000.0,130000.0,153000.0,120000.0,188000.0,138000.0,201000.0,215000.0,135000.0,245000.0,133000.0,176000.0,67000.0,135000.0,130000.0,125000.0,150000.0,191000.0,170000.0,152000.0,150000.0,160000.0,158000.0,194000.0,163000.0,115000.0,125000.0,165000.0,142000.0,205000.0,140000.0,123000.0,140000.0,143000.0,100000.0,135000.0,119000.0,135000.0,138000.0,155000.0,155000.0,187000.0,180000.0,165000.0,183000.0,123000.0,170000.0,120000.0,130000.0,200000.0,145000.0,131000.0,158000.0,130000.0,129000.0,152000.0,170000.0,100000.0,185000.0,125000.0,135000.0,223000.0,170000.0,139000.0,100000.0,105000.0,118000.0,139000.0,160000.0,241000.0,130000.0,130000.0,170000.0,194000.0,130000.0,140000.0,149000.0,170000.0,130000.0,165000.0,205000.0,150000.0,187000.0,166000.0,123000.0,133000.0,150000.0,190000.0,126000.0,175000.0,270000.0,220000.0,175000.0,205000.0,134000.0,149000.0,150000.0,190000.0,205000.0,180000.0,175000.0,180000.0,130000.0,120000.0,100000.0,223000.0,100000.0,133000.0,138000.0,181000.0,118000.0,110000.0,123000.0,105000.0,185000.0,158000.0,143000.0,153000.0,172000.0,220000.0,159000.0,204000.0,150000.0,162000.0,117000.0,148000.0,130000.0,200000.0,135000.0,172000.0,165000.0,165000.0,93000.0,165000.0,145000.0,152000.0,247000.0,117000.0,150000.0,225000.0,125000.0,126000.0,160000.0,117000.0,210000.0,175000.0,127000.0,110000.0,123000.0,120000.0,121000.0,146000.0,176000.0,80000.0,135000.0,125000.0,130000.0,206000.0,128000.0,160000.0,185000.0,265000.0,135000.0,146000.0,155000.0,116000.0,200000.0,122000.0,170000.0,190000.0,200000.0,124000.0,138000.0,334000.0,130000.0,100000.0,165000.0,120000.0,129000.0,135000.0,148000.0,145000.0,250000.0,172000.0,198000.0,195000.0,172000.0,196000.0,190000.0,135000.0,125000.0,137000.0,120000.0,189000.0,100000.0,350000.0,135000.0,175000.0,135000.0,134000.0,159000.0,177000.0,190000.0,117000.0,140000.0,125000.0,165000.0,110000.0,177000.0,129000.0,158000.0,180000.0,147000.0,97000.0,129000.0,174000.0,165000.0,178000.0,150000.0,170000.0,120000.0,128000.0,166000.0,168000.0,165000.0,181000.0,185000.0,123000.0,135000.0,130000.0,128000.0,220000.0,195000.0,187000.0,150000.0,270000.0,228000.0,220000.0,182000.0,120000.0,130000.0,135000.0,149000.0,128000.0,485000.0,165000.0,135000.0,183000.0,130000.0,240000.0,140000.0,140000.0,145000.0,227000.0,160000.0,132000.0,143000.0,185000.0,131000.0,220000.0,180000.0,190000.0,133000.0,190000.0,155000.0,175000.0,173000.0,140000.0,160000.0,160000.0,195000.0,167000.0,190000.0,169000.0,125000.0,138000.0,65000.0,135000.0,150000.0,185000.0,103000.0,208000.0,102000.0,200000.0,156000.0,180000.0,115000.0,125000.0,200000.0,126000.0,90000.0,200000.0,220000.0,160000.0,150000.0,80000.0,196000.0,175000.0,160000.0,125000.0,155000.0,169000.0,230000.0,204000.0,205000.0,107000.0,107000.0,125000.0,80000.0,144000.0,125000.0,154000.0,89000.0,161000.0,183000.0,200000.0,127000.0,171000.0,160000.0,126000.0,120000.0,120000.0,239000.0,125000.0,125000.0,151000.0,156000.0,140000.0,155000.0,149000.0,220000.0,100000.0,135000.0,175000.0,175000.0,158000.0,148000.0,126000.0,152000.0,185000.0,190000.0,155000.0,125000.0,134000.0,135000.0,120000.0,122000.0,190000.0,160000.0,200000.0,153000.0,120000.0,113000.0,151000.0,155000.0,250000.0,177000.0,149000.0,210000.0,143000.0,165000.0,135000.0,205000.0,210000.0,210000.0,88000.0,190000.0,158000.0,161000.0,115000.0,195000.0,125000.0,192000.0,146000.0,200000.0,270000.0,145000.0,146000.0,135000.0,149000.0,185000.0,175000.0,165000.0,162000.0,150000.0,137000.0,138000.0,152000.0,130000.0,126000.0,159000.0,100000.0,215000.0,200000.0,172000.0,186000.0,225000.0,103000.0,125000.0,130000.0,185000.0,138000.0,130000.0,126000.0,270000.0,200000.0,167000.0,156000.0,160000.0,135000.0,142000.0,135000.0,135000.0,130000.0,138000.0,130000.0,181000.0,193000.0,165000.0,140000.0,119000.0,180000.0,430000.0,170000.0,125000.0,153000.0,187000.0,142000.0,210000.0,126000.0,240000.0,130000.0,162000.0,155000.0,137000.0,216000.0,155000.0,195000.0,450000.0,400000.0,127000.0,121000.0,185000.0,110000.0,136000.0,305000.0,129000.0,126000.0,130000.0,180000.0,205000.0,97000.0,160000.0,160000.0,265000.0,157000.0,185000.0,173000.0,143000.0,135000.0,128000.0,147000.0,195000.0,180000.0,165000.0,165000.0,142000.0,110000.0,98000.0,145000.0,132000.0,179000.0,162000.0,170000.0,160000.0,159000.0,170000.0,175000.0,140000.0,190000.0,200000.0,160000.0,160000.0,180000.0,130000.0,195000.0,198000.0,114000.0,183000.0,138000.0,125000.0,134000.0,204000.0,168000.0,190000.0,180000.0,175000.0,135000.0,145000.0,113000.0,170000.0,140000.0,129000.0,140000.0,120000.0,170000.0,180000.0,162000.0,140000.0,155000.0,130000.0,160000.0,190000.0,135000.0,200000.0,120000.0,120000.0,223000.0,170000.0,160000.0,239000.0,400000.0,126000.0,145000.0,170000.0,130000.0,150000.0,145000.0,144000.0,680000.0,113000.0,188000.0,129000.0,190000.0,176000.0,190000.0,160000.0,143000.0,135000.0,140000.0,140000.0,190000.0,150000.0,163000.0,240000.0,115000.0,100000.0,185000.0,125000.0,340000.0,155000.0,140000.0,133000.0,175000.0,156000.0,115000.0,142000.0,129000.0,180000.0,40000.0,149000.0,160000.0,205000.0,155000.0,225000.0,195000.0,178000.0,154000.0,140000.0,276000.0,128000.0,100000.0,162000.0,125000.0,189000.0,175000.0,126000.0,100000.0,140000.0,220000.0,118000.0,146000.0,151000.0,140000.0,176000.0,114000.0,160000.0,102000.0,206000.0,200000.0,98000.0,143000.0,135000.0,152000.0,126000.0,176000.0,144000.0,167000.0,126000.0,135000.0,185000.0,280000.0,160000.0,150000.0,230000.0,230000.0,126000.0,198000.0,135000.0,120000.0,128000.0,155000.0,146000.0,160000.0,120000.0,185000.0,182000.0,185000.0,170000.0,117000.0,100000.0,160000.0,126000.0,700000.0,135000.0,138000.0,160000.0,160000.0,166000.0,145000.0,98000.0,144000.0,185000.0,130000.0,185000.0,120000.0,230000.0,121000.0,118000.0,180000.0,100000.0,180000.0,139000.0,144000.0,210000.0,172000.0,155000.0,120000.0,290000.0,145000.0,100000.0,165000.0,125000.0,145000.0,175000.0,185000.0,155000.0,110000.0,220000.0,138000.0,127000.0,100000.0,135000.0,139000.0,121000.0,130000.0,190000.0,123000.0,125000.0,142000.0,135000.0,164000.0,130000.0,165000.0,120000.0,170000.0,197000.0,182000.0,115000.0,195000.0,170000.0,140000.0,160000.0,130000.0,143000.0,290000.0,173000.0,153000.0,138000.0,170000.0,170000.0,180000.0,167000.0,126000.0,148000.0,134000.0,165000.0,180000.0,110000.0,118000.0,103000.0,149000.0,194000.0,123000.0,100000.0,200000.0,115000.0,220000.0,115000.0,150000.0,155000.0,171000.0,103000.0,205000.0,126000.0,225000.0,186000.0,127000.0,145000.0,125000.0,160000.0,159000.0,220000.0,261000.0,202000.0,140000.0,226000.0,168000.0,167000.0,154000.0,125000.0,200000.0,204000.0,153000.0,280000.0,480000.0,163000.0,120000.0,170000.0,134000.0,182000.0,483000.0,70000.0,134000.0,240000.0,135000.0,130000.0,195000.0,183000.0,400000.0,160000.0,200000.0,165000.0,147000.0,800000.0,206000.0,170000.0,175000.0,200000.0,184000.0,156000.0,176000.0,180000.0,142000.0,137000.0,205000.0,165000.0,145000.0,280000.0,145000.0,156000.0,130000.0,119000.0,200000.0,170000.0,157000.0,131000.0,167000.0,160000.0,187000.0,135000.0,420000.0,160000.0,110000.0,150000.0,165000.0,110000.0,159000.0,186000.0,200000.0,130000.0,195000.0,120000.0,130000.0,199000.0,156000.0,180000.0,180000.0,129000.0,132000.0,140000.0,184000.0,149000.0,140000.0,115000.0,183000.0,93000.0,97000.0,207000.0,160000.0,173000.0,170000.0,188000.0,195000.0,178000.0,140000.0,187000.0,250000.0,260000.0,126000.0,190000.0,192000.0,143000.0,200000.0,295000.0,125000.0,165000.0,122000.0,131000.0,215000.0,121000.0,150000.0,150000.0,119000.0,570000.0,200000.0,185000.0,700000.0,184000.0,126000.0,167000.0,188000.0,157000.0,172000.0,145000.0,150000.0,156000.0,216000.0,200000.0,195000.0,184000.0,270000.0,145000.0,160000.0,192000.0,184000.0,202000.0,128000.0,125000.0,125000.0,118000.0,185000.0,170000.0,130000.0,441000.0,158000.0,167000.0,265000.0,275000.0,165000.0,215000.0,195000.0,183000.0,169000.0,229000.0,205000.0,162000.0,161000.0,146000.0,180000.0,130000.0,145000.0,126000.0,250000.0,135000.0,185000.0,135000.0,283000.0,130000.0,220000.0,125000.0,170000.0,146000.0,194000.0,143000.0,160000.0,185000.0,170000.0,80000.0,170000.0,184000.0,160000.0,210000.0,156000.0,245000.0,166000.0,175000.0,150000.0,100000.0,186000.0,120000.0,144000.0,120000.0,184000.0,100000.0,145000.0,110000.0,200000.0,232000.0,120000.0,206000.0,130000.0,260000.0,192000.0,154000.0,207000.0,132000.0,110000.0,160000.0,164000.0,138000.0,200000.0,450000.0,216000.0,180000.0,130000.0,105000.0,165000.0,160000.0,188000.0,260000.0,150000.0,115000.0,160000.0,125000.0,110000.0,148000.0,111000.0,122000.0,165000.0,175000.0,200000.0,190000.0,140000.0,180000.0,182000.0,185000.0,165000.0,190000.0,200000.0,139000.0,200000.0,147000.0,240000.0,170000.0,200000.0,168000.0,550000.0,210000.0,200000.0,185000.0,130000.0,150000.0,210000.0,135000.0,144000.0,120000.0,205000.0,200000.0,150000.0,120000.0,247000.0,190000.0,120000.0,188000.0,120000.0,151000.0,110000.0,130000.0,175000.0,146000.0,165000.0,100000.0,172000.0,180000.0,103000.0,145000.0,240000.0,210000.0,260000.0,199000.0,190000.0,98000.0,170000.0,155000.0,205000.0,315000.0,260000.0,225000.0,220000.0,162000.0,170000.0,160000.0,125000.0,195000.0,300000.0,125000.0,194000.0,110000.0,194000.0,190000.0,155000.0,134000.0,105000.0,170000.0,137000.0,128000.0,160000.0,145000.0,100000.0,92000.0,177000.0,150000.0,110000.0,143000.0,150000.0,145000.0,172000.0,156000.0,145000.0,193000.0,245000.0,215000.0,123000.0,190000.0,200000.0,230000.0,170000.0,96000.0,130000.0,125000.0,155000.0,140000.0,225000.0,140000.0,174000.0,235000.0,258000.0,192000.0,525000.0,170000.0,155000.0,760000.0,160000.0,206000.0,185000.0,162000.0,145000.0,130000.0,135000.0,156000.0,195000.0,200000.0,180000.0,166000.0,132000.0,157000.0,165000.0,167000.0,145000.0,125000.0,185000.0,300000.0,135000.0,227000.0,131000.0,138000.0,180000.0,180000.0,220000.0,125000.0,150000.0,170000.0,180000.0,215000.0,132000.0,147000.0,160000.0,161000.0,110000.0,136000.0,185000.0,220000.0,167000.0,170000.0,125000.0,138000.0,147000.0,208000.0,185000.0,220000.0,190000.0,170000.0,126000.0,118000.0,135000.0,157000.0,173000.0,127000.0,175000.0,156000.0,171000.0,155000.0,190000.0,165000.0,193000.0,140000.0,156000.0,200000.0,200000.0,135000.0,145000.0,142000.0,161000.0,125000.0,195000.0,126000.0,170000.0,164000.0,160000.0,165000.0,144000.0,180000.0,135000.0,182000.0,150000.0,173000.0,100000.0,140000.0,198000.0,300000.0,110000.0,195000.0,230000.0,135000.0,175000.0,167000.0,145000.0,185000.0,185000.0,180000.0,125000.0,128000.0,170000.0,230000.0,113000.0,186000.0,215000.0,145000.0,230000.0,160000.0,158000.0,205000.0,138000.0,195000.0,204000.0,130000.0,137000.0,115000.0,98000.0,180000.0,125000.0,138000.0,207000.0,177000.0,170000.0,128000.0,184000.0,165000.0,133000.0,135000.0,130000.0,155000.0,129000.0,180000.0,180000.0,205000.0,141000.0,169000.0,220000.0,215000.0,130000.0,160000.0,130000.0,150000.0,151000.0,103000.0,200000.0,205000.0,142000.0,104000.0,220000.0,125000.0,175000.0,175000.0,240000.0,184000.0,185000.0,170000.0,134000.0,170000.0,150000.0,166000.0,75000.0,157000.0,260000.0,170000.0,280000.0,203000.0,204000.0,160000.0,170000.0,222000.0,70000.0,150000.0,195000.0,200000.0,245000.0,175000.0,177000.0,163000.0,250000.0,135000.0,175000.0,135000.0,130000.0,143000.0,156000.0,118000.0,121000.0,120000.0,101000.0,160000.0,146000.0,115000.0,174000.0,180000.0,200000.0,191000.0,162000.0,152000.0,134000.0,150000.0,134000.0,130000.0,176000.0,137000.0,215000.0,195000.0,160000.0,138000.0,159000.0,296000.0,167000.0,150000.0,144000.0,248000.0,180000.0,165000.0,130000.0,205000.0,171000.0,150000.0,191000.0,138000.0,173000.0,170000.0,141000.0,180000.0,165000.0,183000.0,212000.0,134000.0,144000.0,170000.0,190000.0,120000.0,165000.0,125000.0,160000.0,175000.0,100000.0,210000.0,120000.0,105000.0,216000.0,135000.0,225000.0,135000.0,170000.0,120000.0,188000.0,180000.0,230000.0,185000.0,133000.0,155000.0,156000.0,110000.0,260000.0,141000.0,156000.0,210000.0,220000.0,190000.0,120000.0,125000.0,152000.0,210000.0,145000.0,185000.0,248000.0,173000.0,165000.0,124000.0,165000.0,100000.0,170000.0,125000.0,150000.0,110000.0,118000.0,170000.0,136000.0,145000.0,170000.0,160000.0,100000.0,172000.0,165000.0,360000.0,236000.0,180000.0,182000.0,146000.0,155000.0,140000.0,164000.0,102000.0,158000.0,156000.0,195000.0,168000.0,180000.0,170000.0,145000.0,178000.0,125000.0,145000.0,300000.0,160000.0,165000.0,169000.0,120000.0,200000.0,180000.0,160000.0,165000.0,210000.0,165000.0,200000.0,185000.0,195000.0,125000.0,160000.0,200000.0,134000.0,120000.0,80000.0,187000.0,160000.0,160000.0,225000.0,136000.0,123000.0,130000.0,165000.0,120000.0,120000.0,165000.0,130000.0,130000.0,150000.0,160000.0,175000.0,165000.0,405000.0,200000.0,150000.0,115000.0,210000.0,190000.0,200000.0,140000.0,220000.0,150000.0,630000.0,150000.0,300000.0,130000.0,210000.0,125000.0,156000.0,115000.0,150000.0,164000.0,201000.0,200000.0,200000.0,118000.0,200000.0,195000.0,134000.0,140000.0,141000.0,103000.0,158000.0,156000.0,134000.0,140000.0,140000.0,172000.0,200000.0,178000.0,156000.0,125000.0,75000.0,193000.0,137000.0,150000.0,296000.0,180000.0,160000.0,216000.0,142000.0,172000.0,165000.0,190000.0,127000.0,190000.0,120000.0,190000.0,140000.0,170000.0,163000.0,130000.0,125000.0,180000.0,133000.0,135000.0,250000.0,132000.0,141000.0,125000.0,206000.0,140000.0,160000.0,165000.0,208000.0,183000.0,130000.0,130000.0,115000.0,180000.0,135000.0,130000.0,113000.0,176000.0,200000.0,200000.0,155000.0,125000.0,136000.0,175000.0,165000.0,128000.0,140000.0,167000.0,180000.0,140000.0,181000.0,140000.0,125000.0,195000.0,118000.0,135000.0,164000.0,150000.0,198000.0,170000.0,120000.0,135000.0,120000.0,140000.0,178000.0,160000.0,192000.0,180000.0,135000.0,225000.0,144000.0,125000.0,176000.0,172000.0,125000.0,130000.0,120000.0,149000.0,189000.0,172000.0,145000.0,170000.0,135000.0,155000.0,195000.0,125000.0,95000.0,134000.0,188000.0,102000.0,125000.0,135000.0,152000.0,152000.0,200000.0,120000.0,97000.0,90000.0,115000.0,190000.0,165000.0,107000.0,135000.0,201000.0,159000.0,128000.0,135000.0,163000.0,147000.0,132000.0,130000.0,205000.0,135000.0,170000.0,135000.0,95000.0,125000.0,160000.0,150000.0,160000.0,165000.0,40000.0,109000.0,125000.0,147000.0,210000.0,158000.0,166000.0,153000.0,285000.0,120000.0,195000.0,145000.0,140000.0,165000.0,167000.0,180000.0,150000.0,137000.0,175000.0,135000.0,163000.0,198000.0,164000.0,150000.0,160000.0,500000.0,130000.0,196000.0,119000.0,162000.0,176000.0,216000.0,220000.0,115000.0,145000.0,185000.0,134000.0,205000.0,138000.0,138000.0,140000.0,180000.0,184000.0,300000.0,160000.0,188000.0,175000.0,185000.0,185000.0,125000.0,157000.0,196000.0,160000.0,123000.0,164000.0,118000.0,160000.0,150000.0,162000.0,250000.0,130000.0,131000.0,156000.0,180000.0,135000.0,150000.0,155000.0,180000.0,193000.0,198000.0,204000.0,174000.0,172000.0,170000.0,167000.0,206000.0,157000.0,202000.0,162000.0,170000.0,170000.0,152000.0,240000.0,155000.0,145000.0,194000.0,185000.0,125000.0,165000.0,101000.0,156000.0,155000.0,235000.0,235000.0,170000.0,135000.0,152000.0,128000.0,180000.0,92000.0,220000.0,225000.0,172000.0,265000.0,167000.0,180000.0,210000.0,165000.0,164000.0,155000.0,125000.0,160000.0,145000.0,145000.0,180000.0,111000.0,193000.0,110000.0,184000.0,120000.0,119000.0,184000.0,158000.0,120000.0,250000.0,205000.0,150000.0,200000.0,238000.0,150000.0,225000.0,165000.0,198000.0,175000.0,160000.0,180000.0,156000.0,212000.0,157000.0,190000.0,116000.0,160000.0,160000.0,243000.0,135000.0,170000.0,141000.0,174000.0,140000.0,102000.0,150000.0,200000.0,135000.0,130000.0,160000.0,190000.0,208000.0,120000.0,140000.0,158000.0,128000.0,212000.0,139000.0,194000.0,181000.0,216000.0,187000.0,168000.0,170000.0,193000.0,230000.0,145000.0,240000.0,190000.0,230000.0,430000.0,120000.0,139000.0,90000.0,126000.0,196000.0,175000.0,129000.0,140000.0,135000.0,183000.0,162000.0,170000.0,125000.0,149000.0,325000.0,130000.0,225000.0,120000.0,155000.0,260000.0,134000.0,189000.0,260000.0,200000.0,120000.0,172000.0,195000.0,142000.0,140000.0,120000.0,135000.0,135000.0,137000.0,190000.0,194000.0,145000.0,168000.0,150000.0,226000.0,153000.0,172000.0,182000.0,132000.0,156000.0,50000.0,165000.0,132000.0,175000.0,168000.0,165000.0,123000.0,110000.0,184000.0,170000.0,145000.0,100000.0,195000.0,135000.0,212000.0,220000.0,253000.0,130000.0,165000.0,160000.0,92000.0,180000.0,119000.0,162000.0,135000.0,228000.0,155000.0,132000.0,148000.0,170000.0,180000.0,121000.0,220000.0,164000.0,142000.0,208000.0,145000.0,240000.0,125000.0,125000.0,180000.0,186000.0,140000.0,170000.0,145000.0,160000.0,170000.0,180000.0,140000.0,148000.0,210000.0,186000.0,232000.0,130000.0,155000.0,122000.0,150000.0,139000.0,148000.0,160000.0,185000.0,180000.0,160000.0,148000.0,160000.0,72000.0,145000.0,162000.0,125000.0,161000.0,131000.0,170000.0,170000.0,175000.0,112000.0,205000.0,178000.0,129000.0,163000.0,175000.0,162000.0,186000.0,165000.0,161000.0,235000.0,172000.0,129000.0,200000.0,142000.0,125000.0,166000.0,168000.0,120000.0,130000.0,100000.0,145000.0,240000.0,162000.0,114000.0,167000.0,183000.0,200000.0,165000.0,180000.0,156000.0,224000.0,165000.0,123000.0,197000.0,220000.0,160000.0,138000.0,90000.0,150000.0,105000.0,175000.0,140000.0,112000.0,212000.0,83000.0,150000.0,145000.0,185000.0,185000.0,180000.0,200000.0,126000.0,200000.0,205000.0,130000.0,146000.0,158000.0,160000.0,230000.0,130000.0,169000.0,217000.0,184000.0,155000.0,230000.0,140000.0,120000.0,190000.0,168000.0,157000.0,187000.0,255000.0,134000.0,195000.0,150000.0,175000.0,220000.0,135000.0,202000.0,220000.0,200000.0,187000.0,159000.0,140000.0,95000.0,130000.0,155000.0,120000.0,225000.0,190000.0,166000.0,135000.0,200000.0,170000.0,228000.0,120000.0,175000.0,124000.0,140000.0,157000.0,145000.0,181000.0,135000.0,227000.0,160000.0,75000.0,133000.0,160000.0,166000.0,156000.0,162000.0,175000.0,177000.0,116000.0,184000.0,126000.0,130000.0,130000.0,163000.0,72000.0,210000.0,180000.0,160000.0,185000.0,216000.0,144000.0,190000.0,175000.0,146000.0,145000.0,215000.0,145000.0,235000.0,140000.0,145000.0,141000.0,140000.0,240000.0,150000.0,152000.0,115000.0,160000.0,160000.0,180000.0,155000.0,90000.0,243000.0,197000.0,90000.0,80000.0,85000.0,190000.0,190000.0,150000.0,150000.0,130000.0,151000.0,229000.0,175000.0,160000.0,170000.0,215000.0,245000.0,220000.0,170000.0,252000.0,178000.0,148000.0,167000.0,159000.0,135000.0,208000.0,156000.0,180000.0,175000.0,170000.0,115000.0,208000.0,145000.0,140000.0,162000.0,160000.0,179000.0,142000.0,105000.0,105000.0,205000.0,190000.0,94000.0,169000.0,125000.0,200000.0,179000.0,150000.0,135000.0,155000.0,115000.0,230000.0,144000.0,200000.0,150000.0,126000.0,195000.0,145000.0,164000.0,226000.0,175000.0,165000.0,145000.0,124000.0,208000.0,155000.0,180000.0,200000.0,180000.0,160000.0,169000.0,125000.0,155000.0,176000.0,142000.0,165000.0,170000.0,150000.0,220000.0,162000.0,154000.0,167000.0,165000.0,180000.0,244000.0,118000.0,195000.0,140000.0,85000.0,167000.0,152000.0,161000.0,150000.0,120000.0,156000.0,155000.0,120000.0,145000.0,205000.0,196000.0,135000.0,190000.0,200000.0,175000.0,100000.0,155000.0,211000.0,155000.0,195000.0,204000.0,190000.0,131000.0,150000.0,285000.0,130000.0,120000.0,180000.0,158000.0,125000.0,204000.0,195000.0,138000.0,133000.0,230000.0,120000.0,157000.0,196000.0,130000.0,100000.0,158000.0,125000.0,115000.0,137000.0,205000.0,204000.0,235000.0,250000.0,160000.0,189000.0,170000.0,207000.0,225000.0,173000.0,215000.0,269000.0,135000.0,140000.0,134000.0,219000.0,80000.0,155000.0,200000.0,162000.0,138000.0,200000.0,144000.0,206000.0,177000.0,185000.0,200000.0,169000.0,170000.0,145000.0,123000.0,95000.0,150000.0,149000.0,120000.0,215000.0,142000.0,138000.0,185000.0,130000.0,149000.0,118000.0,148000.0,170000.0,143000.0,185000.0,100000.0,220000.0,142000.0,130000.0,164000.0,167000.0,160000.0,170000.0,151000.0,100000.0,175000.0,153000.0,150000.0,163000.0,135000.0,165000.0,130000.0,184000.0,146000.0,185000.0,153000.0,246000.0,226000.0,158000.0,137000.0,95000.0,190000.0,167000.0,140000.0,160000.0,115000.0,128000.0,157000.0,180000.0,142000.0,225000.0,105000.0,160000.0,111000.0,446000.0,127000.0,155000.0,160000.0,168000.0,155000.0,185000.0,200000.0,140000.0,136000.0,125000.0,230000.0,190000.0,170000.0,141000.0,147000.0,110000.0,65000.0,110000.0,70000.0,140000.0,80000.0,80000.0,130000.0,79000.0,73000.0,160000.0,160000.0,150000.0,241000.0,82000.0,170000.0,210000.0,159000.0,170000.0,225000.0,189000.0,175000.0,185000.0,147000.0,105000.0,180000.0,137000.0,155000.0,230000.0,290000.0,390000.0,116000.0,230000.0,115000.0,138000.0,165000.0,102000.0,137000.0,170000.0,185000.0,145000.0,180000.0,186000.0,179000.0,115000.0,175000.0,155000.0,245000.0,159000.0,203000.0,200000.0,163000.0,220000.0,206000.0,93000.0,128000.0,118000.0,300000.0,67000.0,130000.0,141000.0,164000.0,147000.0,125000.0,275000.0,185000.0,120000.0,160000.0,190000.0,130000.0,122000.0,135000.0,195000.0,201000.0,91000.0,211000.0,160000.0,115000.0,153000.0,170000.0,195000.0,188000.0,165000.0,139000.0,180000.0,165000.0,210000.0,150000.0,120000.0,100000.0,185000.0,177000.0,147000.0,120000.0,135000.0,178000.0,170000.0,136000.0,159000.0,170000.0,156000.0,128000.0,141000.0,231000.0,165000.0,190000.0,210000.0,150000.0,130000.0,105000.0,150000.0,155000.0,217000.0,138000.0,180000.0,178000.0,135000.0,210000.0,135000.0,110000.0,184000.0,140000.0,156000.0,174000.0,182000.0,160000.0,102000.0,200000.0,150000.0,489000.0,142000.0,162000.0,198000.0,110000.0,105000.0,130000.0,145000.0,134000.0,165000.0,200000.0,135000.0,204000.0,175000.0,195000.0,194000.0,140000.0,120000.0,231000.0,231000.0,195000.0,110000.0,150000.0,195000.0,185000.0,161000.0,190000.0,220000.0,180000.0,155000.0,151000.0,145000.0,141000.0,190000.0,110000.0,149000.0,147000.0,160000.0,117000.0,155000.0,149000.0,191000.0,140000.0,185000.0,155000.0,205000.0,134000.0,131000.0,155000.0,147000.0,167000.0,185000.0,190000.0,130000.0,172000.0,150000.0,168000.0,170000.0,165000.0,160000.0,119000.0,155000.0,130000.0,189000.0,165000.0,143000.0,205000.0,133000.0,250000.0,173000.0,105000.0,164000.0,155000.0,171000.0,135000.0,127000.0,180000.0,164000.0,135000.0,145000.0,120000.0,230000.0,225000.0,138000.0,130000.0,160000.0,150000.0,292000.0,165000.0,154000.0,84000.0,191000.0,166000.0,125000.0,175000.0,210000.0,100000.0,210000.0,171000.0,245000.0,155000.0,175000.0,170000.0,170000.0,132000.0,155000.0,170000.0,202000.0,131000.0,175000.0,110000.0,140000.0,274000.0,182000.0,175000.0,235000.0,218000.0,230000.0,185000.0,189000.0,103000.0,156000.0,175000.0,159000.0,164000.0,184000.0,178000.0,160000.0,160000.0,200000.0,177000.0,287000.0,182000.0,210000.0,140000.0,235000.0,185000.0,180000.0,174000.0,133000.0,190000.0,125000.0,156000.0,175000.0,180000.0,205000.0,180000.0,134000.0,166000.0,198000.0,194000.0,265000.0,140000.0,103000.0,152000.0,201000.0,150000.0,130000.0,155000.0,240000.0,180000.0,140000.0,200000.0,160000.0,188000.0,152000.0,144000.0,160000.0,168000.0,134000.0,155000.0,150000.0,160000.0,99000.0,172000.0,170000.0,180000.0,194000.0,190000.0,200000.0,205000.0,170000.0,225000.0,133000.0,138000.0,137000.0,144000.0,201000.0,250000.0,121000.0,155000.0,150000.0,82000.0,193000.0,200000.0,150000.0,350000.0,205000.0,185000.0,144000.0,145000.0,155000.0,190000.0,185000.0,170000.0,191000.0,475000.0,110000.0,246000.0,103000.0,149000.0,152000.0,122000.0,192000.0,180000.0,151000.0,183000.0,145000.0,96000.0,160000.0,215000.0,175000.0,92000.0,155000.0,122000.0,130000.0,188000.0,181000.0,151000.0,145000.0,186000.0,178000.0,144000.0,140000.0,170000.0,201000.0,159000.0,135000.0,175000.0,205000.0,156000.0,180000.0,145000.0,175000.0,185000.0,142000.0,100000.0,204000.0,146000.0,105000.0,608000.0,130000.0,203000.0,196000.0,175000.0,201000.0,231000.0,110000.0,350000.0,145000.0,163000.0,210000.0,222000.0,190000.0,142000.0,108000.0,185000.0,172000.0,130000.0,128000.0,130000.0,166000.0,207000.0,162000.0,150000.0,493000.0,200000.0,180000.0,270000.0,212000.0,140000.0,197000.0,200000.0,197000.0,167000.0,123000.0,650000.0,125000.0,176000.0,140000.0,200000.0,158000.0,161000.0,120000.0,118000.0,185000.0,110000.0,125000.0,190000.0,149000.0,140000.0,137000.0,200000.0,185000.0,140000.0,126000.0,240000.0,165000.0,130000.0,137000.0,164000.0,178000.0,175000.0,155000.0,167000.0,194000.0,180000.0,205000.0,195000.0,120000.0,200000.0,158000.0,150000.0,188000.0,188000.0,137000.0,156000.0,206000.0,165000.0,142000.0,115000.0,235000.0,196000.0,170000.0,145000.0,280000.0,145000.0,137000.0,170000.0,140000.0,160000.0,131000.0,145000.0,160000.0,177000.0,184000.0,155000.0,150000.0,152000.0,165000.0,180000.0,148000.0,177000.0,175000.0,155000.0,180000.0,135000.0,148000.0,125000.0,155000.0,170000.0,180000.0,235000.0,118000.0,130000.0,130000.0,199000.0,125000.0,135000.0,226000.0,148000.0,150000.0,140000.0,148000.0,242000.0,135000.0,172000.0,171000.0,172000.0,170000.0,191000.0,225000.0,206000.0,191000.0,356000.0,240000.0,184000.0,140000.0,130000.0,220000.0,133000.0,108000.0,174000.0,130000.0,135000.0,165000.0,118000.0,142000.0,128000.0,130000.0,200000.0,230000.0,148000.0,180000.0,240000.0,170000.0,105000.0,141000.0,110000.0,191000.0,180000.0,170000.0,182000.0,168000.0,185000.0,164000.0,135000.0,176000.0,175000.0,128000.0,130000.0,150000.0,174000.0,140000.0,125000.0,500000.0,174000.0,234000.0,179000.0,190000.0,315000.0,144000.0,200000.0,134000.0,69000.0,255000.0,172000.0,168000.0,125000.0,112000.0,190000.0,140000.0,175000.0,235000.0,186000.0,210000.0,141000.0,210000.0,138000.0,83000.0,160000.0,151000.0,145000.0,220000.0,683000.0,105000.0,194000.0,170000.0,145000.0,158000.0,145000.0,169000.0,131000.0,125000.0,174000.0,180000.0,140000.0,150000.0,135000.0,185000.0,200000.0,135000.0,191000.0,182000.0,160000.0,130000.0,170000.0,161000.0,130000.0,184000.0,92000.0,240000.0,160000.0,110000.0,125000.0,165000.0,180000.0,116000.0,180000.0,90000.0,150000.0,198000.0,210000.0,175000.0,165000.0,141000.0,210000.0,172000.0,163000.0,160000.0,185000.0,150000.0,146000.0,146000.0,120000.0,135000.0,201000.0,150000.0,152000.0,136000.0,160000.0,183000.0,170000.0,130000.0,131000.0,165000.0,132000.0,140000.0,175000.0,201000.0,155000.0,140000.0,210000.0,450000.0,135000.0,200000.0,195000.0,152000.0,120000.0,125000.0,147000.0,138000.0,165000.0,135000.0,170000.0,142000.0,185000.0,135000.0,142000.0,190000.0,182000.0,142000.0,91000.0,155000.0,150000.0,125000.0,145000.0,183000.0,144000.0,145000.0,200000.0,148000.0,170000.0,145000.0,175000.0,131000.0,156000.0,202000.0,175000.0,145000.0,170000.0,128000.0,120000.0,113000.0,200000.0,271000.0,200000.0,134000.0,210000.0,205000.0,220000.0,145000.0,166000.0,135000.0,102000.0,162000.0,565000.0,170000.0,145000.0,119000.0,130000.0,200000.0,160000.0,168000.0,158000.0,205000.0,200000.0,147000.0,194000.0,100000.0,170000.0,155000.0,82000.0,120000.0,152000.0,116000.0,195000.0,210000.0,130000.0,142000.0,135000.0,105000.0,116000.0,165000.0,128000.0,190000.0,135000.0,205000.0,141000.0,165000.0,120000.0,206000.0,190000.0,130000.0,240000.0,135000.0,187000.0,150000.0,132000.0,238000.0,210000.0,137000.0,237000.0,120000.0,250000.0,217000.0,215000.0,200000.0,165000.0,137000.0,184000.0,134000.0,100000.0,250000.0,155000.0,133000.0,112000.0,125000.0,170000.0,145000.0,104000.0,173000.0,205000.0,140000.0,155000.0,120000.0,195000.0,205000.0,214000.0,70000.0,155000.0,141000.0,195000.0,185000.0,145000.0,176000.0,525000.0,116000.0,235000.0,165000.0,141000.0,240000.0,177000.0,164000.0,246000.0,193000.0,103000.0,195000.0,240000.0,187000.0,164000.0,130000.0,123000.0,500000.0,195000.0,105000.0,135000.0,100000.0,190000.0,185000.0,200000.0,190000.0,160000.0,123000.0,148000.0,140000.0,146000.0,155000.0,120000.0,150000.0,175000.0,275000.0,123000.0,131000.0,160000.0,167000.0,141000.0,175000.0,160000.0,170000.0,153000.0,78000.0,130000.0,146000.0,200000.0,420000.0,139000.0,150000.0,170000.0,167000.0,170000.0,165000.0,126000.0,100000.0,120000.0,138000.0,135000.0,450000.0,222000.0,165000.0,195000.0,170000.0,118000.0,150000.0,150000.0,210000.0,160000.0,150000.0,125000.0,135000.0,145000.0,160000.0,125000.0,165000.0,475000.0,131000.0,145000.0,169000.0,166000.0,134000.0,210000.0,134000.0,112000.0,134000.0,165000.0,160000.0,105000.0,135000.0,160000.0,135000.0,175000.0,167000.0,180000.0,145000.0,190000.0,186000.0,175000.0,650000.0,175000.0,167000.0,125000.0,180000.0,205000.0,200000.0,152000.0,125000.0,195000.0,160000.0,209000.0,172000.0,220000.0,165000.0,200000.0,155000.0,170000.0,135000.0,170000.0,176000.0,138000.0,135000.0,141000.0,185000.0,85000.0,155000.0,169000.0,165000.0,141000.0,211000.0,200000.0,178000.0,155000.0,126000.0,175000.0,120000.0,170000.0,250000.0,145000.0,121000.0,130000.0,130000.0,170000.0,125000.0,205000.0,170000.0,131000.0,230000.0,170000.0,152000.0,130000.0,130000.0,235000.0,130000.0,170000.0,180000.0,234000.0,100000.0,166000.0,145000.0,600000.0,160000.0,183000.0,184000.0,200000.0,130000.0,143000.0,200000.0,152000.0,137000.0,245000.0,151000.0,160000.0,135000.0,70000.0,167000.0,115000.0,180000.0,170000.0,260000.0,190000.0,280000.0,170000.0,185000.0,185000.0,203000.0,165000.0,190000.0,166000.0,180000.0,135000.0,893000.0,162000.0,138000.0,123000.0,165000.0,190000.0,77000.0,200000.0,235000.0,77000.0,200000.0,173000.0,120000.0,155000.0,105000.0,144000.0,160000.0,155000.0,131000.0,150000.0,140000.0,180000.0,276000.0,125000.0,165000.0,138000.0,225000.0,240000.0,160000.0,131000.0,235000.0,190000.0,170000.0,190000.0,120000.0,170000.0,130000.0,184000.0,294000.0,152000.0,141000.0,207000.0,441000.0,145000.0,157000.0,260000.0,150000.0,194000.0,135000.0,170000.0,185000.0,210000.0,204000.0,160000.0,115000.0,145000.0,191000.0,116000.0,208000.0,142000.0,165000.0,174000.0,121000.0,180000.0,130000.0,167000.0,80000.0,111000.0,211000.0,195000.0,160000.0,140000.0,125000.0,140000.0,115000.0,145000.0,180000.0,140000.0,162000.0,135000.0,160000.0,170000.0,130000.0,170000.0,107000.0,176000.0,175000.0,175000.0,134000.0,205000.0,189000.0,169000.0,245000.0,195000.0,134000.0,161000.0,215000.0,180000.0,170000.0,188000.0,225000.0,126000.0,205000.0,152000.0,133000.0,133000.0,174000.0,150000.0,240000.0,145000.0,155000.0,169000.0,178000.0,162000.0,135000.0,165000.0,145000.0,185000.0,125000.0,150000.0,200000.0,160000.0,131000.0,150000.0,206000.0,162000.0,166000.0,188000.0,250000.0,130000.0,162000.0,130000.0,153000.0,85000.0,132000.0,255000.0,155000.0,190000.0,135000.0,140000.0,198000.0,200000.0,134000.0,140000.0,167000.0,162000.0,168000.0,200000.0,175000.0,136000.0,110000.0,160000.0,270000.0,861000.0,120000.0,135000.0,185000.0,156000.0,130000.0,225000.0,148000.0,250000.0,180000.0,122000.0,200000.0,250000.0,174000.0,162000.0,200000.0,195000.0,195000.0,260000.0,149000.0,110000.0,158000.0,147000.0,175000.0,172000.0,150000.0,180000.0,111000.0,159000.0,175000.0,170000.0,145000.0,182000.0,216000.0,200000.0,230000.0,188000.0,131000.0,250000.0,175000.0,275000.0,163000.0,214000.0,175000.0,190000.0,152000.0,180000.0,140000.0,190000.0,142000.0,172000.0,140000.0,200000.0,140000.0,188000.0,145000.0,140000.0,165000.0,205000.0,168000.0,100000.0,153000.0,82000.0,175000.0,126000.0,170000.0,150000.0,165000.0,150000.0,160000.0,255000.0,100000.0,100000.0,200000.0,184000.0,175000.0,165000.0,218000.0,185000.0,175000.0,134000.0,150000.0,242000.0,151000.0,160000.0,170000.0,145000.0,189000.0,160000.0,150000.0,100000.0,150000.0,129000.0,180000.0,125000.0,150000.0,170000.0,180000.0,132000.0,116000.0,143000.0,185000.0,168000.0,150000.0,157000.0,185000.0,205000.0,130000.0,170000.0,192000.0,170000.0,115000.0,118000.0,142000.0,155000.0,122000.0,156000.0,103000.0,144000.0,130000.0,170000.0,205000.0,60000.0,150000.0,170000.0,145000.0,225000.0,143000.0,166000.0,130000.0,180000.0,225000.0,192000.0,157000.0,115000.0,225000.0,153000.0,159000.0,200000.0,230000.0,152000.0,199000.0,255000.0,148000.0,200000.0,150000.0,140000.0,142000.0,131000.0,185000.0,162000.0,130000.0,120000.0,172000.0,134000.0,173000.0,135000.0,183000.0,196000.0,134000.0,162000.0,131000.0,124000.0,110000.0,155000.0,162000.0,160000.0,170000.0,175000.0,162000.0,168000.0,100000.0,112000.0,200000.0,240000.0,203000.0,185000.0,239000.0,120000.0,157000.0,200000.0,166000.0,161000.0,135000.0,171000.0,175000.0,143000.0,118000.0,140000.0,110000.0,175000.0,68000.0,115000.0,175000.0,208000.0,155000.0,143000.0,140000.0,155000.0,150000.0,118000.0,227000.0,145000.0,180000.0,70000.0,245000.0,152000.0,140000.0,173000.0,105000.0,175000.0,155000.0,101000.0,160000.0,96000.0,138000.0,161000.0,150000.0,155000.0,132000.0,125000.0,113000.0,156000.0,207000.0,125000.0,200000.0,115000.0,138000.0,167000.0,114000.0,86000.0,179000.0,226000.0,200000.0,120000.0,155000.0,200000.0,130000.0,147000.0,139000.0,150000.0,140000.0,198000.0,250000.0,180000.0,108000.0,154000.0,180000.0,174000.0,135000.0,132000.0,149000.0,180000.0,130000.0,120000.0,177000.0,196000.0,172000.0,155000.0,90000.0,153000.0,160000.0,200000.0,207000.0,178000.0,143000.0,490000.0,237000.0,124000.0,161000.0,210000.0,144000.0,115000.0,138000.0,185000.0,210000.0,160000.0,170000.0,170000.0,201000.0,130000.0,200000.0,168000.0,100000.0,230000.0,134000.0,128000.0,200000.0,114000.0,151000.0,170000.0,120000.0,185000.0,150000.0,175000.0,374000.0,160000.0,135000.0,240000.0,245000.0,115000.0,150000.0,155000.0,250000.0,180000.0,235000.0,130000.0,140000.0,192000.0,162000.0,120000.0,175000.0,133000.0,145000.0,180000.0,280000.0,130000.0,123000.0,135000.0,137000.0,107000.0,88000.0,158000.0,158000.0,172000.0,210000.0,141000.0,155000.0,254000.0,120000.0,175000.0,136000.0,150000.0,138000.0,164000.0,155000.0,140000.0,175000.0,180000.0,480000.0,250000.0,550000.0,130000.0,270000.0,185000.0,255000.0,250000.0,206000.0,195000.0,145000.0,225000.0,168000.0,170000.0,110000.0,200000.0,153000.0,116000.0,160000.0,110000.0,212000.0,172000.0,135000.0,135000.0,138000.0,140000.0,165000.0,169000.0,129000.0,190000.0,132000.0,150000.0,230000.0,175000.0,130000.0,135000.0,225000.0,126000.0,120000.0,480000.0,165000.0,150000.0,190000.0,115000.0,200000.0,145000.0,160000.0,119000.0,200000.0,100000.0,450000.0,100000.0,175000.0,144000.0,140000.0,83000.0,136000.0,175000.0,148000.0,185000.0,176000.0,155000.0,154000.0,138000.0,125000.0,205000.0,425000.0,184000.0,190000.0,142000.0,124000.0,197000.0,131000.0,160000.0,168000.0,184000.0,200000.0,120000.0,175000.0,108000.0,130000.0,184000.0,200000.0,92000.0,118000.0,169000.0,200000.0,152000.0,120000.0,170000.0,158000.0,107000.0,220000.0,216000.0,105000.0,103000.0,175000.0,130000.0,129000.0,125000.0,172000.0,129000.0,184000.0,145000.0,150000.0,171000.0,360000.0,167000.0,163000.0,90000.0,125000.0,90000.0,128000.0,140000.0,206420.0,200000.0,130000.0,140000.0,180000.0,120000.0,120000.0,110000.0,163000.0,365000.0,160000.0,108000.0,280000.0,160000.0,180000.0,120000.0,145000.0,155000.0,380000.0,175000.0,140000.0,160000.0,165000.0,147500.0,179000.0,146000.0,155000.0,185000.0,130000.0,185000.0,132500.0,140000.0,166000.0,160000.0,375000.0,122000.0,140000.0,210000.0,125000.0,131000.0,410000.0,425000.0,147000.0,185000.0,120000.0,136000.0,124000.0,155000.0,136000.0,161000.0,145000.0,144500.0,132600.0,120000.0,150000.0,150000.0,165000.0,108000.0,121900.0,103000.0,180000.0,110000.0,131000.0,125000.0,150000.0,110000.0,112000.0,120000.0,135000.0,160000.0,160000.0,155000.0,165000.0,185000.0,170000.0,142000.0,110000.0,105000.0,250000.0,160500.0,130000.0,162000.0,110000.0,109137.0,176000.0,155000.0,125000.0,220000.0,129000.0,140000.0,170000.0,104500.0,180000.0,185000.0,160000.0,120000.0,190000.0,145000.0,182000.0,137000.0,170000.0,110000.0,124000.0,140000.0,141000.0,95000.0,145000.0,125000.0,165000.0,124000.0,158000.0,190000.0,218000.0,150000.0,145000.0,115000.0,190000.0,135000.0,170000.0,138000.0,165000.0,155000.0,155000.0,120000.0,167000.0,122000.0,193025.0,125000.0,145000.0,118000.0,150000.0,90000.0,146000.0,152000.0,180000.0,168000.0,119400.0,191000.0,117500.0,110000.0,147000.0,147000.0,122000.0,152000.0,183000.0,113000.0,189000.0,165000.0,140000.0,162000.0,155000.0],\"xaxis\":\"x\",\"yaxis\":\"y\",\"type\":\"histogram\"},{\"alignmentgroup\":\"True\",\"bingroup\":\"x\",\"hovertemplate\":\"state=WA<br>basesalary=%{x}<br>count=%{y}<extra></extra>\",\"legendgroup\":\"WA\",\"marker\":{\"color\":\"#EF553B\",\"pattern\":{\"shape\":\"\"}},\"name\":\"WA\",\"offsetgroup\":\"WA\",\"orientation\":\"v\",\"showlegend\":true,\"x\":[142000.0,118000.0,140000.0,134000.0,156000.0,160000.0,155000.0,160000.0,160000.0,145000.0,130000.0,124000.0,170000.0,134000.0,107000.0,115000.0,164000.0,162000.0,160000.0,147000.0,150000.0,141000.0,120000.0,185000.0,190000.0,145000.0,130000.0,130000.0,137000.0,125000.0,115000.0,152000.0,201000.0,108000.0,140000.0,200000.0,130000.0,94000.0,145000.0,105000.0,133000.0,160000.0,220000.0,150000.0,137000.0,150000.0,138000.0,118000.0,122000.0,132000.0,165000.0,165000.0,118000.0,146000.0,130000.0,150000.0,192000.0,145000.0,126000.0,140000.0,108000.0,145000.0,192000.0,106000.0,156000.0,132000.0,144000.0,140000.0,150000.0,119500.0,135000.0,116000.0,108000.0,110000.0,145000.0,135000.0,105000.0,108000.0,140000.0,138000.0,147000.0,119000.0,151000.0,169000.0,142000.0,145000.0,108000.0,108000.0,155000.0,150000.0,151000.0,145000.0,109000.0,135000.0,270000.0,108000.0,160000.0,177000.0,180000.0,135000.0,153000.0,153000.0,115000.0,108000.0,175000.0,118000.0,156000.0,116000.0,123000.0,123000.0,200000.0,108000.0,160000.0,145000.0,155000.0,121000.0,140000.0,120000.0,160000.0,176000.0,125000.0,175000.0,117000.0,110000.0,126000.0,134000.0,162000.0,160000.0,108000.0,290000.0,195000.0,198000.0,200000.0,110000.0,131000.0,109000.0,190000.0,117000.0,140000.0,150000.0,109000.0,120000.0,141000.0,160000.0,175000.0,155000.0,110000.0,114000.0,120000.0,146000.0,170000.0,170000.0,140000.0,142000.0,136000.0,127000.0,138000.0,120000.0,120000.0,189000.0,132000.0,220000.0,197000.0,145000.0,109000.0,108000.0,172000.0,141000.0,203000.0,109000.0,149000.0,108000.0,109000.0,185000.0,158000.0,155000.0,180000.0,115000.0,151000.0,190000.0,110000.0,138000.0,135000.0,108000.0,163000.0,150000.0,109000.0,155000.0,110000.0,140000.0,132000.0,138000.0,135000.0,108000.0,134000.0,160000.0,120000.0,220000.0,78000.0,152000.0,170000.0,189000.0,120000.0,190000.0,108000.0,100000.0,180000.0,109000.0,108000.0,108000.0,156000.0,155000.0,155000.0,150000.0,135000.0,186000.0,155000.0,185000.0,155000.0,180000.0,130000.0,154000.0,91000.0,108000.0,130000.0,180000.0,108000.0,181000.0,145000.0,140000.0,122000.0,155000.0,147000.0,125000.0,175000.0,210000.0,200000.0,128000.0,170000.0,160000.0,120000.0,120000.0,160000.0,108000.0,150000.0,108000.0,121000.0,170000.0,118000.0,190000.0,155000.0,205000.0,124000.0,114000.0,124000.0,114000.0,230000.0,125000.0,161000.0,132000.0,150000.0,144000.0,150000.0,180000.0,220000.0,187000.0,157000.0,160000.0,130000.0,153000.0,101000.0,130000.0,145000.0,141000.0,160000.0,150000.0,117000.0,131000.0,230000.0,134000.0,124000.0,145000.0,177000.0,200000.0,138000.0,135000.0,120000.0,141000.0,183000.0,140000.0,160000.0,165000.0,125000.0,123000.0,125000.0,109000.0,178000.0,105000.0,140000.0,190000.0,116000.0,108000.0,134000.0,109000.0,140000.0,176000.0,180000.0,116000.0,185000.0,116000.0,155000.0,133000.0,109000.0,90000.0,185000.0,114000.0,180000.0,210000.0,144000.0,120000.0,185000.0,109000.0,132000.0,108000.0,140000.0,148000.0,115000.0,155000.0,135000.0,125000.0,171000.0,122000.0,109000.0,180000.0,109000.0,180000.0,158000.0,180000.0,186000.0,135000.0,115000.0,165000.0,180000.0,130000.0,165000.0,160000.0,150000.0,110000.0,114000.0,132000.0,169000.0,155000.0,130000.0,162000.0,132000.0,178000.0,135000.0,120000.0,110000.0,132000.0,160000.0,170000.0,157000.0,185000.0,105000.0,109000.0,140000.0,150000.0,117000.0,180000.0,230000.0,230000.0,130000.0,130000.0,160000.0,117000.0,140000.0,171000.0,147000.0,143000.0,183000.0,150000.0,147000.0,136000.0,109000.0,125000.0,190000.0,170000.0,108000.0,116000.0,177000.0,160000.0,137000.0,202000.0,120000.0,108000.0,118000.0,215000.0,173000.0,195000.0,145000.0,145000.0,165000.0,150000.0,108000.0,177000.0,185000.0,108000.0,130000.0,160000.0,175000.0,118000.0,131000.0,180000.0,108000.0,195000.0,144000.0,120000.0,150000.0,160000.0,104000.0,147000.0,165000.0,109000.0,160000.0,156000.0,174000.0,133000.0,117000.0,142000.0,155000.0,242000.0,242000.0,102000.0,129000.0,150000.0,150000.0,108000.0,157000.0,160000.0,165000.0,115000.0,109000.0,150000.0,160000.0,121000.0,112000.0,125000.0,143000.0,130000.0,186000.0,125000.0,135000.0,160000.0,158000.0,108000.0,150000.0,155000.0,140000.0,125000.0,145000.0,142000.0,144000.0,117000.0,140000.0,134000.0,135000.0,146000.0,185000.0,185000.0,165000.0,153000.0,125000.0,140000.0,109000.0,150000.0,180000.0,131000.0,150000.0,150000.0,152000.0,215000.0,128000.0,147000.0,130000.0,138000.0,108000.0,165000.0,144000.0,190000.0,148000.0,105000.0,130000.0,107000.0,123000.0,149000.0,147000.0,160000.0,180000.0,109000.0,130000.0,152000.0,100000.0,135000.0,109000.0,157000.0,150000.0,131000.0,112000.0,185000.0,109000.0,170000.0,147000.0,147000.0,128000.0,118000.0,106000.0,155000.0,142000.0,192000.0,108000.0,140000.0,160000.0,109000.0,160000.0,140000.0,165000.0,130000.0,135000.0,250000.0,265000.0,142000.0,155000.0,151000.0,172000.0,210000.0,125000.0,162000.0,134000.0,166000.0,117000.0,109000.0,145000.0,165000.0,185000.0,126000.0,135000.0,117000.0,108000.0,109000.0,143000.0,138000.0,200000.0,110000.0,116000.0,186000.0,122000.0,160000.0,115000.0,122000.0,151000.0,120000.0,130000.0,135000.0,146000.0,123000.0,139000.0,109000.0,108000.0,140000.0,145000.0,161000.0,150000.0,120000.0,145000.0,150000.0,162000.0,117000.0,110000.0,195000.0,110000.0,140000.0,130000.0,130000.0,109000.0,210000.0,140000.0,135000.0,260000.0,124000.0,170000.0,155000.0,120000.0,160000.0,170000.0,150000.0,160000.0,156000.0,240000.0,137000.0,167000.0,153000.0,113000.0,125000.0,175000.0,154000.0,150000.0,152000.0,160000.0,105000.0,125000.0,146000.0,92000.0,92000.0,230000.0,116000.0,142000.0,145000.0,139000.0,135000.0,203000.0,150000.0,140000.0,155000.0,160000.0,150000.0,195000.0,155000.0,180000.0,150000.0,185000.0,190000.0,135000.0,180000.0,165000.0,135000.0,135000.0,160000.0,132000.0,108000.0,200000.0,175000.0,123000.0,198000.0,200000.0,177000.0,117000.0,160000.0,130000.0,152000.0,127000.0,240000.0,113000.0,170000.0,158000.0,130000.0,130000.0,152000.0,175000.0,124000.0,138000.0,143000.0,180000.0,141000.0,149000.0,131000.0,86000.0,138000.0,139000.0,150000.0,126000.0,185000.0,145000.0,136000.0,132000.0,162000.0,130000.0,185000.0,130000.0,162000.0,150000.0,150000.0,109000.0,136000.0,155000.0,110000.0,145000.0,120000.0,200000.0,138000.0,140000.0,176000.0,155000.0,130000.0,113000.0,137000.0,135000.0,150000.0,110000.0,156000.0,156000.0,160000.0,155000.0,150000.0,147000.0,133000.0,145000.0,170000.0,175000.0,156000.0,108000.0,120000.0,180000.0,156000.0,200000.0,108000.0,144000.0,120000.0,180000.0,116000.0,130000.0,117000.0,108000.0,124000.0,138000.0,140000.0,129000.0,134000.0,82000.0,152000.0,154000.0,185000.0,161000.0,144000.0,140000.0,140000.0,107000.0,184000.0,155000.0,154000.0,160000.0,108000.0,141000.0,140000.0,130000.0,150000.0,205000.0,140000.0,137000.0,115000.0,108000.0,145000.0,120000.0,162000.0,139000.0,130000.0,136000.0,128000.0,160000.0,174000.0,200000.0,148000.0,145000.0,165000.0,145000.0,140000.0,125000.0,180000.0,144000.0,180000.0,84000.0,105000.0,130000.0,117000.0,135000.0,126000.0,180000.0,140000.0,190000.0,122000.0,107000.0,139000.0,142000.0,154000.0,145000.0,121000.0,140000.0,178000.0,115000.0,150000.0,115000.0,150000.0,190000.0,146000.0,220000.0,138000.0,192000.0,72000.0,233000.0,154000.0,118000.0,150000.0,122000.0,145000.0,145000.0,150000.0,200000.0,150000.0,120000.0,150000.0,218000.0,205000.0,109000.0,174000.0,170000.0,150000.0,160000.0,170000.0,190000.0,200000.0,150000.0,156000.0,145000.0,210000.0,115000.0,153000.0,140000.0,180000.0,205000.0,106000.0,145000.0,160000.0,124000.0,149000.0,120000.0,119000.0,267000.0,108000.0,117000.0,212000.0,107000.0,161000.0,129000.0,117000.0,160000.0,160000.0,155000.0,130000.0,134000.0,154000.0,134000.0,130000.0,155000.0,145000.0,140000.0,147000.0,120000.0,122000.0,160000.0,129000.0,100000.0,129000.0,137000.0,150000.0,190000.0,175000.0,137000.0,200000.0,138000.0,117000.0,160000.0,160000.0,160000.0,142000.0,213000.0,109000.0,185000.0,175000.0,164000.0,137000.0,67000.0,160000.0,141000.0,135000.0,156000.0,117000.0,88000.0,141000.0,134000.0,95000.0,117000.0,135000.0,150000.0,55000.0,130000.0,145000.0,150000.0,157000.0,240000.0,143000.0,175000.0,136000.0,135000.0,115000.0,125000.0,130000.0,149000.0,151000.0,150000.0,149000.0,171000.0,135000.0,117000.0,180000.0,108000.0,125000.0,125000.0,143000.0,150000.0,125000.0,118000.0,200000.0,132000.0,142000.0,200000.0,180000.0,144000.0,135000.0,112000.0,156000.0,200000.0,150000.0,120000.0,100000.0,110000.0,156000.0,141000.0,155000.0,160000.0,145000.0,109000.0,160000.0,156000.0,187000.0,145000.0,155000.0,142000.0,120000.0,138000.0,146000.0,135000.0,153000.0,175000.0,130000.0,135000.0,135000.0,163000.0,153000.0,150000.0,144000.0,127000.0,160000.0,150000.0,140000.0,160000.0,195000.0,140000.0,130000.0,130000.0,132000.0,144000.0,174000.0,180000.0,135000.0,142000.0,134000.0,162000.0,110000.0,156000.0,130000.0,130000.0,205000.0,212000.0,160000.0,180000.0,110000.0,118000.0,169000.0,175000.0,135000.0,115000.0,160000.0,110000.0,155000.0,130000.0,140000.0,135000.0,200000.0,280000.0,137000.0,142000.0,156000.0,140000.0,160000.0,109000.0,145000.0,138000.0,155000.0,108000.0,155000.0,160000.0,150000.0,215000.0,175000.0,109000.0,120000.0,131000.0,185000.0,110000.0,167000.0,160000.0,161000.0,133000.0,120000.0,108000.0,110000.0,160000.0,153000.0,118000.0,183000.0,140000.0,126000.0,153000.0,110000.0,159000.0,110000.0,177000.0,108000.0,170000.0,146000.0,130000.0,110000.0,140000.0,190000.0,132000.0,180000.0,139000.0,109000.0,150000.0,187000.0,110000.0,162000.0,127000.0,200000.0,132000.0,111000.0,135000.0,109000.0,154000.0,115000.0,135000.0,172000.0,196000.0,195000.0,146000.0,157000.0,200000.0,196000.0,115000.0,152000.0,154000.0,121000.0,166000.0,131000.0,140000.0,131000.0,124000.0,110000.0,110000.0,142000.0,175000.0,180000.0,205000.0,199000.0,72000.0,150000.0,134000.0,112000.0,113000.0,126000.0,125000.0,112000.0,130000.0,145000.0,142000.0,135000.0,122000.0,135000.0,200000.0,120000.0,192000.0,144000.0,165000.0,142000.0,112000.0,220000.0,145000.0,190000.0,187000.0,154000.0,213000.0,153000.0,105000.0,112000.0,117000.0,143000.0,140000.0,150000.0,125000.0,110000.0,130000.0,153000.0,117000.0,200000.0,190000.0,130000.0,143000.0,140000.0,170000.0,140000.0,160000.0,110000.0,137000.0,153000.0,159000.0,112000.0,116000.0,130000.0,200000.0,107000.0,155000.0,150000.0,109000.0,112000.0,130000.0,120000.0,120000.0,147000.0,154000.0,133000.0,150000.0,93000.0,110000.0,155000.0,225000.0,140000.0,135000.0,112000.0,215000.0,101000.0,174000.0,200000.0,135000.0,152000.0,129000.0,108000.0,200000.0,146000.0,83000.0,195000.0,177000.0,142000.0,158000.0,168000.0,275000.0,125000.0,200000.0,165000.0,183000.0,157000.0,152000.0,135000.0,109000.0,155000.0,107000.0,180000.0,222000.0,155000.0,110000.0,105000.0,180000.0,140000.0,162000.0,137000.0,123000.0,137000.0,155000.0,142000.0,160000.0,120000.0,108000.0,150000.0,148000.0,155000.0,174000.0,150000.0,130000.0,195000.0,185000.0,200000.0,117000.0,230000.0,127000.0,115000.0,176000.0,163000.0,120000.0,147000.0,160000.0,132000.0,145000.0,187000.0,152000.0,136000.0,108000.0,110000.0,130000.0,155000.0,145000.0,157000.0,115000.0,155000.0,110000.0,157000.0,141000.0,170000.0,133000.0,80000.0,126000.0,170000.0,160000.0,142000.0,190000.0,163000.0,175000.0,109000.0,119000.0,156000.0,145000.0,165000.0,155000.0,120000.0,110000.0,130000.0,180000.0,87000.0,138000.0,195000.0,127000.0,130000.0,125000.0,110000.0,112000.0,112000.0,185000.0,112000.0,255000.0,140000.0,118000.0,117000.0,212000.0,155000.0,106000.0,117000.0,108000.0,123000.0,112000.0,160000.0,112000.0,112000.0,143000.0,143000.0,112000.0,160000.0,135000.0,255000.0,117000.0,140000.0,160000.0,150000.0,110000.0,120000.0,108000.0,250000.0,144000.0,120000.0,110000.0,128000.0,150000.0,190000.0,118000.0,150000.0,112000.0,205000.0,160000.0,130000.0,142000.0,135000.0,112000.0,152000.0,127000.0,112000.0,140000.0,112000.0,143000.0,112000.0,110000.0,105000.0,144000.0,155000.0,112000.0,110000.0,112000.0,112000.0,121000.0,138000.0,105000.0,215000.0,112000.0,175000.0,116000.0,149000.0,144000.0,137000.0,133000.0,200000.0,172000.0,112000.0,120000.0,150000.0,112000.0,130000.0,150000.0,110000.0,112000.0,130000.0,155000.0,112000.0,134000.0,219000.0,137000.0,120000.0,160000.0,110000.0,122000.0,137000.0,112000.0,110000.0,118000.0,150000.0,154000.0,205000.0,110000.0,120000.0,152000.0,103000.0,108000.0,150000.0,170000.0,180000.0,146000.0,160000.0,150000.0,110000.0,112000.0,110000.0,90000.0,148000.0,108000.0,156000.0,110000.0,120000.0,175000.0,142000.0,205000.0,130000.0,148000.0,205000.0,131000.0,155000.0,110000.0,150000.0,136000.0,160000.0,160000.0,109000.0,130000.0,190000.0,120000.0,112000.0,140000.0,110000.0,141000.0,121000.0,108000.0,120000.0,104000.0,155000.0,170000.0,108000.0,145000.0,132000.0,160000.0,160000.0,140000.0,120000.0,180000.0,112000.0,108000.0,125000.0,112000.0,150000.0,150000.0,148000.0,105000.0,128000.0,110000.0,110000.0,165000.0,108000.0,145000.0,153000.0,120000.0,115000.0,110000.0,160000.0,115000.0,100000.0,142000.0,105000.0,154000.0,140000.0,135000.0,80000.0,112000.0,155000.0,140000.0,110000.0,171000.0,110000.0,120000.0,118000.0,118000.0,118000.0,158000.0,189000.0,151000.0,110000.0,110000.0,210000.0,112000.0,130000.0,160000.0,123000.0,123000.0,120000.0,150000.0,110000.0,155000.0,118000.0,110000.0,145000.0,145000.0,110000.0,175000.0,112000.0,110000.0,135000.0,165000.0,110000.0,112000.0,155000.0,280000.0,115000.0,114000.0,93000.0,135000.0,142000.0,145000.0,150000.0,112000.0,140000.0,220000.0,110000.0,160000.0,162000.0,180000.0,225000.0,325000.0,129000.0,140000.0,145000.0,112000.0,121000.0,132000.0,142000.0,124000.0,125000.0,140000.0,108000.0,131000.0,131000.0,134000.0,115000.0,115000.0,108000.0,110000.0,215000.0,131000.0,110000.0,110000.0,125000.0,160000.0,137000.0,113000.0,145000.0,175000.0,165000.0,110000.0,110000.0,131000.0,208000.0,133000.0,121000.0,150000.0,118000.0,126000.0,135000.0,130000.0,118000.0,123000.0,120000.0,103000.0,135000.0,112000.0,150000.0,112000.0,130000.0,157000.0,160000.0,104000.0,200000.0,145000.0,155000.0,175000.0,110000.0,160000.0,145000.0,110000.0,146000.0,115000.0,120000.0,110000.0,125000.0,110000.0,190000.0,110000.0,110000.0,130000.0,120000.0,180000.0,199000.0,112000.0,175000.0,131000.0,140000.0,150000.0,135000.0,144000.0,220000.0,160000.0,109000.0,120000.0,112000.0,108000.0,150000.0,112000.0,113000.0,165000.0,118000.0,205000.0,195000.0,185000.0,117000.0,170000.0,108000.0,150000.0,169000.0,160000.0,110000.0,170000.0,110000.0,110000.0,125000.0,152000.0,160000.0,160000.0,120000.0,154000.0,160000.0,110000.0,125000.0,133000.0,112000.0,137000.0,238000.0,120000.0,140000.0,160000.0,118000.0,170000.0,110000.0,110000.0,110000.0,123000.0,118000.0,126000.0,110000.0,140000.0,117000.0,138000.0,137000.0,120000.0,109000.0,133000.0,145000.0,125000.0,150000.0,139000.0,150000.0,118000.0,130000.0,110000.0,108000.0,125000.0,112000.0,130000.0,112000.0,123000.0,157000.0,140000.0,118000.0,155000.0,240000.0,110000.0,72000.0,110000.0,193000.0,108000.0,120000.0,170000.0,110000.0,175000.0,115000.0,155000.0,135000.0,126000.0,195000.0,150000.0,127000.0,179000.0,118000.0,110000.0,135000.0,130000.0,135000.0,175000.0,192000.0,205000.0,110000.0,210000.0,162000.0,170000.0,119000.0,110000.0,132000.0,112000.0,160000.0,152000.0,158000.0,112000.0,154000.0,112000.0,160000.0,165000.0,141000.0,185000.0,156000.0,110000.0,160000.0,136000.0,115000.0,134000.0,160000.0,200000.0,159000.0,144000.0,150000.0,225000.0,147000.0,122000.0,120000.0,143000.0,130000.0,113000.0,144000.0,122000.0,93000.0,112000.0,112000.0,131000.0,200000.0,112000.0,120000.0,178000.0,130000.0,145000.0,138000.0,110000.0,135000.0,122000.0,160000.0,180000.0,185000.0,270000.0,119000.0,130000.0,150000.0,144000.0,260000.0,250000.0,147000.0,160000.0,161000.0,165000.0,225000.0,155000.0,112000.0,112000.0,160000.0,150000.0,210000.0,112000.0,160000.0,160000.0,124000.0,112000.0,144000.0,118000.0,135000.0,160000.0,183000.0,138000.0,147000.0,164000.0,120000.0,110000.0,156000.0,140000.0,160000.0,150000.0,129000.0,125000.0,160000.0,110000.0,107000.0,108000.0,152000.0,125000.0,142000.0,160000.0,137000.0,160000.0,144000.0,125000.0,112000.0,169000.0,117000.0,129000.0,113000.0,151000.0,142000.0,162000.0,145000.0,146000.0,150000.0,160000.0,108000.0,201000.0,137000.0,165000.0,140000.0,144000.0,134000.0,240000.0,152000.0,127000.0,150000.0,109000.0,200000.0,150000.0,145000.0,140000.0,136000.0,130000.0,112000.0,146000.0,145000.0,143000.0,122000.0,158000.0,134000.0,160000.0,150000.0,108000.0,211000.0,112000.0,109000.0,210000.0,127000.0,195000.0,112000.0,155000.0,128000.0,164000.0,135000.0,125000.0,168000.0,134000.0,107000.0,130000.0,133000.0,115000.0,135000.0,150000.0,92000.0,112000.0,105000.0,147000.0,123000.0,164000.0,200000.0,108000.0,142000.0,108000.0,154000.0,160000.0,109000.0,160000.0,154000.0,160000.0,210000.0,157000.0,155000.0,135000.0,175000.0,120000.0,150000.0,143000.0,150000.0,190000.0,142000.0,120000.0,121000.0,175000.0,142000.0,121000.0,160000.0,167000.0,118000.0,146000.0,135000.0,150000.0,155000.0,139000.0,118000.0,112000.0,170000.0,150000.0,199000.0,108000.0,150000.0,140000.0,132000.0,121000.0,190000.0,133000.0,152000.0,106000.0,107000.0,198000.0,145000.0,190000.0,145000.0,157000.0,120000.0,131000.0,112000.0,116000.0,132000.0,110000.0,163000.0,109000.0,140000.0,250000.0,158000.0,142000.0,180000.0,150000.0,189000.0,150000.0,210000.0,188000.0,125000.0,205000.0,195000.0,172000.0,185000.0,115000.0,95000.0,143000.0,156000.0,131000.0,120000.0,140000.0,108000.0,160000.0,180000.0,100000.0,142000.0,200000.0,160000.0,154000.0,150000.0,140000.0,145000.0,123000.0,123000.0,142000.0,210000.0,138000.0,180000.0,199000.0,133000.0,111000.0,134000.0,110000.0,195000.0,130000.0,157000.0,120000.0,118000.0,100000.0,170000.0,117000.0,125000.0,145000.0,113000.0,148000.0,110000.0,183000.0,160000.0,157000.0,165000.0,131000.0,155000.0,120000.0,180000.0,180000.0,125000.0,120000.0,123000.0,100000.0,140000.0,150000.0,200000.0,168000.0,170000.0,160000.0,116000.0,135000.0,135000.0,108000.0,112000.0,130000.0,150000.0,120000.0,135000.0,142000.0,175000.0,149000.0,134000.0,100000.0,135000.0,140000.0,148000.0,150000.0,175000.0,105000.0,135000.0,120000.0,155000.0,135000.0,160000.0,182000.0,150000.0,112000.0,153000.0,140000.0,124000.0,136000.0,109000.0,142000.0,130000.0,140000.0,160000.0,130000.0,150000.0,150000.0,160000.0,170000.0,134000.0,160000.0,165000.0,123000.0,185000.0,130000.0,137000.0,113000.0,105000.0,160000.0,105000.0,123000.0,180000.0,150000.0,165000.0,188000.0,155000.0,100000.0,240000.0,120000.0,200000.0,142000.0,160000.0,146000.0,142000.0,135000.0,159000.0,137000.0,180000.0,130000.0,145000.0,125000.0,112000.0,215000.0,142000.0,109000.0,167000.0,94000.0,137000.0,120000.0,180000.0,119000.0,123000.0,146000.0,155000.0,137000.0,116000.0,189000.0,140000.0,131000.0,145000.0,265000.0,152000.0,191000.0,112000.0,155000.0,125000.0,150000.0,141000.0,138000.0,163000.0,155000.0,129000.0,130000.0,230000.0,120000.0,225000.0,155000.0,105000.0,112000.0,120000.0,122000.0,245000.0,235000.0,136000.0,162000.0,93000.0,165000.0,117000.0,137000.0,155000.0,163000.0,115000.0,130000.0,145000.0,154000.0,250000.0,180000.0,109000.0,113000.0,120000.0,106000.0,130000.0,110000.0,108000.0,134000.0,135000.0,142000.0,230000.0,147000.0,110000.0,160000.0,135000.0,180000.0,180000.0,130000.0,148000.0,227000.0,226000.0,140000.0,160000.0,170000.0,145000.0,140000.0,166000.0,110000.0,132000.0,120000.0,160000.0,180000.0,115000.0,145000.0,167000.0,165000.0,123000.0,135000.0,114000.0,130000.0,226000.0,130000.0,160000.0,160000.0,165000.0,110000.0,152000.0,121000.0,149000.0,210000.0,190000.0,174000.0,170000.0,203000.0,163000.0,150000.0,164000.0,110000.0,108000.0,123000.0,165000.0,161000.0,147000.0,110000.0,120000.0,132000.0,121000.0,170000.0,204000.0,145000.0,159000.0,160000.0,108000.0,142000.0,165000.0,160000.0,112000.0,110000.0,92000.0,135000.0,158000.0,125000.0,130000.0,112000.0,130000.0,137000.0,142000.0,142000.0,130000.0,110000.0,145000.0,160000.0,140000.0,128000.0,280000.0,200000.0,145000.0,110000.0,110000.0,135000.0,120000.0,120000.0,173000.0,178000.0,158000.0,130000.0,144000.0,185000.0,122000.0,108000.0,120000.0,140000.0,140000.0,130000.0,130000.0,137000.0,180000.0,162000.0,107000.0,156000.0,190000.0,140000.0,107000.0,155000.0,142000.0,135000.0,118000.0,160000.0,135000.0,134000.0,190000.0,134000.0,128000.0,120000.0,137000.0,130000.0,127000.0,161000.0,137000.0,160000.0,130000.0,140000.0,160000.0,140000.0,164000.0,93000.0,135000.0,130000.0,124000.0,130000.0,157000.0,156000.0,200000.0,122000.0,210000.0,137000.0,152000.0,163000.0,148000.0,117000.0,137000.0,110000.0,110000.0,165000.0,155000.0,130000.0,140000.0,154000.0,110000.0,120000.0,130000.0,153000.0,121000.0,145000.0,120000.0,180000.0,140000.0,137000.0,110000.0,200000.0,140000.0,130000.0,147000.0,172000.0,130000.0,175000.0,140000.0,130000.0,134000.0,160000.0,192000.0,120000.0,220000.0,150000.0,140000.0,205000.0,160000.0,167000.0,161000.0,210000.0,186000.0,112000.0,160000.0,133000.0,110000.0,140000.0,120000.0,112000.0,144000.0,135000.0,160000.0,130000.0,117000.0,118000.0,109000.0,110000.0,170000.0,146000.0,160000.0,144000.0,150000.0,120000.0,149000.0,230000.0,152000.0,149000.0,139000.0,118000.0,152000.0,138000.0,108000.0,157000.0,145000.0,147000.0,148000.0,167000.0,116000.0,130000.0,125000.0,106000.0,150000.0,160000.0,155000.0,164000.0,155000.0,160000.0,158000.0,167000.0,135000.0,151000.0,240000.0,110000.0,145000.0,132000.0,139000.0,160000.0,150000.0,127000.0,146000.0,145000.0,135000.0,160000.0,225000.0,138000.0,133000.0,120000.0,142000.0,152000.0,125000.0,140000.0,130000.0,153000.0,130000.0,140000.0,109000.0,156000.0,148000.0,120000.0,165000.0,220000.0,195000.0,240000.0,118000.0,143000.0,144000.0,157000.0,137000.0,145000.0,200000.0,148000.0,130000.0,130000.0,200000.0,155000.0,108000.0,160000.0,142000.0,230000.0,147000.0,157000.0,131000.0,145000.0,132000.0,146000.0,190000.0,108000.0,130000.0,165000.0,110000.0,190000.0,108000.0,134000.0,160000.0,230000.0,142000.0,152000.0,210000.0,160000.0,151000.0,130000.0,160000.0,172000.0,155000.0,152000.0,130000.0,140000.0,123000.0,144000.0,150000.0,145000.0,128000.0,120000.0,109000.0,149000.0,130000.0,117000.0,143000.0,160000.0,142000.0,128000.0,200000.0,144000.0,125000.0,129000.0,190000.0,112000.0,135000.0,150000.0,135000.0,112000.0,117000.0,122000.0,120000.0,190000.0,163000.0,116000.0,170000.0,235000.0,110000.0,174000.0,147000.0,195000.0,232000.0,130000.0,160000.0,128000.0,145000.0,110000.0,171000.0,110000.0,124000.0,129000.0,152000.0,200000.0,193000.0,195000.0,165000.0,160000.0,122000.0,152000.0,118000.0,150000.0,122000.0,135000.0,160000.0,140000.0,144000.0,110000.0,103000.0,205000.0,133000.0,109000.0,130000.0,151000.0,144000.0,175000.0,153000.0,160000.0,125000.0,125000.0,144000.0,150000.0,135000.0,110000.0,110000.0,175000.0,165000.0,155000.0,147000.0,202000.0,149000.0,109000.0,140000.0,115000.0,116000.0,135000.0,196000.0,157000.0,149000.0,170000.0,214000.0,110000.0,120000.0,160000.0,155000.0,175000.0,139000.0,125000.0,128000.0,82000.0,133000.0,155000.0,129000.0,108000.0,130000.0,155000.0,165000.0,121000.0,120000.0,160000.0,155000.0,120000.0,172000.0,144000.0,118000.0,145000.0,120000.0,155000.0,220000.0,140000.0,185000.0,160000.0,145000.0,132000.0,150000.0,166000.0,122000.0,128000.0,130000.0,148000.0,118000.0,210000.0,157000.0,132000.0,130000.0,130000.0,160000.0,150000.0,112000.0,126000.0,108000.0,185000.0,145000.0,137000.0,125000.0,157000.0,112000.0,123000.0,144000.0,143000.0,145000.0,152000.0,180000.0,106000.0,110000.0,123000.0,160000.0,160000.0,120000.0,160000.0,153000.0,130000.0,142000.0,118000.0,145000.0,127000.0,146000.0,126000.0,127000.0,129000.0,118000.0,194000.0,170000.0,151000.0,125000.0,154000.0,112000.0,160000.0,170000.0,160000.0,112000.0,132000.0,125000.0,160000.0,145000.0,193000.0,162000.0,130000.0,138000.0,133000.0,137000.0,140000.0,122000.0,132000.0,118000.0,150000.0,130000.0,115000.0,162000.0,110000.0,193000.0,217000.0,120000.0,175000.0,160000.0,130000.0,125000.0,170000.0,160000.0,167000.0,198000.0,149000.0,178000.0,153000.0,130000.0,200000.0,144000.0,185000.0,190000.0,121000.0,185000.0,120000.0,195000.0,150000.0,115000.0,110000.0,164000.0,108000.0,140000.0,160000.0,150000.0,160000.0,130000.0,170000.0,160000.0,160000.0,148000.0,170000.0,200000.0,130000.0,112000.0,200000.0,130000.0,140000.0,145000.0,180000.0,160000.0,143000.0,131000.0,201000.0,130000.0,130000.0,108000.0,118000.0,167000.0,170000.0,160000.0,130000.0,109000.0,139000.0,160000.0,238000.0,123000.0,129000.0,140000.0,110000.0,189000.0,118000.0,129000.0,140000.0,145000.0,120000.0,191000.0,145000.0,199000.0,167000.0,190000.0,115000.0,200000.0,126000.0,150000.0,150000.0,130000.0,130000.0,150000.0,157000.0,165000.0,112000.0,126000.0,181000.0,120000.0,108000.0,125000.0,165000.0,155000.0,149000.0,138000.0,118000.0,145000.0,160000.0,147000.0,160000.0,260000.0,130000.0,143000.0,160000.0,164000.0,190000.0,120000.0,158000.0,155000.0,140000.0,240000.0,155000.0,120000.0,117000.0,160000.0,165000.0,110000.0,135000.0,192000.0,145000.0,150000.0,160000.0,112000.0,145000.0,159000.0,138000.0,145000.0,160000.0,160000.0,154000.0,157000.0,160000.0,173000.0,120000.0,121000.0,129000.0,133000.0,150000.0,150000.0,200000.0,180000.0,162000.0,110000.0,110000.0,144000.0,133000.0,144000.0,152000.0,160000.0,175000.0,209000.0,146000.0,160000.0,145000.0,154000.0,152000.0,189000.0,112000.0,135000.0,103000.0,162000.0,89000.0,127000.0,122000.0,160000.0,135000.0,135000.0,123000.0,160000.0,175000.0,169000.0,152000.0,120000.0,124000.0,164000.0,160000.0,150000.0,110000.0,153000.0,210000.0,135000.0,165000.0,140000.0,150000.0,140000.0,137000.0,145000.0,155000.0,144000.0,180000.0,140000.0,151000.0,130000.0,140000.0,110000.0,120000.0,122000.0,121000.0,155000.0,156000.0,89000.0,112000.0,160000.0,170000.0,145000.0,175000.0,125000.0,112000.0,200000.0,179000.0,160000.0,163000.0,127000.0,217000.0,144000.0,220000.0,205000.0,147000.0,175000.0,160000.0,144000.0,150000.0,160000.0,112000.0,145000.0,160000.0,160000.0,140000.0,119000.0,133000.0,231000.0,150000.0,84000.0,150000.0,180000.0,146000.0,155000.0,150000.0,225000.0,140000.0,139000.0,185000.0,148000.0,129000.0,145000.0,178000.0,137000.0,140000.0,160000.0,160000.0,155000.0,130000.0,205000.0,168000.0,115000.0,108000.0,190000.0,155000.0,116000.0,88000.0,160000.0,137000.0,152000.0,120000.0,144000.0,155000.0,145000.0,110000.0,128000.0,129000.0,150000.0,137000.0,125000.0,145000.0,125000.0,131000.0,118000.0,125000.0,216000.0,162000.0,180000.0,200000.0,149000.0,145000.0,130000.0,130000.0,140000.0,158000.0,121000.0,159000.0,231000.0,153000.0,158000.0,140000.0,135000.0,125000.0,135000.0,125000.0,145000.0,150000.0,155000.0,189000.0,173000.0,138000.0,145000.0,142000.0,160000.0,157000.0,145000.0,140000.0,115000.0,185000.0,138000.0,122000.0,111000.0,130000.0,160000.0,135000.0,180000.0,97000.0,160000.0,128000.0,143000.0,118000.0,261000.0,112000.0,159000.0,128000.0,160000.0,185000.0,200000.0,111000.0,145000.0,153000.0,160000.0,120000.0,160000.0,160000.0,130000.0,116000.0,181000.0,125000.0,158000.0,116000.0,160000.0,195000.0,195000.0,160000.0,108000.0,215000.0,131000.0,155000.0,112000.0,99000.0,127000.0,111000.0,144000.0,125000.0,132000.0,128000.0,158000.0,132000.0,134000.0,265000.0,175000.0,194000.0,114000.0,116000.0,145000.0,155000.0,128000.0,200000.0,120000.0,144000.0,133000.0,132000.0,182000.0,121000.0,130000.0,190000.0,121000.0,156000.0,115000.0,157000.0,147000.0,129000.0,158000.0,153000.0,116000.0,214000.0,136000.0,110000.0,200000.0,145000.0,110000.0,116000.0,132000.0,130000.0,118000.0,166000.0,137000.0,155000.0,158000.0,129000.0,170000.0,111000.0,110000.0,195000.0,154000.0,153000.0,174000.0,144000.0,140000.0,180000.0,144000.0,153000.0,125000.0,127000.0,175000.0,118000.0,127000.0,135000.0,125000.0,210000.0,150000.0,140000.0,110000.0,130000.0,118000.0,134000.0,140000.0,142000.0,119000.0,202000.0,108000.0,165000.0,116000.0,129000.0,140000.0,133000.0,135000.0,131000.0,147000.0,135000.0,150000.0,155000.0,136000.0,150000.0,131000.0,159000.0,153000.0,131000.0,118000.0,153000.0,185000.0,161000.0,155000.0,157000.0,125000.0,160000.0,150000.0,149000.0,139000.0,140000.0,140000.0,138000.0,153000.0,126000.0,182000.0,141000.0,116000.0,128000.0,142000.0,142000.0,150000.0,119000.0,117000.0,149000.0,161000.0,116000.0,150000.0,155000.0,162000.0,163000.0,270000.0,176000.0,122000.0,116000.0,146000.0,109000.0,178000.0,147000.0,157000.0,142000.0,132000.0,150000.0,120000.0,168000.0,110000.0,188000.0,155000.0,150000.0,196000.0,178000.0,112000.0,110000.0,128000.0,134000.0,152000.0,185000.0,131000.0,111000.0,123000.0,141000.0,147000.0,110000.0,118000.0,191000.0,150000.0,141000.0,140000.0,135000.0,152000.0,120000.0,116000.0,158000.0,159000.0,210000.0,110000.0,164000.0,239000.0,238000.0,168000.0,144000.0,158000.0,161000.0,149000.0,110000.0,149000.0,140000.0,144000.0,161000.0,112000.0,160000.0,171000.0,177000.0,113000.0,115000.0,118000.0,150000.0,230000.0,129000.0,190000.0,141000.0,173000.0,174000.0,166000.0,145000.0,111000.0,179000.0,125000.0,170000.0,116000.0,116000.0,141000.0,201000.0,130000.0,143000.0,178000.0,187000.0,130000.0,112000.0,155000.0,116000.0,135000.0,120000.0,181000.0,204000.0,160000.0,180000.0,117000.0,150000.0,120000.0,160000.0,118000.0,99000.0,131000.0,98000.0,116000.0,160000.0,190000.0,119000.0,133000.0,137000.0,185000.0,159000.0,116000.0,160000.0,110000.0,150000.0,160000.0,156000.0,116000.0,103000.0,127000.0,134000.0,158000.0,116000.0,160000.0,103000.0,216000.0,111000.0,142000.0,118000.0,113000.0,149000.0,105000.0,125000.0,230000.0,70000.0,139000.0,139000.0,200000.0,135000.0,157000.0,110000.0,175000.0,185000.0,130000.0,128000.0,151000.0,111000.0,160000.0,130000.0,158000.0,128000.0,140000.0,108000.0,175000.0,205000.0,150000.0,135000.0,134000.0,125000.0,185000.0,155000.0,160000.0,116000.0,136000.0,131000.0,130000.0,192000.0,112000.0,231000.0,133000.0,180000.0,172000.0,125000.0,150000.0,112000.0,140000.0,115000.0,160000.0,168000.0,185000.0,120000.0,165000.0,130000.0,163000.0,170000.0,130000.0,201000.0,183000.0,108000.0,160000.0,172000.0,144000.0,130000.0,201000.0,143000.0,180000.0,119000.0,150000.0,147000.0,110000.0,171000.0,142000.0,165000.0,179000.0,144000.0,111000.0,115000.0,130000.0,144000.0,138000.0,113000.0,152000.0,169000.0,192000.0,123000.0,145000.0,130000.0,124000.0,145000.0,167000.0,145000.0,161000.0,138000.0,113000.0,119000.0,190000.0,111000.0,150000.0,167000.0,144000.0,145000.0,150000.0,130000.0,130000.0,148000.0,128000.0,105000.0,205000.0,185000.0,111000.0,312000.0,115000.0,144000.0,110000.0,111000.0,134000.0,140000.0,111000.0,130000.0,140000.0,143000.0,120000.0,132000.0,148000.0,116000.0,111000.0,160000.0,111000.0,119000.0,144000.0,152000.0,205000.0,120000.0,135000.0,155000.0,116000.0,155000.0,100000.0,115000.0,170000.0,116000.0,140000.0,119000.0,110000.0,116000.0,120000.0,135000.0,150000.0,165000.0,148000.0,130000.0,102000.0,130000.0,140000.0,152000.0,158000.0,135000.0,130000.0,170000.0,150000.0,140000.0,255000.0,125000.0,160000.0,131000.0,146000.0,156000.0,140000.0,112000.0,150000.0,125000.0,141000.0,220000.0,130000.0,119000.0,126000.0,122000.0,150000.0,147000.0,160000.0,145000.0,140000.0,117000.0,190000.0,111000.0,135000.0,192000.0,185000.0,150000.0,137000.0,145000.0,148000.0,111000.0,170000.0,215000.0,116000.0,110000.0,248000.0,116000.0,160000.0,116000.0,130000.0,152000.0,116000.0,133000.0,116000.0,135000.0,170000.0,118000.0,125000.0,112000.0,145000.0,169000.0,170000.0,116000.0,115000.0,114000.0,130000.0,114000.0,141000.0,144000.0,128000.0,135000.0,113000.0,134000.0,130000.0,170000.0,112000.0,165000.0,160000.0,153000.0,170000.0,169000.0,140000.0,130000.0,118000.0,165000.0,150000.0,156000.0,100000.0,151000.0,160000.0,153000.0,149000.0,135000.0,132000.0,146000.0,144000.0,215000.0,144000.0,170000.0,115000.0,200000.0,150000.0,175000.0,145000.0,144000.0,129000.0,116000.0,100000.0,172000.0,125000.0,160000.0,125000.0,118000.0,145000.0,111000.0,111000.0,187000.0,144000.0,111000.0,117000.0,144000.0,120000.0,160000.0,129000.0,290000.0,176000.0,110000.0,110000.0,174000.0,131000.0,142000.0,111000.0,168000.0,150000.0,161000.0,108000.0,119000.0,150000.0,119000.0,108000.0,117000.0,117000.0,135000.0,125000.0,111000.0,125000.0,130000.0,171000.0,170000.0,138000.0,110000.0,140000.0,190000.0,153000.0,160000.0,116000.0,148000.0,125000.0,175000.0,111000.0,110000.0,145000.0,112000.0,115000.0,110000.0,120000.0,123000.0,127000.0,120000.0,160000.0,125000.0,113000.0,163000.0,111000.0,111000.0,138000.0,245000.0,140000.0,200000.0,145000.0,180000.0,164000.0,111000.0,360000.0,158000.0,112000.0,162000.0,157000.0,145000.0,160000.0,90000.0,147000.0,109000.0,140000.0,140000.0,249000.0,155000.0,142000.0,183000.0,157000.0,150000.0,150000.0,238000.0,147000.0,195000.0,130000.0,125000.0,120000.0,205000.0,114000.0,125000.0,160000.0,174000.0,146000.0,120000.0,134000.0,145000.0,150000.0,165000.0,140000.0,196000.0,217000.0,125000.0,175000.0,220000.0,144000.0,130000.0,160000.0,152000.0,156000.0,130000.0,113000.0,111000.0,160000.0,135000.0,130000.0,165000.0,180000.0,130000.0,94000.0,135000.0,190000.0,156000.0,119000.0,158000.0,135000.0,110000.0,104000.0,137000.0,124000.0,144000.0,160000.0,185000.0,120000.0,144000.0,152000.0,165000.0,200000.0,180000.0,217000.0,148000.0,144000.0,160000.0,143000.0,124000.0,158000.0,180000.0,86000.0,130000.0,225000.0,144000.0,111000.0,130000.0,160000.0,110000.0,116000.0,111000.0,130000.0,200000.0,135000.0,150000.0,170000.0,165000.0,93000.0,119000.0,78000.0,160000.0,179000.0,141000.0,118000.0,132000.0,200000.0,185000.0,160000.0,130000.0,110000.0,150000.0,165000.0,200000.0,149000.0,119000.0,150000.0,195000.0,166000.0,140000.0,144000.0,184000.0,150000.0,141000.0,133000.0,155000.0,111000.0,124000.0,111000.0,215000.0,167000.0,122000.0,134000.0,140000.0,160000.0,140000.0,200000.0,160000.0,116000.0,108000.0,175000.0,105000.0,170000.0,160000.0,160000.0,128000.0,189000.0,111000.0,137000.0,147000.0,128000.0,144000.0,180000.0,184000.0,154000.0,195000.0,118000.0,145000.0,135000.0,135000.0,170000.0,125000.0,135000.0,145000.0,122000.0,161000.0,140000.0,159000.0,160000.0,160000.0,161000.0,150000.0,130000.0,112000.0,120000.0,155000.0,180000.0,138000.0,143000.0,149000.0,150000.0,144000.0,149000.0,170000.0,130000.0,140000.0,197000.0,117000.0,185000.0,140000.0,125000.0,150000.0,116000.0,135000.0,145000.0,143000.0,190000.0,135000.0,150000.0,129000.0,125000.0,200000.0,120000.0,144000.0,140000.0,150000.0,108000.0,150000.0,169000.0,112000.0,170000.0,156000.0,147000.0,162000.0,130000.0,110000.0,150000.0,185000.0,130000.0,175000.0,116000.0,119000.0,118000.0,116000.0,220000.0,140000.0,160000.0,193000.0,157000.0,144000.0,280000.0,130000.0,144000.0,116000.0,147000.0,193000.0,190000.0,140000.0,200000.0,162000.0,91000.0,111000.0,170000.0,155000.0,112000.0,201000.0,144000.0,154000.0,115000.0,135000.0,130000.0,160000.0,145000.0,144000.0,120000.0,145000.0,282000.0,160000.0,120000.0,160000.0,116000.0,110000.0,136000.0,140000.0,150000.0,150000.0,157000.0,130000.0,122000.0,130000.0,160000.0,157000.0,235000.0,116000.0,116000.0,129000.0,130000.0,140000.0,180000.0,130000.0,136000.0,138000.0,140000.0,160000.0,165000.0,143000.0,160000.0,276000.0,129000.0,141000.0,152000.0,154000.0,176000.0,115000.0,135000.0,144000.0,155000.0,155000.0,175000.0,135000.0,144000.0,144000.0,165000.0,125000.0,135000.0,157000.0,167000.0,116000.0,205000.0,138000.0,150000.0,119000.0,155000.0,130000.0,140000.0,185000.0,144000.0,205000.0,123000.0,143000.0,150000.0,150000.0,153000.0,190000.0,190000.0,130000.0,138000.0,230000.0,220000.0,183000.0,110000.0,121000.0,116000.0,148000.0,155000.0,154000.0,130000.0,150000.0,131000.0,140000.0,145000.0,162000.0,132000.0,110000.0,135000.0,109000.0,145000.0,140000.0,132000.0,163000.0,112000.0,142000.0,210000.0,132000.0,144000.0,127000.0,125000.0,158000.0,140000.0,140000.0,130000.0,135000.0,160000.0,160000.0,155000.0,111000.0,160000.0,144000.0,161000.0,184000.0,130000.0,162000.0,173000.0,130000.0,135000.0,120000.0,198000.0,193000.0,120000.0,200000.0,116000.0,190000.0,168000.0,138000.0,152000.0,200000.0,116000.0,135000.0,180000.0,148000.0,148000.0,153000.0,116000.0,156000.0,150000.0,120000.0,170000.0,173000.0,160000.0,121000.0,160000.0,195000.0,195000.0,111000.0,132000.0,115000.0,137000.0,144000.0,144000.0,200000.0,111000.0,119000.0,203000.0,125000.0,159000.0,230000.0,270000.0,180000.0,187000.0,110000.0,137000.0,150000.0,115000.0,137000.0,70000.0,116000.0,145000.0,119000.0,124000.0,120000.0,190000.0,220000.0,145000.0,103000.0,160000.0,144000.0,140000.0,119000.0,207000.0,145000.0,120000.0,160000.0,168000.0,160000.0,224000.0,150000.0,115000.0,170000.0,150000.0,115000.0,135000.0,145000.0,160000.0,175000.0,185000.0,140000.0,126000.0,250000.0,177000.0,160000.0,156000.0,146000.0,153000.0,116000.0,125000.0,155000.0,112000.0,120000.0,285000.0,150000.0,155000.0,143000.0,160000.0,123000.0,270000.0,130000.0,188000.0,120000.0,153000.0,149000.0,160000.0,175000.0,103000.0,165000.0,120000.0,130000.0,230000.0,125000.0,119000.0,92000.0,154000.0,160000.0,101000.0,153000.0,125000.0,160000.0,156000.0,232000.0,135000.0,235000.0,152000.0,116000.0,197000.0,121000.0,160000.0,120000.0,186000.0,148000.0,128000.0,120000.0,121000.0,152000.0,116000.0,125000.0,156000.0,129000.0,160000.0,128000.0,192000.0,165000.0,146000.0,198000.0,125000.0,165000.0,116000.0,165000.0,116000.0,110000.0,144000.0,153000.0,155000.0,164000.0,168000.0,100000.0,139000.0,140000.0,182000.0,125000.0,188000.0,160000.0,148000.0,112000.0,143000.0,240000.0,165000.0,142000.0,155000.0,190000.0,155000.0,124000.0,188000.0,112000.0,144000.0,120000.0,175000.0,156000.0,123000.0,112000.0,150000.0,250000.0,124000.0,166000.0,140000.0,130000.0,180000.0,112000.0,121000.0,120000.0,162000.0,94000.0,123000.0,162000.0,221000.0,205000.0,143000.0,117000.0,170000.0,180000.0,145000.0,122000.0,144000.0,111000.0,124000.0,150000.0,235000.0,112000.0,116000.0,160000.0,96000.0,185000.0,95000.0,125000.0,112000.0,135000.0,153000.0,127000.0,110000.0,116000.0,149000.0,125000.0,160000.0,150000.0,105000.0,195000.0,140000.0,116000.0,235000.0,160000.0,201000.0,116000.0,136000.0,123000.0,115000.0,150000.0,144000.0,173000.0,150000.0,118000.0,153000.0,500000.0,114000.0,114000.0,240000.0,160000.0,116000.0,144000.0,186000.0,140000.0,111000.0,130000.0,193000.0,165000.0,160000.0,175000.0,129000.0,186000.0,167000.0,143000.0,175000.0,238000.0,250000.0,145000.0,130000.0,150000.0,121000.0,140000.0,138000.0,116000.0,205000.0,125000.0,220000.0,135000.0,119000.0,155000.0,170000.0,163000.0,170000.0,123000.0,125000.0,232000.0,160000.0,140000.0,116000.0,139000.0,112000.0,149000.0,154000.0,220000.0,216000.0,118000.0,125000.0,120000.0,160000.0,118000.0,160000.0,115000.0,112000.0,145000.0,198000.0,144000.0,170000.0,140000.0,210000.0,153000.0,245000.0,175000.0,128000.0,110000.0,130000.0,112000.0,160000.0,137000.0,160000.0,195000.0,118000.0,144000.0,135000.0,240000.0,167000.0,115000.0,167000.0,125000.0,145000.0,144000.0,154000.0,159000.0,197000.0,160000.0,110000.0,118000.0,135000.0,142000.0,160000.0,138000.0,181000.0,160000.0,145000.0,160000.0,110000.0,160000.0,200000.0,232000.0,130000.0,140000.0,160000.0,122000.0,170000.0,270000.0,155000.0,159000.0,140000.0,175000.0,125000.0,150000.0,175000.0,119000.0,138000.0,146000.0,225000.0,156000.0,278000.0,144000.0,135000.0,190000.0,123000.0,165000.0,108000.0,156000.0,150000.0,130000.0,152000.0,162000.0,111000.0,155000.0,210000.0,165000.0,123000.0,116000.0,225000.0,136000.0,155000.0,97000.0,116000.0,135000.0,136000.0,111000.0,164000.0,140000.0,139000.0,140000.0,145000.0,135000.0,135000.0,120000.0,180000.0,148000.0,118000.0,140000.0,152000.0,123000.0,145000.0,110000.0,158000.0,120000.0,110000.0,130000.0,200000.0,160000.0,143000.0,144000.0,144000.0,170000.0,147000.0,160000.0,108000.0,149000.0,175000.0,140000.0,140000.0,113000.0,140000.0,140000.0,159000.0,160000.0,155000.0,160000.0,160000.0,123000.0,165000.0,144000.0,160000.0,124000.0,164000.0,137000.0,159000.0,113000.0,152000.0,152000.0,204000.0,146000.0,160000.0,160000.0,120000.0,165000.0,135000.0,160000.0,140000.0,160000.0,138000.0,118000.0,130000.0,146000.0,110000.0,112000.0,140000.0,160000.0,152000.0,150000.0,139000.0,145000.0,160000.0,160000.0,116000.0,165000.0,147000.0,140000.0,145000.0,147000.0,120000.0,140000.0,152000.0,140000.0,128000.0,202000.0,181000.0,130000.0,156000.0,121000.0,155000.0,185000.0,108000.0,160000.0,148000.0,115000.0,129000.0,183000.0,115000.0,155000.0,106000.0,150000.0,147000.0,163000.0,190000.0,120000.0,150000.0,120000.0,151000.0,159000.0,152000.0,277000.0,163000.0,155000.0,155000.0,160000.0,136000.0,160000.0,123000.0,158000.0,160000.0,137000.0,144000.0,160000.0,250000.0,160000.0,160000.0,149000.0,150000.0,144000.0,128000.0,180000.0,120000.0,184000.0,153000.0,180000.0,111000.0,114000.0,140000.0,168000.0,182000.0,110000.0,225000.0,120000.0,200000.0,160000.0,119000.0,125000.0,125000.0,149000.0,156000.0,116000.0,142000.0,146000.0,151000.0,156000.0,220000.0,148000.0,160000.0,148000.0,165000.0,160000.0,145000.0,146000.0,119000.0,144000.0,158000.0,153000.0,190000.0,175000.0,149000.0,132000.0,111000.0,153000.0,160000.0,150000.0,160000.0,122000.0,165000.0,120000.0,205000.0,152000.0,128000.0,149000.0,131000.0,125000.0,164000.0,123000.0,202000.0,190000.0,151000.0,135000.0,163000.0,114000.0,152000.0,148000.0,130000.0,162000.0,201000.0,159000.0,140000.0,114000.0,155000.0,143000.0,160000.0,160000.0,140000.0,193000.0,145000.0,150000.0,142000.0,119000.0,158000.0,116000.0,117000.0,150000.0,160000.0,155000.0,145000.0,120000.0,115000.0,113000.0,200000.0,160000.0,151000.0,128000.0,274000.0,100000.0,160000.0,150000.0,221000.0,170000.0,170000.0,111000.0,125000.0,160000.0,147000.0,193000.0,185000.0,160000.0,155000.0,150000.0,160000.0,146000.0,145000.0,120000.0,160000.0,160000.0,145000.0,110000.0,140000.0,135000.0,155000.0,210000.0,146000.0,154000.0,152000.0,160000.0,220000.0,155000.0,165000.0,150000.0,170000.0,158000.0,151000.0,131000.0,240000.0,170000.0,155000.0,210000.0,160000.0,188000.0,175000.0,144000.0,124000.0,129000.0,118000.0,130000.0,133000.0,170000.0,137000.0,125000.0,200000.0,112000.0,142000.0,154000.0,120000.0,173000.0,160000.0,140000.0,147000.0,200000.0,160000.0,150000.0,175000.0,197000.0,120000.0,145000.0,129000.0,130000.0,147000.0,131000.0,210000.0,112000.0,147000.0,150000.0,115000.0,130000.0,147000.0,120000.0,125000.0,200000.0,125000.0,123000.0,116000.0,158000.0,120000.0,210000.0,115000.0,100000.0,116000.0,135000.0,160000.0,131000.0,140000.0,220000.0,145000.0,122000.0,136000.0,160000.0,180000.0,120000.0,125000.0,230000.0,155000.0,165000.0,150000.0,119000.0,198000.0,216000.0,146000.0,140000.0,200000.0,130000.0,128000.0,145000.0,160000.0,120000.0,116000.0,140000.0,199000.0,170000.0,150000.0,195000.0,123000.0,116000.0,139000.0,160000.0,152000.0,240000.0,133000.0,165000.0,170000.0,129000.0,178000.0,111000.0,130000.0,145000.0,200000.0,154000.0,195000.0,141000.0,160000.0,153000.0,158000.0,146000.0,144000.0,135000.0,215000.0,172000.0,127000.0,150000.0,112000.0,147000.0,233000.0,127000.0,220000.0,125000.0,130000.0,117000.0,150000.0,143000.0,165000.0,186000.0,148000.0,187000.0,170000.0,146000.0,155000.0,179000.0,160000.0,149000.0,185000.0,135000.0,110000.0,129000.0,118000.0,155000.0,159000.0,147000.0,131000.0,141000.0,201000.0,201000.0,205000.0,210000.0,140000.0,160000.0,146000.0,162000.0,156000.0,126000.0,117000.0,120000.0,110000.0,128000.0,200000.0,116000.0,114000.0,160000.0,130000.0,120000.0,138000.0,175000.0,160000.0,144000.0,165000.0,145000.0,130000.0,177000.0,119000.0,116000.0,145000.0,215000.0,162000.0,110000.0,178000.0,259000.0,155000.0,160000.0,135000.0,128000.0,150000.0,130000.0,160000.0,130000.0,157000.0,152000.0,170000.0,115000.0,195000.0,174000.0,130000.0,136000.0,150000.0,123000.0,140000.0,116000.0,215000.0,116000.0,150000.0,175000.0,160000.0,200000.0,150000.0,137000.0,150000.0,200000.0,145000.0,146000.0,155000.0,160000.0,190000.0,111000.0,149000.0,160000.0,130000.0,126000.0,138000.0,125000.0,192000.0,131000.0,185000.0,130000.0,144000.0,110000.0,120000.0,135000.0,200000.0,160000.0,189000.0,164000.0,150000.0,170000.0,133000.0,177000.0,123000.0,131000.0,112000.0,120000.0,112000.0,132000.0,143000.0,151000.0,160000.0,185000.0,175000.0,160000.0,183000.0,152000.0,130000.0,149000.0,160000.0,135000.0,190000.0,175000.0,170000.0,150000.0,124000.0,160000.0,142000.0,130000.0,121000.0,137000.0,116000.0,137000.0,146000.0,152000.0,145000.0,200000.0,140000.0,170000.0,123000.0,152000.0,122000.0,144000.0,125000.0,200000.0,140000.0,220000.0,147000.0,160000.0,137000.0,111000.0,160000.0,165000.0,160000.0,111000.0,151000.0,150000.0,151000.0,161000.0,155000.0,160000.0,218000.0,91000.0,155000.0,134000.0,112000.0,116000.0,140000.0,121000.0,144000.0,231000.0,250000.0,160000.0,115000.0,127000.0,111000.0,150000.0,120000.0,160000.0,152000.0,109000.0,160000.0,170000.0,165000.0,158000.0,140000.0,215000.0,142000.0,135000.0,125000.0,175000.0,160000.0,230000.0,152000.0,125000.0,160000.0,155000.0,150000.0,158000.0,150000.0,137000.0,123000.0,141000.0,150000.0,131000.0,136000.0,116000.0,145000.0,160000.0,160000.0,160000.0,160000.0,184000.0,140000.0,130000.0,149000.0,184000.0,150000.0,153000.0,147000.0,151000.0,119000.0,130000.0,150000.0,160000.0,128000.0,203000.0,144000.0,152000.0,156000.0,175000.0,259000.0,131000.0,165000.0,141000.0,160000.0,195000.0,142000.0,137000.0,165000.0,127000.0,105000.0,119000.0,130000.0,148000.0,145000.0,121000.0,126000.0,155000.0,154000.0,148000.0,175000.0,141000.0,111000.0,180000.0,140000.0,145000.0,160000.0,130000.0,116000.0,150000.0,112000.0,160000.0,113000.0,144000.0,140000.0,110000.0,132000.0,185000.0,127000.0,150000.0,112000.0,155000.0,111000.0,110000.0,157000.0,123000.0,169000.0,155000.0,150000.0,130000.0,112000.0,220000.0,155000.0,123000.0,127000.0,151000.0,160000.0,135000.0,128000.0,98000.0,120000.0,134000.0,148000.0,130000.0,140000.0,200000.0,137000.0,160000.0,152000.0,215000.0,200000.0,130000.0,150000.0,144000.0,122000.0,110000.0,183000.0,161000.0,139000.0,154000.0,240000.0,160000.0,153000.0,215000.0,192000.0,222000.0,170000.0,160000.0,160000.0,144000.0,203000.0,158000.0,160000.0,137000.0,200000.0,151000.0,157000.0,155000.0,150000.0,150000.0,200000.0,155000.0,177000.0,150000.0,170000.0,160000.0,150000.0,145000.0,160000.0,121000.0,155000.0,200000.0,175000.0,110000.0,110000.0,137000.0,190000.0,113000.0,133000.0,120000.0,116000.0,145000.0,132000.0,155000.0,118000.0,180000.0,140000.0,140000.0,106000.0,175000.0,153000.0,143000.0,176000.0,155000.0,111000.0,163000.0,144000.0,113000.0,120000.0,100000.0,140000.0,149000.0,120000.0,120000.0,118000.0,144000.0,150000.0,165000.0,207000.0,108000.0,118000.0,165000.0,93000.0,230000.0,180000.0,116000.0,119000.0,160000.0,111000.0,190000.0,195000.0,113000.0,125000.0,123000.0,126000.0,130000.0,116000.0,145000.0,115000.0,215000.0,180000.0,160000.0,120000.0,504000.0,118000.0,160000.0,137000.0,200000.0,125000.0,144000.0,160000.0,210000.0,157000.0,158000.0,150000.0,130000.0,131000.0,220000.0,110000.0,152000.0,141000.0,146000.0,200000.0,125000.0,170000.0,116000.0,116000.0,170000.0,118000.0,190000.0,159000.0,150000.0,108000.0,122000.0,155000.0,195000.0,113000.0,135000.0,142000.0,154000.0,145000.0,140000.0,180000.0,113000.0,140000.0,170000.0,160000.0,160000.0,160000.0,160000.0,155000.0,160000.0,153000.0,149000.0,130000.0,119000.0,158000.0,180000.0,145000.0,200000.0,179000.0,130000.0,201000.0,119000.0,210000.0,111000.0,124000.0,200000.0,150000.0,160000.0,182000.0,158000.0,140000.0,110000.0,119000.0,118000.0,140000.0,280000.0,240000.0,230000.0,147000.0,130000.0,154000.0,216000.0,180000.0,152000.0,112000.0,120000.0,136000.0,73000.0,190000.0,170000.0,165000.0,193000.0,152000.0,116000.0,205000.0,206000.0,130000.0,115000.0,110000.0,160000.0,160000.0,121000.0,125000.0,134000.0,144000.0,145000.0,195000.0,155000.0,147000.0,136000.0,140000.0,100000.0,185000.0,180000.0,122000.0,155000.0,130000.0,175000.0,161000.0,170000.0,113000.0,83000.0,160000.0,113000.0,130000.0,111000.0,113000.0,111000.0,113000.0,159000.0,160000.0,140000.0,118000.0,120000.0,125000.0,118000.0,137000.0,124000.0,99000.0,128000.0,113000.0,120000.0,160000.0,118000.0,150000.0,125000.0,120000.0,116000.0,130000.0,149000.0,130000.0,135000.0,203000.0,203000.0,133000.0,131000.0,134000.0,168000.0,130000.0,111000.0,191000.0,133000.0,124000.0,182000.0,216000.0,155000.0,134000.0,151000.0,120000.0,125000.0,150000.0,145000.0,169000.0,154500.0,100000.0,145500.0,145000.0,138814.0,170000.0,112000.0,160000.0,190000.0,145000.0,138000.0,155000.0,160000.0,137000.0,140000.0,157400.0,160000.0,130000.0,180000.0,134000.0,155000.0,100000.0,150000.0,132000.0,130000.0,111000.0,131000.0,140000.0,133000.0,125000.0,148000.0,150000.0,135000.0,147700.0,134000.0,134900.0,140000.0,155000.0,150000.0,140000.0,98000.0,142000.0,141500.0,160000.0,143000.0,134900.0,110000.0,108000.0,117000.0,117000.0,124000.0,125000.0,129470.0,175000.0,135000.0,140000.0,175000.0,116000.0,123000.0,149457.0,149700.0,122000.0,133956.0,178000.0,216090.0,108000.0,155000.0,190000.0,124000.0,130000.0,150000.0,184000.0,160000.0,140000.0,95000.0,145000.0,145000.0,127000.0,130000.0,111000.0,114000.0,108000.0,160000.0,140000.0,130000.0,105000.0,135297.0,150000.0,151000.0,165000.0,122000.0,131000.0,140000.0,125000.0,145000.0,148000.0,198000.0,130000.0,108000.0,160000.0,155000.0,160000.0,140000.0,180000.0,133000.0,150000.0,135000.0,140000.0,106000.0,131000.0,104000.0,106000.0],\"xaxis\":\"x\",\"yaxis\":\"y\",\"type\":\"histogram\"},{\"alignmentgroup\":\"True\",\"bingroup\":\"x\",\"hovertemplate\":\"state=Other<br>basesalary=%{x}<br>count=%{y}<extra></extra>\",\"legendgroup\":\"Other\",\"marker\":{\"color\":\"#00cc96\",\"pattern\":{\"shape\":\"\"}},\"name\":\"Other\",\"offsetgroup\":\"Other\",\"orientation\":\"v\",\"showlegend\":true,\"x\":[140000.0,72000.0,130000.0,36000.0,134000.0,250000.0,105000.0,140000.0,131000.0,109000.0,93000.0,131000.0,101000.0,143000.0,145000.0,159000.0,105000.0,48000.0,35000.0,45600.0,140000.0,130000.0,53000.0,78000.0,115000.0,82000.0,125000.0,95000.0,105000.0,130000.0,23000.0,145000.0,98000.0,95000.0,154000.0,150000.0,120000.0,115000.0,107000.0,125000.0,100000.0,185000.0,147000.0,140000.0,100000.0,145000.0,31000.0,120000.0,16000.0,165000.0,95000.0,164000.0,55000.0,100000.0,100000.0,157000.0,100000.0,85000.0,95000.0,115000.0,140000.0,130000.0,110000.0,110000.0,107000.0,135000.0,48000.0,102000.0,83000.0,125000.0,166000.0,167000.0,160000.0,35000.0,90000.0,108000.0,29000.0,40000.0,108000.0,102000.0,42000.0,100000.0,145000.0,137000.0,137000.0,93000.0,165000.0,124000.0,44000.0,90000.0,110000.0,95000.0,135000.0,125000.0,133000.0,81000.0,125000.0,105000.0,20000.0,180000.0,110000.0,108000.0,118000.0,115000.0,115000.0,165000.0,173000.0,110000.0,19000.0,113000.0,84000.0,175000.0,93000.0,24000.0,50000.0,98000.0,68000.0,135000.0,143000.0,145000.0,130000.0,100000.0,105000.0,80000.0,160000.0,20000.0,140000.0,133000.0,100000.0,192000.0,140000.0,154000.0,108000.0,113000.0,85000.0,88000.0,140000.0,120000.0,110000.0,120000.0,93000.0,128000.0,68000.0,130000.0,36000.0,145000.0,106000.0,68000.0,140000.0,23000.0,140000.0,140000.0,33000.0,90000.0,32000.0,110000.0,78000.0,78000.0,102000.0,137000.0,135000.0,89000.0,162000.0,59000.0,135000.0,100000.0,143000.0,130000.0,135000.0,161000.0,130000.0,120000.0,82000.0,84000.0,151000.0,80000.0,140000.0,156000.0,135000.0,95000.0,150000.0,85000.0,98000.0,210000.0,125000.0,116000.0,62000.0,155000.0,190000.0,130000.0,115000.0,27000.0,135000.0,70000.0,85000.0,140000.0,145000.0,130000.0,117000.0,97000.0,21000.0,130000.0,92000.0,125000.0,145000.0,121000.0,179000.0,120000.0,129000.0,148000.0,42000.0,120000.0,65000.0,198000.0,110000.0,70000.0,130000.0,165000.0,70000.0,115000.0,90000.0,122000.0,133000.0,131000.0,130000.0,102000.0,116000.0,131000.0,75000.0,91000.0,108000.0,165000.0,23000.0,130000.0,90000.0,123000.0,125000.0,108000.0,106000.0,29000.0,126000.0,78000.0,99000.0,140000.0,76000.0,86000.0,116000.0,59000.0,114000.0,112000.0,96000.0,135000.0,135000.0,160000.0,25000.0,95000.0,110000.0,105000.0,133000.0,152000.0,94000.0,32000.0,33000.0,87000.0,139000.0,97000.0,140000.0,155000.0,135000.0,215000.0,105000.0,105000.0,115000.0,136000.0,170000.0,18000.0,123000.0,19000.0,88000.0,97000.0,110000.0,115000.0,107000.0,159000.0,105000.0,100000.0,85000.0,130000.0,110000.0,116000.0,125000.0,20000.0,208000.0,140000.0,160000.0,98000.0,130000.0,152000.0,46000.0,35000.0,102000.0,120000.0,115000.0,95000.0,91000.0,170000.0,105000.0,80000.0,122000.0,92000.0,134000.0,115000.0,95000.0,163000.0,123000.0,124000.0,130000.0,100000.0,150000.0,118000.0,102000.0,110000.0,119000.0,117000.0,115000.0,123000.0,120000.0,120000.0,108000.0,10000.0,79000.0,100000.0,90000.0,30000.0,125000.0,110000.0,146000.0,125000.0,142000.0,105000.0,125000.0,38000.0,120000.0,150000.0,115000.0,130000.0,120000.0,110000.0,95000.0,136000.0,100000.0,110000.0,200000.0,105000.0,47000.0,123000.0,140000.0,158000.0,140000.0,143000.0,155000.0,27000.0,32000.0,153000.0,150000.0,138000.0,95000.0,210000.0,160000.0,115000.0,114000.0,85000.0,130000.0,118000.0,110000.0,60000.0,155000.0,110000.0,88000.0,108000.0,150000.0,84000.0,40000.0,145000.0,135000.0,130000.0,19000.0,135000.0,120000.0,102000.0,140000.0,123000.0,135000.0,110000.0,110000.0,115000.0,23000.0,126000.0,126000.0,68000.0,120000.0,116000.0,38000.0,250000.0,120000.0,144000.0,95000.0,152000.0,112000.0,242000.0,160000.0,120000.0,133000.0,130000.0,105000.0,27000.0,32000.0,144000.0,120000.0,165000.0,93000.0,150000.0,325000.0,185000.0,196000.0,160000.0,160000.0,185000.0,71000.0,53000.0,140000.0,100000.0,167000.0,115000.0,120000.0,104000.0,87000.0,39000.0,131000.0,114000.0,145000.0,37000.0,132000.0,75000.0,200000.0,138000.0,56000.0,110000.0,120000.0,154000.0,108000.0,79000.0,107000.0,151000.0,100000.0,117000.0,80000.0,160000.0,132000.0,104000.0,138000.0,109000.0,109000.0,105000.0,99000.0,127000.0,90000.0,230000.0,150000.0,115000.0,142000.0,130000.0,100000.0,120000.0,132000.0,128000.0,50000.0,150000.0,48000.0,160000.0,160000.0,83000.0,112000.0,145000.0,100000.0,82000.0,140000.0,150000.0,70000.0,75000.0,156000.0,105000.0,198000.0,123000.0,127000.0,112000.0,96000.0,92000.0,87000.0,100000.0,108000.0,80000.0,137000.0,42000.0,92000.0,120000.0,105000.0,30000.0,90000.0,65000.0,120000.0,162000.0,110000.0,90000.0,115000.0,120000.0,162000.0,108000.0,147000.0,145000.0,98000.0,100000.0,100000.0,145000.0,165000.0,300000.0,92000.0,154000.0,127000.0,112000.0,146000.0,43000.0,110000.0,140000.0,92000.0,125000.0,125000.0,125000.0,120000.0,180000.0,105000.0,135000.0,78000.0,193000.0,154000.0,101000.0,70000.0,105000.0,108000.0,148000.0,54000.0,114000.0,60000.0,50000.0,113000.0,94000.0,130000.0,160000.0,136000.0,93000.0,114000.0,155000.0,100000.0,103000.0,130000.0,141000.0,150000.0,350000.0,115000.0,150000.0,60000.0,12000.0,54000.0,152000.0,145000.0,100000.0,125000.0,85000.0,120000.0,206000.0,120000.0,95000.0,120000.0,130000.0,135000.0,73000.0,60000.0,125000.0,195000.0,117000.0,135000.0,33000.0,175000.0,100000.0,95000.0,60000.0,88000.0,135000.0,165000.0,80000.0,103000.0,135000.0,155000.0,110000.0,107000.0,150000.0,162000.0,100000.0,160000.0,134000.0,175000.0,150000.0,125000.0,99000.0,156000.0,115000.0,115000.0,115000.0,110000.0,200000.0,150000.0,107000.0,162000.0,55000.0,175000.0,125000.0,72000.0,21000.0,113000.0,70000.0,65000.0,23000.0,105000.0,160000.0,48000.0,145000.0,25000.0,140000.0,145000.0,155000.0,110000.0,95000.0,100000.0,92000.0,128000.0,120000.0,155000.0,50000.0,105000.0,41000.0,109000.0,82000.0,145000.0,113000.0,160000.0,77000.0,77000.0,113000.0,90000.0,106000.0,99000.0,150000.0,87000.0,124000.0,123000.0,95000.0,150000.0,150000.0,74000.0,152000.0,114000.0,176000.0,145000.0,120000.0,75000.0,93000.0,104000.0,128000.0,87000.0,190000.0,200000.0,65000.0,100000.0,103000.0,95000.0,86000.0,122000.0,110000.0,126000.0,126000.0,122000.0,98000.0,60000.0,131000.0,191000.0,134000.0,147000.0,46000.0,63000.0,95000.0,80000.0,140000.0,167000.0,105000.0,112000.0,88000.0,23000.0,75000.0,74000.0,188000.0,100000.0,106000.0,165000.0,80000.0,130000.0,140000.0,78000.0,150000.0,150000.0,118000.0,135000.0,170000.0,104000.0,98000.0,132000.0,126000.0,113000.0,128000.0,130000.0,140000.0,97000.0,120000.0,89000.0,56000.0,130000.0,135000.0,40000.0,116000.0,110000.0,140000.0,81000.0,19000.0,75000.0,131000.0,75000.0,87000.0,12000.0,170000.0,155000.0,69000.0,86000.0,15000.0,68000.0,103000.0,115000.0,75000.0,130000.0,140000.0,150000.0,165000.0,125000.0,94000.0,135000.0,90000.0,80000.0,120000.0,90000.0,140000.0,100000.0,35000.0,101000.0,105000.0,102000.0,100000.0,97000.0,130000.0,70000.0,75000.0,120000.0,165000.0,150000.0,110000.0,134000.0,195000.0,100000.0,125000.0,175000.0,88000.0,34000.0,100000.0,24000.0,100000.0,77000.0,147000.0,92000.0,84000.0,103000.0,95000.0,98000.0,112000.0,105000.0,79000.0,164000.0,255000.0,130000.0,164000.0,87000.0,159000.0,85000.0,115000.0,121000.0,120000.0,121000.0,160000.0,83000.0,140000.0,180000.0,109000.0,59000.0,58000.0,41000.0,108000.0,50000.0,93000.0,88000.0,139000.0,60000.0,100000.0,122000.0,49000.0,170000.0,90000.0,85000.0,55000.0,92000.0,122000.0,82000.0,114000.0,80000.0,160000.0,70000.0,132000.0,160000.0,120000.0,77000.0,64000.0,120000.0,178000.0,102000.0,112000.0,102000.0,98000.0,197000.0,76000.0,33000.0,136000.0,90000.0,99000.0,122000.0,137000.0,117000.0,130000.0,127000.0,190000.0,100000.0,100000.0,82000.0,46000.0,256000.0,155000.0,60000.0,108000.0,165000.0,46000.0,160000.0,112000.0,81000.0,136000.0,146000.0,129000.0,118000.0,170000.0,150000.0,135000.0,99000.0,158000.0,158000.0,98000.0,9000.0,133000.0,108000.0,150000.0,84000.0,121000.0,100000.0,42000.0,145000.0,100000.0,113000.0,80000.0,165000.0,72000.0,90000.0,90000.0,135000.0,196000.0,93000.0,88000.0,100000.0,120000.0,130000.0,140000.0,180000.0,105000.0,25000.0,104000.0,93000.0,40000.0,39000.0,116000.0,75000.0,105000.0,63000.0,137000.0,108000.0,78000.0,71000.0,31000.0,170000.0,170000.0,93000.0,192000.0,64000.0,141000.0,126000.0,187000.0,88000.0,108000.0,135000.0,94000.0,62000.0,120000.0,90000.0,75000.0,95000.0,135000.0,64000.0,40000.0,116000.0,70000.0,72000.0,67000.0,119000.0,115000.0,11000.0,126000.0,140000.0,84000.0,71000.0,124000.0,96000.0,11000.0,140000.0,173000.0,40000.0,100000.0,90000.0,120000.0,150000.0,140000.0,76000.0,103000.0,125000.0,86000.0,65000.0,177000.0,40000.0,43000.0,130000.0,68000.0,107000.0,195000.0,108000.0,140000.0,50000.0,88000.0,165000.0,57000.0,128000.0,115000.0,130000.0,60000.0,150000.0,80000.0,155000.0,82000.0,90000.0,130000.0,95000.0,85000.0,115000.0,150000.0,140000.0,140000.0,114000.0,91000.0,170000.0,146000.0,25000.0,120000.0,70000.0,90000.0,155000.0,128000.0,86000.0,75000.0,119000.0,85000.0,90000.0,157000.0,106000.0,100000.0,52000.0,185000.0,90000.0,200000.0,40000.0,18000.0,165000.0,112000.0,165000.0,158000.0,130000.0,20000.0,71000.0,41000.0,164000.0,159000.0,112000.0,125000.0,76000.0,124000.0,110000.0,75000.0,200000.0,285000.0,132000.0,150000.0,195000.0,170000.0,58000.0,120000.0,110000.0,140000.0,137000.0,79000.0,104000.0,75000.0,82000.0,130000.0,110000.0,69000.0,110000.0,125000.0,130000.0,115000.0,155000.0,155000.0,90000.0,65000.0,123000.0,134000.0,70000.0,110000.0,61000.0,143000.0,101000.0,42000.0,38000.0,70000.0,181000.0,160000.0,67000.0,83000.0,18000.0,98000.0,90000.0,100000.0,130000.0,128000.0,138000.0,42000.0,90000.0,105000.0,154000.0,75000.0,165000.0,117000.0,131000.0,75000.0,95000.0,65000.0,63000.0,84000.0,77000.0,98000.0,86000.0,130000.0,110000.0,178000.0,112000.0,105000.0,35000.0,143000.0,130000.0,55000.0,77000.0,85000.0,20000.0,11000.0,22000.0,104000.0,50000.0,106000.0,85000.0,30000.0,149000.0,142000.0,142000.0,71000.0,107000.0,104000.0,99000.0,102000.0,95000.0,93000.0,120000.0,78000.0,70000.0,175000.0,92000.0,180000.0,24000.0,34000.0,85000.0,66000.0,135000.0,95000.0,45000.0,98000.0,110000.0,165000.0,145000.0,120000.0,137000.0,103000.0,42000.0,105000.0,95000.0,102000.0,90000.0,98000.0,70000.0,115000.0,70000.0,10000.0,10000.0,8000.0,12000.0,115000.0,10000.0,140000.0,115000.0,68000.0,68000.0,155000.0,128000.0,140000.0,13000.0,10000.0,112000.0,104000.0,120000.0,160000.0,105000.0,80000.0,55000.0,95000.0,20000.0,15000.0,34000.0,50000.0,120000.0,150000.0,93000.0,200000.0,140000.0,60000.0,82000.0,84000.0,102000.0,134000.0,78000.0,99000.0,60000.0,91000.0,103000.0,120000.0,90000.0,115000.0,122000.0,70000.0,105000.0,125000.0,100000.0,100000.0,80000.0,78000.0,110000.0,99000.0,85000.0,100000.0,135000.0,135000.0,72000.0,125000.0,64000.0,85000.0,115000.0,115000.0,100000.0,130000.0,52000.0,112000.0,70000.0,115000.0,140000.0,112000.0,160000.0,92000.0,90000.0,154000.0,123000.0,15000.0,18000.0,76000.0,170000.0,111000.0,145000.0,110000.0,115000.0,36000.0,159000.0,86000.0,142000.0,80000.0,133000.0,94000.0,127000.0,88000.0,133000.0,88000.0,108000.0,112000.0,50000.0,160000.0,152000.0,162000.0,91000.0,78000.0,65000.0,86000.0,120000.0,118000.0,152000.0,160000.0,45000.0,88000.0,100000.0,190000.0,150000.0,102000.0,120000.0,134000.0,120000.0,105000.0,115000.0,118000.0,135000.0,123000.0,126000.0,148000.0,123000.0,110000.0,40000.0,96000.0,120000.0,99000.0,25000.0,112000.0,120000.0,90000.0,80000.0,120000.0,70000.0,151000.0,118000.0,100000.0,70000.0,100000.0,110000.0,150000.0,105000.0,101000.0,111000.0,123000.0,91000.0,72000.0,75000.0,60000.0,100000.0,71000.0,60000.0,105000.0,155000.0,75000.0,120000.0,76000.0,110000.0,98000.0,89000.0,158000.0,76000.0,120000.0,100000.0,26000.0,38000.0,22000.0,110000.0,90000.0,110000.0,135000.0,150000.0,142000.0,108000.0,156000.0,17000.0,152000.0,14000.0,190000.0,100000.0,100000.0,90000.0,110000.0,26000.0,143000.0,56000.0,33000.0,75000.0,42000.0,212000.0,49000.0,34000.0,79000.0,122000.0,87000.0,99000.0,95000.0,105000.0,88000.0,112000.0,140000.0,100000.0,150000.0,77000.0,136000.0,130000.0,103000.0,120000.0,90000.0,169000.0,110000.0,90000.0,68000.0,85000.0,125000.0,122000.0,115000.0,90000.0,88000.0,47000.0,149000.0,90000.0,100000.0,64000.0,36000.0,110000.0,150000.0,110000.0,144000.0,135000.0,65000.0,120000.0,96000.0,102000.0,127000.0,121000.0,80000.0,35000.0,88000.0,96000.0,105000.0,112000.0,55000.0,123000.0,150000.0,119000.0,16000.0,102000.0,134000.0,125000.0,89000.0,74000.0,70000.0,95000.0,14000.0,15000.0,95000.0,105000.0,150000.0,34000.0,85000.0,22000.0,33000.0,41000.0,70000.0,35000.0,88000.0,28000.0,74000.0,190000.0,51000.0,78000.0,120000.0,94000.0,16000.0,80000.0,39000.0,77000.0,157000.0,92000.0,5000.0,112000.0,26000.0,100000.0,120000.0,40000.0,15000.0,110000.0,82000.0,100000.0,88000.0,140000.0,100000.0,30000.0,148000.0,89000.0,150000.0,160000.0,97000.0,108000.0,80000.0,155000.0,110000.0,30000.0,170000.0,68000.0,162000.0,94000.0,87000.0,110000.0,205000.0,24000.0,110000.0,112000.0,71000.0,85000.0,110000.0,103000.0,170000.0,130000.0,75000.0,124000.0,105000.0,110000.0,117000.0,120000.0,65000.0,120000.0,140000.0,135000.0,90000.0,75000.0,57000.0,67000.0,83000.0,90000.0,112000.0,187000.0,110000.0,130000.0,130000.0,104000.0,127000.0,130000.0,100000.0,110000.0,182000.0,156000.0,99000.0,176000.0,113000.0,50000.0,105000.0,36000.0,142000.0,150000.0,115000.0,135000.0,86000.0,110000.0,182000.0,96000.0,80000.0,86000.0,90000.0,118000.0,15000.0,47000.0,155000.0,180000.0,140000.0,100000.0,141000.0,140000.0,70000.0,22000.0,142000.0,140000.0,83000.0,74000.0,135000.0,83000.0,25000.0,130000.0,145000.0,111000.0,150000.0,45000.0,112000.0,132000.0,100000.0,35000.0,74000.0,190000.0,23000.0,116000.0,136000.0,120000.0,92000.0,215000.0,80000.0,119000.0,31000.0,100000.0,35000.0,115000.0,112000.0,170000.0,80000.0,115000.0,138000.0,132000.0,115000.0,120000.0,133000.0,185000.0,112000.0,15000.0,78000.0,20000.0,101000.0,94000.0,102000.0,275000.0,135000.0,105000.0,105000.0,105000.0,128000.0,106000.0,7000.0,99000.0,72000.0,13000.0,29000.0,88000.0,21000.0,111000.0,100000.0,115000.0,147000.0,137000.0,39000.0,120000.0,100000.0,125000.0,44000.0,78000.0,110000.0,73000.0,140000.0,126000.0,36000.0,95000.0,120000.0,180000.0,90000.0,48000.0,50000.0,40000.0,98000.0,100000.0,102000.0,165000.0,125000.0,92000.0,78000.0,140000.0,147000.0,104000.0,170000.0,110000.0,176000.0,113000.0,95000.0,158000.0,92000.0,95000.0,113000.0,95000.0,65000.0,115000.0,22000.0,128000.0,76000.0,70000.0,55000.0,18000.0,120000.0,117000.0,89000.0,37000.0,125000.0,100000.0,95000.0,114000.0,170000.0,100000.0,13000.0,100000.0,87000.0,112000.0,160000.0,141000.0,139000.0,120000.0,61000.0,100000.0,101000.0,112000.0,115000.0,158000.0,18000.0,85000.0,40000.0,60000.0,61000.0,150000.0,112000.0,117000.0,80000.0,82000.0,95000.0,164000.0,95000.0,130000.0,173000.0,212000.0,138000.0,99000.0,123000.0,125000.0,200000.0,100000.0,125000.0,32000.0,86000.0,95000.0,85000.0,90000.0,15000.0,65000.0,132000.0,90000.0,70000.0,85000.0,105000.0,125000.0,156000.0,110000.0,74000.0,85000.0,82000.0,132000.0,79000.0,144000.0,85000.0,56000.0,120000.0,150000.0,23000.0,136000.0,70000.0,110000.0,124000.0,68000.0,135000.0,77000.0,68000.0,110000.0,90000.0,54000.0,151000.0,156000.0,100000.0,95000.0,100000.0,65000.0,89000.0,84000.0,130000.0,90000.0,72000.0,99000.0,117000.0,100000.0,75000.0,142000.0,87000.0,23000.0,140000.0,69000.0,127000.0,93000.0,50000.0,45000.0,60000.0,150000.0,137000.0,137000.0,85000.0,113000.0,70000.0,185000.0,145000.0,19000.0,9000.0,142000.0,102000.0,100000.0,160000.0,91000.0,117000.0,121000.0,121000.0,119000.0,28000.0,60000.0,81000.0,88000.0,112000.0,95000.0,120000.0,110000.0,105000.0,66000.0,48000.0,80000.0,100000.0,90000.0,86000.0,112000.0,180000.0,23000.0,160000.0,43000.0,85000.0,120000.0,110000.0,120000.0,177000.0,140000.0,137000.0,107000.0,132000.0,161000.0,127000.0,163000.0,121000.0,137000.0,133000.0,155000.0,188000.0,123000.0,111000.0,86000.0,125000.0,160000.0,125000.0,129000.0,47000.0,95000.0,70000.0,130000.0,108000.0,194000.0,31000.0,112000.0,115000.0,200000.0,150000.0,145000.0,96000.0,46000.0,90000.0,70000.0,95000.0,103000.0,36000.0,140000.0,176000.0,100000.0,112000.0,150000.0,169000.0,92000.0,94000.0,103000.0,47000.0,53000.0,98000.0,120000.0,71000.0,100000.0,137000.0,168000.0,63000.0,138000.0,157000.0,78000.0,105000.0,135000.0,83000.0,170000.0,80000.0,152000.0,58000.0,95000.0,37000.0,96000.0,192000.0,25000.0,118000.0,87000.0,100000.0,110000.0,81000.0,90000.0,119000.0,92000.0,109000.0,165000.0,126000.0,25000.0,79000.0,93000.0,140000.0,115000.0,77000.0,97000.0,140000.0,86000.0,117000.0,138000.0,98000.0,130000.0,185000.0,102000.0,10000.0,87000.0,130000.0,105000.0,170000.0,175000.0,100000.0,135000.0,70000.0,136000.0,71000.0,13000.0,92000.0,119000.0,100000.0,111000.0,115000.0,120000.0,150000.0,135000.0,88000.0,106000.0,160000.0,126000.0,43000.0,133000.0,41000.0,88000.0,125000.0,175000.0,110000.0,150000.0,76000.0,112000.0,110000.0,114000.0,168000.0,104000.0,135000.0,120000.0,110000.0,120000.0,89000.0,150000.0,104000.0,27000.0,90000.0,46000.0,106000.0,155000.0,76000.0,111000.0,38000.0,88000.0,68000.0,78000.0,121000.0,200000.0,108000.0,91000.0,127000.0,150000.0,104000.0,140000.0,172000.0,66000.0,109000.0,111000.0,150000.0,115000.0,195000.0,130000.0,54000.0,101000.0,100000.0,120000.0,100000.0,150000.0,190000.0,140000.0,70000.0,99000.0,105000.0,168000.0,86000.0,85000.0,125000.0,115000.0,85000.0,110000.0,69000.0,125000.0,100000.0,18000.0,133000.0,28000.0,93000.0,25000.0,88000.0,48000.0,100000.0,161000.0,90000.0,165000.0,120000.0,194000.0,115000.0,110000.0,100000.0,140000.0,122000.0,118000.0,162000.0,75000.0,101000.0,95000.0,76000.0,112000.0,131000.0,200000.0,108000.0,96000.0,33000.0,160000.0,30000.0,61000.0,190000.0,153000.0,28000.0,118000.0,96000.0,92000.0,68000.0,193000.0,112000.0,120000.0,205000.0,90000.0,105000.0,98000.0,120000.0,110000.0,95000.0,53000.0,60000.0,56000.0,190000.0,150000.0,130000.0,145000.0,96000.0,75000.0,127000.0,72000.0,118000.0,55000.0,180000.0,76000.0,190000.0,70000.0,90000.0,137000.0,20000.0,90000.0,132000.0,153000.0,175000.0,28000.0,103000.0,76000.0,72000.0,117000.0,118000.0,112000.0,76000.0,93000.0,52000.0,123000.0,164000.0,39000.0,104000.0,25000.0,175000.0,114000.0,130000.0,62000.0,120000.0,113000.0,65000.0,350000.0,90000.0,182000.0,83000.0,124000.0,124000.0,130000.0,110000.0,46000.0,122000.0,175000.0,86000.0,86000.0,140000.0,53000.0,70000.0,64000.0,34000.0,117000.0,26000.0,140000.0,100000.0,181000.0,71000.0,68000.0,113000.0,160000.0,41000.0,44000.0,50000.0,103000.0,65000.0,111000.0,46000.0,120000.0,102000.0,78000.0,70000.0,74000.0,120000.0,160000.0,130000.0,191000.0,120000.0,180000.0,195000.0,105000.0,164000.0,104000.0,132000.0,94000.0,160000.0,135000.0,117000.0,150000.0,88000.0,93000.0,175000.0,25000.0,27000.0,85000.0,78000.0,205000.0,104000.0,110000.0,50000.0,150000.0,85000.0,178000.0,120000.0,40000.0,110000.0,115000.0,120000.0,55000.0,114000.0,67000.0,137000.0,165000.0,58000.0,97000.0,120000.0,135000.0,127000.0,125000.0,145000.0,76000.0,74000.0,135000.0,165000.0,182000.0,67000.0,30000.0,49000.0,101000.0,129000.0,67000.0,65000.0,110000.0,115000.0,82000.0,136000.0,102000.0,108000.0,135000.0,110000.0,48000.0,135000.0,125000.0,36000.0,87000.0,120000.0,190000.0,55000.0,145000.0,136000.0,100000.0,137000.0,113000.0,85000.0,108000.0,59000.0,32000.0,40000.0,120000.0,100000.0,140000.0,130000.0,95000.0,115000.0,80000.0,45000.0,78000.0,60000.0,150000.0,44000.0,85000.0,100000.0,110000.0,150000.0,110000.0,80000.0,98000.0,20000.0,52000.0,127000.0,145000.0,87000.0,115000.0,80000.0,42000.0,41000.0,72000.0,35000.0,110000.0,84000.0,140000.0,69000.0,110000.0,135000.0,220000.0,136000.0,91000.0,130000.0,145000.0,117000.0,70000.0,101000.0,36000.0,104000.0,195000.0,112000.0,136000.0,88000.0,70000.0,94000.0,105000.0,74000.0,225000.0,43000.0,42000.0,90000.0,105000.0,100000.0,126000.0,97000.0,82000.0,22000.0,150000.0,115000.0,110000.0,135000.0,97000.0,99000.0,129000.0,124000.0,83000.0,110000.0,110000.0,110000.0,110000.0,110000.0,110000.0,110000.0,110000.0,115000.0,150000.0,115000.0,40000.0,113000.0,101000.0,13000.0,72000.0,49000.0,146000.0,83000.0,114000.0,148000.0,130000.0,158000.0,135000.0,104000.0,120000.0,115000.0,83000.0,38000.0,78000.0,22000.0,75000.0,127000.0,93000.0,104000.0,108000.0,113000.0,85000.0,78000.0,130000.0,113000.0,35000.0,70000.0,215000.0,131000.0,172000.0,120000.0,58000.0,116000.0,187000.0,75000.0,157000.0,130000.0,35000.0,63000.0,121000.0,120000.0,115000.0,78000.0,91000.0,100000.0,62000.0,100000.0,135000.0,79000.0,124000.0,85000.0,114000.0,119000.0,100000.0,142000.0,105000.0,63000.0,138000.0,89000.0,101000.0,131000.0,141000.0,113000.0,72000.0,82000.0,103000.0,17000.0,203000.0,70000.0,136000.0,85000.0,177000.0,50000.0,43000.0,123000.0,103000.0,156000.0,10000.0,84000.0,86000.0,150000.0,55000.0,120000.0,140000.0,80000.0,74000.0,74000.0,84000.0,18000.0,150000.0,72000.0,54000.0,120000.0,90000.0,110000.0,138000.0,77000.0,71000.0,142000.0,80000.0,90000.0,200000.0,112000.0,80000.0,117000.0,119000.0,85000.0,135000.0,100000.0,135000.0,83000.0,50000.0,175000.0,90000.0,147000.0,107000.0,78000.0,86000.0,125000.0,155000.0,108000.0,20000.0,17000.0,130000.0,126000.0,131000.0,135000.0,158000.0,80000.0,150000.0,45000.0,227000.0,105000.0,93000.0,123000.0,90000.0,121000.0,100000.0,146000.0,94000.0,47000.0,165000.0,112000.0,65000.0,20000.0,116000.0,60000.0,20000.0,104000.0,120000.0,77000.0,70000.0,105000.0,13000.0,128000.0,104000.0,116000.0,158000.0,126000.0,93000.0,136000.0,94000.0,107000.0,67000.0,115000.0,100000.0,77000.0,120000.0,57000.0,190000.0,121000.0,104000.0,165000.0,180000.0,123000.0,215000.0,130000.0,85000.0,200000.0,20000.0,113000.0,70000.0,49000.0,85000.0,151000.0,106000.0,155000.0,100000.0,135000.0,68000.0,18000.0,150000.0,109000.0,40000.0,63000.0,97000.0,37000.0,73000.0,125000.0,90000.0,112000.0,112000.0,95000.0,114000.0,90000.0,103000.0,100000.0,95000.0,92000.0,122000.0,76000.0,95000.0,118000.0,115000.0,80000.0,155000.0,132000.0,75000.0,84000.0,92000.0,140000.0,170000.0,190000.0,8000.0,140000.0,43000.0,120000.0,142000.0,95000.0,140000.0,70000.0,7000.0,235000.0,160000.0,107000.0,160000.0,100000.0,98000.0,140000.0,30000.0,141000.0,140000.0,83000.0,83000.0,125000.0,44000.0,84000.0,170000.0,105000.0,110000.0,29000.0,127000.0,100000.0,17000.0,22000.0,33000.0,140000.0,37000.0,99000.0,167000.0,200000.0,95000.0,100000.0,33000.0,130000.0,170000.0,46000.0,114000.0,77000.0,100000.0,210000.0,140000.0,125000.0,32000.0,131000.0,107000.0,73000.0,65000.0,160000.0,125000.0,82000.0,97000.0,164000.0,26000.0,130000.0,86000.0,145000.0,102000.0,115000.0,59000.0,89000.0,82000.0,45000.0,50000.0,80000.0,150000.0,69000.0,120000.0,75000.0,36000.0,66000.0,160000.0,200000.0,80000.0,33000.0,72000.0,156000.0,42000.0,105000.0,185000.0,74000.0,30000.0,88000.0,178000.0,90000.0,137000.0,90000.0,85000.0,113000.0,137000.0,144000.0,105000.0,125000.0,21000.0,136000.0,84000.0,160000.0,160000.0,200000.0,72000.0,30000.0,120000.0,98000.0,100000.0,82000.0,44000.0,100000.0,78000.0,130000.0,145000.0,195000.0,110000.0,42000.0,82000.0,105000.0,61000.0,15000.0,120000.0,85000.0,9000.0,100000.0,80000.0,93000.0,23000.0,59000.0,145000.0,135000.0,120000.0,137000.0,125000.0,109000.0,40000.0,67000.0,85000.0,135000.0,76000.0,16000.0,27000.0,70000.0,152000.0,82000.0,123000.0,72000.0,120000.0,90000.0,82000.0,120000.0,120000.0,117000.0,105000.0,70000.0,152000.0,74000.0,70000.0,107000.0,34000.0,60000.0,122000.0,76000.0,145000.0,100000.0,34000.0,126000.0,160000.0,91000.0,69000.0,90000.0,156000.0,105000.0,110000.0,158000.0,141000.0,170000.0,102000.0,110000.0,120000.0,40000.0,93000.0,135000.0,107000.0,125000.0,108000.0,132000.0,106000.0,100000.0,100000.0,40000.0,90000.0,100000.0,155000.0,115000.0,120000.0,133000.0,175000.0,71000.0,105000.0,128000.0,100000.0,163000.0,156000.0,72000.0,185000.0,100000.0,145000.0,130000.0,9000.0,148000.0,174000.0,132000.0,95000.0,55000.0,116000.0,103000.0,100000.0,150000.0,121000.0,24000.0,100000.0,100000.0,76000.0,182000.0,67000.0,120000.0,158000.0,150000.0,130000.0,65000.0,43000.0,51000.0,140000.0,150000.0,101000.0,99000.0,12000.0,34000.0,60000.0,118000.0,108000.0,65000.0,125000.0,105000.0,90000.0,39000.0,79000.0,83000.0,84000.0,100000.0,112000.0,110000.0,124000.0,90000.0,15000.0,134000.0,27000.0,53000.0,29000.0,118000.0,109000.0,86000.0,76000.0,185000.0,135000.0,195000.0,75000.0,20000.0,92000.0,144000.0,18000.0,110000.0,165000.0,106000.0,83000.0,80000.0,106000.0,70000.0,75000.0,80000.0,90000.0,65000.0,100000.0,14000.0,24000.0,125000.0,90000.0,117000.0,160000.0,120000.0,70000.0,26000.0,92000.0,125000.0,120000.0,112000.0,16000.0,169000.0,174000.0,65000.0,70000.0,93000.0,163000.0,102000.0,85000.0,20000.0,137000.0,110000.0,159000.0,152000.0,95000.0,86000.0,155000.0,100000.0,150000.0,6000.0,63000.0,145000.0,44000.0,150000.0,121000.0,78000.0,145000.0,115000.0,70000.0,164000.0,70000.0,85000.0,51000.0,35000.0,126000.0,73000.0,17000.0,90000.0,113000.0,150000.0,100000.0,115000.0,110000.0,98000.0,44000.0,66000.0,105000.0,83000.0,90000.0,120000.0,89000.0,125000.0,40000.0,110000.0,25000.0,130000.0,93000.0,145000.0,157000.0,105000.0,85000.0,129000.0,110000.0,190000.0,42000.0,140000.0,20000.0,40000.0,55000.0,156000.0,62000.0,159000.0,92000.0,112000.0,70000.0,125000.0,95000.0,185000.0,22000.0,50000.0,72000.0,77000.0,97000.0,110000.0,166000.0,105000.0,80000.0,93000.0,20000.0,128000.0,100000.0,108000.0,195000.0,80000.0,150000.0,160000.0,105000.0,130000.0,114000.0,161000.0,110000.0,24000.0,170000.0,140000.0,110000.0,145000.0,80000.0,100000.0,72000.0,50000.0,150000.0,125000.0,86000.0,63000.0,109000.0,114000.0,72000.0,85000.0,28000.0,67000.0,100000.0,120000.0,125000.0,95000.0,153000.0,125000.0,131000.0,146000.0,127000.0,130000.0,94000.0,108000.0,150000.0,30000.0,90000.0,125000.0,110000.0,52000.0,30000.0,127000.0,110000.0,85000.0,37000.0,131000.0,128000.0,66000.0,100000.0,130000.0,84000.0,76000.0,59000.0,84000.0,95000.0,125000.0,5000.0,150000.0,15000.0,100000.0,85000.0,89000.0,130000.0,28000.0,24000.0,120000.0,120000.0,90000.0,178000.0,85000.0,150000.0,140000.0,125000.0,98000.0,70000.0,26000.0,82000.0,74000.0,110000.0,83000.0,70000.0,121000.0,14000.0,174000.0,115000.0,47000.0,55000.0,30000.0,125000.0,138000.0,85000.0,79000.0,29000.0,115000.0,71000.0,140000.0,70000.0,107000.0,110000.0,64000.0,56000.0,104000.0,104000.0,28000.0,86000.0,160000.0,15000.0,88000.0,115000.0,75000.0,80000.0,80000.0,111000.0,46000.0,120000.0,170000.0,160000.0,140000.0,95000.0,105000.0,105000.0,33000.0,130000.0,125000.0,120000.0,80000.0,160000.0,83000.0,100000.0,155000.0,89000.0,29000.0,68000.0,113000.0,145000.0,110000.0,130000.0,46000.0,95000.0,180000.0,105000.0,120000.0,63000.0,75000.0,220000.0,106000.0,165000.0,36000.0,105000.0,25000.0,80000.0,78000.0,144000.0,90000.0,113000.0,70000.0,112000.0,128000.0,112000.0,90000.0,80000.0,74000.0,85000.0,62000.0,88000.0,115000.0,100000.0,85000.0,13000.0,103000.0,43000.0,125000.0,120000.0,67000.0,65000.0,65000.0,130000.0,74000.0,100000.0,150000.0,44000.0,140000.0,11000.0,51000.0,130000.0,173000.0,60000.0,28000.0,150000.0,42000.0,106000.0,140000.0,74000.0,115000.0,135000.0,95000.0,31000.0,115000.0,90000.0,77000.0,44000.0,30000.0,83000.0,104000.0,126000.0,118000.0,121000.0,120000.0,127000.0,46000.0,110000.0,65000.0,115000.0,98000.0,110000.0,100000.0,110000.0,135000.0,80000.0,75000.0,130000.0,100000.0,86000.0,105000.0,95000.0,83000.0,98000.0,100000.0,100000.0,140000.0,176000.0,47000.0,125000.0,90000.0,123000.0,34000.0,67000.0,48000.0,115000.0,144000.0,116000.0,140000.0,127000.0,114000.0,140000.0,82000.0,132000.0,28000.0,68000.0,30000.0,123000.0,110000.0,169000.0,37000.0,75000.0,117000.0,135000.0,35000.0,34000.0,135000.0,200000.0,165000.0,104000.0,85000.0,128000.0,125000.0,110000.0,36000.0,90000.0,90000.0,90000.0,134000.0,139000.0,160000.0,130000.0,19000.0,119000.0,102000.0,105000.0,95000.0,142000.0,145000.0,112000.0,84000.0,73000.0,150000.0,82000.0,70000.0,64000.0,68000.0,105000.0,96000.0,117000.0,132000.0,108000.0,42000.0,115000.0,155000.0,150000.0,99000.0,18000.0,115000.0,31000.0,70000.0,160000.0,150000.0,175000.0,142000.0,135000.0,110000.0,65000.0,90000.0,72000.0,99000.0,50000.0,115000.0,117000.0,135000.0,175000.0,100000.0,100000.0,67000.0,91000.0,112000.0,200000.0,23000.0,103000.0,95000.0,79000.0,46000.0,33000.0,83000.0,130000.0,45000.0,136000.0,30000.0,126000.0,92000.0,165000.0,136000.0,150000.0,100000.0,95000.0,116000.0,135000.0,61000.0,119000.0,65000.0,45000.0,35000.0,108000.0,135000.0,107000.0,153000.0,110000.0,92000.0,80000.0,88000.0,100000.0,18000.0,35000.0,133000.0,91000.0,81000.0,155000.0,135000.0,103000.0,120000.0,31000.0,172000.0,72000.0,47000.0,86000.0,75000.0,129000.0,83000.0,125000.0,99000.0,69000.0,126000.0,130000.0,100000.0,65000.0,87000.0,140000.0,84000.0,115000.0,73000.0,105000.0,105000.0,180000.0,120000.0,85000.0,44000.0,132000.0,24000.0,93000.0,122000.0,110000.0,80000.0,85000.0,105000.0,135000.0,126000.0,154000.0,45000.0,36000.0,64000.0,50000.0,126000.0,88000.0,110000.0,117000.0,112000.0,20000.0,144000.0,135000.0,78000.0,86000.0,70000.0,29000.0,74000.0,48000.0,28000.0,145000.0,150000.0,21000.0,62000.0,101000.0,59000.0,193000.0,30000.0,120000.0,16000.0,115000.0,92000.0,40000.0,88000.0,98000.0,95000.0,76000.0,37000.0,100000.0,90000.0,185000.0,110000.0,129000.0,43000.0,110000.0,126000.0,150000.0,38000.0,201000.0,16000.0,75000.0,66000.0,140000.0,105000.0,110000.0,64000.0,130000.0,100000.0,74000.0,135000.0,165000.0,130000.0,105000.0,34000.0,144000.0,20000.0,100000.0,103000.0,78000.0,130000.0,45000.0,78000.0,112000.0,155000.0,111000.0,160000.0,27000.0,150000.0,36000.0,53000.0,25000.0,27000.0,170000.0,160000.0,120000.0,66000.0,160000.0,70000.0,120000.0,88000.0,78000.0,32000.0,117000.0,139000.0,68000.0,194000.0,140000.0,194000.0,73000.0,110000.0,99000.0,105000.0,17000.0,220000.0,124000.0,67000.0,92000.0,160000.0,160000.0,142000.0,144000.0,152000.0,84000.0,128000.0,112000.0,140000.0,77000.0,144000.0,100000.0,106000.0,130000.0,38000.0,134000.0,23000.0,135000.0,40000.0,100000.0,160000.0,34000.0,142000.0,67000.0,130000.0,70000.0,55000.0,17000.0,112000.0,108000.0,100000.0,125000.0,147000.0,31000.0,180000.0,120000.0,95000.0,118000.0,80000.0,100000.0,130000.0,77000.0,70000.0,86000.0,120000.0,40000.0,80000.0,136000.0,82000.0,85000.0,33000.0,70000.0,165000.0,76000.0,80000.0,160000.0,22000.0,68000.0,115000.0,42000.0,42000.0,36000.0,22000.0,21000.0,108000.0,45000.0,29000.0,155000.0,100000.0,70000.0,90000.0,112000.0,68000.0,45000.0,96000.0,160000.0,24000.0,95000.0,131000.0,71000.0,75000.0,100000.0,127000.0,32000.0,103000.0,175000.0,93000.0,87000.0,87000.0,32000.0,83000.0,107000.0,98000.0,105000.0,34000.0,141000.0,159000.0,112000.0,85000.0,96000.0,110000.0,110000.0,105000.0,125000.0,33000.0,130000.0,120000.0,64000.0,105000.0,73000.0,18000.0,120000.0,106000.0,131000.0,66000.0,174000.0,37000.0,43000.0,93000.0,50000.0,100000.0,130000.0,98000.0,22000.0,82000.0,48000.0,58000.0,104000.0,120000.0,110000.0,78000.0,67000.0,115000.0,140000.0,95000.0,180000.0,89000.0,78000.0,73000.0,98000.0,82000.0,128000.0,130000.0,82000.0,58000.0,69000.0,85000.0,123000.0,156000.0,140000.0,92000.0,102000.0,115000.0,123000.0,132000.0,125000.0,74000.0,69000.0,110000.0,125000.0,117000.0,105000.0,181000.0,77000.0,62000.0,144000.0,62000.0,130000.0,185000.0,135000.0,138000.0,111000.0,140000.0,145000.0,77000.0,135000.0,29000.0,67000.0,118000.0,72000.0,145000.0,75000.0,114000.0,131000.0,77000.0,104000.0,75000.0,100000.0,75000.0,23000.0,105000.0,48000.0,156000.0,116000.0,120000.0,101000.0,38000.0,117000.0,165000.0,137000.0,34000.0,108000.0,105000.0,58000.0,130000.0,150000.0,126000.0,74000.0,13000.0,95000.0,100000.0,70000.0,108000.0,135000.0,104000.0,120000.0,91000.0,101000.0,21000.0,23000.0,160000.0,115000.0,78000.0,126000.0,104000.0,136000.0,36000.0,138000.0,130000.0,125000.0,155000.0,118000.0,27000.0,57000.0,92000.0,122000.0,79000.0,145000.0,108000.0,70000.0,104000.0,73000.0,139000.0,103000.0,112000.0,141000.0,30000.0,117000.0,30000.0,113000.0,154000.0,135000.0,120000.0,85000.0,140000.0,150000.0,175000.0,140000.0,110000.0,32000.0,42000.0,38000.0,47000.0,38000.0,195000.0,86000.0,89000.0,200000.0,83000.0,121000.0,81000.0,160000.0,100000.0,23000.0,142000.0,34000.0,11000.0,45000.0,122000.0,80000.0,140000.0,120000.0,102000.0,151000.0,128000.0,80000.0,24000.0,139000.0,85000.0,124000.0,45000.0,43000.0,80000.0,40000.0,132000.0,90000.0,140000.0,71000.0,91000.0,12000.0,80000.0,65000.0,69000.0,105000.0,105000.0,104000.0,18000.0,166000.0,32000.0,148000.0,80000.0,100000.0,100000.0,24000.0,85000.0,116000.0,78000.0,188000.0,150000.0,166000.0,136000.0,38000.0,78000.0,19000.0,125000.0,132000.0,23000.0,125000.0,72000.0,75000.0,104000.0,120000.0,35000.0,114000.0,85000.0,120000.0,59000.0,85000.0,80000.0,101000.0,105000.0,140000.0,115000.0,76000.0,126000.0,95000.0,92000.0,100000.0,100000.0,13000.0,110000.0,90000.0,115000.0,93000.0,70000.0,145000.0,80000.0,30000.0,120000.0,10000.0,50000.0,136000.0,84000.0,84000.0,21000.0,68000.0,99000.0,123000.0,168000.0,36000.0,150000.0,195000.0,120000.0,100000.0,140000.0,102000.0,170000.0,95000.0,85000.0,123000.0,156000.0,132000.0,78000.0,87000.0,82000.0,152000.0,108000.0,150000.0,110000.0,78000.0,24000.0,122000.0,85000.0,95000.0,110000.0,143000.0,103000.0,20000.0,107000.0,115000.0,102000.0,122000.0,34000.0,125000.0,45000.0,50000.0,50000.0,37000.0,91000.0,89000.0,157000.0,120000.0,70000.0,185000.0,140000.0,135000.0,98000.0,137000.0,135000.0,80000.0,78000.0,66000.0,88000.0,35000.0,80000.0,180000.0,109000.0,150000.0,125000.0,87000.0,127000.0,155000.0,198000.0,138000.0,33000.0,123000.0,150000.0,129000.0,115000.0,65000.0,115000.0,89000.0,140000.0,24000.0,25000.0,90000.0,115000.0,93000.0,160000.0,125000.0,58000.0,60000.0,135000.0,106000.0,108000.0,188000.0,55000.0,87000.0,100000.0,111000.0,32000.0,112000.0,88000.0,50000.0,60000.0,143000.0,102000.0,143000.0,77000.0,158000.0,129000.0,68000.0,130000.0,69000.0,124000.0,160000.0,37000.0,58000.0,180000.0,93000.0,120000.0,96000.0,100000.0,62000.0,158000.0,150000.0,110000.0,150000.0,180000.0,103000.0,73000.0,130000.0,383000.0,37000.0,78000.0,88000.0,118000.0,160000.0,90000.0,135000.0,21000.0,97000.0,37000.0,116000.0,134000.0,98000.0,36000.0,78000.0,150000.0,90000.0,32000.0,72000.0,144000.0,70000.0,90000.0,51000.0,28000.0,45000.0,126000.0,140000.0,130000.0,40000.0,110000.0,41000.0,175000.0,85000.0,22000.0,180000.0,135000.0,38000.0,85000.0,104000.0,95000.0,123000.0,117000.0,97000.0,120000.0,70000.0,115000.0,116000.0,43000.0,120000.0,83000.0,115000.0,21000.0,100000.0,92000.0,97000.0,132000.0,70000.0,177000.0,38000.0,137000.0,158000.0,75000.0,27000.0,127000.0,98000.0,72000.0,95000.0,90000.0,75000.0,77000.0,103000.0,73000.0,87000.0,180000.0,120000.0,103000.0,60000.0,100000.0,24000.0,137000.0,30000.0,33000.0,67000.0,190000.0,105000.0,109000.0,47000.0,110000.0,160000.0,123000.0,39000.0,19000.0,150000.0,27000.0,38000.0,25000.0,36000.0,240000.0,78000.0,115000.0,99000.0,100000.0,150000.0,90000.0,134000.0,145000.0,58000.0,84000.0,91000.0,28000.0,16000.0,35000.0,72000.0,82000.0,160000.0,145000.0,120000.0,42000.0,36000.0,166000.0,122000.0,113000.0,70000.0,125000.0,90000.0,104000.0,105000.0,113000.0,22000.0,80000.0,110000.0,34000.0,21000.0,38000.0,58000.0,77000.0,58000.0,95000.0,34000.0,104000.0,123000.0,107000.0,127000.0,23000.0,90000.0,85000.0,111000.0,182000.0,73000.0,19000.0,200000.0,65000.0,105000.0,90000.0,82000.0,80000.0,165000.0,118000.0,97000.0,114000.0,125000.0,145000.0,82000.0,92000.0,100000.0,140000.0,88000.0,165000.0,80000.0,76000.0,85000.0,100000.0,116000.0,72000.0,100000.0,92000.0,162000.0,100000.0,35000.0,30000.0,96000.0,143000.0,135000.0,65000.0,10000.0,82000.0,146000.0,110000.0,80000.0,130000.0,130000.0,104000.0,31000.0,21000.0,70000.0,145000.0,116000.0,98000.0,37000.0,25000.0,68000.0,41000.0,34000.0,49000.0,70000.0,120000.0,108000.0,149000.0,82000.0,46000.0,87000.0,78000.0,87000.0,79000.0,226000.0,33000.0,86000.0,113000.0,80000.0,74000.0,77000.0,160000.0,111000.0,115000.0,140000.0,111000.0,93000.0,10000.0,85000.0,55000.0,87000.0,149000.0,160000.0,75000.0,145000.0,135000.0,21000.0,20000.0,115000.0,186000.0,27000.0,16000.0,124000.0,35000.0,108000.0,31000.0,19000.0,99000.0,87000.0,111000.0,145000.0,105000.0,86000.0,39000.0,37000.0,88000.0,53000.0,28000.0,130000.0,110000.0,78000.0,143000.0,85000.0,30000.0,24000.0,74000.0,60000.0,61000.0,126000.0,91000.0,105000.0,18000.0,135000.0,30000.0,27000.0,129000.0,135000.0,120000.0,11000.0,22000.0,13000.0,13000.0,50000.0,50000.0,80000.0,77000.0,130000.0,49000.0,200000.0,84000.0,140000.0,85000.0,40000.0,126000.0,60000.0,133000.0,145000.0,130000.0,76000.0,125000.0,14000.0,125000.0,41000.0,44000.0,100000.0,27000.0,111000.0,75000.0,29000.0,116000.0,45000.0,125000.0,165000.0,134000.0,36000.0,99000.0,135000.0,99000.0,50000.0,145000.0,102000.0,85000.0,130000.0,88000.0,30000.0,150000.0,155000.0,117000.0,48000.0,150000.0,140000.0,50000.0,127000.0,60000.0,60000.0,48000.0,110000.0,72000.0,21000.0,137000.0,87000.0,43000.0,160000.0,100000.0,76000.0,12000.0,79000.0,66000.0,69000.0,25000.0,18000.0,86000.0,132000.0,166000.0,60000.0,62000.0,29000.0,76000.0,135000.0,100000.0,87000.0,29000.0,80000.0,45000.0,23000.0,137000.0,65000.0,94000.0,41000.0,73000.0,106000.0,83000.0,23000.0,125000.0,115000.0,123000.0,72000.0,140000.0,106000.0,186000.0,70000.0,47000.0,108000.0,80000.0,70000.0,90000.0,176000.0,127000.0,112000.0,125000.0,70000.0,71000.0,65000.0,20000.0,30000.0,70000.0,83000.0,70000.0,92000.0,75000.0,82000.0,18000.0,42000.0,163000.0,27000.0,169000.0,158000.0,132000.0,200000.0,120000.0,104000.0,67000.0,112000.0,108000.0,85000.0,95000.0,125000.0,115000.0,130000.0,65000.0,85000.0,79000.0,87000.0,108000.0,150000.0,175000.0,95000.0,25000.0,125000.0,24000.0,125000.0,114000.0,155000.0,100000.0,155000.0,116000.0,135000.0,34000.0,171000.0,84000.0,152000.0,165000.0,110000.0,135000.0,32000.0,40000.0,106000.0,70000.0,114000.0,100000.0,86000.0,72000.0,123000.0,120000.0,114000.0,35000.0,187000.0,120000.0,17000.0,131000.0,123000.0,73000.0,71000.0,112000.0,160000.0,54000.0,134000.0,125000.0,108000.0,170000.0,120000.0,96000.0,90000.0,117000.0,12000.0,130000.0,65000.0,65000.0,65000.0,111000.0,112000.0,115000.0,128000.0,95000.0,81000.0,130000.0,149000.0,86000.0,58000.0,45000.0,57000.0,30000.0,99000.0,125000.0,21000.0,106000.0,75000.0,106000.0,93000.0,35000.0,70000.0,55000.0,68000.0,105000.0,52000.0,40000.0,76000.0,99000.0,80000.0,90000.0,150000.0,80000.0,18000.0,57000.0,54000.0,44000.0,106000.0,88000.0,98000.0,81000.0,100000.0,100000.0,142000.0,130000.0,99000.0,24000.0,123000.0,137000.0,85000.0,109000.0,98000.0,155000.0,200000.0,130000.0,78000.0,220000.0,17000.0,88000.0,116000.0,155000.0,48000.0,22000.0,82000.0,68000.0,95000.0,112000.0,75000.0,40000.0,25000.0,140000.0,86000.0,77000.0,100000.0,129000.0,102000.0,172000.0,184000.0,120000.0,37000.0,76000.0,90000.0,128000.0,128000.0,138000.0,122000.0,70000.0,133000.0,196000.0,95000.0,27000.0,67000.0,97000.0,50000.0,70000.0,110000.0,130000.0,80000.0,95000.0,76000.0,106000.0,160000.0,100000.0,145000.0,230000.0,103000.0,115000.0,73000.0,190000.0,74000.0,55000.0,137000.0,91000.0,44000.0,60000.0,59000.0,112000.0,108000.0,125000.0,59000.0,160000.0,46000.0,30000.0,77000.0,71000.0,100000.0,39000.0,170000.0,133000.0,170000.0,98000.0,112000.0,82000.0,120000.0,65000.0,133000.0,20000.0,120000.0,174000.0,75000.0,83000.0,147000.0,155000.0,73000.0,101000.0,87000.0,121000.0,20000.0,130000.0,135000.0,117000.0,130000.0,83000.0,48000.0,170000.0,152000.0,109000.0,72000.0,115000.0,130000.0,38000.0,30000.0,134000.0,80000.0,100000.0,113000.0,60000.0,50000.0,130000.0,135000.0,90000.0,131000.0,150000.0,95000.0,142000.0,76000.0,99000.0,150000.0,145000.0,83000.0,129000.0,23000.0,100000.0,64000.0,193000.0,120000.0,15000.0,117000.0,82000.0,140000.0,168000.0,100000.0,40000.0,96000.0,44000.0,18000.0,60000.0,90000.0,73000.0,107000.0,98000.0,101000.0,62000.0,100000.0,128000.0,184000.0,20000.0,112000.0,178000.0,100000.0,98000.0,160000.0,20000.0,130000.0,186000.0,78000.0,105000.0,23000.0,86000.0,175000.0,50000.0,174000.0,109000.0,95000.0,126000.0,150000.0,175000.0,98000.0,142000.0,120000.0,128000.0,75000.0,83000.0,56000.0,16000.0,65000.0,53000.0,143000.0,76000.0,29000.0,145000.0,132000.0,69000.0,60000.0,116000.0,24000.0,15000.0,59000.0,59000.0,14000.0,132000.0,46000.0,105000.0,34000.0,131000.0,90000.0,25000.0,39000.0,105000.0,30000.0,95000.0,84000.0,150000.0,137000.0,155000.0,134000.0,49000.0,155000.0,150000.0,78000.0,115000.0,115000.0,85000.0,110000.0,110000.0,150000.0,109000.0,95000.0,56000.0,55000.0,160000.0,150000.0,30000.0,35000.0,12000.0,79000.0,100000.0,38000.0,116000.0,31000.0,130000.0,95000.0,81000.0,150000.0,169000.0,131000.0,160000.0,150000.0,145000.0,75000.0,131000.0,120000.0,75000.0,41000.0,59000.0,115000.0,155000.0,87000.0,130000.0,125000.0,101000.0,131000.0,108000.0,19000.0,77000.0,19000.0,113000.0,130000.0,106000.0,207000.0,41000.0,72000.0,95000.0,90000.0,34000.0,90000.0,62000.0,40000.0,77000.0,30000.0,130000.0,135000.0,14000.0,107000.0,58000.0,160000.0,97000.0,20000.0,105000.0,68000.0,87000.0,83000.0,62000.0,87000.0,139000.0,201000.0,300000.0,160000.0,160000.0,100000.0,70000.0,85000.0,95000.0,95000.0,90000.0,115000.0,38000.0,126000.0,135000.0,94000.0,130000.0,110000.0,88000.0,110000.0,98000.0,47000.0,75000.0,163000.0,105000.0,98000.0,137000.0,74000.0,133000.0,144000.0,116000.0,130000.0,53000.0,20000.0,71000.0,72000.0,130000.0,110000.0,90000.0,140000.0,45000.0,72000.0,109000.0,126000.0,21000.0,60000.0,65000.0,105000.0,95000.0,90000.0,122000.0,135000.0,85000.0,80000.0,84000.0,140000.0,63000.0,98000.0,157000.0,100000.0,116000.0,24000.0,130000.0,76000.0,135000.0,80000.0,92000.0,143000.0,65000.0,105000.0,68000.0,131000.0,127000.0,70000.0,120000.0,110000.0,134000.0,58000.0,141000.0,93000.0,54000.0,18000.0,106000.0,36000.0,160000.0,65000.0,141000.0,32000.0,90000.0,28000.0,160000.0,80000.0,85000.0,135000.0,43000.0,98000.0,133000.0,41000.0,51000.0,38000.0,78000.0,71000.0,130000.0,85000.0,128000.0,82000.0,47000.0,105000.0,185000.0,120000.0,88000.0,135000.0,100000.0,32000.0,31000.0,78000.0,154000.0,134000.0,106000.0,100000.0,115000.0,73000.0,142000.0,126000.0,65000.0,34000.0,95000.0,69000.0,121000.0,62000.0,90000.0,121000.0,130000.0,93000.0,220000.0,213000.0,126000.0,86000.0,96000.0,113000.0,85000.0,77000.0,110000.0,124000.0,108000.0,119000.0,24000.0,105000.0,120000.0,96000.0,89000.0,68000.0,200000.0,90000.0,108000.0,420000.0,16000.0,45000.0,161000.0,140000.0,17000.0,126000.0,85000.0,126000.0,140000.0,122000.0,156000.0,105000.0,90000.0,152000.0,145000.0,150000.0,110000.0,121000.0,10000.0,93000.0,108000.0,101000.0,190000.0,86000.0,81000.0,92000.0,120000.0,48000.0,75000.0,100000.0,135000.0,85000.0,85000.0,109000.0,180000.0,18000.0,75000.0,22000.0,64000.0,147000.0,43000.0,72000.0,20000.0,64000.0,56000.0,125000.0,94000.0,162000.0,95000.0,113000.0,80000.0,148000.0,21000.0,167000.0,29000.0,116000.0,110000.0,64000.0,164000.0,111000.0,80000.0,180000.0,125000.0,84000.0,68000.0,94000.0,83000.0,41000.0,74000.0,80000.0,130000.0,80000.0,11000.0,200000.0,102000.0,105000.0,115000.0,24000.0,72000.0,35000.0,36000.0,116000.0,135000.0,150000.0,115000.0,150000.0,101000.0,70000.0,88000.0,47000.0,26000.0,34000.0,61000.0,100000.0,85000.0,97000.0,91000.0,43000.0,65000.0,16000.0,80000.0,86000.0,24000.0,90000.0,65000.0,18000.0,48000.0,78000.0,26000.0,119000.0,102000.0,90000.0,180000.0,65000.0,80000.0,113000.0,115000.0,50000.0,150000.0,100000.0,107000.0,62000.0,100000.0,51000.0,41000.0,83000.0,170000.0,120000.0,250000.0,114000.0,102000.0,44000.0,40000.0,36000.0,95000.0,81000.0,90000.0,115000.0,50000.0,76000.0,85000.0,81000.0,116000.0,110000.0,125000.0,12000.0,65000.0,67000.0,76000.0,37000.0,205000.0,46000.0,103000.0,141000.0,92000.0,83000.0,120000.0,118000.0,55000.0,139000.0,71000.0,43000.0,175000.0,140000.0,115000.0,108000.0,120000.0,130000.0,100000.0,140000.0,132000.0,35000.0,100000.0,186000.0,80000.0,160000.0,94000.0,77000.0,115000.0,95000.0,98000.0,84000.0,140000.0,125000.0,65000.0,140000.0,140000.0,42000.0,36000.0,50000.0,110000.0,75000.0,89000.0,14000.0,65000.0,65000.0,165000.0,80000.0,170000.0,80000.0,45000.0,72000.0,16000.0,130000.0,135000.0,93000.0,140000.0,142000.0,150000.0,97000.0,91000.0,125000.0,100000.0,59000.0,27000.0,64000.0,32000.0,103000.0,131000.0,34000.0,77000.0,116000.0,140000.0,59000.0,110000.0,120000.0,80000.0,128000.0,10000.0,78000.0,110000.0,34000.0,64000.0,45000.0,114000.0,20000.0,21000.0,114000.0,95000.0,115000.0,95000.0,112000.0,100000.0,120000.0,100000.0,127000.0,65000.0,99000.0,60000.0,200000.0,93000.0,142000.0,104000.0,120000.0,55000.0,81000.0,60000.0,116000.0,130000.0,80000.0,190000.0,35000.0,43000.0,120000.0,98000.0,110000.0,100000.0,47000.0,112000.0,140000.0,36000.0,84000.0,150000.0,99000.0,160000.0,68000.0,71000.0,79000.0,98000.0,144000.0,134000.0,140000.0,102000.0,175000.0,145000.0,105000.0,95000.0,140000.0,99000.0,124000.0,62000.0,81000.0,106000.0,80000.0,95000.0,103000.0,168000.0,65000.0,120000.0,131000.0,103000.0,54000.0,27000.0,7000.0,90000.0,104000.0,173000.0,69000.0,30000.0,80000.0,96000.0,137000.0,68000.0,78000.0,27000.0,16000.0,77000.0,51000.0,60000.0,26000.0,60000.0,29000.0,30000.0,103000.0,26000.0,141000.0,25000.0,105000.0,160000.0,115000.0,134000.0,41000.0,19000.0,29000.0,16000.0,35000.0,90000.0,110000.0,110000.0,115000.0,122000.0,58000.0,22000.0,51000.0,59000.0,47000.0,145000.0,55000.0,133000.0,23000.0,55000.0,84000.0,80000.0,165000.0,150000.0,130000.0,90000.0,112000.0,35000.0,50000.0,87000.0,95000.0,48000.0,19000.0,130000.0,95000.0,12000.0,34000.0,80000.0,89000.0,93000.0,122000.0,144000.0,102000.0,100000.0,35000.0,107000.0,110000.0,140000.0,140000.0,56000.0,105000.0,114000.0,162000.0,95000.0,127000.0,72000.0,95000.0,102000.0,99000.0,55000.0,101000.0,192000.0,54000.0,97000.0,92000.0,84000.0,135000.0,140000.0,85000.0,150000.0,110000.0,27000.0,40000.0,55000.0,120000.0,25000.0,94000.0,84000.0,63000.0,108000.0,63000.0,41000.0,113000.0,12000.0,143000.0,70000.0,96000.0,87000.0,80000.0,80000.0,120000.0,47000.0,101000.0,116000.0,54000.0,33000.0,109000.0,160000.0,36000.0,78000.0,81000.0,119000.0,112000.0,70000.0,142000.0,108000.0,105000.0,120000.0,140000.0,136000.0,130000.0,157000.0,116000.0,60000.0,111000.0,106000.0,99000.0,142000.0,88000.0,42000.0,115000.0,111000.0,95000.0,145000.0,28000.0,20000.0,39000.0,130000.0,130000.0,147000.0,130000.0,102000.0,65000.0,134000.0,41000.0,110000.0,29000.0,146000.0,43000.0,36000.0,175000.0,28000.0,139000.0,145000.0,202000.0,145000.0,83000.0,40000.0,100000.0,140000.0,135000.0,160000.0,58000.0,88000.0,165000.0,104000.0,120000.0,27000.0,135000.0,81000.0,110000.0,95000.0,135000.0,120000.0,135000.0,100000.0,94000.0,125000.0,25000.0,90000.0,132000.0,142000.0,88000.0,120000.0,137000.0,65000.0,37000.0,41000.0,102000.0,114000.0,78000.0,112000.0,60000.0,23000.0,20000.0,155000.0,79000.0,98000.0,105000.0,99000.0,233000.0,35000.0,70000.0,125000.0,131000.0,34000.0,66000.0,144000.0,80000.0,104000.0,58000.0,116000.0,18000.0,113000.0,65000.0,172000.0,105000.0,127000.0,75000.0,74000.0,32000.0,140000.0,19000.0,75000.0,125000.0,160000.0,120000.0,45000.0,19000.0,94000.0,165000.0,113000.0,14000.0,116000.0,150000.0,75000.0,12000.0,92000.0,80000.0,23000.0,115000.0,115000.0,133000.0,165000.0,12000.0,125000.0,76000.0,80000.0,71000.0,98000.0,47000.0,23000.0,105000.0,29000.0,144000.0,118000.0,145000.0,136000.0,150000.0,176000.0,140000.0,69000.0,124000.0,100000.0,132000.0,26000.0,11000.0,118000.0,128000.0,224000.0,100000.0,31000.0,215000.0,36000.0,30000.0,100000.0,120000.0,93000.0,140000.0,220000.0,57000.0,125000.0,115000.0,141000.0,40000.0,70000.0,250000.0,67000.0,35000.0,130000.0,110000.0,22000.0,60000.0,113000.0,145000.0,75000.0,31000.0,130000.0,78000.0,103000.0,100000.0,18000.0,41000.0,137000.0,80000.0,102000.0,104000.0,135000.0,155000.0,11000.0,68000.0,76000.0,26000.0,95000.0,90000.0,63000.0,117000.0,88000.0,50000.0,49000.0,95000.0,99000.0,86000.0,58000.0,78000.0,37000.0,81000.0,21000.0,105000.0,84000.0,86000.0,128000.0,101000.0,112000.0,160000.0,24000.0,175000.0,31000.0,116000.0,170000.0,80000.0,42000.0,192000.0,120000.0,10000.0,10000.0,145000.0,86000.0,41000.0,170000.0,165000.0,115000.0,124000.0,140000.0,65000.0,180000.0,83000.0,38000.0,130000.0,135000.0,144000.0,142000.0,35000.0,150000.0,140000.0,56000.0,120000.0,39000.0,112000.0,76000.0,105000.0,63000.0,76000.0,71000.0,90000.0,97000.0,72000.0,100000.0,119000.0,120000.0,60000.0,61000.0,85000.0,22000.0,200000.0,31000.0,108000.0,85000.0,158000.0,52000.0,71000.0,41000.0,150000.0,180000.0,93000.0,61000.0,115000.0,75000.0,98000.0,22000.0,140000.0,38000.0,130000.0,27000.0,112000.0,95000.0,135000.0,99000.0,145000.0,86000.0,106000.0,145000.0,86000.0,57000.0,145000.0,119000.0,130000.0,73000.0,75000.0,16000.0,142000.0,72000.0,120000.0,150000.0,138000.0,150000.0,106000.0,130000.0,150000.0,19000.0,288000.0,157000.0,148000.0,40000.0,90000.0,110000.0,110000.0,108000.0,130000.0,121000.0,164000.0,65000.0,90000.0,17000.0,150000.0,16000.0,127000.0,90000.0,84000.0,70000.0,78000.0,175000.0,18000.0,145000.0,140000.0,190000.0,170000.0,93000.0,115000.0,116000.0,94000.0,144000.0,210000.0,54000.0,139000.0,61000.0,60000.0,125000.0,205000.0,80000.0,71000.0,175000.0,28000.0,27000.0,227000.0,92000.0,105000.0,135000.0,85000.0,80000.0,110000.0,172000.0,80000.0,63000.0,33000.0,197000.0,44000.0,91000.0,70000.0,135000.0,82000.0,100000.0,95000.0,85000.0,43000.0,27000.0,25000.0,21000.0,105000.0,99000.0,54000.0,125000.0,80000.0,85000.0,40000.0,175000.0,97000.0,83000.0,97000.0,96000.0,42000.0,190000.0,139000.0,80000.0,30000.0,22000.0,112000.0,117000.0,125000.0,143000.0,79000.0,172000.0,41000.0,21000.0,141000.0,17000.0,170000.0,37000.0,116000.0,80000.0,95000.0,95000.0,85000.0,30000.0,41000.0,14000.0,110000.0,153000.0,73000.0,130000.0,76000.0,134000.0,240000.0,57000.0,86000.0,100000.0,50000.0,131000.0,75000.0,88000.0,190000.0,100000.0,69000.0,110000.0,139000.0,112000.0,43000.0,112000.0,86000.0,15000.0,140000.0,29000.0,95000.0,75000.0,175000.0,80000.0,108000.0,128000.0,120000.0,160000.0,118000.0,131000.0,115000.0,75000.0,240000.0,79000.0,78000.0,133000.0,115000.0,115000.0,128000.0,97000.0,117000.0,105000.0,24000.0,138000.0,98000.0,112000.0,160000.0,166000.0,145000.0,99000.0,75000.0,160000.0,116000.0,123000.0,112000.0,82000.0,90000.0,79000.0,19000.0,84000.0,78000.0,100000.0,70000.0,75000.0,95000.0,100000.0,163000.0,91000.0,95000.0,91000.0,45000.0,42000.0,104000.0,75000.0,102000.0,14000.0,58000.0,120000.0,126000.0,94000.0,140000.0,128000.0,94000.0,127000.0,91000.0,128000.0,136000.0,21000.0,96000.0,137000.0,52000.0,165000.0,128000.0,154000.0,125000.0,90000.0,166000.0,100000.0,103000.0,50000.0,57000.0,95000.0,37000.0,90000.0,78000.0,43000.0,140000.0,118000.0,71000.0,99000.0,104000.0,105000.0,31000.0,27000.0,135000.0,128000.0,100000.0,16000.0,90000.0,143000.0,87000.0,124000.0,115000.0,17000.0,115000.0,148000.0,135000.0,23000.0,101000.0,250000.0,100000.0,85000.0,80000.0,75000.0,144000.0,140000.0,87000.0,71000.0,113000.0,119000.0,30000.0,147000.0,90000.0,58000.0,137000.0,69000.0,100000.0,101000.0,26000.0,102000.0,144000.0,162000.0,78000.0,60000.0,119000.0,93000.0,122000.0,144000.0,71000.0,95000.0,170000.0,37000.0,102000.0,37000.0,121000.0,82000.0,127000.0,38000.0,75000.0,70000.0,139000.0,17000.0,61000.0,55000.0,82000.0,130000.0,120000.0,100000.0,165000.0,165000.0,32000.0,133000.0,86000.0,88000.0,67000.0,100000.0,110000.0,85000.0,107000.0,140000.0,32000.0,85000.0,16000.0,75000.0,5000.0,19000.0,133000.0,111000.0,33000.0,100000.0,140000.0,150000.0,97000.0,115000.0,88000.0,35000.0,44000.0,80000.0,110000.0,95000.0,36000.0,115000.0,37000.0,192000.0,72000.0,137000.0,200000.0,56000.0,219000.0,116000.0,140000.0,140000.0,96000.0,34000.0,106000.0,43000.0,135000.0,155000.0,109000.0,72000.0,90000.0,80000.0,74000.0,91000.0,45000.0,99000.0,90000.0,22000.0,73000.0,45000.0,97000.0,35000.0,200000.0,120000.0,95000.0,13000.0,150000.0,112000.0,111000.0,69000.0,28000.0,158000.0,160000.0,37000.0,159000.0,75000.0,117000.0,36000.0,80000.0,115000.0,171000.0,100000.0,89000.0,125000.0,32000.0,80000.0,146000.0,83000.0,135000.0,160000.0,87000.0,74000.0,120000.0,110000.0,137000.0,102000.0,57000.0,121000.0,23000.0,100000.0,175000.0,87000.0,110000.0,80000.0,113000.0,109000.0,120000.0,70000.0,37000.0,62000.0,91000.0,37000.0,116000.0,108000.0,90000.0,115000.0,150000.0,125000.0,20000.0,70000.0,140000.0,89000.0,116000.0,21000.0,47000.0,28000.0,19000.0,90000.0,66000.0,112000.0,110000.0,101000.0,120000.0,82000.0,57000.0,100000.0,62000.0,86000.0,108000.0,87000.0,225000.0,60000.0,25000.0,15000.0,184000.0,86000.0,94000.0,23000.0,32000.0,104000.0,81000.0,85000.0,65000.0,86000.0,125000.0,59000.0,110000.0,36000.0,71000.0,33000.0,96000.0,25000.0,92000.0,150000.0,150000.0,110000.0,121000.0,30000.0,112000.0,116000.0,151000.0,145000.0,70000.0,157000.0,160000.0,144000.0,90000.0,98000.0,32000.0,165000.0,119000.0,105000.0,100000.0,109000.0,130000.0,59000.0,82000.0,81000.0,82000.0,95000.0,130000.0,198000.0,125000.0,33000.0,83000.0,72000.0,106000.0,120000.0,100000.0,115000.0,49000.0,40000.0,37000.0,68000.0,79000.0,137000.0,180000.0,113000.0,62000.0,112000.0,50000.0,145000.0,85000.0,125000.0,111000.0,72000.0,37000.0,102000.0,175000.0,143000.0,72000.0,160000.0,95000.0,50000.0,25000.0,148000.0,120000.0,102000.0,20000.0,16000.0,98000.0,26000.0,61000.0,79000.0,33000.0,116000.0,48000.0,61000.0,55000.0,29000.0,307000.0,116000.0,125000.0,38000.0,38000.0,100000.0,115000.0,103000.0,190000.0,90000.0,30000.0,116000.0,22000.0,124000.0,94000.0,90000.0,150000.0,65000.0,135000.0,197000.0,165000.0,25000.0,19000.0,88000.0,88000.0,167000.0,125000.0,110000.0,70000.0,92000.0,124000.0,160000.0,89000.0,95000.0,61000.0,59000.0,70000.0,19000.0,150000.0,145000.0,100000.0,130000.0,115000.0,130000.0,145000.0,107000.0,43000.0,136000.0,78000.0,196000.0,175000.0,130000.0,100000.0,84000.0,19000.0,19000.0,109000.0,85000.0,110000.0,71000.0,26000.0,154000.0,172000.0,122000.0,160000.0,40000.0,190000.0,116000.0,103000.0,26000.0,44000.0,22000.0,43000.0,140000.0,32000.0,104000.0,125000.0,85000.0,57000.0,100000.0,106000.0,90000.0,63000.0,133000.0,83000.0,77000.0,98000.0,84000.0,210000.0,104000.0,155000.0,135000.0,119000.0,13000.0,120000.0,20000.0,63000.0,108000.0,72000.0,140000.0,105000.0,90000.0,115000.0,71000.0,105000.0,120000.0,170000.0,110000.0,140000.0,155000.0,153000.0,89000.0,144000.0,165000.0,155000.0,180000.0,170000.0,78000.0,163000.0,124000.0,108000.0,150000.0,140000.0,35000.0,93000.0,58000.0,30000.0,151000.0,28000.0,95000.0,133000.0,145000.0,86000.0,185000.0,95000.0,40000.0,165000.0,55000.0,160000.0,40000.0,14000.0,93000.0,99000.0,54000.0,90000.0,96000.0,75000.0,179000.0,80000.0,131000.0,54000.0,120000.0,50000.0,65000.0,93000.0,110000.0,88000.0,135000.0,137000.0,143000.0,110000.0,270000.0,145000.0,93000.0,75000.0,155000.0,102000.0,150000.0,85000.0,45000.0,152000.0,76000.0,116000.0,120000.0,66000.0,93000.0,75000.0,120000.0,130000.0,110000.0,94000.0,107000.0,84000.0,125000.0,60000.0,91000.0,120000.0,80000.0,118000.0,155000.0,65000.0,85000.0,150000.0,69000.0,106000.0,101000.0,53000.0,110000.0,60000.0,144000.0,150000.0,90000.0,48000.0,95000.0,105000.0,118000.0,83000.0,60000.0,115000.0,24000.0,109000.0,88000.0,57000.0,20000.0,88000.0,165000.0,115000.0,135000.0,104000.0,115000.0,106000.0,80000.0,89000.0,147000.0,180000.0,101000.0,135000.0,137000.0,105000.0,117000.0,135000.0,78000.0,32000.0,75000.0,28000.0,100000.0,77000.0,98000.0,116000.0,145000.0,125000.0,140000.0,41000.0,95000.0,100000.0,100000.0,19000.0,39000.0,46000.0,105000.0,70000.0,45000.0,18000.0,21000.0,11000.0,27000.0,160000.0,80000.0,90000.0,50000.0,30000.0,106000.0,83000.0,135000.0,76000.0,111000.0,79000.0,112000.0,120000.0,10000.0,120000.0,125000.0,97000.0,28000.0,145000.0,46000.0,64000.0,142000.0,66000.0,40000.0,14000.0,28000.0,114000.0,95000.0,135000.0,106000.0,110000.0,82000.0,133000.0,80000.0,95000.0,127000.0,141000.0,137000.0,110000.0,175000.0,88000.0,99000.0,87000.0,105000.0,146000.0,86000.0,170000.0,33000.0,92000.0,39000.0,195000.0,39000.0,150000.0,132000.0,115000.0,118000.0,159000.0,123000.0,170000.0,22000.0,119000.0,67000.0,40000.0,143000.0,135000.0,80000.0,165000.0,105000.0,108000.0,105000.0,87000.0,35000.0,80000.0,88000.0,123000.0,130000.0,88000.0,130000.0,80000.0,35000.0,33000.0,66000.0,114000.0,125000.0,103000.0,162000.0,19000.0,94000.0,117000.0,45000.0,100000.0,120000.0,155000.0,150000.0,89000.0,80000.0,55000.0,116000.0,154000.0,116000.0,60000.0,130000.0,127000.0,108000.0,100000.0,85000.0,100000.0,25000.0,76000.0,131000.0,33000.0,140000.0,147000.0,72000.0,80000.0,48000.0,75000.0,95000.0,90000.0,97000.0,215000.0,130000.0,107000.0,83000.0,97000.0,63000.0,125000.0,106000.0,155000.0,130000.0,110000.0,120000.0,90000.0,96000.0,90000.0,87000.0,22000.0,22000.0,133000.0,28000.0,79000.0,40000.0,35000.0,20000.0,110000.0,40000.0,98000.0,120000.0,110000.0,155000.0,50000.0,170000.0,168000.0,160000.0,53000.0,147000.0,106000.0,140000.0,84000.0,75000.0,195000.0,43000.0,138000.0,70000.0,30000.0,37000.0,20000.0,78000.0,58000.0,155000.0,22000.0,106000.0,125000.0,160000.0,148000.0,96000.0,105000.0,100000.0,196000.0,79000.0,46000.0,72000.0,78000.0,27000.0,13000.0,150000.0,130000.0,76000.0,41000.0,20000.0,160000.0,170000.0,18000.0,87000.0,67000.0,144000.0,122000.0,104000.0,98000.0,118000.0,77000.0,153000.0,16000.0,66000.0,100000.0,81000.0,24000.0,110000.0,122000.0,125000.0,150000.0,120000.0,52000.0,188000.0,134000.0,108000.0,36000.0,125000.0,150000.0,19000.0,110000.0,145000.0,85000.0,141000.0,81000.0,80000.0,72000.0,126000.0,115000.0,140000.0,22000.0,90000.0,120000.0,19000.0,55000.0,110000.0,36000.0,149000.0,155000.0,92000.0,111000.0,110000.0,110000.0,71000.0,100000.0,75000.0,155000.0,60000.0,101000.0,37000.0,123000.0,101000.0,165000.0,53000.0,127000.0,108000.0,73000.0,166000.0,228000.0,133000.0,145000.0,136000.0,29000.0,92000.0,43000.0,110000.0,88000.0,70000.0,190000.0,112000.0,90000.0,120000.0,115000.0,90000.0,109000.0,93000.0,120000.0,129000.0,120000.0,190000.0,66000.0,107000.0,34000.0,114000.0,30000.0,20000.0,105000.0,120000.0,135000.0,91000.0,47000.0,117000.0,160000.0,71000.0,113000.0,137000.0,135000.0,175000.0,32000.0,153000.0,128000.0,218000.0,100000.0,83000.0,125000.0,34000.0,41000.0,220000.0,81000.0,87000.0,136000.0,190000.0,15000.0,66000.0,155000.0,118000.0,65000.0,118000.0,140000.0,117000.0,110000.0,36000.0,84000.0,158000.0,32000.0,123000.0,145000.0,140000.0,65000.0,102000.0,120000.0,140000.0,101000.0,92000.0,55000.0,117000.0,76000.0,24000.0,43000.0,55000.0,107000.0,109000.0,46000.0,128000.0,93000.0,120000.0,66000.0,120000.0,210000.0,35000.0,230000.0,83000.0,115000.0,49000.0,10000.0,45000.0,45000.0,166000.0,158000.0,143000.0,92000.0,124000.0,110000.0,145000.0,93000.0,103000.0,20000.0,140000.0,22000.0,138000.0,68000.0,132000.0,93000.0,27000.0,102000.0,90000.0,105000.0,180000.0,33000.0,164000.0,126000.0,116000.0,100000.0,115000.0,115000.0,115000.0,30000.0,165000.0,149000.0,71000.0,77000.0,43000.0,97000.0,109000.0,160000.0,117000.0,53000.0,71000.0,123000.0,150000.0,105000.0,134000.0,88000.0,45000.0,100000.0,137000.0,88000.0,88000.0,95000.0,59000.0,23000.0,156000.0,112000.0,137000.0,94000.0,112000.0,58000.0,84000.0,110000.0,107000.0,91000.0,49000.0,87000.0,140000.0,125000.0,138000.0,110000.0,109000.0,85000.0,80000.0,132000.0,20000.0,26000.0,55000.0,90000.0,44000.0,27000.0,124000.0,120000.0,99000.0,95000.0,47000.0,112000.0,87000.0,106000.0,108000.0,79000.0,76000.0,102000.0,104000.0,168000.0,72000.0,149000.0,165000.0,95000.0,40000.0,100000.0,101000.0,130000.0,147000.0,122000.0,80000.0,144000.0,10000.0,55000.0,58000.0,95000.0,81000.0,112000.0,58000.0,97000.0,220000.0,76000.0,134000.0,104000.0,111000.0,140000.0,92000.0,103000.0,135000.0,80000.0,108000.0,125000.0,120000.0,152000.0,190000.0,109000.0,66000.0,188000.0,105000.0,150000.0,150000.0,155000.0,85000.0,100000.0,95000.0,64000.0,129000.0,45000.0,22000.0,168000.0,105000.0,48000.0,110000.0,22000.0,75000.0,94000.0,143000.0,90000.0,150000.0,47000.0,72000.0,19000.0,80000.0,18000.0,87000.0,63000.0,130000.0,128000.0,121000.0,22000.0,135000.0,86000.0,105000.0,129000.0,83000.0,26000.0,26000.0,37000.0,181000.0,90000.0,100000.0,43000.0,120000.0,115000.0,81000.0,195000.0,135000.0,100000.0,84000.0,103000.0,180000.0,150000.0,28000.0,37000.0,186000.0,134000.0,120000.0,152000.0,144000.0,137000.0,135000.0,75000.0,95000.0,120000.0,125000.0,155000.0,78000.0,88000.0,93000.0,105000.0,31000.0,85000.0,71000.0,71000.0,110000.0,95000.0,75000.0,134000.0,21000.0,124000.0,80000.0,70000.0,32000.0,80000.0,71000.0,160000.0,51000.0,78000.0,110000.0,14000.0,132000.0,120000.0,105000.0,129000.0,102000.0,78000.0,20000.0,78000.0,114000.0,125000.0,150000.0,66000.0,49000.0,42000.0,107000.0,39000.0,106000.0,156000.0,26000.0,24000.0,160000.0,159000.0,87000.0,94000.0,82000.0,90000.0,137000.0,100000.0,139000.0,62000.0,88000.0,168000.0,179000.0,145000.0,95000.0,146000.0,60000.0,37000.0,129000.0,89000.0,80000.0,87000.0,149000.0,93000.0,17000.0,14000.0,113000.0,84000.0,82000.0,102000.0,81000.0,90000.0,80000.0,71000.0,121000.0,159000.0,110000.0,104000.0,105000.0,49000.0,100000.0,23000.0,115000.0,105000.0,149000.0,110000.0,131000.0,172000.0,98000.0,150000.0,75000.0,99000.0,127000.0,45000.0,94000.0,97000.0,75000.0,76000.0,80000.0,92000.0,45000.0,92000.0,78000.0,35000.0,157000.0,105000.0,68000.0,40000.0,73000.0,150000.0,78000.0,82000.0,170000.0,43000.0,79000.0,111000.0,44000.0,74000.0,116000.0,100000.0,225000.0,150000.0,125000.0,72000.0,82000.0,80000.0,23000.0,78000.0,74000.0,133000.0,135000.0,28000.0,140000.0,85000.0,145000.0,107000.0,137000.0,180000.0,109000.0,146000.0,215000.0,68000.0,73000.0,47000.0,165000.0,70000.0,115000.0,173000.0,151000.0,102000.0,82000.0,70000.0,160000.0,47000.0,165000.0,77000.0,83000.0,86000.0,95000.0,58000.0,36000.0,103000.0,150000.0,117000.0,130000.0,100000.0,140000.0,42000.0,101000.0,180000.0,110000.0,137000.0,110000.0,125000.0,130000.0,111000.0,78000.0,102000.0,116000.0,81000.0,80000.0,125000.0,112000.0,110000.0,105000.0,98000.0,115000.0,190000.0,72000.0,130000.0,228000.0,115000.0,160000.0,105000.0,137000.0,83000.0,15000.0,85000.0,158000.0,65000.0,114000.0,150000.0,84000.0,50000.0,75000.0,121000.0,98000.0,110000.0,100000.0,85000.0,77000.0,165000.0,104000.0,75000.0,28000.0,90000.0,225000.0,104000.0,146000.0,155000.0,82000.0,71000.0,25000.0,115000.0,123000.0,16000.0,115000.0,95000.0,95000.0,175000.0,19000.0,110000.0,28000.0,63000.0,123000.0,118000.0,42000.0,145000.0,36000.0,12000.0,89000.0,70000.0,80000.0,75000.0,99000.0,25000.0,117000.0,108000.0,135000.0,57000.0,121000.0,145000.0,127000.0,102000.0,110000.0,116000.0,97000.0,14000.0,86000.0,50000.0,34000.0,90000.0,61000.0,18000.0,130000.0,147000.0,147000.0,137000.0,57000.0,120000.0,37000.0,87000.0,105000.0,71000.0,148000.0,154000.0,160000.0,190000.0,150000.0,119000.0,204000.0,57000.0,19000.0,40000.0,163000.0,82000.0,170000.0,137000.0,59000.0,153000.0,125000.0,125000.0,124000.0,141000.0,34000.0,121000.0,239000.0,107000.0,82000.0,59000.0,95000.0,68000.0,92000.0,105000.0,130000.0,157000.0,23000.0,185000.0,15000.0,133000.0,87000.0,65000.0,140000.0,103000.0,108000.0,88000.0,115000.0,20000.0,148000.0,157000.0,123000.0,93000.0,54000.0,125000.0,84000.0,115000.0,129000.0,97000.0,83000.0,38000.0,68000.0,59000.0,17000.0,118000.0,90000.0,115000.0,153000.0,125000.0,44000.0,57000.0,49000.0,131000.0,120000.0,153000.0,120000.0,135000.0,144000.0,125000.0,100000.0,125000.0,112000.0,200000.0,131000.0,100000.0,120000.0,135000.0,110000.0,162000.0,29000.0,45000.0,127000.0,65000.0,137000.0,33000.0,74000.0,144000.0,84000.0,40000.0,88000.0,20000.0,76000.0,90000.0,100000.0,28000.0,140000.0,91000.0,183000.0,70000.0,62000.0,12000.0,46000.0,111000.0,120000.0,30000.0,135000.0,128000.0,17000.0,148000.0,160000.0,127000.0,112000.0,118000.0,93000.0,94000.0,45000.0,165000.0,90000.0,113000.0,70000.0,95000.0,84000.0,158000.0,150000.0,96000.0,115000.0,215000.0,96000.0,91000.0,155000.0,150000.0,76000.0,117000.0,155000.0,77000.0,38000.0,48000.0,22000.0,110000.0,25000.0,78000.0,71000.0,195000.0,127000.0,130000.0,105000.0,23000.0,148000.0,116000.0,95000.0,67000.0,29000.0,115000.0,130000.0,160000.0,110000.0,70000.0,92000.0,81000.0,21000.0,98000.0,72000.0,72000.0,37000.0,48000.0,111000.0,28000.0,52000.0,59000.0,78000.0,144000.0,90000.0,78000.0,18000.0,60000.0,110000.0,132000.0,132000.0,107000.0,77000.0,80000.0,180000.0,103000.0,160000.0,126000.0,165000.0,144000.0,159000.0,80000.0,43000.0,132000.0,165000.0,164000.0,79000.0,14000.0,90000.0,110000.0,105000.0,126000.0,118000.0,92000.0,87000.0,104000.0,81000.0,65000.0,150000.0,100000.0,145000.0,140000.0,123000.0,103000.0,68000.0,130000.0,120000.0,124000.0,32000.0,18000.0,29000.0,69000.0,75000.0,23000.0,240000.0,180000.0,25000.0,165000.0,165000.0,93000.0,83000.0,90000.0,116000.0,130000.0,185000.0,42000.0,115000.0,105000.0,136000.0,130000.0,81000.0,42000.0,118000.0,156000.0,134000.0,65000.0,25000.0,122000.0,75000.0,87000.0,110000.0,54000.0,180000.0,128000.0,178000.0,100000.0,90000.0,125000.0,127000.0,180000.0,120000.0,75000.0,33000.0,161000.0,145000.0,125000.0,33000.0,130000.0,58000.0,118000.0,20000.0,66000.0,35000.0,44000.0,66000.0,150000.0,156000.0,128000.0,90000.0,85000.0,110000.0,115000.0,144000.0,90000.0,114000.0,83000.0,115000.0,100000.0,100000.0,175000.0,105000.0,172000.0,105000.0,158000.0,122000.0,36000.0,25000.0,160000.0,81000.0,52000.0,85000.0,90000.0,80000.0,70000.0,119000.0,144000.0,19000.0,80000.0,142000.0,76000.0,80000.0,61000.0,37000.0,143000.0,128000.0,23000.0,86000.0,125000.0,129000.0,28000.0,27000.0,31000.0,117000.0,108000.0,128000.0,117000.0,95000.0,100000.0,75000.0,64000.0,90000.0,44000.0,137000.0,60000.0,156000.0,285000.0,35000.0,50000.0,106000.0,71000.0,116000.0,110000.0,55000.0,160000.0,36000.0,87000.0,101000.0,105000.0,64000.0,160000.0,172000.0,100000.0,132000.0,96000.0,92000.0,68000.0,34000.0,100000.0,65000.0,122000.0,120000.0,120000.0,114000.0,86000.0,71000.0,131000.0,90000.0,91000.0,115000.0,120000.0,102000.0,90000.0,165000.0,165000.0,130000.0,98000.0,85000.0,126000.0,115000.0,106000.0,11000.0,134000.0,160000.0,41000.0,83000.0,139000.0,51000.0,75000.0,103000.0,114000.0,90000.0,58000.0,148000.0,111000.0,80000.0,80000.0,145000.0,66000.0,19000.0,107000.0,160000.0,47000.0,193000.0,134000.0,72000.0,270000.0,70000.0,195000.0,146000.0,136000.0,135000.0,109000.0,143000.0,57000.0,44000.0,105000.0,88000.0,120000.0,76000.0,50000.0,142000.0,180000.0,110000.0,124000.0,65000.0,150000.0,160000.0,96000.0,84000.0,163000.0,110000.0,68000.0,127000.0,68000.0,24000.0,60000.0,103000.0,21000.0,28000.0,19000.0,26000.0,34000.0,37000.0,60000.0,15000.0,46000.0,46000.0,39000.0,21000.0,81000.0,32000.0,10000.0,35000.0,90000.0,25000.0,17000.0,47000.0,45000.0,21000.0,26000.0,96000.0,38000.0,153000.0,80000.0,68000.0,185000.0,76000.0,14000.0,113000.0,100000.0,100000.0,180000.0,107000.0,144000.0,117000.0,88000.0,48000.0,16000.0,16000.0,61000.0,10000.0,70000.0,144000.0,48000.0,190000.0,35000.0,45000.0,16000.0,85000.0,28000.0,213000.0,95000.0,144000.0,63000.0,100000.0,51000.0,147000.0,76000.0,135000.0,120000.0,34000.0,75000.0,54000.0,47000.0,110000.0,156000.0,27000.0,42000.0,15000.0,71000.0,14000.0,70000.0,39000.0,94000.0,29000.0,85000.0,112000.0,24000.0,97000.0,46000.0,74000.0,120000.0,28000.0,100000.0,13000.0,54000.0,110000.0,100000.0,77000.0,33000.0,168000.0,161000.0,125000.0,74000.0,158000.0,150000.0,53000.0,157000.0,46000.0,115000.0,100000.0,161000.0,125000.0,103000.0,102000.0,330000.0,66000.0,72000.0,180000.0,65000.0,146000.0,73000.0,131000.0,143000.0,145000.0,110000.0,50000.0,18000.0,155000.0,84000.0,120000.0,95000.0,110000.0,228000.0,60000.0,22000.0,50000.0,15000.0,18000.0,35000.0,25000.0,120000.0,118000.0,85000.0,128000.0,150000.0,160000.0,116000.0,156000.0,72000.0,100000.0,29000.0,103000.0,150000.0,120000.0,125000.0,172000.0,86000.0,70000.0,142000.0,176000.0,30000.0,54000.0,20000.0,82000.0,79000.0,100000.0,154000.0,152000.0,145000.0,165000.0,100000.0,98000.0,87000.0,75000.0,107000.0,140000.0,136000.0,70000.0,79000.0,104000.0,126000.0,46000.0,87000.0,24000.0,110000.0,28000.0,122000.0,124000.0,76000.0,151000.0,120000.0,120000.0,130000.0,127000.0,40000.0,80000.0,112000.0,120000.0,157000.0,135000.0,76000.0,93000.0,90000.0,160000.0,120000.0,98000.0,95000.0,125000.0,26000.0,66000.0,81000.0,140000.0,19000.0,160000.0,180000.0,96000.0,46000.0,140000.0,100000.0,36000.0,26000.0,97000.0,52000.0,97000.0,86000.0,116000.0,50000.0,115000.0,63000.0,44000.0,149000.0,75000.0,156000.0,91000.0,23000.0,89000.0,145000.0,150000.0,174000.0,48000.0,89000.0,145000.0,120000.0,150000.0,97000.0,135000.0,28000.0,176000.0,88000.0,162000.0,27000.0,70000.0,57000.0,110000.0,145000.0,80000.0,22000.0,125000.0,92000.0,135000.0,40000.0,76000.0,11000.0,26000.0,26000.0,93000.0,11000.0,63000.0,70000.0,30000.0,64000.0,44000.0,26000.0,21000.0,17000.0,45000.0,60000.0,70000.0,115000.0,19000.0,130000.0,127000.0,140000.0,140000.0,38000.0,69000.0,40000.0,70000.0,117000.0,81000.0,74000.0,13000.0,86000.0,80000.0,106000.0,82000.0,79000.0,111000.0,27000.0,112000.0,151000.0,144000.0,97000.0,107000.0,122000.0,90000.0,100000.0,98000.0,132000.0,45000.0,152000.0,94000.0,122000.0,97000.0,49000.0,100000.0,43000.0,142000.0,76000.0,81000.0,105000.0,150000.0,165000.0,96000.0,145000.0,80000.0,185000.0,23000.0,42000.0,132000.0,103000.0,160000.0,115000.0,84000.0,110000.0,71000.0,75000.0,41000.0,84000.0,225000.0,78000.0,70000.0,90000.0,65000.0,43000.0,82000.0,57000.0,73000.0,86000.0,43000.0,122000.0,145000.0,70000.0,108000.0,36000.0,89000.0,69000.0,150000.0,129000.0,29000.0,85000.0,179000.0,82000.0,11000.0,17000.0,45000.0,95000.0,105000.0,46000.0,147000.0,164000.0,140000.0,104000.0,145000.0,47000.0,108000.0,75000.0,92000.0,120000.0,59000.0,18000.0,138000.0,80000.0,88000.0,118000.0,135000.0,98000.0,160000.0,190000.0,105000.0,94000.0,100000.0,91000.0,122000.0,186000.0,158000.0,140000.0,114000.0,106000.0,50000.0,177000.0,120000.0,80000.0,105000.0,75000.0,90000.0,36000.0,128000.0,96000.0,121000.0,45000.0,206000.0,116000.0,65000.0,41000.0,81000.0,185000.0,70000.0,167000.0,90000.0,165000.0,45000.0,80000.0,12000.0,24000.0,17000.0,110000.0,43000.0,96000.0,113000.0,20000.0,100000.0,36000.0,45000.0,121000.0,45000.0,43000.0,130000.0,190000.0,20000.0,144000.0,108000.0,108000.0,104000.0,155000.0,112000.0,85000.0,140000.0,79000.0,35000.0,102000.0,57000.0,80000.0,53000.0,54000.0,19000.0,91000.0,101000.0,100000.0,112000.0,24000.0,28000.0,103000.0,10000.0,150000.0,125000.0,20000.0,110000.0,166000.0,124000.0,115000.0,155000.0,81000.0,94000.0,88000.0,146000.0,80000.0,75000.0,115000.0,115000.0,169000.0,140000.0,30000.0,110000.0,117000.0,125000.0,100000.0,20000.0,15000.0,235000.0,132000.0,86000.0,50000.0,75000.0,43000.0,14000.0,150000.0,215000.0,147000.0,75000.0,68000.0,125000.0,147000.0,135000.0,67000.0,110000.0,84000.0,53000.0,130000.0,145000.0,65000.0,78000.0,83000.0,57000.0,120000.0,186000.0,114000.0,185000.0,120000.0,220000.0,212000.0,101000.0,120000.0,85000.0,75000.0,110000.0,106000.0,142000.0,64000.0,120000.0,128000.0,84000.0,157000.0,160000.0,97000.0,94000.0,33000.0,158000.0,115000.0,81000.0,36000.0,88000.0,155000.0,106000.0,115000.0,126000.0,130000.0,130000.0,130000.0,170000.0,168000.0,112000.0,140000.0,74000.0,97000.0,36000.0,117000.0,95000.0,98000.0,168000.0,100000.0,66000.0,27000.0,274000.0,15000.0,57000.0,120000.0,154000.0,162000.0,75000.0,76000.0,165000.0,54000.0,127000.0,46000.0,80000.0,200000.0,70000.0,37000.0,93000.0,142000.0,85000.0,120000.0,95000.0,78000.0,20000.0,23000.0,41000.0,50000.0,25000.0,90000.0,85000.0,140000.0,71000.0,108000.0,29000.0,163000.0,163000.0,55000.0,84000.0,15000.0,42000.0,130000.0,90000.0,90000.0,85000.0,77000.0,93000.0,58000.0,76000.0,25000.0,125000.0,11000.0,37000.0,121000.0,145000.0,143000.0,18000.0,123000.0,120000.0,110000.0,115000.0,112000.0,175000.0,108000.0,160000.0,20000.0,141000.0,112000.0,155000.0,66000.0,152000.0,200000.0,57000.0,154000.0,23000.0,22000.0,90000.0,130000.0,69000.0,154000.0,155000.0,53000.0,140000.0,108000.0,55000.0,125000.0,91000.0,72000.0,173000.0,147000.0,118000.0,34000.0,133000.0,85000.0,152000.0,106000.0,95000.0,106000.0,17000.0,210000.0,35000.0,111000.0,32000.0,79000.0,157000.0,56000.0,48000.0,71000.0,50000.0,100000.0,142000.0,114000.0,92000.0,118000.0,64000.0,103000.0,180000.0,141000.0,132000.0,98000.0,113000.0,184000.0,148000.0,40000.0,175000.0,111000.0,28000.0,95000.0,82000.0,54000.0,162000.0,35000.0,127000.0,100000.0,135000.0,150000.0,70000.0,104000.0,114000.0,85000.0,112000.0,60000.0,174000.0,7000.0,41000.0,48000.0,33000.0,97000.0,169000.0,90000.0,158000.0,117000.0,104000.0,54000.0,83000.0,147000.0,176000.0,41000.0,69000.0,61000.0,144000.0,150000.0,115000.0,109000.0,140000.0,27000.0,107000.0,55000.0,45000.0,124000.0,61000.0,124000.0,160000.0,137000.0,168000.0,30000.0,96000.0,143000.0,129000.0,132000.0,97000.0,122000.0,74000.0,54000.0,29000.0,125000.0,162000.0,55000.0,93000.0,11000.0,91000.0,118000.0,74000.0,82000.0,126000.0,117000.0,120000.0,24000.0,77000.0,46000.0,113000.0,35000.0,100000.0,16000.0,107000.0,92000.0,100000.0,63000.0,37000.0,42000.0,97000.0,75000.0,36000.0,14000.0,35000.0,55000.0,87000.0,150000.0,97000.0,95000.0,77000.0,97000.0,93000.0,146000.0,170000.0,140000.0,105000.0,149000.0,95000.0,123000.0,103000.0,48000.0,80000.0,52000.0,120000.0,27000.0,100000.0,74000.0,83000.0,160000.0,160000.0,117000.0,90000.0,70000.0,170000.0,64000.0,85000.0,150000.0,110000.0,90000.0,143000.0,125000.0,30000.0,25000.0,110000.0,80000.0,18000.0,100000.0,119000.0,21000.0,33000.0,136000.0,152000.0,200000.0,115000.0,170000.0,120000.0,17000.0,27000.0,25000.0,38000.0,92000.0,115000.0,32000.0,152000.0,35000.0,110000.0,60000.0,40000.0,160000.0,20000.0,152000.0,79000.0,97000.0,152000.0,170000.0,82000.0,22000.0,68000.0,100000.0,17000.0,130000.0,18000.0,50000.0,79000.0,24000.0,400000.0,131000.0,59000.0,112000.0,112000.0,73000.0,125000.0,120000.0,70000.0,154000.0,80000.0,105000.0,152000.0,75000.0,124000.0,112000.0,63000.0,172000.0,112000.0,100000.0,111000.0,18000.0,73000.0,45000.0,176000.0,184000.0,45000.0,40000.0,135000.0,22000.0,117000.0,106000.0,44000.0,19000.0,100000.0,41000.0,21000.0,102000.0,37000.0,40000.0,43000.0,138000.0,145000.0,132000.0,143000.0,128000.0,110000.0,125000.0,151000.0,111000.0,53000.0,113000.0,150000.0,113000.0,140000.0,134000.0,155000.0,135000.0,170000.0,143000.0,116000.0,128000.0,115000.0,72000.0,109000.0,174000.0,91000.0,65000.0,25000.0,107000.0,164000.0,110000.0,97000.0,108000.0,60000.0,86000.0,64000.0,90000.0,98000.0,34000.0,95000.0,113000.0,90000.0,50000.0,44000.0,24000.0,107000.0,120000.0,56000.0,148000.0,20000.0,72000.0,72000.0,78000.0,115000.0,131000.0,140000.0,19000.0,65000.0,87000.0,95000.0,96000.0,126000.0,82000.0,162000.0,112000.0,71000.0,90000.0,130000.0,82000.0,123000.0,80000.0,108000.0,140000.0,94000.0,83000.0,14000.0,14000.0,14000.0,82000.0,104000.0,106000.0,90000.0,115000.0,88000.0,43000.0,16000.0,18000.0,105000.0,36000.0,145000.0,21000.0,165000.0,40000.0,42000.0,39000.0,74000.0,104000.0,25000.0,75000.0,86000.0,100000.0,60000.0,104000.0,115000.0,170000.0,100000.0,50000.0,58000.0,140000.0,88000.0,82000.0,18000.0,98000.0,122000.0,31000.0,14000.0,113000.0,37000.0,85000.0,96000.0,140000.0,26000.0,97000.0,51000.0,48000.0,50000.0,85000.0,32000.0,35000.0,130000.0,57000.0,54000.0,50000.0,165000.0,60000.0,112000.0,17000.0,160000.0,123000.0,156000.0,90000.0,122000.0,115000.0,65000.0,45000.0,78000.0,33000.0,44000.0,45000.0,35000.0,73000.0,45000.0,151000.0,110000.0,152000.0,17000.0,160000.0,140000.0,145000.0,163000.0,62000.0,180000.0,157000.0,122000.0,120000.0,102000.0,52000.0,27000.0,135000.0,22000.0,125000.0,38000.0,100000.0,20000.0,127000.0,32000.0,90000.0,59000.0,135000.0,93000.0,135000.0,107000.0,148000.0,137000.0,99000.0,129000.0,70000.0,169000.0,40000.0,111000.0,19000.0,78000.0,108000.0,142000.0,70000.0,103000.0,125000.0,18000.0,72000.0,77000.0,96000.0,110000.0,19000.0,119000.0,20000.0,240000.0,48000.0,109000.0,180000.0,77000.0,44000.0,142000.0,34000.0,74000.0,123000.0,87000.0,140000.0,140000.0,95000.0,69000.0,21000.0,170000.0,37000.0,85000.0,74000.0,27000.0,71000.0,89000.0,129000.0,120000.0,18000.0,72000.0,45000.0,111000.0,115000.0,12000.0,186000.0,85000.0,160000.0,155000.0,115000.0,78000.0,120000.0,42000.0,16000.0,77000.0,154000.0,90000.0,11000.0,125000.0,137000.0,69000.0,58000.0,200000.0,77000.0,79000.0,125000.0,101000.0,132000.0,103000.0,66000.0,85000.0,45000.0,16000.0,62000.0,52000.0,135000.0,104000.0,10000.0,100000.0,36000.0,48000.0,160000.0,88000.0,107000.0,78000.0,110000.0,36000.0,106000.0,100000.0,45000.0,10000.0,26000.0,85000.0,16000.0,29000.0,58000.0,37000.0,150000.0,56000.0,39000.0,135000.0,113000.0,128000.0,122000.0,24000.0,137000.0,10000.0,69000.0,116000.0,17000.0,48000.0,36000.0,155000.0,121000.0,125000.0,90000.0,108000.0,170000.0,98000.0,95000.0,150000.0,169000.0,125000.0,70000.0,60000.0,80000.0,196000.0,83000.0,41000.0,135000.0,160000.0,98000.0,90000.0,145000.0,114000.0,120000.0,117000.0,84000.0,43000.0,99000.0,43000.0,36000.0,103000.0,117000.0,25000.0,50000.0,137000.0,135000.0,109000.0,27000.0,138000.0,120000.0,110000.0,130000.0,70000.0,117000.0,165000.0,103000.0,134000.0,188000.0,110000.0,93000.0,86000.0,130000.0,180000.0,78000.0,120000.0,88000.0,123000.0,105000.0,100000.0,160000.0,116000.0,115000.0,106000.0,11000.0,72000.0,27000.0,29000.0,44000.0,18000.0,140000.0,37000.0,38000.0,92000.0,110000.0,150000.0,11000.0,110000.0,85000.0,85000.0,64000.0,120000.0,71000.0,114000.0,145000.0,134000.0,85000.0,90000.0,110000.0,135000.0,75000.0,97000.0,48000.0,36000.0,100000.0,102000.0,16000.0,69000.0,113000.0,56000.0,20000.0,102000.0,92000.0,81000.0,135000.0,105000.0,152000.0,124000.0,175000.0,11000.0,150000.0,168000.0,25000.0,136000.0,99000.0,147000.0,129000.0,115000.0,121000.0,89000.0,46000.0,220000.0,22000.0,161000.0,40000.0,116000.0,150000.0,129000.0,50000.0,70000.0,75000.0,81000.0,76000.0,36000.0,105000.0,97000.0,79000.0,122000.0,150000.0,185000.0,50000.0,40000.0,25000.0,37000.0,130000.0,85000.0,120000.0,123000.0,66000.0,175000.0,40000.0,29000.0,38000.0,105000.0,44000.0,160000.0,23000.0,70000.0,113000.0,20000.0,179000.0,124000.0,85000.0,15000.0,155000.0,126000.0,132000.0,163000.0,140000.0,147000.0,65000.0,50000.0,35000.0,101000.0,115000.0,156000.0,130000.0,150000.0,58000.0,52000.0,117000.0,37000.0,95000.0,116000.0,78000.0,135000.0,54000.0,142000.0,165000.0,135000.0,150000.0,121000.0,225000.0,21000.0,38000.0,144000.0,42000.0,220000.0,41000.0,38000.0,93000.0,27000.0,116000.0,182000.0,131000.0,135000.0,71000.0,170000.0,104000.0,175000.0,150000.0,65000.0,114000.0,107000.0,10000.0,96000.0,107000.0,22000.0,21000.0,100000.0,101000.0,31000.0,129000.0,30000.0,40000.0,44000.0,125000.0,55000.0,23000.0,144000.0,107000.0,71000.0,120000.0,255000.0,83000.0,73000.0,90000.0,90000.0,95000.0,120000.0,87000.0,141000.0,72000.0,117000.0,67000.0,118000.0,98000.0,167000.0,160000.0,75000.0,90000.0,96000.0,130000.0,32000.0,118000.0,185000.0,100000.0,23000.0,101000.0,71000.0,40000.0,20000.0,80000.0,125000.0,151000.0,130000.0,80000.0,145000.0,10000.0,51000.0,102000.0,83000.0,79000.0,32000.0,50000.0,95000.0,80000.0,38000.0,140000.0,95000.0,106000.0,85000.0,61000.0,185000.0,142000.0,160000.0,40000.0,152000.0,110000.0,95000.0,80000.0,120000.0,46000.0,45000.0,42000.0,72000.0,67000.0,38000.0,20000.0,27000.0,51000.0,130000.0,95000.0,57000.0,50000.0,155000.0,187000.0,13000.0,115000.0,23000.0,32000.0,40000.0,138000.0,21000.0,93000.0,95000.0,14000.0,116000.0,52000.0,132000.0,28000.0,100000.0,23000.0,34000.0,120000.0,30000.0,93000.0,112000.0,23000.0,104000.0,85000.0,109000.0,92000.0,85000.0,180000.0,253000.0,202000.0,100000.0,125000.0,30000.0,144000.0,94000.0,100000.0,120000.0,23000.0,45000.0,156000.0,135000.0,6000.0,15000.0,39000.0,109000.0,8000.0,93000.0,46000.0,47000.0,36000.0,132000.0,104000.0,150000.0,70000.0,117000.0,70000.0,138000.0,90000.0,155000.0,78000.0,160000.0,20000.0,160000.0,193000.0,103000.0,85000.0,26000.0,160000.0,100000.0,72000.0,84000.0,67000.0,73000.0,172000.0,249000.0,27000.0,158000.0,65000.0,80000.0,11000.0,22000.0,87000.0,67000.0,84000.0,160000.0,103000.0,110000.0,173000.0,128000.0,115000.0,72000.0,125000.0,140000.0,100000.0,78000.0,81000.0,275000.0,34000.0,88000.0,113000.0,44000.0,16000.0,22000.0,20000.0,150000.0,78000.0,115000.0,65000.0,84000.0,139000.0,93000.0,74000.0,130000.0,86000.0,53000.0,26000.0,67000.0,165000.0,200000.0,90000.0,72000.0,11000.0,225000.0,100000.0,81000.0,137000.0,74000.0,135000.0,100000.0,126000.0,11000.0,59000.0,161000.0,78000.0,100000.0,19000.0,109000.0,50000.0,43000.0,130000.0,130000.0,26000.0,118000.0,41000.0,38000.0,127000.0,130000.0,22000.0,156000.0,10000.0,56000.0,91000.0,75000.0,80000.0,138000.0,130000.0,143000.0,84000.0,127000.0,36000.0,120000.0,120000.0,50000.0,142000.0,22000.0,110000.0,123000.0,40000.0,38000.0,75000.0,65000.0,97000.0,140000.0,135000.0,225000.0,30000.0,72000.0,40000.0,52000.0,64000.0,76000.0,150000.0,116000.0,30000.0,102000.0,210000.0,71000.0,110000.0,144000.0,94000.0,109000.0,170000.0,127000.0,79000.0,110000.0,125000.0,34000.0,43000.0,21000.0,24000.0,19000.0,95000.0,28000.0,43000.0,130000.0,16000.0,4000.0,113000.0,75000.0,61000.0,16000.0,105000.0,100000.0,113000.0,78000.0,151000.0,166000.0,92000.0,122000.0,161000.0,85000.0,140000.0,122000.0,78000.0,10000.0,60000.0,35000.0,100000.0,42000.0,138000.0,160000.0,23000.0,83000.0,26000.0,82000.0,71000.0,10000.0,80000.0,135000.0,82000.0,81000.0,156000.0,80000.0,105000.0,125000.0,113000.0,128000.0,112000.0,130000.0,140000.0,102000.0,130000.0,85000.0,34000.0,81000.0,95000.0,10000.0,76000.0,122000.0,61000.0,35000.0,70000.0,75000.0,86000.0,96000.0,140000.0,76000.0,65000.0,166000.0,85000.0,172000.0,101000.0,35000.0,143000.0,149000.0,100000.0,170000.0,89000.0,95000.0,186000.0,118000.0,160000.0,72000.0,165000.0,161000.0,185000.0,75000.0,79000.0,65000.0,123000.0,98000.0,110000.0,17000.0,72000.0,185000.0,109000.0,136000.0,75000.0,65000.0,15000.0,128000.0,36000.0,180000.0,73000.0,82000.0,54000.0,35000.0,98000.0,144000.0,153000.0,85000.0,30000.0,60000.0,95000.0,51000.0,115000.0,102000.0,100000.0,140000.0,147000.0,88000.0,59000.0,55000.0,92000.0,140000.0,180000.0,144000.0,192000.0,120000.0,135000.0,78000.0,80000.0,28000.0,140000.0,145000.0,82000.0,152000.0,62000.0,164000.0,18000.0,115000.0,185000.0,85000.0,26000.0,126000.0,54000.0,27000.0,197000.0,100000.0,23000.0,69000.0,160000.0,80000.0,92000.0,150000.0,140000.0,104000.0,93000.0,158000.0,34000.0,122000.0,90000.0,67000.0,165000.0,84000.0,160000.0,11000.0,137000.0,140000.0,100000.0,73000.0,97000.0,125000.0,101000.0,107000.0,100000.0,97000.0,33000.0,54000.0,112000.0,65000.0,140000.0,48000.0,21000.0,125000.0,129000.0,137000.0,110000.0,17000.0,135000.0,115000.0,51000.0,130000.0,32000.0,21000.0,39000.0,102000.0,18000.0,101000.0,140000.0,22000.0,195000.0,147000.0,100000.0,97000.0,42000.0,90000.0,45000.0,98000.0,15000.0,72000.0,69000.0,66000.0,78000.0,36000.0,140000.0,145000.0,73000.0,73000.0,13000.0,110000.0,136000.0,118000.0,114000.0,5000.0,32000.0,42000.0,124000.0,180000.0,58000.0,34000.0,19000.0,118000.0,34000.0,15000.0,10000.0,28000.0,20000.0,91000.0,150000.0,22000.0,73000.0,150000.0,150000.0,98000.0,95000.0,92000.0,120000.0,40000.0,37000.0,85000.0,90000.0,105000.0,91000.0,91000.0,87000.0,210000.0,157000.0,190000.0,56000.0,84000.0,18000.0,124000.0,227000.0,88000.0,55000.0,70000.0,38000.0,143000.0,100000.0,110000.0,78000.0,26000.0,180000.0,124000.0,93000.0,80000.0,150000.0,132000.0,61000.0,92000.0,158000.0,101000.0,178000.0,29000.0,65000.0,105000.0,40000.0,104000.0,85000.0,117000.0,146000.0,133000.0,100000.0,70000.0,120000.0,111000.0,130000.0,97000.0,56000.0,104000.0,84000.0,82000.0,28000.0,113000.0,75000.0,51000.0,140000.0,104000.0,179000.0,113000.0,26000.0,89000.0,72000.0,107000.0,75000.0,120000.0,93000.0,41000.0,205000.0,110000.0,82000.0,36000.0,150000.0,100000.0,118000.0,95000.0,23000.0,92000.0,99000.0,48000.0,21000.0,64000.0,160000.0,85000.0,150000.0,50000.0,10000.0,77000.0,20000.0,77000.0,86000.0,21000.0,146000.0,45000.0,44000.0,23000.0,40000.0,170000.0,84000.0,85000.0,75000.0,111000.0,93000.0,160000.0,175000.0,140000.0,36000.0,63000.0,92000.0,110000.0,115000.0,107000.0,100000.0,97000.0,85000.0,72000.0,77000.0,71000.0,94000.0,100000.0,78000.0,11000.0,43000.0,26000.0,23000.0,103000.0,144000.0,48000.0,43000.0,170000.0,120000.0,57000.0,23000.0,104000.0,73000.0,200000.0,55000.0,100000.0,117000.0,62000.0,148000.0,48000.0,144000.0,97000.0,71000.0,81000.0,64000.0,58000.0,92000.0,185000.0,130000.0,89000.0,145000.0,27000.0,179000.0,35000.0,116000.0,65000.0,93000.0,135000.0,130000.0,64000.0,135000.0,112000.0,50000.0,102000.0,16000.0,121000.0,90000.0,19000.0,128000.0,98000.0,155000.0,54000.0,80000.0,128000.0,80000.0,90000.0,100000.0,110000.0,62000.0,68000.0,111000.0,82000.0,202000.0,75000.0,35000.0,41000.0,44000.0,147000.0,71000.0,149000.0,150000.0,200000.0,185000.0,107000.0,141000.0,67000.0,27000.0,115000.0,85000.0,27000.0,40000.0,54000.0,140000.0,92000.0,130000.0,250000.0,75000.0,77000.0,165000.0,129000.0,225000.0,22000.0,108000.0,100000.0,89000.0,90000.0,140000.0,120000.0,138000.0,125000.0,118000.0,17000.0,77000.0,23000.0,35000.0,72000.0,11000.0,52000.0,72000.0,139000.0,74000.0,100000.0,31000.0,21000.0,92000.0,78000.0,102000.0,41000.0,46000.0,223000.0,81000.0,182000.0,166000.0,102000.0,78000.0,149000.0,96000.0,125000.0,77000.0,101000.0,132000.0,85000.0,27000.0,152000.0,50000.0,77000.0,27000.0,35000.0,113000.0,95000.0,101000.0,107000.0,85000.0,10000.0,140000.0,46000.0,158000.0,108000.0,215000.0,118000.0,24000.0,130000.0,80000.0,38000.0,130000.0,130000.0,19000.0,125000.0,32000.0,53000.0,19000.0,60000.0,108000.0,110000.0,23000.0,35000.0,42000.0,125000.0,40000.0,185000.0,107000.0,216000.0,140000.0,101000.0,130000.0,113000.0,120000.0,13000.0,95000.0,18000.0,56000.0,140000.0,46000.0,100000.0,41000.0,64000.0,98000.0,20000.0,147000.0,118000.0,146000.0,24000.0,155000.0,10000.0,25000.0,130000.0,71000.0,160000.0,165000.0,100000.0,105000.0,170000.0,111000.0,150000.0,118000.0,150000.0,25000.0,27000.0,125000.0,145000.0,39000.0,145000.0,116000.0,145000.0,98000.0,110000.0,130000.0,112000.0,131000.0,150000.0,96000.0,63000.0,102000.0,32000.0,44000.0,25000.0,54000.0,24000.0,24000.0,34000.0,119000.0,26000.0,68000.0,26000.0,33000.0,21000.0,61000.0,135000.0,150000.0,101000.0,55000.0,55000.0,33000.0,33000.0,21000.0,95000.0,180000.0,84000.0,110000.0,120000.0,115000.0,28000.0,28000.0,26000.0,110000.0,185000.0,57000.0,124000.0,80000.0,11000.0,43000.0,27000.0,102000.0,181000.0,94000.0,151000.0,116000.0,68000.0,103000.0,106000.0,12000.0,107000.0,42000.0,114000.0,82000.0,32000.0,152000.0,105000.0,45000.0,135000.0,50000.0,145000.0,74000.0,120000.0,116000.0,93000.0,107000.0,103000.0,108000.0,42000.0,65000.0,47000.0,17000.0,98000.0,110000.0,9000.0,42000.0,111000.0,80000.0,81000.0,46000.0,19000.0,22000.0,27000.0,170000.0,46000.0,27000.0,153000.0,120000.0,77000.0,116000.0,33000.0,22000.0,160000.0,120000.0,180000.0,80000.0,150000.0,114000.0,130000.0,45000.0,43000.0,175000.0,86000.0,140000.0,128000.0,145000.0,125000.0,30000.0,38000.0,51000.0,37000.0,71000.0,110000.0,70000.0,47000.0,85000.0,112000.0,150000.0,170000.0,74000.0,91000.0,10000.0,140000.0,43000.0,8000.0,70000.0,71000.0,79000.0,202000.0,160000.0,110000.0,29000.0,92000.0,124000.0,106000.0,164000.0,137000.0,106000.0,23000.0,76000.0,114000.0,141000.0,107000.0,100000.0,100000.0,118000.0,101000.0,33000.0,99000.0,86000.0,95000.0,40000.0,115000.0,44000.0,60000.0,90000.0,83000.0,122000.0,71000.0,57000.0,145000.0,85000.0,120000.0,114000.0,175000.0,173000.0,40000.0,24000.0,51000.0,35000.0,96000.0,140000.0,160000.0,89000.0,135000.0,109000.0,81000.0,30000.0,210000.0,92000.0,14000.0,108000.0,95000.0,50000.0,98000.0,145000.0,76000.0,102000.0,119000.0,86000.0,51000.0,165000.0,122000.0,115000.0,190000.0,125000.0,198000.0,139000.0,152000.0,59000.0,38000.0,50000.0,78000.0,87000.0,125000.0,145000.0,90000.0,104000.0,60000.0,140000.0,82000.0,80000.0,108000.0,36000.0,150000.0,150000.0,180000.0,100000.0,74000.0,20000.0,42000.0,114000.0,19000.0,160000.0,140000.0,100000.0,46000.0,65000.0,71000.0,85000.0,75000.0,105000.0,53000.0,78000.0,160000.0,110000.0,14000.0,68000.0,95000.0,100000.0,155000.0,120000.0,140000.0,110000.0,115000.0,60000.0,104000.0,172000.0,80000.0,115000.0,118000.0,108000.0,140000.0,123000.0,147000.0,150000.0,150000.0,146000.0,158000.0,130000.0,47000.0,145000.0,100000.0,82000.0,47000.0,65000.0,100000.0,32000.0,61000.0,91000.0,88000.0,93000.0,176000.0,130000.0,159000.0,127000.0,92000.0,150000.0,133000.0,152000.0,20000.0,150000.0,155000.0,160000.0,92000.0,54000.0,55000.0,115000.0,63000.0,30000.0,141000.0,182000.0,52000.0,58000.0,21000.0,100000.0,136000.0,42000.0,91000.0,130000.0,21000.0,61000.0,180000.0,83000.0,65000.0,81000.0,75000.0,18000.0,110000.0,150000.0,96000.0,119000.0,268000.0,146000.0,155000.0,164000.0,111000.0,20000.0,88000.0,74000.0,165000.0,52000.0,85000.0,121000.0,22000.0,69000.0,97000.0,254000.0,109000.0,50000.0,146000.0,44000.0,41000.0,39000.0,134000.0,69000.0,112000.0,75000.0,21000.0,115000.0,160000.0,115000.0,20000.0,147000.0,45000.0,15000.0,148000.0,240000.0,64000.0,75000.0,83000.0,130000.0,80000.0,30000.0,122000.0,131000.0,115000.0,88000.0,124000.0,90000.0,77000.0,127000.0,68000.0,30000.0,20000.0,48000.0,145000.0,55000.0,15000.0,30000.0,42000.0,116000.0,25000.0,72000.0,208000.0,120000.0,67000.0,106000.0,84000.0,175000.0,47000.0,102000.0,98000.0,67000.0,161000.0,39000.0,200000.0,114000.0,114000.0,110000.0,166000.0,171000.0,80000.0,22000.0,102000.0,150000.0,80000.0,145000.0,95000.0,72000.0,61000.0,11000.0,44000.0,22000.0,82000.0,78000.0,70000.0,130000.0,80000.0,210000.0,119000.0,28000.0,92000.0,90000.0,73000.0,78000.0,141000.0,175000.0,58000.0,53000.0,150000.0,42000.0,102000.0,90000.0,60000.0,76000.0,119000.0,98000.0,136000.0,56000.0,98000.0,39000.0,65000.0,144000.0,72000.0,75000.0,85000.0,28000.0,43000.0,160000.0,100000.0,65000.0,72000.0,54000.0,91000.0,49000.0,35000.0,40000.0,61000.0,112000.0,60000.0,53000.0,78000.0,54000.0,26000.0,62000.0,82000.0,30000.0,42000.0,41000.0,26000.0,140000.0,61000.0,50000.0,48000.0,36000.0,39000.0,29000.0,65000.0,84000.0,136000.0,30000.0,47000.0,83000.0,59000.0,83000.0,84000.0,57000.0,107000.0,50000.0,57000.0,42000.0,84000.0,84000.0,129000.0,43000.0,70000.0,45000.0,155000.0,135000.0,127000.0,120000.0,60000.0,105000.0,97000.0,84000.0,110000.0,77000.0,45000.0,129000.0,80000.0,105000.0,135000.0,160000.0,55000.0,32000.0,80000.0,107000.0,78000.0,36000.0,45000.0,65000.0,90000.0,23000.0,100000.0,35000.0,150000.0,97000.0,145000.0,50000.0,42000.0,59000.0,58000.0,71000.0,144000.0,44000.0,130000.0,75000.0,45000.0,42000.0,100000.0,28000.0,48000.0,100000.0,90000.0,120000.0,25000.0,66000.0,31000.0,40000.0,152000.0,31000.0,155000.0,120000.0,92000.0,70000.0,120000.0,104000.0,110000.0,33000.0,112000.0,74000.0,41000.0,78000.0,45000.0,118000.0,38000.0,44000.0,50000.0,64000.0,100000.0,118000.0,80000.0,97000.0,47000.0,33000.0,23000.0,88000.0,42000.0,88000.0,33000.0,120000.0,158000.0,70000.0,54000.0,40000.0,190000.0,96000.0,250000.0,41000.0,138000.0,16000.0,104000.0,75000.0,125000.0,97000.0,122000.0,150000.0,110000.0,124000.0,142000.0,65000.0,194000.0,50000.0,89000.0,35000.0,10000.0,50000.0,35000.0,31000.0,104000.0,40000.0,47000.0,60000.0,33000.0,41000.0,36000.0,126000.0,90000.0,144000.0,130000.0,140000.0,78000.0,106000.0,115000.0,31000.0,116000.0,72000.0,119000.0,155000.0,108000.0,122000.0,135000.0,159000.0,110000.0,25000.0,40000.0,94000.0,112000.0,87000.0,155000.0,117000.0,114000.0,97000.0,52000.0,96000.0,124000.0,103000.0,131000.0,110000.0,50000.0,86000.0,59000.0,130000.0,130000.0,150000.0,48000.0,142000.0,40000.0,157000.0,180000.0,15000.0,42000.0,131000.0,146000.0,86000.0,50000.0,96000.0,109000.0,111000.0,108000.0,20000.0,160000.0,29000.0,75000.0,90000.0,117000.0,148000.0,112000.0,145000.0,54000.0,150000.0,125000.0,90000.0,149000.0,113000.0,85000.0,160000.0,200000.0,48000.0,66000.0,20000.0,110000.0,144000.0,32000.0,100000.0,130000.0,172000.0,82000.0,96000.0,166000.0,93000.0,157000.0,115000.0,117000.0,90000.0,77000.0,90000.0,140000.0,127000.0,118000.0,165000.0,198000.0,115000.0,40000.0,130000.0,138000.0,120000.0,128000.0,120000.0,106000.0,114000.0,79000.0,200000.0,126000.0,128000.0,26000.0,93000.0,170000.0,23000.0,30000.0,26000.0,56000.0,176000.0,43000.0,26000.0,15000.0,72000.0,35000.0,69000.0,68000.0,160000.0,51000.0,100000.0,118000.0,159000.0,116000.0,88000.0,131000.0,48000.0,89000.0,121000.0,65000.0,129000.0,137000.0,135000.0,68000.0,45000.0,143000.0,38000.0,120000.0,57000.0,160000.0,57000.0,135000.0,99000.0,180000.0,76000.0,143000.0,164000.0,66000.0,44000.0,44000.0,125000.0,70000.0,130000.0,39000.0,131000.0,124000.0,243000.0,81000.0,100000.0,44000.0,33000.0,123000.0,52000.0,61000.0,100000.0,57000.0,118000.0,86000.0,71000.0,47000.0,122000.0,76000.0,95000.0,47000.0,47000.0,79000.0,87000.0,81000.0,95000.0,87000.0,96000.0,22000.0,20000.0,25000.0,25000.0,37000.0,48000.0,23000.0,88000.0,90000.0,130000.0,34000.0,37000.0,145000.0,170000.0,210000.0,80000.0,21000.0,62000.0,36000.0,129000.0,48000.0,74000.0,111000.0,16000.0,106000.0,56000.0,95000.0,33000.0,103000.0,114000.0,35000.0,32000.0,80000.0,150000.0,130000.0,40000.0,90000.0,89000.0,150000.0,115000.0,117000.0,144000.0,55000.0,116000.0,105000.0,85000.0,46000.0,49000.0,111000.0,72000.0,15000.0,122000.0,19000.0,110000.0,36000.0,20000.0,94000.0,82000.0,200000.0,87000.0,63000.0,130000.0,180000.0,18000.0,96000.0,100000.0,170000.0,136000.0,82000.0,78000.0,101000.0,132000.0,95000.0,62000.0,38000.0,47000.0,91000.0,61000.0,88000.0,145000.0,64000.0,101000.0,93000.0,132000.0,87000.0,133000.0,130000.0,88000.0,99000.0,41000.0,140000.0,110000.0,84000.0,130000.0,150000.0,81000.0,87000.0,56000.0,100000.0,114000.0,113000.0,122000.0,67000.0,62000.0,92000.0,90000.0,85000.0,12000.0,102200.0,125000.0,85000.0,93000.0,110000.0,42000.0,80000.0,130000.0,72000.0,85000.0,135000.0,60000.0,65000.0,120000.0,85000.0,105000.0,145000.0,95000.0,83000.0,153000.0,70000.0,165000.0,152000.0,122000.0,160000.0,126500.0,112000.0,75000.0,140000.0,70000.0,32000.0,129000.0,105000.0,148000.0,120000.0,160000.0,80000.0,34300.0,115000.0,62290.0,130000.0,98900.0,110000.0,100000.0,115000.0,60000.0,105000.0,19000.0,10000.0,96100.0,104500.0,80500.0,85000.0,79200.0,68000.0,97000.0,63000.0,106000.0,93000.0,98500.0,127000.0,123000.0,210000.0,25000.0,81000.0,78680.0,47460.0,142000.0,105000.0,143000.0,133000.0,140000.0,160000.0],\"xaxis\":\"x\",\"yaxis\":\"y\",\"type\":\"histogram\"},{\"alignmentgroup\":\"True\",\"bingroup\":\"x\",\"hovertemplate\":\"state=NY<br>basesalary=%{x}<br>count=%{y}<extra></extra>\",\"legendgroup\":\"NY\",\"marker\":{\"color\":\"#ab63fa\",\"pattern\":{\"shape\":\"\"}},\"name\":\"NY\",\"offsetgroup\":\"NY\",\"orientation\":\"v\",\"showlegend\":true,\"x\":[142000.0,130000.0,175000.0,137000.0,135000.0,96000.0,156000.0,210000.0,85000.0,165000.0,136000.0,140000.0,118000.0,110000.0,110000.0,143000.0,142000.0,120000.0,155000.0,119000.0,193000.0,166000.0,220000.0,120000.0,190000.0,135000.0,115000.0,200000.0,110000.0,127000.0,210000.0,196000.0,125000.0,142000.0,152000.0,217000.0,170000.0,145000.0,180000.0,192000.0,190000.0,160000.0,121000.0,165000.0,125000.0,143000.0,130000.0,120000.0,170000.0,142000.0,163000.0,140000.0,145000.0,155000.0,125000.0,200000.0,225000.0,135000.0,200000.0,140000.0,178000.0,126000.0,135000.0,100000.0,151000.0,135000.0,98000.0,130000.0,112000.0,98000.0,150000.0,150000.0,160000.0,158000.0,110000.0,170000.0,110000.0,192000.0,129000.0,180000.0,137000.0,185000.0,135000.0,175000.0,160000.0,120000.0,180000.0,183000.0,151000.0,140000.0,204000.0,170000.0,200000.0,190000.0,142000.0,128000.0,101000.0,150000.0,245000.0,170000.0,175000.0,155000.0,156000.0,120000.0,142000.0,150000.0,145000.0,142000.0,110000.0,125000.0,117000.0,200000.0,170000.0,115000.0,195000.0,140000.0,155000.0,123000.0,120000.0,175000.0,125000.0,165000.0,270000.0,140000.0,157000.0,260000.0,209000.0,168000.0,140000.0,126000.0,150000.0,150000.0,120000.0,175000.0,140000.0,125000.0,155000.0,160000.0,170000.0,155000.0,160000.0,150000.0,220000.0,148000.0,190000.0,80000.0,185000.0,180000.0,150000.0,178000.0,165000.0,153000.0,160000.0,192000.0,127000.0,125000.0,195000.0,100000.0,177000.0,161000.0,142000.0,144000.0,71000.0,214000.0,235000.0,126000.0,122000.0,160000.0,170000.0,180000.0,160000.0,185000.0,260000.0,123000.0,250000.0,176000.0,163000.0,160000.0,220000.0,185000.0,172000.0,150000.0,152000.0,196000.0,176000.0,87000.0,200000.0,125000.0,135000.0,170000.0,153000.0,150000.0,135000.0,146000.0,400000.0,162000.0,171000.0,150000.0,148000.0,150000.0,111000.0,200000.0,126000.0,160000.0,160000.0,106000.0,152000.0,117000.0,180000.0,110000.0,200000.0,120000.0,120000.0,207000.0,139000.0,152000.0,140000.0,155000.0,115000.0,135000.0,106000.0,200000.0,150000.0,150000.0,175000.0,150000.0,105000.0,155000.0,195000.0,145000.0,160000.0,180000.0,215000.0,160000.0,165000.0,159000.0,144000.0,142000.0,130000.0,150000.0,165000.0,146000.0,175000.0,185000.0,175000.0,110000.0,175000.0,208000.0,200000.0,290000.0,165000.0,155000.0,110000.0,170000.0,195000.0,136000.0,174000.0,210000.0,120000.0,230000.0,155000.0,170000.0,142000.0,105000.0,145000.0,190000.0,167000.0,152000.0,205000.0,125000.0,175000.0,152000.0,140000.0,210000.0,125000.0,200000.0,175000.0,180000.0,170000.0,115000.0,190000.0,150000.0,150000.0,145000.0,185000.0,260000.0,120000.0,203000.0,200000.0,162000.0,117000.0,145000.0,131000.0,120000.0,118000.0,100000.0,146000.0,180000.0,170000.0,100000.0,170000.0,180000.0,150000.0,91000.0,162000.0,162000.0,168000.0,168000.0,120000.0,125000.0,250000.0,169000.0,165000.0,192000.0,201000.0,140000.0,120000.0,150000.0,220000.0,180000.0,142000.0,150000.0,169000.0,180000.0,160000.0,185000.0,170000.0,150000.0,160000.0,175000.0,126000.0,175000.0,205000.0,140000.0,185000.0,140000.0,145000.0,155000.0,140000.0,120000.0,148000.0,154000.0,150000.0,175000.0,160000.0,125000.0,220000.0,129000.0,210000.0,106000.0,106000.0,210000.0,140000.0,120000.0,190000.0,16000.0,135000.0,150000.0,110000.0,100000.0,167000.0,143000.0,130000.0,140000.0,150000.0,131000.0,137000.0,175000.0,135000.0,125000.0,176000.0,115000.0,160000.0,140000.0,178000.0,193000.0,121000.0,187000.0,160000.0,160000.0,153000.0,140000.0,110000.0,147000.0,145000.0,106000.0,110000.0,130000.0,180000.0,93000.0,163000.0,160000.0,102000.0,180000.0,142000.0,140000.0,165000.0,118000.0,156000.0,138000.0,90000.0,191000.0,100000.0,110000.0,148000.0,95000.0,140000.0,159000.0,130000.0,135000.0,110000.0,142000.0,200000.0,110000.0,163000.0,142000.0,120000.0,123000.0,164000.0,200000.0,210000.0,165000.0,145000.0,175000.0,138000.0,228000.0,163000.0,130000.0,185000.0,140000.0,146000.0,180000.0,110000.0,130000.0,192000.0,155000.0,160000.0,209000.0,140000.0,148000.0,120000.0,120000.0,155000.0,160000.0,206000.0,161000.0,151000.0,130000.0,138000.0,180000.0,140000.0,160000.0,148000.0,140000.0,169000.0,118000.0,165000.0,131000.0,145000.0,191000.0,200000.0,152000.0,171000.0,172000.0,167000.0,150000.0,142000.0,141000.0,225000.0,200000.0,175000.0,167000.0,130000.0,88000.0,215000.0,200000.0,165000.0,123000.0,137000.0,200000.0,146000.0,155000.0,215000.0,150000.0,105000.0,166000.0,165000.0,110000.0,130000.0,150000.0,174000.0,158000.0,200000.0,126000.0,220000.0,63000.0,191000.0,140000.0,166000.0,110000.0,175000.0,150000.0,210000.0,156000.0,110000.0,153000.0,175000.0,110000.0,135000.0,150000.0,165000.0,160000.0,123000.0,150000.0,106000.0,225000.0,152000.0,270000.0,107000.0,149000.0,126000.0,148000.0,189000.0,189000.0,175000.0,131000.0,135000.0,170000.0,160000.0,110000.0,128000.0,120000.0,127000.0,150000.0,137000.0,150000.0,148000.0,210000.0,248000.0,139000.0,167000.0,134000.0,125000.0,140000.0,180000.0,127000.0,196000.0,169000.0,130000.0,125000.0,170000.0,120000.0,120000.0,135000.0,125000.0,150000.0,155000.0,156000.0,165000.0,140000.0,118000.0,125000.0,160000.0,195000.0,110000.0,123000.0,200000.0,170000.0,145000.0,93000.0,135000.0,125000.0,150000.0,200000.0,159000.0,124000.0,153000.0,130000.0,155000.0,175000.0,145000.0,170000.0,183000.0,125000.0,130000.0,140000.0,173000.0,157000.0,165000.0,195000.0,140000.0,175000.0,128000.0,138000.0,152000.0,118000.0,170000.0,155000.0,135000.0,160000.0,134000.0,200000.0,100000.0,168000.0,130000.0,151000.0,151000.0,215000.0,160000.0,142000.0,121000.0,191000.0,170000.0,178000.0,225000.0,130000.0,100000.0,150000.0,175000.0,260000.0,145000.0,216000.0,154000.0,145000.0,117000.0,115000.0,170000.0,165000.0,150000.0,185000.0,114000.0,191000.0,135000.0,272000.0,115000.0,140000.0,155000.0,167000.0,255000.0,145000.0,178000.0,206000.0,220000.0,172000.0,178000.0,240000.0,120000.0,95000.0,170000.0,190000.0,180000.0,117000.0,155000.0,191000.0,127000.0,191000.0,150000.0,188000.0,200000.0,180000.0,209000.0,160000.0,240000.0,150000.0,153000.0,130000.0,125000.0,123000.0,120000.0,140000.0,200000.0,110000.0,135000.0,135000.0,188000.0,160000.0,125000.0,227000.0,160000.0,150000.0,165000.0,128000.0,165000.0,135000.0,120000.0,167000.0,163000.0,119000.0,135000.0,148000.0,210000.0,150000.0,154000.0,155000.0,175000.0,150000.0,155000.0,156000.0,127000.0,220000.0,160000.0,152000.0,155000.0,152000.0,135000.0,112000.0,160000.0,220000.0,159000.0,200000.0,170000.0,215000.0,140000.0,92000.0,110000.0,147000.0,300000.0,165000.0,142000.0,150000.0,110000.0,154000.0,88000.0,135000.0,150000.0,124000.0,198000.0,152000.0,190000.0,139000.0,105000.0,95000.0,142000.0,164000.0,172000.0,160000.0,115000.0,165000.0,160000.0,171000.0,189000.0,205000.0,147000.0,210000.0,106000.0,140000.0,155000.0,142000.0,155000.0,125000.0,185000.0,205000.0,150000.0,230000.0,155000.0,153000.0,188000.0,202000.0,100000.0,162000.0,177000.0,250000.0,149000.0,145000.0,185000.0,149000.0,106000.0,145000.0,100000.0,127000.0,170000.0,185000.0,164000.0,100000.0,193000.0,110000.0,165000.0,140000.0,135000.0,170000.0,120000.0,165000.0,127000.0,153000.0,120000.0,131000.0,125000.0,130000.0,145000.0,153000.0,160000.0,153000.0,164000.0,144000.0,100000.0,165000.0,180000.0,133000.0,200000.0,165000.0,135000.0,120000.0,120000.0,150000.0,192000.0,132000.0,90000.0,113000.0,133000.0,118000.0,188000.0,185000.0,167000.0,169000.0,142000.0,100000.0,143000.0,160000.0,120000.0,180000.0,110000.0,190000.0,237000.0,151000.0,193000.0,120000.0,140000.0,95000.0,133000.0,140000.0,180000.0,205000.0,163000.0,217000.0,164000.0,185000.0,125000.0,94000.0,82000.0,158000.0,160000.0,197000.0,145000.0,178000.0,180000.0,130000.0,252000.0,150000.0,190000.0,126000.0,232000.0,164000.0,113000.0,123000.0,167000.0,84000.0,200000.0,200000.0,198000.0,180000.0,187000.0,177000.0,145000.0,170000.0,163000.0,180000.0,135000.0,140000.0,165000.0,164000.0,115000.0,127000.0,140000.0,155000.0,185000.0,130000.0,126000.0,188000.0,225000.0,121000.0,210000.0,227000.0,216000.0,190000.0,200000.0,150000.0,140000.0,120000.0,240000.0,130000.0,144000.0,162000.0,205000.0,170000.0,181000.0,150000.0,110000.0,115000.0,180000.0,148000.0,185000.0,176000.0,290000.0,160000.0,166000.0,171000.0,150000.0,160000.0,160000.0,115000.0,200000.0,147000.0,140000.0,180000.0,167000.0,100000.0,110000.0,250000.0,110000.0,140000.0,200000.0,160000.0,187000.0,250000.0,165000.0,250000.0,150000.0,142000.0,120000.0,165000.0,145000.0,123000.0,160000.0,129000.0,191000.0,126000.0,164000.0,140000.0,182000.0,195000.0,125000.0,162000.0,185000.0,145000.0,100000.0,190000.0,155000.0,170000.0,167000.0,165000.0,181000.0,186000.0,170000.0,179000.0,173000.0,80000.0,110000.0,155000.0,175000.0,200000.0,155000.0,160000.0,200000.0,150000.0,185000.0,100000.0,95000.0,93000.0,155000.0,112000.0,180000.0,135000.0,155000.0,171000.0,205000.0,162000.0,195000.0,124000.0,145000.0,220000.0,174000.0,123000.0,180000.0,140000.0,145000.0,180000.0,120000.0,163000.0,160000.0,100000.0,135000.0,132000.0,160000.0,225000.0,145000.0,153000.0,180000.0,155000.0,170000.0,136000.0,212000.0,190000.0,103000.0,160000.0,100000.0,130000.0,179000.0,207000.0,196000.0,125000.0,150000.0,110000.0,139000.0,190000.0,164000.0,100000.0,100000.0,127000.0,158000.0,201000.0,185000.0,185000.0,240000.0,172000.0,200000.0,135000.0,170000.0,200000.0,155000.0,186000.0,120000.0,120000.0,184000.0,125000.0,100000.0,215000.0,110000.0,175000.0,195000.0,150000.0,121000.0,180000.0,80000.0,165000.0,140000.0,105000.0,160000.0,110000.0,160000.0,100000.0,192000.0,165000.0,165000.0,105000.0,135000.0,120000.0,125000.0,210000.0,160000.0,200000.0,175000.0,100000.0,225000.0,201000.0,150000.0,144000.0,228000.0,167000.0,143000.0,126000.0,165000.0,177000.0,120000.0,155000.0,170000.0,200000.0,155000.0,117000.0,125000.0,128000.0,163000.0,120000.0,185000.0,216000.0,200000.0,150000.0,166000.0,129000.0,180000.0,145000.0,195000.0,174000.0,150000.0,240000.0,115000.0,119000.0,159000.0,165000.0,93000.0,175000.0,110000.0,186000.0,110000.0,194000.0,200000.0,167000.0,168000.0,140000.0,130000.0,165000.0,132000.0,140000.0,125000.0,250000.0,160000.0,165000.0,110000.0,100000.0,160000.0,150000.0,265000.0,100000.0,195000.0,245000.0,200000.0,120000.0,165000.0,150000.0,140000.0,150000.0,135000.0,100000.0,87000.0,128000.0,150000.0,105000.0,135000.0,205000.0,188000.0,175000.0,200000.0,188000.0,180000.0,96000.0,159000.0,133000.0,170000.0,130000.0,180000.0,145000.0,154000.0,129000.0,225000.0,107000.0,139000.0,143000.0,200000.0,145000.0,202000.0,100000.0,220000.0,90000.0,180000.0,280000.0,170000.0,125000.0,155000.0,93000.0,178000.0,163000.0,132000.0,100000.0,180000.0,150000.0,132000.0,126000.0,148000.0,77000.0,150000.0,155000.0,105000.0,120000.0,135000.0,180000.0,255000.0,152000.0,130000.0,156000.0,100000.0,176000.0,130000.0,149000.0,105000.0,149000.0,150000.0,150000.0,120000.0,120000.0,142000.0,107000.0,178000.0,200000.0,126000.0,135000.0,150000.0,150000.0,165000.0,126000.0,110000.0,105000.0,170000.0,78000.0,155000.0,176000.0,220000.0,160000.0,120000.0,158000.0,195000.0,250000.0,110000.0,193000.0,185000.0,150000.0,103000.0,260000.0,90000.0,150000.0,128000.0,150000.0,210000.0,142000.0,150000.0,142000.0,210000.0,119000.0,135000.0,130000.0,145000.0,120000.0,130000.0,150000.0,180000.0,260000.0,182000.0,140000.0,114000.0,177000.0,125000.0,185000.0,149000.0,168000.0,146000.0,125000.0,125000.0,150000.0,100000.0,178000.0,150000.0,191000.0,140000.0,145000.0,172000.0,155000.0,130000.0,148000.0,205000.0,108000.0,200000.0,175000.0,145000.0,158000.0,102000.0,125000.0,175000.0,290000.0,150000.0,130000.0,180000.0,110000.0,145000.0,150000.0,147000.0,156000.0,110000.0,175000.0,133000.0,118000.0,159000.0,115000.0,124000.0,170000.0,185000.0,136000.0,173000.0,126000.0,156000.0,120000.0,135000.0,110000.0,156000.0,175000.0,135000.0,135000.0,210000.0,105000.0,166000.0,215000.0,142000.0,128000.0,275000.0,188000.0,170000.0,196000.0,110000.0,435000.0,128000.0,195000.0,110000.0,130000.0,112000.0,187000.0,205000.0,150000.0,125000.0,200000.0,100000.0,131000.0,145000.0,210000.0,131000.0,130000.0,143000.0,190000.0,98000.0,100000.0,200000.0,155000.0,160000.0,145000.0,120000.0,130000.0,150000.0,212000.0,170000.0,158000.0,128000.0,175000.0,140000.0,160000.0,145000.0,128000.0,115000.0,135000.0,150000.0,123000.0,103000.0,165000.0,125000.0,158000.0,122000.0,140000.0,193000.0,214000.0,152000.0,133000.0,130000.0,140000.0,88000.0,135000.0,135000.0,106000.0,150000.0,145000.0,134000.0,138000.0,225000.0,150000.0,110000.0,120000.0,134000.0,110000.0,190000.0,177000.0,145000.0,120000.0,175000.0,136000.0,156000.0,130000.0,110000.0,123000.0,175000.0,140000.0,140000.0,169000.0,115000.0,123000.0,140000.0,150000.0,110000.0,147000.0,172000.0,132000.0,123000.0,230000.0,138000.0,120000.0,138000.0,145000.0,135000.0,165000.0,156000.0,106000.0,177000.0,100000.0,135000.0,110000.0,135000.0,140000.0,150000.0,152000.0,152000.0,170000.0,139000.0,92000.0,190000.0,120000.0,190000.0,145000.0,200000.0,120000.0,115000.0,138000.0,185000.0,140000.0,85000.0,163000.0,140000.0,130000.0,135000.0,140000.0,230000.0,95000.0,125000.0,154000.0,160000.0,155000.0,190000.0,139000.0,160000.0,205000.0,148000.0,129000.0,250000.0,240000.0,150000.0,227000.0,198000.0,210000.0,200000.0,105000.0,230000.0,220000.0,185000.0,198000.0,200000.0,167000.0,195000.0,165000.0,140000.0,120000.0,167000.0,200000.0,167000.0,125000.0,190000.0,145000.0,243000.0,172000.0,110000.0,204000.0,178000.0,138000.0,200000.0,110000.0,190000.0,245000.0,156000.0,245000.0,145000.0,160000.0,120000.0,100000.0,105000.0,160000.0,210000.0,195000.0,227000.0,222000.0,175000.0,235000.0,120000.0,189000.0,180000.0,162000.0,183000.0,135000.0,165000.0,21000.0,140000.0,181000.0,166000.0,200000.0,205000.0,158000.0,83000.0,116000.0,154000.0,192000.0,160000.0,214000.0,135000.0,128000.0,130000.0,105000.0,160000.0,234000.0,158000.0,234000.0,165000.0,100000.0,210000.0,178000.0,140000.0,210000.0,100000.0,155000.0,120000.0,140000.0,170000.0,184000.0,182000.0,190000.0,150000.0,160000.0,175000.0,128000.0,128000.0,146000.0,163000.0,114000.0,194000.0,127000.0,93000.0,180000.0,110000.0,185000.0,127000.0,232000.0,145000.0,169000.0,100000.0,190000.0,155000.0,155000.0,175000.0,160000.0,160000.0,230000.0,160000.0,125000.0,125000.0,120000.0,230000.0,135000.0,120000.0,120000.0,92000.0,186000.0,130000.0,197000.0,110000.0,180000.0,167000.0,142000.0,145000.0,155000.0,105000.0,150000.0,205000.0,146000.0,172000.0,200000.0,165000.0,135000.0,146000.0,142000.0,150000.0,164000.0,128000.0,196000.0,176000.0,135000.0,135000.0,158000.0,120000.0,164000.0,200000.0,173000.0,212000.0,145000.0,160000.0,120000.0,160000.0,165000.0,140000.0,138000.0,205000.0,170000.0,147000.0,102000.0,212000.0,157000.0,159000.0,180000.0,156000.0,145000.0,211000.0,170000.0,68000.0,125000.0,129000.0,190000.0,105000.0,149000.0,128000.0,189000.0,195000.0,98000.0,232000.0,162000.0,190000.0,140000.0,125000.0,135000.0,204000.0,155000.0,162000.0,88000.0,161000.0,147000.0,165000.0,160000.0,140000.0,180000.0,130000.0,160000.0,150000.0,162000.0,155000.0,195000.0,146000.0,130000.0,150000.0,167000.0,145000.0,130000.0,115000.0,540000.0,200000.0,80000.0,175000.0,175000.0,80000.0,80000.0,165000.0,100000.0,167000.0,220000.0,195000.0,120000.0,200000.0,170000.0,130000.0,130000.0,115000.0,190000.0,190000.0,200000.0,160000.0,159000.0,156000.0,160000.0,151000.0,123000.0,385000.0,155000.0,120000.0,142000.0,155000.0,130000.0,213000.0,182000.0,207000.0,140000.0,110000.0,167000.0,160000.0,160000.0,135000.0,120000.0,185000.0,185000.0,195000.0,120000.0,166000.0,110000.0,141000.0,141000.0,180000.0,165000.0,152000.0,142000.0,164000.0,200000.0,165000.0,150000.0,145000.0,169000.0,160000.0,222000.0,133000.0,160000.0,115000.0,120000.0,140000.0,155000.0,115000.0,113000.0,149000.0,170000.0,100000.0,214000.0,148000.0,180000.0,225000.0,220000.0,142000.0,150000.0,185000.0,138000.0,126000.0,138000.0,170000.0,202000.0,158000.0,210000.0,196000.0,100000.0,167000.0,131000.0,105000.0,100000.0,127000.0,140000.0,155000.0,145000.0,155000.0,130000.0,140000.0,115000.0,170000.0,140000.0,180000.0,170000.0,210000.0,155000.0,167000.0,168000.0,120000.0,185000.0,115000.0,185000.0,250000.0,177000.0,155000.0,170000.0,150000.0,210000.0,145000.0,114000.0,229000.0,185000.0,110000.0,262000.0,60000.0,200000.0,157000.0,125000.0,155000.0,175000.0,155000.0,140000.0,158000.0,202000.0,160000.0,218000.0,147000.0,133000.0,165000.0,160000.0,180000.0,120000.0,150000.0,100000.0,158000.0,166000.0,125000.0,149000.0,157000.0,164000.0,164000.0,135000.0,150000.0,142000.0,140000.0,160000.0,175000.0,180000.0,170000.0,160000.0,174000.0,156000.0,170000.0,130000.0,200000.0,140000.0,160000.0,136000.0,130000.0,110000.0,175000.0,184000.0,185000.0,150000.0,130000.0,151000.0,110000.0,170000.0,105000.0,100000.0,170000.0,150000.0,190000.0,153000.0,170000.0,185000.0,120000.0,205000.0,85000.0,142000.0,140000.0,141000.0,115000.0,175000.0,130000.0,205000.0,120000.0,169000.0,113000.0,150000.0,150000.0,145000.0,98000.0,115000.0,100000.0,140000.0,158000.0,157000.0,220000.0,165000.0,185000.0,159000.0,110000.0,175000.0,145000.0,165000.0,145000.0,149000.0,220000.0,125000.0,132000.0,96000.0,155000.0,120000.0,190000.0,166000.0,171000.0,197000.0,150000.0,265000.0,224000.0,204000.0,145000.0,115000.0,185000.0,170000.0,104000.0,105000.0,170000.0,127000.0,185000.0,145000.0,160000.0,155000.0,178000.0,128000.0,165000.0,223000.0,130000.0,167000.0,133000.0,205000.0,150000.0,100000.0,164000.0,185000.0,205000.0,198000.0,156000.0,148000.0,150000.0,205000.0,165000.0,150000.0,150000.0,264000.0,175000.0,200000.0,150000.0,128000.0,170000.0,176000.0,166000.0,165000.0,168000.0,170000.0,185000.0,172000.0,140000.0,167000.0,150000.0,200000.0,136000.0,110000.0,150000.0,160000.0,144000.0,167000.0,185000.0,130000.0,136000.0,92000.0,120000.0,110000.0,205000.0,165000.0,152000.0,165000.0,138000.0,95000.0,152000.0,100000.0,197000.0,173000.0,185000.0,175000.0,130000.0,209000.0,125000.0,142000.0,166000.0,166000.0,180000.0,230000.0,174000.0,204000.0,166000.0,100000.0,118000.0,185000.0,125000.0,158000.0,166000.0,200000.0,127000.0,196000.0,110000.0,175000.0,160000.0,167000.0,175000.0,175000.0,166000.0,150000.0,112000.0,176000.0,164000.0,115000.0,200000.0,65000.0,135000.0,100000.0,156000.0,187000.0,180000.0,138000.0,110000.0,240000.0,198000.0,210000.0,158000.0,125000.0,175000.0,142000.0,150000.0,135000.0,156000.0,235000.0,200000.0,175000.0,190000.0,205000.0,160000.0,135000.0,150000.0,129000.0,190000.0,140000.0,132000.0,180000.0,195000.0,124000.0,201000.0,160000.0,175000.0,105000.0,278000.0,140000.0,180000.0,130000.0,89000.0,85000.0,180000.0,80000.0,160000.0,180000.0,266000.0,162000.0,155000.0,165000.0,165000.0,163000.0,146000.0,100000.0,111000.0,207000.0,142000.0,129000.0,175000.0,125000.0,150000.0,134000.0,180000.0,145000.0,86000.0,120000.0,95000.0,135000.0,132000.0,175000.0,198000.0,190000.0,135000.0,140000.0,80000.0,160000.0,209000.0,200000.0,130000.0,121000.0,219000.0,185000.0,147000.0,147000.0,165000.0,161000.0,14000.0,1620000.0,120000.0,162000.0,110000.0,158000.0,120000.0,130000.0,160000.0,184000.0,85000.0,142500.0,180000.0,120000.0,100000.0,150000.0,157000.0,165000.0,143000.0,131000.0,125000.0],\"xaxis\":\"x\",\"yaxis\":\"y\",\"type\":\"histogram\"}],                        {\"template\":{\"data\":{\"bar\":[{\"error_x\":{\"color\":\"#2a3f5f\"},\"error_y\":{\"color\":\"#2a3f5f\"},\"marker\":{\"line\":{\"color\":\"#E5ECF6\",\"width\":0.5},\"pattern\":{\"fillmode\":\"overlay\",\"size\":10,\"solidity\":0.2}},\"type\":\"bar\"}],\"barpolar\":[{\"marker\":{\"line\":{\"color\":\"#E5ECF6\",\"width\":0.5},\"pattern\":{\"fillmode\":\"overlay\",\"size\":10,\"solidity\":0.2}},\"type\":\"barpolar\"}],\"carpet\":[{\"aaxis\":{\"endlinecolor\":\"#2a3f5f\",\"gridcolor\":\"white\",\"linecolor\":\"white\",\"minorgridcolor\":\"white\",\"startlinecolor\":\"#2a3f5f\"},\"baxis\":{\"endlinecolor\":\"#2a3f5f\",\"gridcolor\":\"white\",\"linecolor\":\"white\",\"minorgridcolor\":\"white\",\"startlinecolor\":\"#2a3f5f\"},\"type\":\"carpet\"}],\"choropleth\":[{\"colorbar\":{\"outlinewidth\":0,\"ticks\":\"\"},\"type\":\"choropleth\"}],\"contour\":[{\"colorbar\":{\"outlinewidth\":0,\"ticks\":\"\"},\"colorscale\":[[0.0,\"#0d0887\"],[0.1111111111111111,\"#46039f\"],[0.2222222222222222,\"#7201a8\"],[0.3333333333333333,\"#9c179e\"],[0.4444444444444444,\"#bd3786\"],[0.5555555555555556,\"#d8576b\"],[0.6666666666666666,\"#ed7953\"],[0.7777777777777778,\"#fb9f3a\"],[0.8888888888888888,\"#fdca26\"],[1.0,\"#f0f921\"]],\"type\":\"contour\"}],\"contourcarpet\":[{\"colorbar\":{\"outlinewidth\":0,\"ticks\":\"\"},\"type\":\"contourcarpet\"}],\"heatmap\":[{\"colorbar\":{\"outlinewidth\":0,\"ticks\":\"\"},\"colorscale\":[[0.0,\"#0d0887\"],[0.1111111111111111,\"#46039f\"],[0.2222222222222222,\"#7201a8\"],[0.3333333333333333,\"#9c179e\"],[0.4444444444444444,\"#bd3786\"],[0.5555555555555556,\"#d8576b\"],[0.6666666666666666,\"#ed7953\"],[0.7777777777777778,\"#fb9f3a\"],[0.8888888888888888,\"#fdca26\"],[1.0,\"#f0f921\"]],\"type\":\"heatmap\"}],\"heatmapgl\":[{\"colorbar\":{\"outlinewidth\":0,\"ticks\":\"\"},\"colorscale\":[[0.0,\"#0d0887\"],[0.1111111111111111,\"#46039f\"],[0.2222222222222222,\"#7201a8\"],[0.3333333333333333,\"#9c179e\"],[0.4444444444444444,\"#bd3786\"],[0.5555555555555556,\"#d8576b\"],[0.6666666666666666,\"#ed7953\"],[0.7777777777777778,\"#fb9f3a\"],[0.8888888888888888,\"#fdca26\"],[1.0,\"#f0f921\"]],\"type\":\"heatmapgl\"}],\"histogram\":[{\"marker\":{\"pattern\":{\"fillmode\":\"overlay\",\"size\":10,\"solidity\":0.2}},\"type\":\"histogram\"}],\"histogram2d\":[{\"colorbar\":{\"outlinewidth\":0,\"ticks\":\"\"},\"colorscale\":[[0.0,\"#0d0887\"],[0.1111111111111111,\"#46039f\"],[0.2222222222222222,\"#7201a8\"],[0.3333333333333333,\"#9c179e\"],[0.4444444444444444,\"#bd3786\"],[0.5555555555555556,\"#d8576b\"],[0.6666666666666666,\"#ed7953\"],[0.7777777777777778,\"#fb9f3a\"],[0.8888888888888888,\"#fdca26\"],[1.0,\"#f0f921\"]],\"type\":\"histogram2d\"}],\"histogram2dcontour\":[{\"colorbar\":{\"outlinewidth\":0,\"ticks\":\"\"},\"colorscale\":[[0.0,\"#0d0887\"],[0.1111111111111111,\"#46039f\"],[0.2222222222222222,\"#7201a8\"],[0.3333333333333333,\"#9c179e\"],[0.4444444444444444,\"#bd3786\"],[0.5555555555555556,\"#d8576b\"],[0.6666666666666666,\"#ed7953\"],[0.7777777777777778,\"#fb9f3a\"],[0.8888888888888888,\"#fdca26\"],[1.0,\"#f0f921\"]],\"type\":\"histogram2dcontour\"}],\"mesh3d\":[{\"colorbar\":{\"outlinewidth\":0,\"ticks\":\"\"},\"type\":\"mesh3d\"}],\"parcoords\":[{\"line\":{\"colorbar\":{\"outlinewidth\":0,\"ticks\":\"\"}},\"type\":\"parcoords\"}],\"pie\":[{\"automargin\":true,\"type\":\"pie\"}],\"scatter\":[{\"marker\":{\"colorbar\":{\"outlinewidth\":0,\"ticks\":\"\"}},\"type\":\"scatter\"}],\"scatter3d\":[{\"line\":{\"colorbar\":{\"outlinewidth\":0,\"ticks\":\"\"}},\"marker\":{\"colorbar\":{\"outlinewidth\":0,\"ticks\":\"\"}},\"type\":\"scatter3d\"}],\"scattercarpet\":[{\"marker\":{\"colorbar\":{\"outlinewidth\":0,\"ticks\":\"\"}},\"type\":\"scattercarpet\"}],\"scattergeo\":[{\"marker\":{\"colorbar\":{\"outlinewidth\":0,\"ticks\":\"\"}},\"type\":\"scattergeo\"}],\"scattergl\":[{\"marker\":{\"colorbar\":{\"outlinewidth\":0,\"ticks\":\"\"}},\"type\":\"scattergl\"}],\"scattermapbox\":[{\"marker\":{\"colorbar\":{\"outlinewidth\":0,\"ticks\":\"\"}},\"type\":\"scattermapbox\"}],\"scatterpolar\":[{\"marker\":{\"colorbar\":{\"outlinewidth\":0,\"ticks\":\"\"}},\"type\":\"scatterpolar\"}],\"scatterpolargl\":[{\"marker\":{\"colorbar\":{\"outlinewidth\":0,\"ticks\":\"\"}},\"type\":\"scatterpolargl\"}],\"scatterternary\":[{\"marker\":{\"colorbar\":{\"outlinewidth\":0,\"ticks\":\"\"}},\"type\":\"scatterternary\"}],\"surface\":[{\"colorbar\":{\"outlinewidth\":0,\"ticks\":\"\"},\"colorscale\":[[0.0,\"#0d0887\"],[0.1111111111111111,\"#46039f\"],[0.2222222222222222,\"#7201a8\"],[0.3333333333333333,\"#9c179e\"],[0.4444444444444444,\"#bd3786\"],[0.5555555555555556,\"#d8576b\"],[0.6666666666666666,\"#ed7953\"],[0.7777777777777778,\"#fb9f3a\"],[0.8888888888888888,\"#fdca26\"],[1.0,\"#f0f921\"]],\"type\":\"surface\"}],\"table\":[{\"cells\":{\"fill\":{\"color\":\"#EBF0F8\"},\"line\":{\"color\":\"white\"}},\"header\":{\"fill\":{\"color\":\"#C8D4E3\"},\"line\":{\"color\":\"white\"}},\"type\":\"table\"}]},\"layout\":{\"annotationdefaults\":{\"arrowcolor\":\"#2a3f5f\",\"arrowhead\":0,\"arrowwidth\":1},\"autotypenumbers\":\"strict\",\"coloraxis\":{\"colorbar\":{\"outlinewidth\":0,\"ticks\":\"\"}},\"colorscale\":{\"diverging\":[[0,\"#8e0152\"],[0.1,\"#c51b7d\"],[0.2,\"#de77ae\"],[0.3,\"#f1b6da\"],[0.4,\"#fde0ef\"],[0.5,\"#f7f7f7\"],[0.6,\"#e6f5d0\"],[0.7,\"#b8e186\"],[0.8,\"#7fbc41\"],[0.9,\"#4d9221\"],[1,\"#276419\"]],\"sequential\":[[0.0,\"#0d0887\"],[0.1111111111111111,\"#46039f\"],[0.2222222222222222,\"#7201a8\"],[0.3333333333333333,\"#9c179e\"],[0.4444444444444444,\"#bd3786\"],[0.5555555555555556,\"#d8576b\"],[0.6666666666666666,\"#ed7953\"],[0.7777777777777778,\"#fb9f3a\"],[0.8888888888888888,\"#fdca26\"],[1.0,\"#f0f921\"]],\"sequentialminus\":[[0.0,\"#0d0887\"],[0.1111111111111111,\"#46039f\"],[0.2222222222222222,\"#7201a8\"],[0.3333333333333333,\"#9c179e\"],[0.4444444444444444,\"#bd3786\"],[0.5555555555555556,\"#d8576b\"],[0.6666666666666666,\"#ed7953\"],[0.7777777777777778,\"#fb9f3a\"],[0.8888888888888888,\"#fdca26\"],[1.0,\"#f0f921\"]]},\"colorway\":[\"#636efa\",\"#EF553B\",\"#00cc96\",\"#ab63fa\",\"#FFA15A\",\"#19d3f3\",\"#FF6692\",\"#B6E880\",\"#FF97FF\",\"#FECB52\"],\"font\":{\"color\":\"#2a3f5f\"},\"geo\":{\"bgcolor\":\"white\",\"lakecolor\":\"white\",\"landcolor\":\"#E5ECF6\",\"showlakes\":true,\"showland\":true,\"subunitcolor\":\"white\"},\"hoverlabel\":{\"align\":\"left\"},\"hovermode\":\"closest\",\"mapbox\":{\"style\":\"light\"},\"paper_bgcolor\":\"white\",\"plot_bgcolor\":\"#E5ECF6\",\"polar\":{\"angularaxis\":{\"gridcolor\":\"white\",\"linecolor\":\"white\",\"ticks\":\"\"},\"bgcolor\":\"#E5ECF6\",\"radialaxis\":{\"gridcolor\":\"white\",\"linecolor\":\"white\",\"ticks\":\"\"}},\"scene\":{\"xaxis\":{\"backgroundcolor\":\"#E5ECF6\",\"gridcolor\":\"white\",\"gridwidth\":2,\"linecolor\":\"white\",\"showbackground\":true,\"ticks\":\"\",\"zerolinecolor\":\"white\"},\"yaxis\":{\"backgroundcolor\":\"#E5ECF6\",\"gridcolor\":\"white\",\"gridwidth\":2,\"linecolor\":\"white\",\"showbackground\":true,\"ticks\":\"\",\"zerolinecolor\":\"white\"},\"zaxis\":{\"backgroundcolor\":\"#E5ECF6\",\"gridcolor\":\"white\",\"gridwidth\":2,\"linecolor\":\"white\",\"showbackground\":true,\"ticks\":\"\",\"zerolinecolor\":\"white\"}},\"shapedefaults\":{\"line\":{\"color\":\"#2a3f5f\"}},\"ternary\":{\"aaxis\":{\"gridcolor\":\"white\",\"linecolor\":\"white\",\"ticks\":\"\"},\"baxis\":{\"gridcolor\":\"white\",\"linecolor\":\"white\",\"ticks\":\"\"},\"bgcolor\":\"#E5ECF6\",\"caxis\":{\"gridcolor\":\"white\",\"linecolor\":\"white\",\"ticks\":\"\"}},\"title\":{\"x\":0.05},\"xaxis\":{\"automargin\":true,\"gridcolor\":\"white\",\"linecolor\":\"white\",\"ticks\":\"\",\"title\":{\"standoff\":15},\"zerolinecolor\":\"white\",\"zerolinewidth\":2},\"yaxis\":{\"automargin\":true,\"gridcolor\":\"white\",\"linecolor\":\"white\",\"ticks\":\"\",\"title\":{\"standoff\":15},\"zerolinecolor\":\"white\",\"zerolinewidth\":2}}},\"xaxis\":{\"anchor\":\"y\",\"domain\":[0.0,1.0],\"title\":{\"text\":\"basesalary\"}},\"yaxis\":{\"anchor\":\"x\",\"domain\":[0.0,1.0],\"title\":{\"text\":\"count\"}},\"legend\":{\"title\":{\"text\":\"state\"},\"tracegroupgap\":0},\"title\":{\"text\":\"Software Engineer Base Salary per State\"},\"barmode\":\"relative\"},                        {\"responsive\": true}                    ).then(function(){\n                            \nvar gd = document.getElementById('3eecbf20-c4ae-44e1-9e5d-ae48d9ba4fb1');\nvar x = new MutationObserver(function (mutations, observer) {{\n        var display = window.getComputedStyle(gd).display;\n        if (!display || display === 'none') {{\n            console.log([gd, 'removed!']);\n            Plotly.purge(gd);\n            observer.disconnect();\n        }}\n}});\n\n// Listen for the removal of the full notebook cells\nvar notebookContainer = gd.closest('#notebook-container');\nif (notebookContainer) {{\n    x.observe(notebookContainer, {childList: true});\n}}\n\n// Listen for the clearing of the current output cell\nvar outputEl = gd.closest('.output');\nif (outputEl) {{\n    x.observe(outputEl, {childList: true});\n}}\n\n                        })                };                            </script>        </div>\n</body>\n</html>"
     },
     "execution_count": 93,
     "metadata": {
     },
     "output_type": "execute_result"
    }
   ],
   "source": [
    "#histogram\n",
    "softeng = df[df['title'] == 'Software Engineer']\n",
    "plot12 = px.histogram(softeng, x='basesalary', title='Software Engineer Base Salary per State', color='state')\n",
    "plot12.show()"
   ]
  },
  {
   "cell_type": "code",
   "execution_count": 61,
   "metadata": {
    "collapsed": false
   },
   "outputs": [
    {
     "data": {
      "text/html": [
       "<div>\n",
       "<style scoped>\n",
       "    .dataframe tbody tr th:only-of-type {\n",
       "        vertical-align: middle;\n",
       "    }\n",
       "\n",
       "    .dataframe tbody tr th {\n",
       "        vertical-align: top;\n",
       "    }\n",
       "\n",
       "    .dataframe thead th {\n",
       "        text-align: right;\n",
       "    }\n",
       "</style>\n",
       "<table border=\"1\" class=\"dataframe\">\n",
       "  <thead>\n",
       "    <tr style=\"text-align: right;\">\n",
       "      <th></th>\n",
       "      <th>title</th>\n",
       "      <th>company</th>\n",
       "      <th>totalyearlycompensation</th>\n",
       "      <th>yearsofexperience</th>\n",
       "      <th>yearsatcompany</th>\n",
       "      <th>basesalary</th>\n",
       "      <th>stockgrantvalue</th>\n",
       "      <th>bonus</th>\n",
       "      <th>gender</th>\n",
       "      <th>Masters_Degree</th>\n",
       "      <th>...</th>\n",
       "      <th>Doctorate_Degree</th>\n",
       "      <th>Highschool</th>\n",
       "      <th>Some_College</th>\n",
       "      <th>Race_Asian</th>\n",
       "      <th>Race_White</th>\n",
       "      <th>Race_Two_Or_More</th>\n",
       "      <th>Race_Black</th>\n",
       "      <th>Race_Hispanic</th>\n",
       "      <th>state</th>\n",
       "      <th>in_top_15</th>\n",
       "    </tr>\n",
       "  </thead>\n",
       "  <tbody>\n",
       "    <tr>\n",
       "      <th>11</th>\n",
       "      <td>Software Engineer</td>\n",
       "      <td>28991</td>\n",
       "      <td>28991</td>\n",
       "      <td>28991</td>\n",
       "      <td>28991</td>\n",
       "      <td>28991</td>\n",
       "      <td>28991</td>\n",
       "      <td>28991</td>\n",
       "      <td>28991</td>\n",
       "      <td>28991</td>\n",
       "      <td>...</td>\n",
       "      <td>28991</td>\n",
       "      <td>28991</td>\n",
       "      <td>28991</td>\n",
       "      <td>28991</td>\n",
       "      <td>28991</td>\n",
       "      <td>28991</td>\n",
       "      <td>28991</td>\n",
       "      <td>28991</td>\n",
       "      <td>28991</td>\n",
       "      <td>28991</td>\n",
       "    </tr>\n",
       "    <tr>\n",
       "      <th>8</th>\n",
       "      <td>Product Manager</td>\n",
       "      <td>3063</td>\n",
       "      <td>3063</td>\n",
       "      <td>3063</td>\n",
       "      <td>3063</td>\n",
       "      <td>3063</td>\n",
       "      <td>3063</td>\n",
       "      <td>3063</td>\n",
       "      <td>3063</td>\n",
       "      <td>3063</td>\n",
       "      <td>...</td>\n",
       "      <td>3063</td>\n",
       "      <td>3063</td>\n",
       "      <td>3063</td>\n",
       "      <td>3063</td>\n",
       "      <td>3063</td>\n",
       "      <td>3063</td>\n",
       "      <td>3063</td>\n",
       "      <td>3063</td>\n",
       "      <td>3063</td>\n",
       "      <td>3063</td>\n",
       "    </tr>\n",
       "    <tr>\n",
       "      <th>12</th>\n",
       "      <td>Software Engineering Manager</td>\n",
       "      <td>2302</td>\n",
       "      <td>2302</td>\n",
       "      <td>2302</td>\n",
       "      <td>2302</td>\n",
       "      <td>2302</td>\n",
       "      <td>2302</td>\n",
       "      <td>2302</td>\n",
       "      <td>2302</td>\n",
       "      <td>2302</td>\n",
       "      <td>...</td>\n",
       "      <td>2302</td>\n",
       "      <td>2302</td>\n",
       "      <td>2302</td>\n",
       "      <td>2302</td>\n",
       "      <td>2302</td>\n",
       "      <td>2302</td>\n",
       "      <td>2302</td>\n",
       "      <td>2302</td>\n",
       "      <td>2302</td>\n",
       "      <td>2302</td>\n",
       "    </tr>\n",
       "    <tr>\n",
       "      <th>1</th>\n",
       "      <td>Data Scientist</td>\n",
       "      <td>1740</td>\n",
       "      <td>1740</td>\n",
       "      <td>1740</td>\n",
       "      <td>1740</td>\n",
       "      <td>1740</td>\n",
       "      <td>1740</td>\n",
       "      <td>1740</td>\n",
       "      <td>1740</td>\n",
       "      <td>1740</td>\n",
       "      <td>...</td>\n",
       "      <td>1740</td>\n",
       "      <td>1740</td>\n",
       "      <td>1740</td>\n",
       "      <td>1740</td>\n",
       "      <td>1740</td>\n",
       "      <td>1740</td>\n",
       "      <td>1740</td>\n",
       "      <td>1740</td>\n",
       "      <td>1740</td>\n",
       "      <td>1740</td>\n",
       "    </tr>\n",
       "    <tr>\n",
       "      <th>2</th>\n",
       "      <td>Hardware Engineer</td>\n",
       "      <td>1527</td>\n",
       "      <td>1527</td>\n",
       "      <td>1527</td>\n",
       "      <td>1527</td>\n",
       "      <td>1527</td>\n",
       "      <td>1527</td>\n",
       "      <td>1527</td>\n",
       "      <td>1527</td>\n",
       "      <td>1527</td>\n",
       "      <td>...</td>\n",
       "      <td>1527</td>\n",
       "      <td>1527</td>\n",
       "      <td>1527</td>\n",
       "      <td>1527</td>\n",
       "      <td>1527</td>\n",
       "      <td>1527</td>\n",
       "      <td>1527</td>\n",
       "      <td>1527</td>\n",
       "      <td>1527</td>\n",
       "      <td>1527</td>\n",
       "    </tr>\n",
       "  </tbody>\n",
       "</table>\n",
       "<p>5 rows × 21 columns</p>\n",
       "</div>"
      ],
      "text/plain": [
       "                           title  company  totalyearlycompensation  \\\n",
       "11             Software Engineer    28991                    28991   \n",
       "8                Product Manager     3063                     3063   \n",
       "12  Software Engineering Manager     2302                     2302   \n",
       "1                 Data Scientist     1740                     1740   \n",
       "2              Hardware Engineer     1527                     1527   \n",
       "\n",
       "    yearsofexperience  yearsatcompany  basesalary  stockgrantvalue  bonus  \\\n",
       "11              28991           28991       28991            28991  28991   \n",
       "8                3063            3063        3063             3063   3063   \n",
       "12               2302            2302        2302             2302   2302   \n",
       "1                1740            1740        1740             1740   1740   \n",
       "2                1527            1527        1527             1527   1527   \n",
       "\n",
       "    gender  Masters_Degree  ...  Doctorate_Degree  Highschool  Some_College  \\\n",
       "11   28991           28991  ...             28991       28991         28991   \n",
       "8     3063            3063  ...              3063        3063          3063   \n",
       "12    2302            2302  ...              2302        2302          2302   \n",
       "1     1740            1740  ...              1740        1740          1740   \n",
       "2     1527            1527  ...              1527        1527          1527   \n",
       "\n",
       "    Race_Asian  Race_White  Race_Two_Or_More  Race_Black  Race_Hispanic  \\\n",
       "11       28991       28991             28991       28991          28991   \n",
       "8         3063        3063              3063        3063           3063   \n",
       "12        2302        2302              2302        2302           2302   \n",
       "1         1740        1740              1740        1740           1740   \n",
       "2         1527        1527              1527        1527           1527   \n",
       "\n",
       "    state  in_top_15  \n",
       "11  28991      28991  \n",
       "8    3063       3063  \n",
       "12   2302       2302  \n",
       "1    1740       1740  \n",
       "2    1527       1527  \n",
       "\n",
       "[5 rows x 21 columns]"
      ]
     },
     "execution_count": 61,
     "metadata": {
     },
     "output_type": "execute_result"
    }
   ],
   "source": [
    "#piechart\n",
    "popular_titles = df.groupby(by = 'title').count().reset_index().sort_values(by = 'company', ascending = False).head()\n",
    "popular_titles"
   ]
  },
  {
   "cell_type": "code",
   "execution_count": 58,
   "metadata": {
    "collapsed": false
   },
   "outputs": [
    {
     "data": {
      "text/html": "<html>\n<head><meta charset=\"utf-8\" /></head>\n<body>\n    <div>            <script src=\"https://cdnjs.cloudflare.com/ajax/libs/mathjax/2.7.5/MathJax.js?config=TeX-AMS-MML_SVG\"></script><script type=\"text/javascript\">if (window.MathJax) {MathJax.Hub.Config({SVG: {font: \"STIX-Web\"}});}</script>                <script type=\"text/javascript\">window.PlotlyConfig = {MathJaxConfig: 'local'};</script>\n        <script src=\"https://cdn.plot.ly/plotly-2.9.0.min.js\"></script>                <div id=\"0589b826-3b4d-4756-b092-408892d6648d\" class=\"plotly-graph-div\" style=\"height:525px; width:100%;\"></div>            <script type=\"text/javascript\">                                    window.PLOTLYENV=window.PLOTLYENV || {};                                    if (document.getElementById(\"0589b826-3b4d-4756-b092-408892d6648d\")) {                    Plotly.newPlot(                        \"0589b826-3b4d-4756-b092-408892d6648d\",                        [{\"domain\":{\"x\":[0.0,1.0],\"y\":[0.0,1.0]},\"hovertemplate\":\"title=%{label}<br>company=%{value}<extra></extra>\",\"labels\":[\"Software Engineer\",\"Product Manager\",\"Software Engineering Manager\",\"Data Scientist\",\"Hardware Engineer\",\"Product Designer\",\"Technical Program Manager\",\"Solution Architect\",\"Management Consultant\",\"Business Analyst\",\"Marketing\",\"Mechanical Engineer\",\"Sales\",\"Recruiter\",\"Human Resources\"],\"legendgroup\":\"\",\"name\":\"\",\"showlegend\":true,\"values\":[28991,3063,2302,1740,1527,1143,893,804,620,527,423,304,280,274,207],\"type\":\"pie\"}],                        {\"template\":{\"data\":{\"bar\":[{\"error_x\":{\"color\":\"#2a3f5f\"},\"error_y\":{\"color\":\"#2a3f5f\"},\"marker\":{\"line\":{\"color\":\"#E5ECF6\",\"width\":0.5},\"pattern\":{\"fillmode\":\"overlay\",\"size\":10,\"solidity\":0.2}},\"type\":\"bar\"}],\"barpolar\":[{\"marker\":{\"line\":{\"color\":\"#E5ECF6\",\"width\":0.5},\"pattern\":{\"fillmode\":\"overlay\",\"size\":10,\"solidity\":0.2}},\"type\":\"barpolar\"}],\"carpet\":[{\"aaxis\":{\"endlinecolor\":\"#2a3f5f\",\"gridcolor\":\"white\",\"linecolor\":\"white\",\"minorgridcolor\":\"white\",\"startlinecolor\":\"#2a3f5f\"},\"baxis\":{\"endlinecolor\":\"#2a3f5f\",\"gridcolor\":\"white\",\"linecolor\":\"white\",\"minorgridcolor\":\"white\",\"startlinecolor\":\"#2a3f5f\"},\"type\":\"carpet\"}],\"choropleth\":[{\"colorbar\":{\"outlinewidth\":0,\"ticks\":\"\"},\"type\":\"choropleth\"}],\"contour\":[{\"colorbar\":{\"outlinewidth\":0,\"ticks\":\"\"},\"colorscale\":[[0.0,\"#0d0887\"],[0.1111111111111111,\"#46039f\"],[0.2222222222222222,\"#7201a8\"],[0.3333333333333333,\"#9c179e\"],[0.4444444444444444,\"#bd3786\"],[0.5555555555555556,\"#d8576b\"],[0.6666666666666666,\"#ed7953\"],[0.7777777777777778,\"#fb9f3a\"],[0.8888888888888888,\"#fdca26\"],[1.0,\"#f0f921\"]],\"type\":\"contour\"}],\"contourcarpet\":[{\"colorbar\":{\"outlinewidth\":0,\"ticks\":\"\"},\"type\":\"contourcarpet\"}],\"heatmap\":[{\"colorbar\":{\"outlinewidth\":0,\"ticks\":\"\"},\"colorscale\":[[0.0,\"#0d0887\"],[0.1111111111111111,\"#46039f\"],[0.2222222222222222,\"#7201a8\"],[0.3333333333333333,\"#9c179e\"],[0.4444444444444444,\"#bd3786\"],[0.5555555555555556,\"#d8576b\"],[0.6666666666666666,\"#ed7953\"],[0.7777777777777778,\"#fb9f3a\"],[0.8888888888888888,\"#fdca26\"],[1.0,\"#f0f921\"]],\"type\":\"heatmap\"}],\"heatmapgl\":[{\"colorbar\":{\"outlinewidth\":0,\"ticks\":\"\"},\"colorscale\":[[0.0,\"#0d0887\"],[0.1111111111111111,\"#46039f\"],[0.2222222222222222,\"#7201a8\"],[0.3333333333333333,\"#9c179e\"],[0.4444444444444444,\"#bd3786\"],[0.5555555555555556,\"#d8576b\"],[0.6666666666666666,\"#ed7953\"],[0.7777777777777778,\"#fb9f3a\"],[0.8888888888888888,\"#fdca26\"],[1.0,\"#f0f921\"]],\"type\":\"heatmapgl\"}],\"histogram\":[{\"marker\":{\"pattern\":{\"fillmode\":\"overlay\",\"size\":10,\"solidity\":0.2}},\"type\":\"histogram\"}],\"histogram2d\":[{\"colorbar\":{\"outlinewidth\":0,\"ticks\":\"\"},\"colorscale\":[[0.0,\"#0d0887\"],[0.1111111111111111,\"#46039f\"],[0.2222222222222222,\"#7201a8\"],[0.3333333333333333,\"#9c179e\"],[0.4444444444444444,\"#bd3786\"],[0.5555555555555556,\"#d8576b\"],[0.6666666666666666,\"#ed7953\"],[0.7777777777777778,\"#fb9f3a\"],[0.8888888888888888,\"#fdca26\"],[1.0,\"#f0f921\"]],\"type\":\"histogram2d\"}],\"histogram2dcontour\":[{\"colorbar\":{\"outlinewidth\":0,\"ticks\":\"\"},\"colorscale\":[[0.0,\"#0d0887\"],[0.1111111111111111,\"#46039f\"],[0.2222222222222222,\"#7201a8\"],[0.3333333333333333,\"#9c179e\"],[0.4444444444444444,\"#bd3786\"],[0.5555555555555556,\"#d8576b\"],[0.6666666666666666,\"#ed7953\"],[0.7777777777777778,\"#fb9f3a\"],[0.8888888888888888,\"#fdca26\"],[1.0,\"#f0f921\"]],\"type\":\"histogram2dcontour\"}],\"mesh3d\":[{\"colorbar\":{\"outlinewidth\":0,\"ticks\":\"\"},\"type\":\"mesh3d\"}],\"parcoords\":[{\"line\":{\"colorbar\":{\"outlinewidth\":0,\"ticks\":\"\"}},\"type\":\"parcoords\"}],\"pie\":[{\"automargin\":true,\"type\":\"pie\"}],\"scatter\":[{\"marker\":{\"colorbar\":{\"outlinewidth\":0,\"ticks\":\"\"}},\"type\":\"scatter\"}],\"scatter3d\":[{\"line\":{\"colorbar\":{\"outlinewidth\":0,\"ticks\":\"\"}},\"marker\":{\"colorbar\":{\"outlinewidth\":0,\"ticks\":\"\"}},\"type\":\"scatter3d\"}],\"scattercarpet\":[{\"marker\":{\"colorbar\":{\"outlinewidth\":0,\"ticks\":\"\"}},\"type\":\"scattercarpet\"}],\"scattergeo\":[{\"marker\":{\"colorbar\":{\"outlinewidth\":0,\"ticks\":\"\"}},\"type\":\"scattergeo\"}],\"scattergl\":[{\"marker\":{\"colorbar\":{\"outlinewidth\":0,\"ticks\":\"\"}},\"type\":\"scattergl\"}],\"scattermapbox\":[{\"marker\":{\"colorbar\":{\"outlinewidth\":0,\"ticks\":\"\"}},\"type\":\"scattermapbox\"}],\"scatterpolar\":[{\"marker\":{\"colorbar\":{\"outlinewidth\":0,\"ticks\":\"\"}},\"type\":\"scatterpolar\"}],\"scatterpolargl\":[{\"marker\":{\"colorbar\":{\"outlinewidth\":0,\"ticks\":\"\"}},\"type\":\"scatterpolargl\"}],\"scatterternary\":[{\"marker\":{\"colorbar\":{\"outlinewidth\":0,\"ticks\":\"\"}},\"type\":\"scatterternary\"}],\"surface\":[{\"colorbar\":{\"outlinewidth\":0,\"ticks\":\"\"},\"colorscale\":[[0.0,\"#0d0887\"],[0.1111111111111111,\"#46039f\"],[0.2222222222222222,\"#7201a8\"],[0.3333333333333333,\"#9c179e\"],[0.4444444444444444,\"#bd3786\"],[0.5555555555555556,\"#d8576b\"],[0.6666666666666666,\"#ed7953\"],[0.7777777777777778,\"#fb9f3a\"],[0.8888888888888888,\"#fdca26\"],[1.0,\"#f0f921\"]],\"type\":\"surface\"}],\"table\":[{\"cells\":{\"fill\":{\"color\":\"#EBF0F8\"},\"line\":{\"color\":\"white\"}},\"header\":{\"fill\":{\"color\":\"#C8D4E3\"},\"line\":{\"color\":\"white\"}},\"type\":\"table\"}]},\"layout\":{\"annotationdefaults\":{\"arrowcolor\":\"#2a3f5f\",\"arrowhead\":0,\"arrowwidth\":1},\"autotypenumbers\":\"strict\",\"coloraxis\":{\"colorbar\":{\"outlinewidth\":0,\"ticks\":\"\"}},\"colorscale\":{\"diverging\":[[0,\"#8e0152\"],[0.1,\"#c51b7d\"],[0.2,\"#de77ae\"],[0.3,\"#f1b6da\"],[0.4,\"#fde0ef\"],[0.5,\"#f7f7f7\"],[0.6,\"#e6f5d0\"],[0.7,\"#b8e186\"],[0.8,\"#7fbc41\"],[0.9,\"#4d9221\"],[1,\"#276419\"]],\"sequential\":[[0.0,\"#0d0887\"],[0.1111111111111111,\"#46039f\"],[0.2222222222222222,\"#7201a8\"],[0.3333333333333333,\"#9c179e\"],[0.4444444444444444,\"#bd3786\"],[0.5555555555555556,\"#d8576b\"],[0.6666666666666666,\"#ed7953\"],[0.7777777777777778,\"#fb9f3a\"],[0.8888888888888888,\"#fdca26\"],[1.0,\"#f0f921\"]],\"sequentialminus\":[[0.0,\"#0d0887\"],[0.1111111111111111,\"#46039f\"],[0.2222222222222222,\"#7201a8\"],[0.3333333333333333,\"#9c179e\"],[0.4444444444444444,\"#bd3786\"],[0.5555555555555556,\"#d8576b\"],[0.6666666666666666,\"#ed7953\"],[0.7777777777777778,\"#fb9f3a\"],[0.8888888888888888,\"#fdca26\"],[1.0,\"#f0f921\"]]},\"colorway\":[\"#636efa\",\"#EF553B\",\"#00cc96\",\"#ab63fa\",\"#FFA15A\",\"#19d3f3\",\"#FF6692\",\"#B6E880\",\"#FF97FF\",\"#FECB52\"],\"font\":{\"color\":\"#2a3f5f\"},\"geo\":{\"bgcolor\":\"white\",\"lakecolor\":\"white\",\"landcolor\":\"#E5ECF6\",\"showlakes\":true,\"showland\":true,\"subunitcolor\":\"white\"},\"hoverlabel\":{\"align\":\"left\"},\"hovermode\":\"closest\",\"mapbox\":{\"style\":\"light\"},\"paper_bgcolor\":\"white\",\"plot_bgcolor\":\"#E5ECF6\",\"polar\":{\"angularaxis\":{\"gridcolor\":\"white\",\"linecolor\":\"white\",\"ticks\":\"\"},\"bgcolor\":\"#E5ECF6\",\"radialaxis\":{\"gridcolor\":\"white\",\"linecolor\":\"white\",\"ticks\":\"\"}},\"scene\":{\"xaxis\":{\"backgroundcolor\":\"#E5ECF6\",\"gridcolor\":\"white\",\"gridwidth\":2,\"linecolor\":\"white\",\"showbackground\":true,\"ticks\":\"\",\"zerolinecolor\":\"white\"},\"yaxis\":{\"backgroundcolor\":\"#E5ECF6\",\"gridcolor\":\"white\",\"gridwidth\":2,\"linecolor\":\"white\",\"showbackground\":true,\"ticks\":\"\",\"zerolinecolor\":\"white\"},\"zaxis\":{\"backgroundcolor\":\"#E5ECF6\",\"gridcolor\":\"white\",\"gridwidth\":2,\"linecolor\":\"white\",\"showbackground\":true,\"ticks\":\"\",\"zerolinecolor\":\"white\"}},\"shapedefaults\":{\"line\":{\"color\":\"#2a3f5f\"}},\"ternary\":{\"aaxis\":{\"gridcolor\":\"white\",\"linecolor\":\"white\",\"ticks\":\"\"},\"baxis\":{\"gridcolor\":\"white\",\"linecolor\":\"white\",\"ticks\":\"\"},\"bgcolor\":\"#E5ECF6\",\"caxis\":{\"gridcolor\":\"white\",\"linecolor\":\"white\",\"ticks\":\"\"}},\"title\":{\"x\":0.05},\"xaxis\":{\"automargin\":true,\"gridcolor\":\"white\",\"linecolor\":\"white\",\"ticks\":\"\",\"title\":{\"standoff\":15},\"zerolinecolor\":\"white\",\"zerolinewidth\":2},\"yaxis\":{\"automargin\":true,\"gridcolor\":\"white\",\"linecolor\":\"white\",\"ticks\":\"\",\"title\":{\"standoff\":15},\"zerolinecolor\":\"white\",\"zerolinewidth\":2}}},\"legend\":{\"tracegroupgap\":0},\"title\":{\"text\":\"Job Positions in the Data Science and STEM Feild\"}},                        {\"responsive\": true}                    ).then(function(){\n                            \nvar gd = document.getElementById('0589b826-3b4d-4756-b092-408892d6648d');\nvar x = new MutationObserver(function (mutations, observer) {{\n        var display = window.getComputedStyle(gd).display;\n        if (!display || display === 'none') {{\n            console.log([gd, 'removed!']);\n            Plotly.purge(gd);\n            observer.disconnect();\n        }}\n}});\n\n// Listen for the removal of the full notebook cells\nvar notebookContainer = gd.closest('#notebook-container');\nif (notebookContainer) {{\n    x.observe(notebookContainer, {childList: true});\n}}\n\n// Listen for the clearing of the current output cell\nvar outputEl = gd.closest('.output');\nif (outputEl) {{\n    x.observe(outputEl, {childList: true});\n}}\n\n                        })                };                            </script>        </div>\n</body>\n</html>"
     },
     "execution_count": 58,
     "metadata": {
     },
     "output_type": "execute_result"
    }
   ],
   "source": [
    "fig = px.pie(popular_titles, values = 'company', names = 'title', title = 'Job Positions in the Data Science and STEM Feild')\n",
    "fig.show()"
   ]
  },
  {
   "cell_type": "code",
   "execution_count": 0,
   "metadata": {
    "collapsed": false
   },
   "outputs": [
   ],
   "source": [
   ]
  },
  {
   "cell_type": "code",
   "execution_count": 102,
   "metadata": {
    "collapsed": false
   },
   "outputs": [
    {
     "data": {
      "text/html": [
       "<div>\n",
       "<style scoped>\n",
       "    .dataframe tbody tr th:only-of-type {\n",
       "        vertical-align: middle;\n",
       "    }\n",
       "\n",
       "    .dataframe tbody tr th {\n",
       "        vertical-align: top;\n",
       "    }\n",
       "\n",
       "    .dataframe thead th {\n",
       "        text-align: right;\n",
       "    }\n",
       "</style>\n",
       "<table border=\"1\" class=\"dataframe\">\n",
       "  <thead>\n",
       "    <tr style=\"text-align: right;\">\n",
       "      <th></th>\n",
       "      <th>totalyearlycompensation</th>\n",
       "      <th>yearsofexperience</th>\n",
       "      <th>yearsatcompany</th>\n",
       "      <th>basesalary</th>\n",
       "      <th>stockgrantvalue</th>\n",
       "      <th>bonus</th>\n",
       "      <th>Masters_Degree</th>\n",
       "      <th>Bachelors_Degree</th>\n",
       "      <th>Doctorate_Degree</th>\n",
       "      <th>Highschool</th>\n",
       "      <th>Some_College</th>\n",
       "      <th>Race_Asian</th>\n",
       "      <th>Race_White</th>\n",
       "      <th>Race_Two_Or_More</th>\n",
       "      <th>Race_Black</th>\n",
       "      <th>Race_Hispanic</th>\n",
       "    </tr>\n",
       "  </thead>\n",
       "  <tbody>\n",
       "    <tr>\n",
       "      <th>count</th>\n",
       "      <td>2.776300e+04</td>\n",
       "      <td>27763.000000</td>\n",
       "      <td>27763.000000</td>\n",
       "      <td>27763.000000</td>\n",
       "      <td>27763.000000</td>\n",
       "      <td>27763.000000</td>\n",
       "      <td>27763.000000</td>\n",
       "      <td>27763.000000</td>\n",
       "      <td>27763.000000</td>\n",
       "      <td>27763.000000</td>\n",
       "      <td>27763.000000</td>\n",
       "      <td>27763.000000</td>\n",
       "      <td>27763.000000</td>\n",
       "      <td>27763.000000</td>\n",
       "      <td>27763.000000</td>\n",
       "      <td>27763.000000</td>\n",
       "    </tr>\n",
       "    <tr>\n",
       "      <th>mean</th>\n",
       "      <td>2.039209e+05</td>\n",
       "      <td>7.171073</td>\n",
       "      <td>2.707162</td>\n",
       "      <td>136773.799661</td>\n",
       "      <td>47489.200195</td>\n",
       "      <td>19008.752656</td>\n",
       "      <td>0.496848</td>\n",
       "      <td>0.427800</td>\n",
       "      <td>0.055037</td>\n",
       "      <td>0.011166</td>\n",
       "      <td>0.012535</td>\n",
       "      <td>0.411123</td>\n",
       "      <td>0.276627</td>\n",
       "      <td>0.027591</td>\n",
       "      <td>0.023845</td>\n",
       "      <td>0.038468</td>\n",
       "    </tr>\n",
       "    <tr>\n",
       "      <th>std</th>\n",
       "      <td>1.330307e+05</td>\n",
       "      <td>5.807141</td>\n",
       "      <td>3.293359</td>\n",
       "      <td>56781.128163</td>\n",
       "      <td>74428.782590</td>\n",
       "      <td>25545.132804</td>\n",
       "      <td>0.499999</td>\n",
       "      <td>0.494769</td>\n",
       "      <td>0.228057</td>\n",
       "      <td>0.105079</td>\n",
       "      <td>0.111256</td>\n",
       "      <td>0.492046</td>\n",
       "      <td>0.447339</td>\n",
       "      <td>0.163800</td>\n",
       "      <td>0.152568</td>\n",
       "      <td>0.192328</td>\n",
       "    </tr>\n",
       "    <tr>\n",
       "      <th>min</th>\n",
       "      <td>1.000000e+04</td>\n",
       "      <td>0.000000</td>\n",
       "      <td>0.000000</td>\n",
       "      <td>4000.000000</td>\n",
       "      <td>0.000000</td>\n",
       "      <td>0.000000</td>\n",
       "      <td>0.000000</td>\n",
       "      <td>0.000000</td>\n",
       "      <td>0.000000</td>\n",
       "      <td>0.000000</td>\n",
       "      <td>0.000000</td>\n",
       "      <td>0.000000</td>\n",
       "      <td>0.000000</td>\n",
       "      <td>0.000000</td>\n",
       "      <td>0.000000</td>\n",
       "      <td>0.000000</td>\n",
       "    </tr>\n",
       "    <tr>\n",
       "      <th>25%</th>\n",
       "      <td>1.240000e+05</td>\n",
       "      <td>3.000000</td>\n",
       "      <td>0.000000</td>\n",
       "      <td>105000.000000</td>\n",
       "      <td>0.000000</td>\n",
       "      <td>3000.000000</td>\n",
       "      <td>0.000000</td>\n",
       "      <td>0.000000</td>\n",
       "      <td>0.000000</td>\n",
       "      <td>0.000000</td>\n",
       "      <td>0.000000</td>\n",
       "      <td>0.000000</td>\n",
       "      <td>0.000000</td>\n",
       "      <td>0.000000</td>\n",
       "      <td>0.000000</td>\n",
       "      <td>0.000000</td>\n",
       "    </tr>\n",
       "    <tr>\n",
       "      <th>50%</th>\n",
       "      <td>1.800000e+05</td>\n",
       "      <td>6.000000</td>\n",
       "      <td>2.000000</td>\n",
       "      <td>138000.000000</td>\n",
       "      <td>22000.000000</td>\n",
       "      <td>14000.000000</td>\n",
       "      <td>0.000000</td>\n",
       "      <td>0.000000</td>\n",
       "      <td>0.000000</td>\n",
       "      <td>0.000000</td>\n",
       "      <td>0.000000</td>\n",
       "      <td>0.000000</td>\n",
       "      <td>0.000000</td>\n",
       "      <td>0.000000</td>\n",
       "      <td>0.000000</td>\n",
       "      <td>0.000000</td>\n",
       "    </tr>\n",
       "    <tr>\n",
       "      <th>75%</th>\n",
       "      <td>2.500000e+05</td>\n",
       "      <td>10.000000</td>\n",
       "      <td>4.000000</td>\n",
       "      <td>165000.000000</td>\n",
       "      <td>60000.000000</td>\n",
       "      <td>25000.000000</td>\n",
       "      <td>1.000000</td>\n",
       "      <td>1.000000</td>\n",
       "      <td>0.000000</td>\n",
       "      <td>0.000000</td>\n",
       "      <td>0.000000</td>\n",
       "      <td>1.000000</td>\n",
       "      <td>1.000000</td>\n",
       "      <td>0.000000</td>\n",
       "      <td>0.000000</td>\n",
       "      <td>0.000000</td>\n",
       "    </tr>\n",
       "    <tr>\n",
       "      <th>max</th>\n",
       "      <td>4.980000e+06</td>\n",
       "      <td>45.000000</td>\n",
       "      <td>40.000000</td>\n",
       "      <td>900000.000000</td>\n",
       "      <td>1000000.000000</td>\n",
       "      <td>900000.000000</td>\n",
       "      <td>1.000000</td>\n",
       "      <td>1.000000</td>\n",
       "      <td>1.000000</td>\n",
       "      <td>1.000000</td>\n",
       "      <td>1.000000</td>\n",
       "      <td>1.000000</td>\n",
       "      <td>1.000000</td>\n",
       "      <td>1.000000</td>\n",
       "      <td>1.000000</td>\n",
       "      <td>1.000000</td>\n",
       "    </tr>\n",
       "  </tbody>\n",
       "</table>\n",
       "</div>"
      ],
      "text/plain": [
       "       totalyearlycompensation  yearsofexperience  yearsatcompany  \\\n",
       "count             2.776300e+04       27763.000000    27763.000000   \n",
       "mean              2.039209e+05           7.171073        2.707162   \n",
       "std               1.330307e+05           5.807141        3.293359   \n",
       "min               1.000000e+04           0.000000        0.000000   \n",
       "25%               1.240000e+05           3.000000        0.000000   \n",
       "50%               1.800000e+05           6.000000        2.000000   \n",
       "75%               2.500000e+05          10.000000        4.000000   \n",
       "max               4.980000e+06          45.000000       40.000000   \n",
       "\n",
       "          basesalary  stockgrantvalue          bonus  Masters_Degree  \\\n",
       "count   27763.000000     27763.000000   27763.000000    27763.000000   \n",
       "mean   136773.799661     47489.200195   19008.752656        0.496848   \n",
       "std     56781.128163     74428.782590   25545.132804        0.499999   \n",
       "min      4000.000000         0.000000       0.000000        0.000000   \n",
       "25%    105000.000000         0.000000    3000.000000        0.000000   \n",
       "50%    138000.000000     22000.000000   14000.000000        0.000000   \n",
       "75%    165000.000000     60000.000000   25000.000000        1.000000   \n",
       "max    900000.000000   1000000.000000  900000.000000        1.000000   \n",
       "\n",
       "       Bachelors_Degree  Doctorate_Degree    Highschool  Some_College  \\\n",
       "count      27763.000000      27763.000000  27763.000000  27763.000000   \n",
       "mean           0.427800          0.055037      0.011166      0.012535   \n",
       "std            0.494769          0.228057      0.105079      0.111256   \n",
       "min            0.000000          0.000000      0.000000      0.000000   \n",
       "25%            0.000000          0.000000      0.000000      0.000000   \n",
       "50%            0.000000          0.000000      0.000000      0.000000   \n",
       "75%            1.000000          0.000000      0.000000      0.000000   \n",
       "max            1.000000          1.000000      1.000000      1.000000   \n",
       "\n",
       "         Race_Asian    Race_White  Race_Two_Or_More    Race_Black  \\\n",
       "count  27763.000000  27763.000000      27763.000000  27763.000000   \n",
       "mean       0.411123      0.276627          0.027591      0.023845   \n",
       "std        0.492046      0.447339          0.163800      0.152568   \n",
       "min        0.000000      0.000000          0.000000      0.000000   \n",
       "25%        0.000000      0.000000          0.000000      0.000000   \n",
       "50%        0.000000      0.000000          0.000000      0.000000   \n",
       "75%        1.000000      1.000000          0.000000      0.000000   \n",
       "max        1.000000      1.000000          1.000000      1.000000   \n",
       "\n",
       "       Race_Hispanic  \n",
       "count   27763.000000  \n",
       "mean        0.038468  \n",
       "std         0.192328  \n",
       "min         0.000000  \n",
       "25%         0.000000  \n",
       "50%         0.000000  \n",
       "75%         0.000000  \n",
       "max         1.000000  "
      ]
     },
     "execution_count": 102,
     "metadata": {
     },
     "output_type": "execute_result"
    }
   ],
   "source": [
    "df.describe()"
   ]
  },
  {
   "cell_type": "code",
   "execution_count": 0,
   "metadata": {
    "collapsed": false
   },
   "outputs": [
   ],
   "source": [
   ]
  }
 ],
 "metadata": {
  "kernelspec": {
   "display_name": "Python (ds_env)",
   "language": "python",
   "metadata": {
    "debugger": true
   },
   "name": "ds_env",
   "resource_dir": "/projects/0bcf82e6-7441-4432-a339-19b67c22cc5c/.local/share/jupyter/kernels/ds_env"
  },
  "language_info": {
   "codemirror_mode": {
    "name": "ipython",
    "version": 3
   },
   "file_extension": ".py",
   "mimetype": "text/x-python",
   "name": "python",
   "nbconvert_exporter": "python",
   "pygments_lexer": "ipython3",
   "version": "3.8.13"
  }
 },
 "nbformat": 4,
 "nbformat_minor": 4
}