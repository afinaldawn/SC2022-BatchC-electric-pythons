{
 "cells": [
  {
   "cell_type": "code",
   "execution_count": 1,
   "metadata": {
    "collapsed": false
   },
   "outputs": [
   ],
   "source": [
    "import pandas as pd\n",
    "import numpy as np"
   ]
  },
  {
   "cell_type": "code",
   "execution_count": 2,
   "metadata": {
    "collapsed": false
   },
   "outputs": [
   ],
   "source": [
    "df = pd.read_csv('cleaned_data')\n",
    "df.drop(['Unnamed: 0'], axis = 1, inplace = True)"
   ]
  },
  {
   "cell_type": "code",
   "execution_count": 3,
   "metadata": {
    "collapsed": false
   },
   "outputs": [
    {
     "data": {
      "text/html": [
       "<div>\n",
       "<style scoped>\n",
       "    .dataframe tbody tr th:only-of-type {\n",
       "        vertical-align: middle;\n",
       "    }\n",
       "\n",
       "    .dataframe tbody tr th {\n",
       "        vertical-align: top;\n",
       "    }\n",
       "\n",
       "    .dataframe thead th {\n",
       "        text-align: right;\n",
       "    }\n",
       "</style>\n",
       "<table border=\"1\" class=\"dataframe\">\n",
       "  <thead>\n",
       "    <tr style=\"text-align: right;\">\n",
       "      <th></th>\n",
       "      <th>company</th>\n",
       "      <th>title</th>\n",
       "      <th>totalyearlycompensation</th>\n",
       "      <th>yearsofexperience</th>\n",
       "      <th>yearsatcompany</th>\n",
       "      <th>basesalary</th>\n",
       "      <th>stockgrantvalue</th>\n",
       "      <th>bonus</th>\n",
       "      <th>gender</th>\n",
       "      <th>Masters_Degree</th>\n",
       "      <th>...</th>\n",
       "      <th>Some_College</th>\n",
       "      <th>Race_Asian</th>\n",
       "      <th>Race_White</th>\n",
       "      <th>Race_Two_Or_More</th>\n",
       "      <th>Race_Black</th>\n",
       "      <th>Race_Hispanic</th>\n",
       "      <th>state</th>\n",
       "      <th>in_top_15</th>\n",
       "      <th>education</th>\n",
       "      <th>race</th>\n",
       "    </tr>\n",
       "  </thead>\n",
       "  <tbody>\n",
       "    <tr>\n",
       "      <th>0</th>\n",
       "      <td>Google</td>\n",
       "      <td>Software Engineer</td>\n",
       "      <td>400000</td>\n",
       "      <td>5.0</td>\n",
       "      <td>5.0</td>\n",
       "      <td>210000.0</td>\n",
       "      <td>145000.0</td>\n",
       "      <td>45000.0</td>\n",
       "      <td>Male</td>\n",
       "      <td>0</td>\n",
       "      <td>...</td>\n",
       "      <td>0</td>\n",
       "      <td>1</td>\n",
       "      <td>0</td>\n",
       "      <td>0</td>\n",
       "      <td>0</td>\n",
       "      <td>0</td>\n",
       "      <td>CA</td>\n",
       "      <td>True</td>\n",
       "      <td>PHD</td>\n",
       "      <td>Asian</td>\n",
       "    </tr>\n",
       "    <tr>\n",
       "      <th>1</th>\n",
       "      <td>Microsoft</td>\n",
       "      <td>Software Engineer</td>\n",
       "      <td>136000</td>\n",
       "      <td>3.0</td>\n",
       "      <td>2.0</td>\n",
       "      <td>124000.0</td>\n",
       "      <td>1000.0</td>\n",
       "      <td>11000.0</td>\n",
       "      <td>Male</td>\n",
       "      <td>0</td>\n",
       "      <td>...</td>\n",
       "      <td>0</td>\n",
       "      <td>0</td>\n",
       "      <td>0</td>\n",
       "      <td>1</td>\n",
       "      <td>0</td>\n",
       "      <td>0</td>\n",
       "      <td>WA</td>\n",
       "      <td>True</td>\n",
       "      <td>Bachelors</td>\n",
       "      <td>Two</td>\n",
       "    </tr>\n",
       "    <tr>\n",
       "      <th>2</th>\n",
       "      <td>Google</td>\n",
       "      <td>Software Engineer</td>\n",
       "      <td>337000</td>\n",
       "      <td>6.0</td>\n",
       "      <td>6.0</td>\n",
       "      <td>177000.0</td>\n",
       "      <td>125000.0</td>\n",
       "      <td>36000.0</td>\n",
       "      <td>Male</td>\n",
       "      <td>0</td>\n",
       "      <td>...</td>\n",
       "      <td>0</td>\n",
       "      <td>1</td>\n",
       "      <td>0</td>\n",
       "      <td>0</td>\n",
       "      <td>0</td>\n",
       "      <td>0</td>\n",
       "      <td>CA</td>\n",
       "      <td>True</td>\n",
       "      <td>Bachelors</td>\n",
       "      <td>Asian</td>\n",
       "    </tr>\n",
       "    <tr>\n",
       "      <th>3</th>\n",
       "      <td>Microsoft</td>\n",
       "      <td>Software Engineer</td>\n",
       "      <td>222000</td>\n",
       "      <td>4.0</td>\n",
       "      <td>4.0</td>\n",
       "      <td>164000.0</td>\n",
       "      <td>38000.0</td>\n",
       "      <td>20000.0</td>\n",
       "      <td>Male</td>\n",
       "      <td>1</td>\n",
       "      <td>...</td>\n",
       "      <td>0</td>\n",
       "      <td>1</td>\n",
       "      <td>0</td>\n",
       "      <td>0</td>\n",
       "      <td>0</td>\n",
       "      <td>0</td>\n",
       "      <td>WA</td>\n",
       "      <td>True</td>\n",
       "      <td>Masters</td>\n",
       "      <td>Asian</td>\n",
       "    </tr>\n",
       "    <tr>\n",
       "      <th>4</th>\n",
       "      <td>Blend</td>\n",
       "      <td>Software Engineer</td>\n",
       "      <td>187000</td>\n",
       "      <td>5.0</td>\n",
       "      <td>0.0</td>\n",
       "      <td>165000.0</td>\n",
       "      <td>22000.0</td>\n",
       "      <td>0.0</td>\n",
       "      <td>Male</td>\n",
       "      <td>0</td>\n",
       "      <td>...</td>\n",
       "      <td>0</td>\n",
       "      <td>0</td>\n",
       "      <td>1</td>\n",
       "      <td>0</td>\n",
       "      <td>0</td>\n",
       "      <td>0</td>\n",
       "      <td>CA</td>\n",
       "      <td>False</td>\n",
       "      <td>Bachelors</td>\n",
       "      <td>White</td>\n",
       "    </tr>\n",
       "  </tbody>\n",
       "</table>\n",
       "<p>5 rows × 23 columns</p>\n",
       "</div>"
      ],
      "text/plain": [
       "     company              title  totalyearlycompensation  yearsofexperience  \\\n",
       "0     Google  Software Engineer                   400000                5.0   \n",
       "1  Microsoft  Software Engineer                   136000                3.0   \n",
       "2     Google  Software Engineer                   337000                6.0   \n",
       "3  Microsoft  Software Engineer                   222000                4.0   \n",
       "4      Blend  Software Engineer                   187000                5.0   \n",
       "\n",
       "   yearsatcompany  basesalary  stockgrantvalue    bonus gender  \\\n",
       "0             5.0    210000.0         145000.0  45000.0   Male   \n",
       "1             2.0    124000.0           1000.0  11000.0   Male   \n",
       "2             6.0    177000.0         125000.0  36000.0   Male   \n",
       "3             4.0    164000.0          38000.0  20000.0   Male   \n",
       "4             0.0    165000.0          22000.0      0.0   Male   \n",
       "\n",
       "   Masters_Degree  ...  Some_College  Race_Asian  Race_White  \\\n",
       "0               0  ...             0           1           0   \n",
       "1               0  ...             0           0           0   \n",
       "2               0  ...             0           1           0   \n",
       "3               1  ...             0           1           0   \n",
       "4               0  ...             0           0           1   \n",
       "\n",
       "   Race_Two_Or_More  Race_Black  Race_Hispanic  state  in_top_15  education  \\\n",
       "0                 0           0              0     CA       True        PHD   \n",
       "1                 1           0              0     WA       True  Bachelors   \n",
       "2                 0           0              0     CA       True  Bachelors   \n",
       "3                 0           0              0     WA       True    Masters   \n",
       "4                 0           0              0     CA      False  Bachelors   \n",
       "\n",
       "    race  \n",
       "0  Asian  \n",
       "1    Two  \n",
       "2  Asian  \n",
       "3  Asian  \n",
       "4  White  \n",
       "\n",
       "[5 rows x 23 columns]"
      ]
     },
     "execution_count": 3,
     "metadata": {
     },
     "output_type": "execute_result"
    }
   ],
   "source": [
    "df.head()"
   ]
  },
  {
   "cell_type": "code",
   "execution_count": 4,
   "metadata": {
    "collapsed": false
   },
   "outputs": [
    {
     "data": {
      "text/plain": [
       "Index(['company', 'title', 'totalyearlycompensation', 'yearsofexperience',\n",
       "       'yearsatcompany', 'basesalary', 'stockgrantvalue', 'bonus', 'gender',\n",
       "       'Masters_Degree', 'Bachelors_Degree', 'Doctorate_Degree', 'Highschool',\n",
       "       'Some_College', 'Race_Asian', 'Race_White', 'Race_Two_Or_More',\n",
       "       'Race_Black', 'Race_Hispanic', 'state', 'in_top_15', 'education',\n",
       "       'race'],\n",
       "      dtype='object')"
      ]
     },
     "execution_count": 4,
     "metadata": {
     },
     "output_type": "execute_result"
    }
   ],
   "source": [
    "df.columns"
   ]
  },
  {
   "cell_type": "code",
   "execution_count": 5,
   "metadata": {
    "collapsed": false
   },
   "outputs": [
   ],
   "source": [
    "#state, title, race, education, company, gender, experience"
   ]
  },
  {
   "cell_type": "code",
   "execution_count": 6,
   "metadata": {
    "collapsed": false
   },
   "outputs": [
    {
     "name": "stderr",
     "output_type": "stream",
     "text": [
      "/tmp/ipykernel_16245/3953414673.py:2: FutureWarning: Indexing with multiple keys (implicitly converted to a tuple of keys) will be deprecated, use a list instead.\n",
      "  filler = df.groupby(by = input)['yearsatcompany', 'basesalary', 'stockgrantvalue', 'bonus'].mean()\n"
     ]
    },
    {
     "data": {
      "text/html": [
       "<div>\n",
       "<style scoped>\n",
       "    .dataframe tbody tr th:only-of-type {\n",
       "        vertical-align: middle;\n",
       "    }\n",
       "\n",
       "    .dataframe tbody tr th {\n",
       "        vertical-align: top;\n",
       "    }\n",
       "\n",
       "    .dataframe thead th {\n",
       "        text-align: right;\n",
       "    }\n",
       "</style>\n",
       "<table border=\"1\" class=\"dataframe\">\n",
       "  <thead>\n",
       "    <tr style=\"text-align: right;\">\n",
       "      <th></th>\n",
       "      <th>state</th>\n",
       "      <th>title</th>\n",
       "      <th>race</th>\n",
       "      <th>company</th>\n",
       "      <th>gender</th>\n",
       "      <th>yearsofexperience</th>\n",
       "      <th>education</th>\n",
       "      <th>yearsatcompany</th>\n",
       "      <th>basesalary</th>\n",
       "      <th>stockgrantvalue</th>\n",
       "      <th>bonus</th>\n",
       "    </tr>\n",
       "  </thead>\n",
       "  <tbody>\n",
       "    <tr>\n",
       "      <th>0</th>\n",
       "      <td>CA</td>\n",
       "      <td>Business Analyst</td>\n",
       "      <td>Asian</td>\n",
       "      <td>8x8</td>\n",
       "      <td>Male</td>\n",
       "      <td>12.0</td>\n",
       "      <td>Bachelors</td>\n",
       "      <td>1.0</td>\n",
       "      <td>161000.0</td>\n",
       "      <td>54000.0</td>\n",
       "      <td>15000.0</td>\n",
       "    </tr>\n",
       "    <tr>\n",
       "      <th>1</th>\n",
       "      <td>CA</td>\n",
       "      <td>Business Analyst</td>\n",
       "      <td>Asian</td>\n",
       "      <td>AIG</td>\n",
       "      <td>Male</td>\n",
       "      <td>11.0</td>\n",
       "      <td>Masters</td>\n",
       "      <td>2.0</td>\n",
       "      <td>94000.0</td>\n",
       "      <td>0.0</td>\n",
       "      <td>8000.0</td>\n",
       "    </tr>\n",
       "    <tr>\n",
       "      <th>2</th>\n",
       "      <td>CA</td>\n",
       "      <td>Business Analyst</td>\n",
       "      <td>Asian</td>\n",
       "      <td>Adobe</td>\n",
       "      <td>Female</td>\n",
       "      <td>2.0</td>\n",
       "      <td>Bachelors</td>\n",
       "      <td>2.0</td>\n",
       "      <td>97000.0</td>\n",
       "      <td>18000.0</td>\n",
       "      <td>10000.0</td>\n",
       "    </tr>\n",
       "    <tr>\n",
       "      <th>3</th>\n",
       "      <td>CA</td>\n",
       "      <td>Business Analyst</td>\n",
       "      <td>Asian</td>\n",
       "      <td>Affirm</td>\n",
       "      <td>Male</td>\n",
       "      <td>3.0</td>\n",
       "      <td>Masters</td>\n",
       "      <td>0.0</td>\n",
       "      <td>174000.0</td>\n",
       "      <td>30000.0</td>\n",
       "      <td>0.0</td>\n",
       "    </tr>\n",
       "    <tr>\n",
       "      <th>4</th>\n",
       "      <td>CA</td>\n",
       "      <td>Business Analyst</td>\n",
       "      <td>Asian</td>\n",
       "      <td>Affirm</td>\n",
       "      <td>Male</td>\n",
       "      <td>4.0</td>\n",
       "      <td>Masters</td>\n",
       "      <td>0.0</td>\n",
       "      <td>174000.0</td>\n",
       "      <td>57000.0</td>\n",
       "      <td>0.0</td>\n",
       "    </tr>\n",
       "    <tr>\n",
       "      <th>...</th>\n",
       "      <td>...</td>\n",
       "      <td>...</td>\n",
       "      <td>...</td>\n",
       "      <td>...</td>\n",
       "      <td>...</td>\n",
       "      <td>...</td>\n",
       "      <td>...</td>\n",
       "      <td>...</td>\n",
       "      <td>...</td>\n",
       "      <td>...</td>\n",
       "      <td>...</td>\n",
       "    </tr>\n",
       "    <tr>\n",
       "      <th>16330</th>\n",
       "      <td>WA</td>\n",
       "      <td>Technical Program Manager</td>\n",
       "      <td>White</td>\n",
       "      <td>Salesforce</td>\n",
       "      <td>Male</td>\n",
       "      <td>20.0</td>\n",
       "      <td>Some</td>\n",
       "      <td>1.0</td>\n",
       "      <td>206000.0</td>\n",
       "      <td>18500.0</td>\n",
       "      <td>31000.0</td>\n",
       "    </tr>\n",
       "    <tr>\n",
       "      <th>16331</th>\n",
       "      <td>WA</td>\n",
       "      <td>Technical Program Manager</td>\n",
       "      <td>White</td>\n",
       "      <td>Sift</td>\n",
       "      <td>Male</td>\n",
       "      <td>20.0</td>\n",
       "      <td>Bachelors</td>\n",
       "      <td>2.0</td>\n",
       "      <td>205000.0</td>\n",
       "      <td>30000.0</td>\n",
       "      <td>20000.0</td>\n",
       "    </tr>\n",
       "    <tr>\n",
       "      <th>16332</th>\n",
       "      <td>WA</td>\n",
       "      <td>Technical Program Manager</td>\n",
       "      <td>White</td>\n",
       "      <td>T-mobile</td>\n",
       "      <td>Other</td>\n",
       "      <td>10.0</td>\n",
       "      <td>Bachelors</td>\n",
       "      <td>4.0</td>\n",
       "      <td>140000.0</td>\n",
       "      <td>15000.0</td>\n",
       "      <td>35000.0</td>\n",
       "    </tr>\n",
       "    <tr>\n",
       "      <th>16333</th>\n",
       "      <td>WA</td>\n",
       "      <td>Technical Program Manager</td>\n",
       "      <td>White</td>\n",
       "      <td>Twitter</td>\n",
       "      <td>Female</td>\n",
       "      <td>18.0</td>\n",
       "      <td>Bachelors</td>\n",
       "      <td>1.0</td>\n",
       "      <td>208000.0</td>\n",
       "      <td>90000.0</td>\n",
       "      <td>0.0</td>\n",
       "    </tr>\n",
       "    <tr>\n",
       "      <th>16334</th>\n",
       "      <td>WA</td>\n",
       "      <td>Technical Program Manager</td>\n",
       "      <td>White</td>\n",
       "      <td>Uber</td>\n",
       "      <td>Male</td>\n",
       "      <td>10.0</td>\n",
       "      <td>Masters</td>\n",
       "      <td>6.0</td>\n",
       "      <td>240000.0</td>\n",
       "      <td>250000.0</td>\n",
       "      <td>43000.0</td>\n",
       "    </tr>\n",
       "  </tbody>\n",
       "</table>\n",
       "<p>16335 rows × 11 columns</p>\n",
       "</div>"
      ],
      "text/plain": [
       "      state                      title   race     company  gender  \\\n",
       "0        CA           Business Analyst  Asian         8x8    Male   \n",
       "1        CA           Business Analyst  Asian         AIG    Male   \n",
       "2        CA           Business Analyst  Asian       Adobe  Female   \n",
       "3        CA           Business Analyst  Asian      Affirm    Male   \n",
       "4        CA           Business Analyst  Asian      Affirm    Male   \n",
       "...     ...                        ...    ...         ...     ...   \n",
       "16330    WA  Technical Program Manager  White  Salesforce    Male   \n",
       "16331    WA  Technical Program Manager  White        Sift    Male   \n",
       "16332    WA  Technical Program Manager  White    T-mobile   Other   \n",
       "16333    WA  Technical Program Manager  White     Twitter  Female   \n",
       "16334    WA  Technical Program Manager  White        Uber    Male   \n",
       "\n",
       "       yearsofexperience  education  yearsatcompany  basesalary  \\\n",
       "0                   12.0  Bachelors             1.0    161000.0   \n",
       "1                   11.0    Masters             2.0     94000.0   \n",
       "2                    2.0  Bachelors             2.0     97000.0   \n",
       "3                    3.0    Masters             0.0    174000.0   \n",
       "4                    4.0    Masters             0.0    174000.0   \n",
       "...                  ...        ...             ...         ...   \n",
       "16330               20.0       Some             1.0    206000.0   \n",
       "16331               20.0  Bachelors             2.0    205000.0   \n",
       "16332               10.0  Bachelors             4.0    140000.0   \n",
       "16333               18.0  Bachelors             1.0    208000.0   \n",
       "16334               10.0    Masters             6.0    240000.0   \n",
       "\n",
       "       stockgrantvalue    bonus  \n",
       "0              54000.0  15000.0  \n",
       "1                  0.0   8000.0  \n",
       "2              18000.0  10000.0  \n",
       "3              30000.0      0.0  \n",
       "4              57000.0      0.0  \n",
       "...                ...      ...  \n",
       "16330          18500.0  31000.0  \n",
       "16331          30000.0  20000.0  \n",
       "16332          15000.0  35000.0  \n",
       "16333          90000.0      0.0  \n",
       "16334         250000.0  43000.0  \n",
       "\n",
       "[16335 rows x 11 columns]"
      ]
     },
     "execution_count": 6,
     "metadata": {
     },
     "output_type": "execute_result"
    }
   ],
   "source": [
    "input = ['state', 'title', 'race', 'company', 'gender', 'yearsofexperience', 'education']\n",
    "filler = df.groupby(by = input)['yearsatcompany', 'basesalary', 'stockgrantvalue', 'bonus'].mean()\n",
    "filler.reset_index(inplace = True)\n",
    "filler"
   ]
  },
  {
   "cell_type": "code",
   "execution_count": 7,
   "metadata": {
    "collapsed": false
   },
   "outputs": [
   ],
   "source": [
    "#one hot encoding"
   ]
  },
  {
   "cell_type": "code",
   "execution_count": 8,
   "metadata": {
    "collapsed": false
   },
   "outputs": [
    {
     "name": "stdout",
     "output_type": "stream",
     "text": [
      "['Male' 'Female' 'Other']\n"
     ]
    }
   ],
   "source": [
    "# Convert out categorical data into numbers, using one hot encoding\n",
    "#print(df['gender'].unique())"
   ]
  },
  {
   "cell_type": "code",
   "execution_count": 9,
   "metadata": {
    "collapsed": false
   },
   "outputs": [
    {
     "data": {
      "text/plain": [
       "Male      17603\n",
       "Female     3880\n",
       "Other       106\n",
       "Name: gender, dtype: int64"
      ]
     },
     "execution_count": 9,
     "metadata": {
     },
     "output_type": "execute_result"
    }
   ],
   "source": [
    "#df['gender'].value_counts()"
   ]
  },
  {
   "cell_type": "code",
   "execution_count": 10,
   "metadata": {
    "collapsed": false
   },
   "outputs": [
    {
     "name": "stdout",
     "output_type": "stream",
     "text": [
      "         company                         title  totalyearlycompensation  \\\n",
      "0         Google             Software Engineer                   400000   \n",
      "1      Microsoft             Software Engineer                   136000   \n",
      "2         Google             Software Engineer                   337000   \n",
      "3      Microsoft             Software Engineer                   222000   \n",
      "4          Blend             Software Engineer                   187000   \n",
      "...          ...                           ...                      ...   \n",
      "21584   Facebook  Software Engineering Manager                  1470000   \n",
      "21585     Google               Product Manager                  4500000   \n",
      "21586     Zapier  Software Engineering Manager                  1605000   \n",
      "21587   Facebook  Software Engineering Manager                  2372000   \n",
      "21588   Facebook               Product Manager                  4980000   \n",
      "\n",
      "       yearsofexperience  yearsatcompany  basesalary  stockgrantvalue  \\\n",
      "0                    5.0             5.0    210000.0         145000.0   \n",
      "1                    3.0             2.0    124000.0           1000.0   \n",
      "2                    6.0             6.0    177000.0         125000.0   \n",
      "3                    4.0             4.0    164000.0          38000.0   \n",
      "4                    5.0             0.0    165000.0          22000.0   \n",
      "...                  ...             ...         ...              ...   \n",
      "21584                9.0             7.0    290000.0           1100.0   \n",
      "21585               20.0            14.0    450000.0           3700.0   \n",
      "21586               16.0             2.0    250000.0           1305.0   \n",
      "21587               22.0             2.0    315000.0           1933.0   \n",
      "21588               17.0             0.0    380000.0           4400.0   \n",
      "\n",
      "          bonus  Masters_Degree  Bachelors_Degree  ...  Race_Two_Or_More  \\\n",
      "0       45000.0               0                 0  ...                 0   \n",
      "1       11000.0               0                 1  ...                 1   \n",
      "2       36000.0               0                 1  ...                 0   \n",
      "3       20000.0               1                 0  ...                 0   \n",
      "4           0.0               0                 1  ...                 0   \n",
      "...         ...             ...               ...  ...               ...   \n",
      "21584   80000.0               0                 1  ...                 0   \n",
      "21585  350000.0               1                 0  ...                 0   \n",
      "21586   50000.0               1                 0  ...                 0   \n",
      "21587  124000.0               1                 0  ...                 0   \n",
      "21588  200000.0               1                 0  ...                 0   \n",
      "\n",
      "       Race_Black  Race_Hispanic  state  in_top_15  education   race  \\\n",
      "0               0              0     CA       True        PHD  Asian   \n",
      "1               0              0     WA       True  Bachelors    Two   \n",
      "2               0              0     CA       True  Bachelors  Asian   \n",
      "3               0              0     WA       True    Masters  Asian   \n",
      "4               0              0     CA      False  Bachelors  White   \n",
      "...           ...            ...    ...        ...        ...    ...   \n",
      "21584           0              0     CA       True  Bachelors  Asian   \n",
      "21585           0              0     CA       True    Masters  Asian   \n",
      "21586           0              0  Other      False    Masters  White   \n",
      "21587           1              0     CA       True    Masters  Black   \n",
      "21588           0              0     CA       True    Masters  Asian   \n",
      "\n",
      "       gender_Female gender_Male  gender_Other  \n",
      "0                  0           1             0  \n",
      "1                  0           1             0  \n",
      "2                  0           1             0  \n",
      "3                  0           1             0  \n",
      "4                  0           1             0  \n",
      "...              ...         ...           ...  \n",
      "21584              0           1             0  \n",
      "21585              0           1             0  \n",
      "21586              1           0             0  \n",
      "21587              0           1             0  \n",
      "21588              0           1             0  \n",
      "\n",
      "[21589 rows x 25 columns]\n"
     ]
    }
   ],
   "source": [
    "#one_hot_encoded_df = pd.get_dummies(df, columns = ['gender'])\n",
    "#print(one_hot_encoded_df)"
   ]
  },
  {
   "cell_type": "code",
   "execution_count": 11,
   "metadata": {
    "collapsed": false
   },
   "outputs": [
    {
     "data": {
      "text/html": [
       "<div>\n",
       "<style scoped>\n",
       "    .dataframe tbody tr th:only-of-type {\n",
       "        vertical-align: middle;\n",
       "    }\n",
       "\n",
       "    .dataframe tbody tr th {\n",
       "        vertical-align: top;\n",
       "    }\n",
       "\n",
       "    .dataframe thead th {\n",
       "        text-align: right;\n",
       "    }\n",
       "</style>\n",
       "<table border=\"1\" class=\"dataframe\">\n",
       "  <thead>\n",
       "    <tr style=\"text-align: right;\">\n",
       "      <th></th>\n",
       "      <th>company</th>\n",
       "      <th>title</th>\n",
       "      <th>totalyearlycompensation</th>\n",
       "      <th>yearsofexperience</th>\n",
       "      <th>yearsatcompany</th>\n",
       "      <th>basesalary</th>\n",
       "      <th>stockgrantvalue</th>\n",
       "      <th>bonus</th>\n",
       "      <th>gender</th>\n",
       "      <th>Masters_Degree</th>\n",
       "      <th>...</th>\n",
       "      <th>Race_Two_Or_More</th>\n",
       "      <th>Race_Black</th>\n",
       "      <th>Race_Hispanic</th>\n",
       "      <th>state</th>\n",
       "      <th>in_top_15</th>\n",
       "      <th>education</th>\n",
       "      <th>race</th>\n",
       "      <th>Female_gender</th>\n",
       "      <th>Male_gender</th>\n",
       "      <th>Other_Gender</th>\n",
       "    </tr>\n",
       "  </thead>\n",
       "  <tbody>\n",
       "    <tr>\n",
       "      <th>0</th>\n",
       "      <td>Google</td>\n",
       "      <td>Software Engineer</td>\n",
       "      <td>400000</td>\n",
       "      <td>5.0</td>\n",
       "      <td>5.0</td>\n",
       "      <td>210000.0</td>\n",
       "      <td>145000.0</td>\n",
       "      <td>45000.0</td>\n",
       "      <td>Male</td>\n",
       "      <td>0</td>\n",
       "      <td>...</td>\n",
       "      <td>0</td>\n",
       "      <td>0</td>\n",
       "      <td>0</td>\n",
       "      <td>CA</td>\n",
       "      <td>True</td>\n",
       "      <td>PHD</td>\n",
       "      <td>Asian</td>\n",
       "      <td>0</td>\n",
       "      <td>1</td>\n",
       "      <td>0</td>\n",
       "    </tr>\n",
       "    <tr>\n",
       "      <th>1</th>\n",
       "      <td>Microsoft</td>\n",
       "      <td>Software Engineer</td>\n",
       "      <td>136000</td>\n",
       "      <td>3.0</td>\n",
       "      <td>2.0</td>\n",
       "      <td>124000.0</td>\n",
       "      <td>1000.0</td>\n",
       "      <td>11000.0</td>\n",
       "      <td>Male</td>\n",
       "      <td>0</td>\n",
       "      <td>...</td>\n",
       "      <td>1</td>\n",
       "      <td>0</td>\n",
       "      <td>0</td>\n",
       "      <td>WA</td>\n",
       "      <td>True</td>\n",
       "      <td>Bachelors</td>\n",
       "      <td>Two</td>\n",
       "      <td>0</td>\n",
       "      <td>1</td>\n",
       "      <td>0</td>\n",
       "    </tr>\n",
       "    <tr>\n",
       "      <th>2</th>\n",
       "      <td>Google</td>\n",
       "      <td>Software Engineer</td>\n",
       "      <td>337000</td>\n",
       "      <td>6.0</td>\n",
       "      <td>6.0</td>\n",
       "      <td>177000.0</td>\n",
       "      <td>125000.0</td>\n",
       "      <td>36000.0</td>\n",
       "      <td>Male</td>\n",
       "      <td>0</td>\n",
       "      <td>...</td>\n",
       "      <td>0</td>\n",
       "      <td>0</td>\n",
       "      <td>0</td>\n",
       "      <td>CA</td>\n",
       "      <td>True</td>\n",
       "      <td>Bachelors</td>\n",
       "      <td>Asian</td>\n",
       "      <td>0</td>\n",
       "      <td>1</td>\n",
       "      <td>0</td>\n",
       "    </tr>\n",
       "    <tr>\n",
       "      <th>3</th>\n",
       "      <td>Microsoft</td>\n",
       "      <td>Software Engineer</td>\n",
       "      <td>222000</td>\n",
       "      <td>4.0</td>\n",
       "      <td>4.0</td>\n",
       "      <td>164000.0</td>\n",
       "      <td>38000.0</td>\n",
       "      <td>20000.0</td>\n",
       "      <td>Male</td>\n",
       "      <td>1</td>\n",
       "      <td>...</td>\n",
       "      <td>0</td>\n",
       "      <td>0</td>\n",
       "      <td>0</td>\n",
       "      <td>WA</td>\n",
       "      <td>True</td>\n",
       "      <td>Masters</td>\n",
       "      <td>Asian</td>\n",
       "      <td>0</td>\n",
       "      <td>1</td>\n",
       "      <td>0</td>\n",
       "    </tr>\n",
       "    <tr>\n",
       "      <th>4</th>\n",
       "      <td>Blend</td>\n",
       "      <td>Software Engineer</td>\n",
       "      <td>187000</td>\n",
       "      <td>5.0</td>\n",
       "      <td>0.0</td>\n",
       "      <td>165000.0</td>\n",
       "      <td>22000.0</td>\n",
       "      <td>0.0</td>\n",
       "      <td>Male</td>\n",
       "      <td>0</td>\n",
       "      <td>...</td>\n",
       "      <td>0</td>\n",
       "      <td>0</td>\n",
       "      <td>0</td>\n",
       "      <td>CA</td>\n",
       "      <td>False</td>\n",
       "      <td>Bachelors</td>\n",
       "      <td>White</td>\n",
       "      <td>0</td>\n",
       "      <td>1</td>\n",
       "      <td>0</td>\n",
       "    </tr>\n",
       "  </tbody>\n",
       "</table>\n",
       "<p>5 rows × 26 columns</p>\n",
       "</div>"
      ],
      "text/plain": [
       "     company              title  totalyearlycompensation  yearsofexperience  \\\n",
       "0     Google  Software Engineer                   400000                5.0   \n",
       "1  Microsoft  Software Engineer                   136000                3.0   \n",
       "2     Google  Software Engineer                   337000                6.0   \n",
       "3  Microsoft  Software Engineer                   222000                4.0   \n",
       "4      Blend  Software Engineer                   187000                5.0   \n",
       "\n",
       "   yearsatcompany  basesalary  stockgrantvalue    bonus gender  \\\n",
       "0             5.0    210000.0         145000.0  45000.0   Male   \n",
       "1             2.0    124000.0           1000.0  11000.0   Male   \n",
       "2             6.0    177000.0         125000.0  36000.0   Male   \n",
       "3             4.0    164000.0          38000.0  20000.0   Male   \n",
       "4             0.0    165000.0          22000.0      0.0   Male   \n",
       "\n",
       "   Masters_Degree  ...  Race_Two_Or_More  Race_Black  Race_Hispanic  state  \\\n",
       "0               0  ...                 0           0              0     CA   \n",
       "1               0  ...                 1           0              0     WA   \n",
       "2               0  ...                 0           0              0     CA   \n",
       "3               1  ...                 0           0              0     WA   \n",
       "4               0  ...                 0           0              0     CA   \n",
       "\n",
       "   in_top_15  education   race  Female_gender  Male_gender Other_Gender  \n",
       "0       True        PHD  Asian              0            1            0  \n",
       "1       True  Bachelors    Two              0            1            0  \n",
       "2       True  Bachelors  Asian              0            1            0  \n",
       "3       True    Masters  Asian              0            1            0  \n",
       "4      False  Bachelors  White              0            1            0  \n",
       "\n",
       "[5 rows x 26 columns]"
      ]
     },
     "execution_count": 11,
     "metadata": {
     },
     "output_type": "execute_result"
    }
   ],
   "source": [
    "#df['Female_gender'] = one_hot_encoded_df['gender_Female']\n",
    "#df['Male_gender'] = one_hot_encoded_df['gender_Male']\n",
    "#df['Other_Gender'] = one_hot_encoded_df['gender_Other']\n",
    "#df.head()"
   ]
  },
  {
   "cell_type": "code",
   "execution_count": 12,
   "metadata": {
    "collapsed": false
   },
   "outputs": [
    {
     "data": {
      "text/plain": [
       "Index(['company', 'title', 'totalyearlycompensation', 'yearsofexperience',\n",
       "       'yearsatcompany', 'basesalary', 'stockgrantvalue', 'bonus', 'gender',\n",
       "       'Masters_Degree', 'Bachelors_Degree', 'Doctorate_Degree', 'Highschool',\n",
       "       'Some_College', 'Race_Asian', 'Race_White', 'Race_Two_Or_More',\n",
       "       'Race_Black', 'Race_Hispanic', 'state', 'in_top_15', 'education',\n",
       "       'race', 'Female_gender', 'Male_gender', 'Other_Gender'],\n",
       "      dtype='object')"
      ]
     },
     "execution_count": 12,
     "metadata": {
     },
     "output_type": "execute_result"
    }
   ],
   "source": [
    "#df.columns"
   ]
  },
  {
   "cell_type": "code",
   "execution_count": 13,
   "metadata": {
    "collapsed": false
   },
   "outputs": [
    {
     "name": "stdout",
     "output_type": "stream",
     "text": [
      "['CA' 'WA' 'Other' 'NY']\n"
     ]
    }
   ],
   "source": [
    "#print(df['state'].unique())"
   ]
  },
  {
   "cell_type": "code",
   "execution_count": 14,
   "metadata": {
    "collapsed": false
   },
   "outputs": [
    {
     "data": {
      "text/plain": [
       "Other    9832\n",
       "CA       6534\n",
       "WA       3552\n",
       "NY       1671\n",
       "Name: state, dtype: int64"
      ]
     },
     "execution_count": 14,
     "metadata": {
     },
     "output_type": "execute_result"
    }
   ],
   "source": [
    "#df['state'].value_counts()"
   ]
  },
  {
   "cell_type": "code",
   "execution_count": 15,
   "metadata": {
    "collapsed": false
   },
   "outputs": [
    {
     "name": "stdout",
     "output_type": "stream",
     "text": [
      "         company                         title  totalyearlycompensation  \\\n",
      "0         Google             Software Engineer                   400000   \n",
      "1      Microsoft             Software Engineer                   136000   \n",
      "2         Google             Software Engineer                   337000   \n",
      "3      Microsoft             Software Engineer                   222000   \n",
      "4          Blend             Software Engineer                   187000   \n",
      "...          ...                           ...                      ...   \n",
      "21584   Facebook  Software Engineering Manager                  1470000   \n",
      "21585     Google               Product Manager                  4500000   \n",
      "21586     Zapier  Software Engineering Manager                  1605000   \n",
      "21587   Facebook  Software Engineering Manager                  2372000   \n",
      "21588   Facebook               Product Manager                  4980000   \n",
      "\n",
      "       yearsofexperience  yearsatcompany  basesalary  stockgrantvalue  \\\n",
      "0                    5.0             5.0    210000.0         145000.0   \n",
      "1                    3.0             2.0    124000.0           1000.0   \n",
      "2                    6.0             6.0    177000.0         125000.0   \n",
      "3                    4.0             4.0    164000.0          38000.0   \n",
      "4                    5.0             0.0    165000.0          22000.0   \n",
      "...                  ...             ...         ...              ...   \n",
      "21584                9.0             7.0    290000.0           1100.0   \n",
      "21585               20.0            14.0    450000.0           3700.0   \n",
      "21586               16.0             2.0    250000.0           1305.0   \n",
      "21587               22.0             2.0    315000.0           1933.0   \n",
      "21588               17.0             0.0    380000.0           4400.0   \n",
      "\n",
      "          bonus  gender  Masters_Degree  ...  in_top_15  education   race  \\\n",
      "0       45000.0    Male               0  ...       True        PHD  Asian   \n",
      "1       11000.0    Male               0  ...       True  Bachelors    Two   \n",
      "2       36000.0    Male               0  ...       True  Bachelors  Asian   \n",
      "3       20000.0    Male               1  ...       True    Masters  Asian   \n",
      "4           0.0    Male               0  ...      False  Bachelors  White   \n",
      "...         ...     ...             ...  ...        ...        ...    ...   \n",
      "21584   80000.0    Male               0  ...       True  Bachelors  Asian   \n",
      "21585  350000.0    Male               1  ...       True    Masters  Asian   \n",
      "21586   50000.0  Female               1  ...      False    Masters  White   \n",
      "21587  124000.0    Male               1  ...       True    Masters  Black   \n",
      "21588  200000.0    Male               1  ...       True    Masters  Asian   \n",
      "\n",
      "       Female_gender  Male_gender  Other_Gender  state_CA  state_NY  \\\n",
      "0                  0            1             0         1         0   \n",
      "1                  0            1             0         0         0   \n",
      "2                  0            1             0         1         0   \n",
      "3                  0            1             0         0         0   \n",
      "4                  0            1             0         1         0   \n",
      "...              ...          ...           ...       ...       ...   \n",
      "21584              0            1             0         1         0   \n",
      "21585              0            1             0         1         0   \n",
      "21586              1            0             0         0         0   \n",
      "21587              0            1             0         1         0   \n",
      "21588              0            1             0         1         0   \n",
      "\n",
      "       state_Other  state_WA  \n",
      "0                0         0  \n",
      "1                0         1  \n",
      "2                0         0  \n",
      "3                0         1  \n",
      "4                0         0  \n",
      "...            ...       ...  \n",
      "21584            0         0  \n",
      "21585            0         0  \n",
      "21586            1         0  \n",
      "21587            0         0  \n",
      "21588            0         0  \n",
      "\n",
      "[21589 rows x 29 columns]\n"
     ]
    }
   ],
   "source": [
    "#one_hot_encoded_df = pd.get_dummies(df, columns = ['state'])\n",
    "#print(one_hot_encoded_df)"
   ]
  },
  {
   "cell_type": "code",
   "execution_count": 16,
   "metadata": {
    "collapsed": false
   },
   "outputs": [
    {
     "data": {
      "text/html": [
       "<div>\n",
       "<style scoped>\n",
       "    .dataframe tbody tr th:only-of-type {\n",
       "        vertical-align: middle;\n",
       "    }\n",
       "\n",
       "    .dataframe tbody tr th {\n",
       "        vertical-align: top;\n",
       "    }\n",
       "\n",
       "    .dataframe thead th {\n",
       "        text-align: right;\n",
       "    }\n",
       "</style>\n",
       "<table border=\"1\" class=\"dataframe\">\n",
       "  <thead>\n",
       "    <tr style=\"text-align: right;\">\n",
       "      <th></th>\n",
       "      <th>company</th>\n",
       "      <th>title</th>\n",
       "      <th>totalyearlycompensation</th>\n",
       "      <th>yearsofexperience</th>\n",
       "      <th>yearsatcompany</th>\n",
       "      <th>basesalary</th>\n",
       "      <th>stockgrantvalue</th>\n",
       "      <th>bonus</th>\n",
       "      <th>gender</th>\n",
       "      <th>Masters_Degree</th>\n",
       "      <th>...</th>\n",
       "      <th>state</th>\n",
       "      <th>in_top_15</th>\n",
       "      <th>education</th>\n",
       "      <th>race</th>\n",
       "      <th>Female_gender</th>\n",
       "      <th>Male_gender</th>\n",
       "      <th>Other_Gender</th>\n",
       "      <th>state_NY</th>\n",
       "      <th>state_other</th>\n",
       "      <th>state_WA</th>\n",
       "    </tr>\n",
       "  </thead>\n",
       "  <tbody>\n",
       "    <tr>\n",
       "      <th>0</th>\n",
       "      <td>Google</td>\n",
       "      <td>Software Engineer</td>\n",
       "      <td>400000</td>\n",
       "      <td>5.0</td>\n",
       "      <td>5.0</td>\n",
       "      <td>210000.0</td>\n",
       "      <td>145000.0</td>\n",
       "      <td>45000.0</td>\n",
       "      <td>Male</td>\n",
       "      <td>0</td>\n",
       "      <td>...</td>\n",
       "      <td>CA</td>\n",
       "      <td>True</td>\n",
       "      <td>PHD</td>\n",
       "      <td>Asian</td>\n",
       "      <td>0</td>\n",
       "      <td>1</td>\n",
       "      <td>0</td>\n",
       "      <td>0</td>\n",
       "      <td>0</td>\n",
       "      <td>0</td>\n",
       "    </tr>\n",
       "    <tr>\n",
       "      <th>1</th>\n",
       "      <td>Microsoft</td>\n",
       "      <td>Software Engineer</td>\n",
       "      <td>136000</td>\n",
       "      <td>3.0</td>\n",
       "      <td>2.0</td>\n",
       "      <td>124000.0</td>\n",
       "      <td>1000.0</td>\n",
       "      <td>11000.0</td>\n",
       "      <td>Male</td>\n",
       "      <td>0</td>\n",
       "      <td>...</td>\n",
       "      <td>WA</td>\n",
       "      <td>True</td>\n",
       "      <td>Bachelors</td>\n",
       "      <td>Two</td>\n",
       "      <td>0</td>\n",
       "      <td>1</td>\n",
       "      <td>0</td>\n",
       "      <td>0</td>\n",
       "      <td>0</td>\n",
       "      <td>1</td>\n",
       "    </tr>\n",
       "    <tr>\n",
       "      <th>2</th>\n",
       "      <td>Google</td>\n",
       "      <td>Software Engineer</td>\n",
       "      <td>337000</td>\n",
       "      <td>6.0</td>\n",
       "      <td>6.0</td>\n",
       "      <td>177000.0</td>\n",
       "      <td>125000.0</td>\n",
       "      <td>36000.0</td>\n",
       "      <td>Male</td>\n",
       "      <td>0</td>\n",
       "      <td>...</td>\n",
       "      <td>CA</td>\n",
       "      <td>True</td>\n",
       "      <td>Bachelors</td>\n",
       "      <td>Asian</td>\n",
       "      <td>0</td>\n",
       "      <td>1</td>\n",
       "      <td>0</td>\n",
       "      <td>0</td>\n",
       "      <td>0</td>\n",
       "      <td>0</td>\n",
       "    </tr>\n",
       "    <tr>\n",
       "      <th>3</th>\n",
       "      <td>Microsoft</td>\n",
       "      <td>Software Engineer</td>\n",
       "      <td>222000</td>\n",
       "      <td>4.0</td>\n",
       "      <td>4.0</td>\n",
       "      <td>164000.0</td>\n",
       "      <td>38000.0</td>\n",
       "      <td>20000.0</td>\n",
       "      <td>Male</td>\n",
       "      <td>1</td>\n",
       "      <td>...</td>\n",
       "      <td>WA</td>\n",
       "      <td>True</td>\n",
       "      <td>Masters</td>\n",
       "      <td>Asian</td>\n",
       "      <td>0</td>\n",
       "      <td>1</td>\n",
       "      <td>0</td>\n",
       "      <td>0</td>\n",
       "      <td>0</td>\n",
       "      <td>1</td>\n",
       "    </tr>\n",
       "    <tr>\n",
       "      <th>4</th>\n",
       "      <td>Blend</td>\n",
       "      <td>Software Engineer</td>\n",
       "      <td>187000</td>\n",
       "      <td>5.0</td>\n",
       "      <td>0.0</td>\n",
       "      <td>165000.0</td>\n",
       "      <td>22000.0</td>\n",
       "      <td>0.0</td>\n",
       "      <td>Male</td>\n",
       "      <td>0</td>\n",
       "      <td>...</td>\n",
       "      <td>CA</td>\n",
       "      <td>False</td>\n",
       "      <td>Bachelors</td>\n",
       "      <td>White</td>\n",
       "      <td>0</td>\n",
       "      <td>1</td>\n",
       "      <td>0</td>\n",
       "      <td>0</td>\n",
       "      <td>0</td>\n",
       "      <td>0</td>\n",
       "    </tr>\n",
       "  </tbody>\n",
       "</table>\n",
       "<p>5 rows × 29 columns</p>\n",
       "</div>"
      ],
      "text/plain": [
       "     company              title  totalyearlycompensation  yearsofexperience  \\\n",
       "0     Google  Software Engineer                   400000                5.0   \n",
       "1  Microsoft  Software Engineer                   136000                3.0   \n",
       "2     Google  Software Engineer                   337000                6.0   \n",
       "3  Microsoft  Software Engineer                   222000                4.0   \n",
       "4      Blend  Software Engineer                   187000                5.0   \n",
       "\n",
       "   yearsatcompany  basesalary  stockgrantvalue    bonus gender  \\\n",
       "0             5.0    210000.0         145000.0  45000.0   Male   \n",
       "1             2.0    124000.0           1000.0  11000.0   Male   \n",
       "2             6.0    177000.0         125000.0  36000.0   Male   \n",
       "3             4.0    164000.0          38000.0  20000.0   Male   \n",
       "4             0.0    165000.0          22000.0      0.0   Male   \n",
       "\n",
       "   Masters_Degree  ...  state  in_top_15  education   race  Female_gender  \\\n",
       "0               0  ...     CA       True        PHD  Asian              0   \n",
       "1               0  ...     WA       True  Bachelors    Two              0   \n",
       "2               0  ...     CA       True  Bachelors  Asian              0   \n",
       "3               1  ...     WA       True    Masters  Asian              0   \n",
       "4               0  ...     CA      False  Bachelors  White              0   \n",
       "\n",
       "   Male_gender  Other_Gender  state_NY  state_other state_WA  \n",
       "0            1             0         0            0        0  \n",
       "1            1             0         0            0        1  \n",
       "2            1             0         0            0        0  \n",
       "3            1             0         0            0        1  \n",
       "4            1             0         0            0        0  \n",
       "\n",
       "[5 rows x 29 columns]"
      ]
     },
     "execution_count": 16,
     "metadata": {
     },
     "output_type": "execute_result"
    }
   ],
   "source": [
    "#df['state_NY'] = one_hot_encoded_df['state_NY']\n",
    "#df['state_other'] = one_hot_encoded_df['state_Other']\n",
    "#df['state_WA'] = one_hot_encoded_df['state_WA']\n",
    "#df.head()"
   ]
  },
  {
   "cell_type": "code",
   "execution_count": 17,
   "metadata": {
    "collapsed": false
   },
   "outputs": [
    {
     "name": "stdout",
     "output_type": "stream",
     "text": [
      "['Software Engineer' 'Software Engineering Manager' 'Hardware Engineer'\n",
      " 'Product Designer' 'Management Consultant' 'Product Manager'\n",
      " 'Solution Architect' 'Sales' 'Technical Program Manager' 'Data Scientist'\n",
      " 'Recruiter' 'Mechanical Engineer' 'Business Analyst' 'Human Resources'\n",
      " 'Marketing']\n"
     ]
    }
   ],
   "source": [
    "#print(df['title'].unique())"
   ]
  },
  {
   "cell_type": "code",
   "execution_count": 18,
   "metadata": {
    "collapsed": false
   },
   "outputs": [
    {
     "data": {
      "text/plain": [
       "Software Engineer               13698\n",
       "Product Manager                  1453\n",
       "Software Engineering Manager     1024\n",
       "Data Scientist                    875\n",
       "Hardware Engineer                 783\n",
       "Technical Program Manager         635\n",
       "Product Designer                  601\n",
       "Management Consultant             450\n",
       "Business Analyst                  445\n",
       "Solution Architect                409\n",
       "Marketing                         360\n",
       "Mechanical Engineer               255\n",
       "Sales                             218\n",
       "Recruiter                         214\n",
       "Human Resources                   169\n",
       "Name: title, dtype: int64"
      ]
     },
     "execution_count": 18,
     "metadata": {
     },
     "output_type": "execute_result"
    }
   ],
   "source": [
    "#df['title'].value_counts()"
   ]
  },
  {
   "cell_type": "code",
   "execution_count": 19,
   "metadata": {
    "collapsed": false
   },
   "outputs": [
    {
     "name": "stdout",
     "output_type": "stream",
     "text": [
      "         company  totalyearlycompensation  yearsofexperience  yearsatcompany  \\\n",
      "0         Google                   400000                5.0             5.0   \n",
      "1      Microsoft                   136000                3.0             2.0   \n",
      "2         Google                   337000                6.0             6.0   \n",
      "3      Microsoft                   222000                4.0             4.0   \n",
      "4          Blend                   187000                5.0             0.0   \n",
      "...          ...                      ...                ...             ...   \n",
      "21584   Facebook                  1470000                9.0             7.0   \n",
      "21585     Google                  4500000               20.0            14.0   \n",
      "21586     Zapier                  1605000               16.0             2.0   \n",
      "21587   Facebook                  2372000               22.0             2.0   \n",
      "21588   Facebook                  4980000               17.0             0.0   \n",
      "\n",
      "       basesalary  stockgrantvalue     bonus  gender  Masters_Degree  \\\n",
      "0        210000.0         145000.0   45000.0    Male               0   \n",
      "1        124000.0           1000.0   11000.0    Male               0   \n",
      "2        177000.0         125000.0   36000.0    Male               0   \n",
      "3        164000.0          38000.0   20000.0    Male               1   \n",
      "4        165000.0          22000.0       0.0    Male               0   \n",
      "...           ...              ...       ...     ...             ...   \n",
      "21584    290000.0           1100.0   80000.0    Male               0   \n",
      "21585    450000.0           3700.0  350000.0    Male               1   \n",
      "21586    250000.0           1305.0   50000.0  Female               1   \n",
      "21587    315000.0           1933.0  124000.0    Male               1   \n",
      "21588    380000.0           4400.0  200000.0    Male               1   \n",
      "\n",
      "       Bachelors_Degree  ...  title_Marketing  title_Mechanical Engineer  \\\n",
      "0                     0  ...                0                          0   \n",
      "1                     1  ...                0                          0   \n",
      "2                     1  ...                0                          0   \n",
      "3                     0  ...                0                          0   \n",
      "4                     1  ...                0                          0   \n",
      "...                 ...  ...              ...                        ...   \n",
      "21584                 1  ...                0                          0   \n",
      "21585                 0  ...                0                          0   \n",
      "21586                 0  ...                0                          0   \n",
      "21587                 0  ...                0                          0   \n",
      "21588                 0  ...                0                          0   \n",
      "\n",
      "       title_Product Designer  title_Product Manager  title_Recruiter  \\\n",
      "0                           0                      0                0   \n",
      "1                           0                      0                0   \n",
      "2                           0                      0                0   \n",
      "3                           0                      0                0   \n",
      "4                           0                      0                0   \n",
      "...                       ...                    ...              ...   \n",
      "21584                       0                      0                0   \n",
      "21585                       0                      1                0   \n",
      "21586                       0                      0                0   \n",
      "21587                       0                      0                0   \n",
      "21588                       0                      1                0   \n",
      "\n",
      "       title_Sales  title_Software Engineer  \\\n",
      "0                0                        1   \n",
      "1                0                        1   \n",
      "2                0                        1   \n",
      "3                0                        1   \n",
      "4                0                        1   \n",
      "...            ...                      ...   \n",
      "21584            0                        0   \n",
      "21585            0                        0   \n",
      "21586            0                        0   \n",
      "21587            0                        0   \n",
      "21588            0                        0   \n",
      "\n",
      "       title_Software Engineering Manager title_Solution Architect  \\\n",
      "0                                       0                        0   \n",
      "1                                       0                        0   \n",
      "2                                       0                        0   \n",
      "3                                       0                        0   \n",
      "4                                       0                        0   \n",
      "...                                   ...                      ...   \n",
      "21584                                   1                        0   \n",
      "21585                                   0                        0   \n",
      "21586                                   1                        0   \n",
      "21587                                   1                        0   \n",
      "21588                                   0                        0   \n",
      "\n",
      "       title_Technical Program Manager  \n",
      "0                                    0  \n",
      "1                                    0  \n",
      "2                                    0  \n",
      "3                                    0  \n",
      "4                                    0  \n",
      "...                                ...  \n",
      "21584                                0  \n",
      "21585                                0  \n",
      "21586                                0  \n",
      "21587                                0  \n",
      "21588                                0  \n",
      "\n",
      "[21589 rows x 43 columns]\n"
     ]
    }
   ],
   "source": [
    "#one_hot_encoded_df = pd.get_dummies(df, columns = ['title'])\n",
    "#print(one_hot_encoded_df)"
   ]
  },
  {
   "cell_type": "code",
   "execution_count": 20,
   "metadata": {
    "collapsed": false
   },
   "outputs": [
    {
     "data": {
      "text/html": [
       "<div>\n",
       "<style scoped>\n",
       "    .dataframe tbody tr th:only-of-type {\n",
       "        vertical-align: middle;\n",
       "    }\n",
       "\n",
       "    .dataframe tbody tr th {\n",
       "        vertical-align: top;\n",
       "    }\n",
       "\n",
       "    .dataframe thead th {\n",
       "        text-align: right;\n",
       "    }\n",
       "</style>\n",
       "<table border=\"1\" class=\"dataframe\">\n",
       "  <thead>\n",
       "    <tr style=\"text-align: right;\">\n",
       "      <th></th>\n",
       "      <th>company</th>\n",
       "      <th>title</th>\n",
       "      <th>totalyearlycompensation</th>\n",
       "      <th>yearsofexperience</th>\n",
       "      <th>yearsatcompany</th>\n",
       "      <th>basesalary</th>\n",
       "      <th>stockgrantvalue</th>\n",
       "      <th>bonus</th>\n",
       "      <th>gender</th>\n",
       "      <th>Masters_Degree</th>\n",
       "      <th>...</th>\n",
       "      <th>Software Engineer_title</th>\n",
       "      <th>Software Engineering Manager_title</th>\n",
       "      <th>Solution Architect_title</th>\n",
       "      <th>Technical Program Manager_title</th>\n",
       "      <th>Human Resources_title</th>\n",
       "      <th>Product Manager_title</th>\n",
       "      <th>Business Analyst_title</th>\n",
       "      <th>Management Consultant_title</th>\n",
       "      <th>Data Scientist_title</th>\n",
       "      <th>Hardware Engineer_title</th>\n",
       "    </tr>\n",
       "  </thead>\n",
       "  <tbody>\n",
       "    <tr>\n",
       "      <th>0</th>\n",
       "      <td>Google</td>\n",
       "      <td>Software Engineer</td>\n",
       "      <td>400000</td>\n",
       "      <td>5.0</td>\n",
       "      <td>5.0</td>\n",
       "      <td>210000.0</td>\n",
       "      <td>145000.0</td>\n",
       "      <td>45000.0</td>\n",
       "      <td>Male</td>\n",
       "      <td>0</td>\n",
       "      <td>...</td>\n",
       "      <td>1</td>\n",
       "      <td>0</td>\n",
       "      <td>0</td>\n",
       "      <td>0</td>\n",
       "      <td>0</td>\n",
       "      <td>0</td>\n",
       "      <td>0</td>\n",
       "      <td>0</td>\n",
       "      <td>0</td>\n",
       "      <td>0</td>\n",
       "    </tr>\n",
       "    <tr>\n",
       "      <th>1</th>\n",
       "      <td>Microsoft</td>\n",
       "      <td>Software Engineer</td>\n",
       "      <td>136000</td>\n",
       "      <td>3.0</td>\n",
       "      <td>2.0</td>\n",
       "      <td>124000.0</td>\n",
       "      <td>1000.0</td>\n",
       "      <td>11000.0</td>\n",
       "      <td>Male</td>\n",
       "      <td>0</td>\n",
       "      <td>...</td>\n",
       "      <td>1</td>\n",
       "      <td>0</td>\n",
       "      <td>0</td>\n",
       "      <td>0</td>\n",
       "      <td>0</td>\n",
       "      <td>0</td>\n",
       "      <td>0</td>\n",
       "      <td>0</td>\n",
       "      <td>0</td>\n",
       "      <td>0</td>\n",
       "    </tr>\n",
       "    <tr>\n",
       "      <th>2</th>\n",
       "      <td>Google</td>\n",
       "      <td>Software Engineer</td>\n",
       "      <td>337000</td>\n",
       "      <td>6.0</td>\n",
       "      <td>6.0</td>\n",
       "      <td>177000.0</td>\n",
       "      <td>125000.0</td>\n",
       "      <td>36000.0</td>\n",
       "      <td>Male</td>\n",
       "      <td>0</td>\n",
       "      <td>...</td>\n",
       "      <td>1</td>\n",
       "      <td>0</td>\n",
       "      <td>0</td>\n",
       "      <td>0</td>\n",
       "      <td>0</td>\n",
       "      <td>0</td>\n",
       "      <td>0</td>\n",
       "      <td>0</td>\n",
       "      <td>0</td>\n",
       "      <td>0</td>\n",
       "    </tr>\n",
       "    <tr>\n",
       "      <th>3</th>\n",
       "      <td>Microsoft</td>\n",
       "      <td>Software Engineer</td>\n",
       "      <td>222000</td>\n",
       "      <td>4.0</td>\n",
       "      <td>4.0</td>\n",
       "      <td>164000.0</td>\n",
       "      <td>38000.0</td>\n",
       "      <td>20000.0</td>\n",
       "      <td>Male</td>\n",
       "      <td>1</td>\n",
       "      <td>...</td>\n",
       "      <td>1</td>\n",
       "      <td>0</td>\n",
       "      <td>0</td>\n",
       "      <td>0</td>\n",
       "      <td>0</td>\n",
       "      <td>0</td>\n",
       "      <td>0</td>\n",
       "      <td>0</td>\n",
       "      <td>0</td>\n",
       "      <td>0</td>\n",
       "    </tr>\n",
       "    <tr>\n",
       "      <th>4</th>\n",
       "      <td>Blend</td>\n",
       "      <td>Software Engineer</td>\n",
       "      <td>187000</td>\n",
       "      <td>5.0</td>\n",
       "      <td>0.0</td>\n",
       "      <td>165000.0</td>\n",
       "      <td>22000.0</td>\n",
       "      <td>0.0</td>\n",
       "      <td>Male</td>\n",
       "      <td>0</td>\n",
       "      <td>...</td>\n",
       "      <td>1</td>\n",
       "      <td>0</td>\n",
       "      <td>0</td>\n",
       "      <td>0</td>\n",
       "      <td>0</td>\n",
       "      <td>0</td>\n",
       "      <td>0</td>\n",
       "      <td>0</td>\n",
       "      <td>0</td>\n",
       "      <td>0</td>\n",
       "    </tr>\n",
       "  </tbody>\n",
       "</table>\n",
       "<p>5 rows × 44 columns</p>\n",
       "</div>"
      ],
      "text/plain": [
       "     company              title  totalyearlycompensation  yearsofexperience  \\\n",
       "0     Google  Software Engineer                   400000                5.0   \n",
       "1  Microsoft  Software Engineer                   136000                3.0   \n",
       "2     Google  Software Engineer                   337000                6.0   \n",
       "3  Microsoft  Software Engineer                   222000                4.0   \n",
       "4      Blend  Software Engineer                   187000                5.0   \n",
       "\n",
       "   yearsatcompany  basesalary  stockgrantvalue    bonus gender  \\\n",
       "0             5.0    210000.0         145000.0  45000.0   Male   \n",
       "1             2.0    124000.0           1000.0  11000.0   Male   \n",
       "2             6.0    177000.0         125000.0  36000.0   Male   \n",
       "3             4.0    164000.0          38000.0  20000.0   Male   \n",
       "4             0.0    165000.0          22000.0      0.0   Male   \n",
       "\n",
       "   Masters_Degree  ...  Software Engineer_title  \\\n",
       "0               0  ...                        1   \n",
       "1               0  ...                        1   \n",
       "2               0  ...                        1   \n",
       "3               1  ...                        1   \n",
       "4               0  ...                        1   \n",
       "\n",
       "   Software Engineering Manager_title  Solution Architect_title  \\\n",
       "0                                   0                         0   \n",
       "1                                   0                         0   \n",
       "2                                   0                         0   \n",
       "3                                   0                         0   \n",
       "4                                   0                         0   \n",
       "\n",
       "   Technical Program Manager_title  Human Resources_title  \\\n",
       "0                                0                      0   \n",
       "1                                0                      0   \n",
       "2                                0                      0   \n",
       "3                                0                      0   \n",
       "4                                0                      0   \n",
       "\n",
       "   Product Manager_title  Business Analyst_title  Management Consultant_title  \\\n",
       "0                      0                       0                            0   \n",
       "1                      0                       0                            0   \n",
       "2                      0                       0                            0   \n",
       "3                      0                       0                            0   \n",
       "4                      0                       0                            0   \n",
       "\n",
       "   Data Scientist_title Hardware Engineer_title  \n",
       "0                     0                       0  \n",
       "1                     0                       0  \n",
       "2                     0                       0  \n",
       "3                     0                       0  \n",
       "4                     0                       0  \n",
       "\n",
       "[5 rows x 44 columns]"
      ]
     },
     "execution_count": 20,
     "metadata": {
     },
     "output_type": "execute_result"
    }
   ],
   "source": [
    "#df['Marketing_title'] = one_hot_encoded_df['title_Marketing']\n",
    "#df['Mechanical Engineer_title'] = one_hot_encoded_df['title_Mechanical Engineer']\n",
    "#df['Product Designer_title'] = one_hot_encoded_df['title_Product Designer']\n",
    "#df['Recruiter_title'] = one_hot_encoded_df['title_Recruiter']\n",
    "#df['Sales_title'] = one_hot_encoded_df['title_Sales']\n",
    "#df['Software Engineer_title'] = one_hot_encoded_df['title_Software Engineer']\n",
    "#df['Software Engineering Manager_title'] = one_hot_encoded_df['title_Software Engineering Manager']\n",
    "#df['Solution Architect_title'] = one_hot_encoded_df['title_Solution Architect']\n",
    "#df['Technical Program Manager_title'] = one_hot_encoded_df['title_Technical Program Manager']\n",
    "#df['Human Resources_title'] = one_hot_encoded_df['title_Human Resources']\n",
    "#df['Product Manager_title'] = one_hot_encoded_df['title_Product Manager']\n",
    "#df['Business Analyst_title'] = one_hot_encoded_df['title_Business Analyst']\n",
    "#df['Management Consultant_title'] = one_hot_encoded_df['title_Management Consultant']\n",
    "#df['Data Scientist_title'] = one_hot_encoded_df['title_Data Scientist']\n",
    "#df['Hardware Engineer_title'] = one_hot_encoded_df['title_Hardware Engineer']\n",
    "#df.head()"
   ]
  },
  {
   "cell_type": "code",
   "execution_count": 21,
   "metadata": {
    "collapsed": false
   },
   "outputs": [
    {
     "data": {
      "text/plain": [
       "Index(['company', 'title', 'totalyearlycompensation', 'yearsofexperience',\n",
       "       'yearsatcompany', 'basesalary', 'stockgrantvalue', 'bonus', 'gender',\n",
       "       'Masters_Degree', 'Bachelors_Degree', 'Doctorate_Degree', 'Highschool',\n",
       "       'Some_College', 'Race_Asian', 'Race_White', 'Race_Two_Or_More',\n",
       "       'Race_Black', 'Race_Hispanic', 'state', 'in_top_15', 'education',\n",
       "       'race', 'Female_gender', 'Male_gender', 'Other_Gender', 'state_NY',\n",
       "       'state_other', 'state_WA', 'Marketing_title',\n",
       "       'Mechanical Engineer_title', 'Product Designer_title',\n",
       "       'Recruiter_title', 'Sales_title', 'Software Engineer_title',\n",
       "       'Software Engineering Manager_title', 'Solution Architect_title',\n",
       "       'Technical Program Manager_title', 'Human Resources_title',\n",
       "       'Product Manager_title', 'Business Analyst_title',\n",
       "       'Management Consultant_title', 'Data Scientist_title',\n",
       "       'Hardware Engineer_title'],\n",
       "      dtype='object')"
      ]
     },
     "execution_count": 21,
     "metadata": {
     },
     "output_type": "execute_result"
    }
   ],
   "source": [
    "df.columns"
   ]
  },
  {
   "cell_type": "code",
   "execution_count": 22,
   "metadata": {
    "collapsed": false
   },
   "outputs": [
   ],
   "source": [
    "#df = df.drop(['gender'], axis = 1)"
   ]
  },
  {
   "cell_type": "code",
   "execution_count": 23,
   "metadata": {
    "collapsed": false
   },
   "outputs": [
   ],
   "source": [
    "#df = df.drop(['state'], axis = 1)"
   ]
  },
  {
   "cell_type": "code",
   "execution_count": 24,
   "metadata": {
    "collapsed": false
   },
   "outputs": [
   ],
   "source": [
    "#df = df.drop(['title'], axis = 1)"
   ]
  },
  {
   "cell_type": "code",
   "execution_count": 25,
   "metadata": {
    "collapsed": false
   },
   "outputs": [
   ],
   "source": [
    "#df = df.drop(['company'], axis = 1)"
   ]
  },
  {
   "cell_type": "code",
   "execution_count": 26,
   "metadata": {
    "collapsed": false
   },
   "outputs": [
   ],
   "source": [
    "#df = df.drop(['education'], axis = 1)"
   ]
  },
  {
   "cell_type": "code",
   "execution_count": 27,
   "metadata": {
    "collapsed": false
   },
   "outputs": [
   ],
   "source": [
    "#df = df.drop(['race'], axis = 1)"
   ]
  },
  {
   "cell_type": "code",
   "execution_count": 28,
   "metadata": {
    "collapsed": false
   },
   "outputs": [
    {
     "data": {
      "text/html": [
       "<div>\n",
       "<style scoped>\n",
       "    .dataframe tbody tr th:only-of-type {\n",
       "        vertical-align: middle;\n",
       "    }\n",
       "\n",
       "    .dataframe tbody tr th {\n",
       "        vertical-align: top;\n",
       "    }\n",
       "\n",
       "    .dataframe thead th {\n",
       "        text-align: right;\n",
       "    }\n",
       "</style>\n",
       "<table border=\"1\" class=\"dataframe\">\n",
       "  <thead>\n",
       "    <tr style=\"text-align: right;\">\n",
       "      <th></th>\n",
       "      <th>totalyearlycompensation</th>\n",
       "      <th>yearsofexperience</th>\n",
       "      <th>yearsatcompany</th>\n",
       "      <th>basesalary</th>\n",
       "      <th>stockgrantvalue</th>\n",
       "      <th>bonus</th>\n",
       "      <th>Masters_Degree</th>\n",
       "      <th>Bachelors_Degree</th>\n",
       "      <th>Doctorate_Degree</th>\n",
       "      <th>Highschool</th>\n",
       "      <th>...</th>\n",
       "      <th>Software Engineer_title</th>\n",
       "      <th>Software Engineering Manager_title</th>\n",
       "      <th>Solution Architect_title</th>\n",
       "      <th>Technical Program Manager_title</th>\n",
       "      <th>Human Resources_title</th>\n",
       "      <th>Product Manager_title</th>\n",
       "      <th>Business Analyst_title</th>\n",
       "      <th>Management Consultant_title</th>\n",
       "      <th>Data Scientist_title</th>\n",
       "      <th>Hardware Engineer_title</th>\n",
       "    </tr>\n",
       "  </thead>\n",
       "  <tbody>\n",
       "    <tr>\n",
       "      <th>0</th>\n",
       "      <td>400000</td>\n",
       "      <td>5.0</td>\n",
       "      <td>5.0</td>\n",
       "      <td>210000.0</td>\n",
       "      <td>145000.0</td>\n",
       "      <td>45000.0</td>\n",
       "      <td>0</td>\n",
       "      <td>0</td>\n",
       "      <td>1</td>\n",
       "      <td>0</td>\n",
       "      <td>...</td>\n",
       "      <td>1</td>\n",
       "      <td>0</td>\n",
       "      <td>0</td>\n",
       "      <td>0</td>\n",
       "      <td>0</td>\n",
       "      <td>0</td>\n",
       "      <td>0</td>\n",
       "      <td>0</td>\n",
       "      <td>0</td>\n",
       "      <td>0</td>\n",
       "    </tr>\n",
       "    <tr>\n",
       "      <th>1</th>\n",
       "      <td>136000</td>\n",
       "      <td>3.0</td>\n",
       "      <td>2.0</td>\n",
       "      <td>124000.0</td>\n",
       "      <td>1000.0</td>\n",
       "      <td>11000.0</td>\n",
       "      <td>0</td>\n",
       "      <td>1</td>\n",
       "      <td>0</td>\n",
       "      <td>0</td>\n",
       "      <td>...</td>\n",
       "      <td>1</td>\n",
       "      <td>0</td>\n",
       "      <td>0</td>\n",
       "      <td>0</td>\n",
       "      <td>0</td>\n",
       "      <td>0</td>\n",
       "      <td>0</td>\n",
       "      <td>0</td>\n",
       "      <td>0</td>\n",
       "      <td>0</td>\n",
       "    </tr>\n",
       "    <tr>\n",
       "      <th>2</th>\n",
       "      <td>337000</td>\n",
       "      <td>6.0</td>\n",
       "      <td>6.0</td>\n",
       "      <td>177000.0</td>\n",
       "      <td>125000.0</td>\n",
       "      <td>36000.0</td>\n",
       "      <td>0</td>\n",
       "      <td>1</td>\n",
       "      <td>0</td>\n",
       "      <td>0</td>\n",
       "      <td>...</td>\n",
       "      <td>1</td>\n",
       "      <td>0</td>\n",
       "      <td>0</td>\n",
       "      <td>0</td>\n",
       "      <td>0</td>\n",
       "      <td>0</td>\n",
       "      <td>0</td>\n",
       "      <td>0</td>\n",
       "      <td>0</td>\n",
       "      <td>0</td>\n",
       "    </tr>\n",
       "    <tr>\n",
       "      <th>3</th>\n",
       "      <td>222000</td>\n",
       "      <td>4.0</td>\n",
       "      <td>4.0</td>\n",
       "      <td>164000.0</td>\n",
       "      <td>38000.0</td>\n",
       "      <td>20000.0</td>\n",
       "      <td>1</td>\n",
       "      <td>0</td>\n",
       "      <td>0</td>\n",
       "      <td>0</td>\n",
       "      <td>...</td>\n",
       "      <td>1</td>\n",
       "      <td>0</td>\n",
       "      <td>0</td>\n",
       "      <td>0</td>\n",
       "      <td>0</td>\n",
       "      <td>0</td>\n",
       "      <td>0</td>\n",
       "      <td>0</td>\n",
       "      <td>0</td>\n",
       "      <td>0</td>\n",
       "    </tr>\n",
       "    <tr>\n",
       "      <th>4</th>\n",
       "      <td>187000</td>\n",
       "      <td>5.0</td>\n",
       "      <td>0.0</td>\n",
       "      <td>165000.0</td>\n",
       "      <td>22000.0</td>\n",
       "      <td>0.0</td>\n",
       "      <td>0</td>\n",
       "      <td>1</td>\n",
       "      <td>0</td>\n",
       "      <td>0</td>\n",
       "      <td>...</td>\n",
       "      <td>1</td>\n",
       "      <td>0</td>\n",
       "      <td>0</td>\n",
       "      <td>0</td>\n",
       "      <td>0</td>\n",
       "      <td>0</td>\n",
       "      <td>0</td>\n",
       "      <td>0</td>\n",
       "      <td>0</td>\n",
       "      <td>0</td>\n",
       "    </tr>\n",
       "  </tbody>\n",
       "</table>\n",
       "<p>5 rows × 38 columns</p>\n",
       "</div>"
      ],
      "text/plain": [
       "   totalyearlycompensation  yearsofexperience  yearsatcompany  basesalary  \\\n",
       "0                   400000                5.0             5.0    210000.0   \n",
       "1                   136000                3.0             2.0    124000.0   \n",
       "2                   337000                6.0             6.0    177000.0   \n",
       "3                   222000                4.0             4.0    164000.0   \n",
       "4                   187000                5.0             0.0    165000.0   \n",
       "\n",
       "   stockgrantvalue    bonus  Masters_Degree  Bachelors_Degree  \\\n",
       "0         145000.0  45000.0               0                 0   \n",
       "1           1000.0  11000.0               0                 1   \n",
       "2         125000.0  36000.0               0                 1   \n",
       "3          38000.0  20000.0               1                 0   \n",
       "4          22000.0      0.0               0                 1   \n",
       "\n",
       "   Doctorate_Degree  Highschool  ...  Software Engineer_title  \\\n",
       "0                 1           0  ...                        1   \n",
       "1                 0           0  ...                        1   \n",
       "2                 0           0  ...                        1   \n",
       "3                 0           0  ...                        1   \n",
       "4                 0           0  ...                        1   \n",
       "\n",
       "   Software Engineering Manager_title  Solution Architect_title  \\\n",
       "0                                   0                         0   \n",
       "1                                   0                         0   \n",
       "2                                   0                         0   \n",
       "3                                   0                         0   \n",
       "4                                   0                         0   \n",
       "\n",
       "   Technical Program Manager_title  Human Resources_title  \\\n",
       "0                                0                      0   \n",
       "1                                0                      0   \n",
       "2                                0                      0   \n",
       "3                                0                      0   \n",
       "4                                0                      0   \n",
       "\n",
       "   Product Manager_title  Business Analyst_title  Management Consultant_title  \\\n",
       "0                      0                       0                            0   \n",
       "1                      0                       0                            0   \n",
       "2                      0                       0                            0   \n",
       "3                      0                       0                            0   \n",
       "4                      0                       0                            0   \n",
       "\n",
       "   Data Scientist_title  Hardware Engineer_title  \n",
       "0                     0                        0  \n",
       "1                     0                        0  \n",
       "2                     0                        0  \n",
       "3                     0                        0  \n",
       "4                     0                        0  \n",
       "\n",
       "[5 rows x 38 columns]"
      ]
     },
     "execution_count": 28,
     "metadata": {
     },
     "output_type": "execute_result"
    }
   ],
   "source": [
    "#df.head()"
   ]
  },
  {
   "cell_type": "code",
   "execution_count": 29,
   "metadata": {
    "collapsed": false
   },
   "outputs": [
   ],
   "source": [
    "def findfillerdata(filler):\n",
    "    if filler == None:\n",
    "        return 'sorry no data found'\n",
    "    else:\n",
    "        return filler"
   ]
  },
  {
   "cell_type": "code",
   "execution_count": 30,
   "metadata": {
    "collapsed": false
   },
   "outputs": [
   ],
   "source": [
    "#Making Predictions"
   ]
  },
  {
   "cell_type": "code",
   "execution_count": 31,
   "metadata": {
    "collapsed": false
   },
   "outputs": [
   ],
   "source": [
    "#splitting our data\n",
    "import sklearn\n",
    "from sklearn.model_selection import train_test_split\n",
    "x = df.loc[:, df.columns !=  'totalyearlycompensation']\n",
    "y = df.totalyearlycompensation"
   ]
  },
  {
   "cell_type": "code",
   "execution_count": 32,
   "metadata": {
    "collapsed": false
   },
   "outputs": [
   ],
   "source": [
    "x_train, x_test, y_train, y_test = train_test_split(x, y, random_state=42)"
   ]
  },
  {
   "cell_type": "code",
   "execution_count": 33,
   "metadata": {
    "collapsed": false
   },
   "outputs": [
   ],
   "source": [
    "#Nearest Neighbors Regression\n",
    "from sklearn.neighbors import KNeighborsRegressor\n",
    "neigh = KNeighborsRegressor()"
   ]
  },
  {
   "cell_type": "code",
   "execution_count": 34,
   "metadata": {
    "collapsed": false
   },
   "outputs": [
    {
     "data": {
      "text/plain": [
       "Index(['totalyearlycompensation', 'yearsofexperience', 'yearsatcompany',\n",
       "       'basesalary', 'stockgrantvalue', 'bonus', 'Masters_Degree',\n",
       "       'Bachelors_Degree', 'Doctorate_Degree', 'Highschool', 'Some_College',\n",
       "       'Race_Asian', 'Race_White', 'Race_Two_Or_More', 'Race_Black',\n",
       "       'Race_Hispanic', 'in_top_15', 'Female_gender', 'Male_gender',\n",
       "       'Other_Gender', 'state_NY', 'state_other', 'state_WA',\n",
       "       'Marketing_title', 'Mechanical Engineer_title',\n",
       "       'Product Designer_title', 'Recruiter_title', 'Sales_title',\n",
       "       'Software Engineer_title', 'Software Engineering Manager_title',\n",
       "       'Solution Architect_title', 'Technical Program Manager_title',\n",
       "       'Human Resources_title', 'Product Manager_title',\n",
       "       'Business Analyst_title', 'Management Consultant_title',\n",
       "       'Data Scientist_title', 'Hardware Engineer_title'],\n",
       "      dtype='object')"
      ]
     },
     "execution_count": 34,
     "metadata": {
     },
     "output_type": "execute_result"
    }
   ],
   "source": [
    "df.columns"
   ]
  },
  {
   "cell_type": "code",
   "execution_count": 35,
   "metadata": {
    "collapsed": false
   },
   "outputs": [
    {
     "data": {
      "text/html": [
       "<style>#sk-container-id-1 {color: black;background-color: white;}#sk-container-id-1 pre{padding: 0;}#sk-container-id-1 div.sk-toggleable {background-color: white;}#sk-container-id-1 label.sk-toggleable__label {cursor: pointer;display: block;width: 100%;margin-bottom: 0;padding: 0.3em;box-sizing: border-box;text-align: center;}#sk-container-id-1 label.sk-toggleable__label-arrow:before {content: \"▸\";float: left;margin-right: 0.25em;color: #696969;}#sk-container-id-1 label.sk-toggleable__label-arrow:hover:before {color: black;}#sk-container-id-1 div.sk-estimator:hover label.sk-toggleable__label-arrow:before {color: black;}#sk-container-id-1 div.sk-toggleable__content {max-height: 0;max-width: 0;overflow: hidden;text-align: left;background-color: #f0f8ff;}#sk-container-id-1 div.sk-toggleable__content pre {margin: 0.2em;color: black;border-radius: 0.25em;background-color: #f0f8ff;}#sk-container-id-1 input.sk-toggleable__control:checked~div.sk-toggleable__content {max-height: 200px;max-width: 100%;overflow: auto;}#sk-container-id-1 input.sk-toggleable__control:checked~label.sk-toggleable__label-arrow:before {content: \"▾\";}#sk-container-id-1 div.sk-estimator input.sk-toggleable__control:checked~label.sk-toggleable__label {background-color: #d4ebff;}#sk-container-id-1 div.sk-label input.sk-toggleable__control:checked~label.sk-toggleable__label {background-color: #d4ebff;}#sk-container-id-1 input.sk-hidden--visually {border: 0;clip: rect(1px 1px 1px 1px);clip: rect(1px, 1px, 1px, 1px);height: 1px;margin: -1px;overflow: hidden;padding: 0;position: absolute;width: 1px;}#sk-container-id-1 div.sk-estimator {font-family: monospace;background-color: #f0f8ff;border: 1px dotted black;border-radius: 0.25em;box-sizing: border-box;margin-bottom: 0.5em;}#sk-container-id-1 div.sk-estimator:hover {background-color: #d4ebff;}#sk-container-id-1 div.sk-parallel-item::after {content: \"\";width: 100%;border-bottom: 1px solid gray;flex-grow: 1;}#sk-container-id-1 div.sk-label:hover label.sk-toggleable__label {background-color: #d4ebff;}#sk-container-id-1 div.sk-serial::before {content: \"\";position: absolute;border-left: 1px solid gray;box-sizing: border-box;top: 0;bottom: 0;left: 50%;z-index: 0;}#sk-container-id-1 div.sk-serial {display: flex;flex-direction: column;align-items: center;background-color: white;padding-right: 0.2em;padding-left: 0.2em;position: relative;}#sk-container-id-1 div.sk-item {position: relative;z-index: 1;}#sk-container-id-1 div.sk-parallel {display: flex;align-items: stretch;justify-content: center;background-color: white;position: relative;}#sk-container-id-1 div.sk-item::before, #sk-container-id-1 div.sk-parallel-item::before {content: \"\";position: absolute;border-left: 1px solid gray;box-sizing: border-box;top: 0;bottom: 0;left: 50%;z-index: -1;}#sk-container-id-1 div.sk-parallel-item {display: flex;flex-direction: column;z-index: 1;position: relative;background-color: white;}#sk-container-id-1 div.sk-parallel-item:first-child::after {align-self: flex-end;width: 50%;}#sk-container-id-1 div.sk-parallel-item:last-child::after {align-self: flex-start;width: 50%;}#sk-container-id-1 div.sk-parallel-item:only-child::after {width: 0;}#sk-container-id-1 div.sk-dashed-wrapped {border: 1px dashed gray;margin: 0 0.4em 0.5em 0.4em;box-sizing: border-box;padding-bottom: 0.4em;background-color: white;}#sk-container-id-1 div.sk-label label {font-family: monospace;font-weight: bold;display: inline-block;line-height: 1.2em;}#sk-container-id-1 div.sk-label-container {text-align: center;}#sk-container-id-1 div.sk-container {/* jupyter's `normalize.less` sets `[hidden] { display: none; }` but bootstrap.min.css set `[hidden] { display: none !important; }` so we also need the `!important` here to be able to override the default hidden behavior on the sphinx rendered scikit-learn.org. See: https://github.com/scikit-learn/scikit-learn/issues/21755 */display: inline-block !important;position: relative;}#sk-container-id-1 div.sk-text-repr-fallback {display: none;}</style><div id=\"sk-container-id-1\" class=\"sk-top-container\"><div class=\"sk-text-repr-fallback\"><pre>KNeighborsRegressor()</pre><b>In a Jupyter environment, please rerun this cell to show the HTML representation or trust the notebook. <br />On GitHub, the HTML representation is unable to render, please try loading this page with nbviewer.org.</b></div><div class=\"sk-container\" hidden><div class=\"sk-item\"><div class=\"sk-estimator sk-toggleable\"><input class=\"sk-toggleable__control sk-hidden--visually\" id=\"sk-estimator-id-1\" type=\"checkbox\" checked><label for=\"sk-estimator-id-1\" class=\"sk-toggleable__label sk-toggleable__label-arrow\">KNeighborsRegressor</label><div class=\"sk-toggleable__content\"><pre>KNeighborsRegressor()</pre></div></div></div></div></div>"
      ],
      "text/plain": [
       "KNeighborsRegressor()"
      ]
     },
     "execution_count": 35,
     "metadata": {
     },
     "output_type": "execute_result"
    }
   ],
   "source": [
    "#neigh.fit(x_train, y_train)"
   ]
  },
  {
   "cell_type": "code",
   "execution_count": 36,
   "metadata": {
    "collapsed": false
   },
   "outputs": [
    {
     "data": {
      "text/plain": [
       "array([139800., 140800., 200000., ...,  80400., 102800., 115000.])"
      ]
     },
     "execution_count": 36,
     "metadata": {
     },
     "output_type": "execute_result"
    }
   ],
   "source": [
    "y_hat = neigh.predict(x_test)\n",
    "#y_hat"
   ]
  },
  {
   "cell_type": "code",
   "execution_count": 37,
   "metadata": {
    "collapsed": false
   },
   "outputs": [
    {
     "data": {
      "text/plain": [
       "array([140000, 140000, 200000, ...,  81000, 103000, 115000])"
      ]
     },
     "execution_count": 37,
     "metadata": {
     },
     "output_type": "execute_result"
    }
   ],
   "source": [
    "#np.array(y_test) #these are what actually happened for our x_test inputs."
   ]
  },
  {
   "cell_type": "code",
   "execution_count": 38,
   "metadata": {
    "collapsed": false
   },
   "outputs": [
    {
     "name": "stdout",
     "output_type": "stream",
     "text": [
      "1458506587.6250463\n"
     ]
    }
   ],
   "source": [
    "#Find MSE\n",
    "#total_squared_error = (np.sum((y_test - y_hat)**2)) #get the sum of all the errors (error = what we want (y_test) - what we predicted (y_hat))\n",
    "#mean_squared_error = total_squared_error/len(y_test) #divide this by how many rows/observations we have \n",
    "#print(mean_squared_error)"
   ]
  },
  {
   "cell_type": "code",
   "execution_count": 39,
   "metadata": {
    "collapsed": false
   },
   "outputs": [
    {
     "data": {
      "text/plain": [
       "0.9132564901893574"
      ]
     },
     "execution_count": 39,
     "metadata": {
     },
     "output_type": "execute_result"
    }
   ],
   "source": [
    "#neigh.score(x_test, y_test)"
   ]
  },
  {
   "cell_type": "code",
   "execution_count": 40,
   "metadata": {
    "collapsed": false
   },
   "outputs": [
    {
     "data": {
      "text/plain": [
       "totalyearlycompensation                 136000\n",
       "yearsofexperience                          3.0\n",
       "yearsatcompany                             2.0\n",
       "basesalary                            124000.0\n",
       "stockgrantvalue                         1000.0\n",
       "bonus                                  11000.0\n",
       "Masters_Degree                               0\n",
       "Bachelors_Degree                             1\n",
       "Doctorate_Degree                             0\n",
       "Highschool                                   0\n",
       "Some_College                                 0\n",
       "Race_Asian                                   0\n",
       "Race_White                                   0\n",
       "Race_Two_Or_More                             1\n",
       "Race_Black                                   0\n",
       "Race_Hispanic                                0\n",
       "in_top_15                                 True\n",
       "Female_gender                                0\n",
       "Male_gender                                  1\n",
       "Other_Gender                                 0\n",
       "state_NY                                     0\n",
       "state_other                                  0\n",
       "state_WA                                     1\n",
       "Marketing_title                              0\n",
       "Mechanical Engineer_title                    0\n",
       "Product Designer_title                       0\n",
       "Recruiter_title                              0\n",
       "Sales_title                                  0\n",
       "Software Engineer_title                      1\n",
       "Software Engineering Manager_title           0\n",
       "Solution Architect_title                     0\n",
       "Technical Program Manager_title              0\n",
       "Human Resources_title                        0\n",
       "Product Manager_title                        0\n",
       "Business Analyst_title                       0\n",
       "Management Consultant_title                  0\n",
       "Data Scientist_title                         0\n",
       "Hardware Engineer_title                      0\n",
       "Name: 1, dtype: object"
      ]
     },
     "execution_count": 40,
     "metadata": {
     },
     "output_type": "execute_result"
    }
   ],
   "source": [
    "df.loc[1]"
   ]
  },
  {
   "cell_type": "code",
   "execution_count": 0,
   "metadata": {
    "collapsed": false
   },
   "outputs": [
   ],
   "source": [
    "mlb = MultiLabelBinarizer()\n",
    "mlb.fit_transform(df[\"Color (Category)\"].str.split(\",\")) #what would u put instead of color tho?  \n",
    "#So I think we should undo the previous on hot encoding..."
   ]
  },
  {
   "cell_type": "code",
   "execution_count": 48,
   "metadata": {
    "collapsed": false
   },
   "outputs": [
    {
     "ename": "SyntaxError",
     "evalue": "invalid syntax (4016238442.py, line 1)",
     "output_type": "error",
     "traceback": [
      "\u001b[0;36m  Input \u001b[0;32mIn [48]\u001b[0;36m\u001b[0m\n\u001b[0;31m    def prediction(df.iloc[1]):\u001b[0m\n\u001b[0m                     ^\u001b[0m\n\u001b[0;31mSyntaxError\u001b[0m\u001b[0;31m:\u001b[0m invalid syntax\n"
     ]
    }
   ],
   "source": [
    "def prediction():"
   ]
  },
  {
   "cell_type": "code",
   "execution_count": 0,
   "metadata": {
    "collapsed": false
   },
   "outputs": [
   ],
   "source": [
   ]
  }
 ],
 "metadata": {
  "kernelspec": {
   "display_name": "Python (ds_env)",
   "language": "python",
   "metadata": {
    "debugger": true
   },
   "name": "ds_env",
   "resource_dir": "/projects/0bcf82e6-7441-4432-a339-19b67c22cc5c/.local/share/jupyter/kernels/ds_env"
  },
  "language_info": {
   "codemirror_mode": {
    "name": "ipython",
    "version": 3
   },
   "file_extension": ".py",
   "mimetype": "text/x-python",
   "name": "python",
   "nbconvert_exporter": "python",
   "pygments_lexer": "ipython3",
   "version": "3.8.13"
  }
 },
 "nbformat": 4,
 "nbformat_minor": 4
}