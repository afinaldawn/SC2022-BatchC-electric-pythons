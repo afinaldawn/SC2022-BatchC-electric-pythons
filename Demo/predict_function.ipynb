{
 "cells": [
  {
   "cell_type": "code",
   "execution_count": 202,
   "metadata": {
    "collapsed": false
   },
   "outputs": [
   ],
   "source": [
    "import pandas as pd\n",
    "import numpy as np\n",
    "from sklearn.compose import ColumnTransformer\n",
    "from sklearn.pipeline import Pipeline\n",
    "from sklearn.preprocessing import StandardScaler, OneHotEncoder\n",
    "from sklearn.model_selection import train_test_split, GridSearchCV\n",
    "from sklearn.neighbors import KNeighborsRegressor\n",
    "from sklearn.impute import SimpleImputer\n",
    "from sklearn.preprocessing import FunctionTransformer"
   ]
  },
  {
   "cell_type": "code",
   "execution_count": 203,
   "metadata": {
    "collapsed": false
   },
   "outputs": [
   ],
   "source": [
    "df = pd.read_csv('cleaned_data.csv')\n",
    "df.drop(['Unnamed: 0', 'company', 'education', 'race'], axis = 1, inplace = True)"
   ]
  },
  {
   "cell_type": "code",
   "execution_count": 204,
   "metadata": {
    "collapsed": false
   },
   "outputs": [
   ],
   "source": [
    "numeric_features = ['yearsofexperience',\n",
    "       'yearsatcompany', 'basesalary', 'stockgrantvalue', 'bonus',\n",
    "       'Masters_Degree', 'Bachelors_Degree', 'Doctorate_Degree', 'Highschool',\n",
    "       'Some_College', 'Race_Asian', 'Race_White', 'Race_Two_Or_More',\n",
    "       'Race_Black', 'Race_Hispanic', 'in_top_15']\n",
    "numeric_transformer = FunctionTransformer(np.square)"
   ]
  },
  {
   "cell_type": "code",
   "execution_count": 205,
   "metadata": {
    "collapsed": false
   },
   "outputs": [
   ],
   "source": [
    "categorical_features = [\"title\", \"gender\", \"state\"]\n",
    "categorical_transformer = OneHotEncoder(handle_unknown=\"ignore\")"
   ]
  },
  {
   "cell_type": "code",
   "execution_count": 206,
   "metadata": {
    "collapsed": false
   },
   "outputs": [
   ],
   "source": [
    "preprocessor = ColumnTransformer(\n",
    "    transformers=[\n",
    "        (\"num\", numeric_transformer, numeric_features),\n",
    "        (\"cat\", categorical_transformer, categorical_features)\n",
    "    ]\n",
    ")"
   ]
  },
  {
   "cell_type": "code",
   "execution_count": 207,
   "metadata": {
    "collapsed": false
   },
   "outputs": [
   ],
   "source": [
    "clf = Pipeline(\n",
    "    steps=[(\"preprocessor\", preprocessor), (\"classifier\", KNeighborsRegressor())]\n",
    ")"
   ]
  },
  {
   "cell_type": "code",
   "execution_count": 208,
   "metadata": {
    "collapsed": false
   },
   "outputs": [
   ],
   "source": [
    "X = df.loc[:, (df.columns != \"totalyearlycompensation\")]\n",
    "y = df.totalyearlycompensation\n",
    "X_train, X_test, y_train, y_test = train_test_split(X, y, test_size=0.2, random_state=42)"
   ]
  },
  {
   "cell_type": "code",
   "execution_count": 209,
   "metadata": {
    "collapsed": false
   },
   "outputs": [
    {
     "data": {
      "text/html": [
       "<style>#sk-container-id-13 {color: black;background-color: white;}#sk-container-id-13 pre{padding: 0;}#sk-container-id-13 div.sk-toggleable {background-color: white;}#sk-container-id-13 label.sk-toggleable__label {cursor: pointer;display: block;width: 100%;margin-bottom: 0;padding: 0.3em;box-sizing: border-box;text-align: center;}#sk-container-id-13 label.sk-toggleable__label-arrow:before {content: \"▸\";float: left;margin-right: 0.25em;color: #696969;}#sk-container-id-13 label.sk-toggleable__label-arrow:hover:before {color: black;}#sk-container-id-13 div.sk-estimator:hover label.sk-toggleable__label-arrow:before {color: black;}#sk-container-id-13 div.sk-toggleable__content {max-height: 0;max-width: 0;overflow: hidden;text-align: left;background-color: #f0f8ff;}#sk-container-id-13 div.sk-toggleable__content pre {margin: 0.2em;color: black;border-radius: 0.25em;background-color: #f0f8ff;}#sk-container-id-13 input.sk-toggleable__control:checked~div.sk-toggleable__content {max-height: 200px;max-width: 100%;overflow: auto;}#sk-container-id-13 input.sk-toggleable__control:checked~label.sk-toggleable__label-arrow:before {content: \"▾\";}#sk-container-id-13 div.sk-estimator input.sk-toggleable__control:checked~label.sk-toggleable__label {background-color: #d4ebff;}#sk-container-id-13 div.sk-label input.sk-toggleable__control:checked~label.sk-toggleable__label {background-color: #d4ebff;}#sk-container-id-13 input.sk-hidden--visually {border: 0;clip: rect(1px 1px 1px 1px);clip: rect(1px, 1px, 1px, 1px);height: 1px;margin: -1px;overflow: hidden;padding: 0;position: absolute;width: 1px;}#sk-container-id-13 div.sk-estimator {font-family: monospace;background-color: #f0f8ff;border: 1px dotted black;border-radius: 0.25em;box-sizing: border-box;margin-bottom: 0.5em;}#sk-container-id-13 div.sk-estimator:hover {background-color: #d4ebff;}#sk-container-id-13 div.sk-parallel-item::after {content: \"\";width: 100%;border-bottom: 1px solid gray;flex-grow: 1;}#sk-container-id-13 div.sk-label:hover label.sk-toggleable__label {background-color: #d4ebff;}#sk-container-id-13 div.sk-serial::before {content: \"\";position: absolute;border-left: 1px solid gray;box-sizing: border-box;top: 0;bottom: 0;left: 50%;z-index: 0;}#sk-container-id-13 div.sk-serial {display: flex;flex-direction: column;align-items: center;background-color: white;padding-right: 0.2em;padding-left: 0.2em;position: relative;}#sk-container-id-13 div.sk-item {position: relative;z-index: 1;}#sk-container-id-13 div.sk-parallel {display: flex;align-items: stretch;justify-content: center;background-color: white;position: relative;}#sk-container-id-13 div.sk-item::before, #sk-container-id-13 div.sk-parallel-item::before {content: \"\";position: absolute;border-left: 1px solid gray;box-sizing: border-box;top: 0;bottom: 0;left: 50%;z-index: -1;}#sk-container-id-13 div.sk-parallel-item {display: flex;flex-direction: column;z-index: 1;position: relative;background-color: white;}#sk-container-id-13 div.sk-parallel-item:first-child::after {align-self: flex-end;width: 50%;}#sk-container-id-13 div.sk-parallel-item:last-child::after {align-self: flex-start;width: 50%;}#sk-container-id-13 div.sk-parallel-item:only-child::after {width: 0;}#sk-container-id-13 div.sk-dashed-wrapped {border: 1px dashed gray;margin: 0 0.4em 0.5em 0.4em;box-sizing: border-box;padding-bottom: 0.4em;background-color: white;}#sk-container-id-13 div.sk-label label {font-family: monospace;font-weight: bold;display: inline-block;line-height: 1.2em;}#sk-container-id-13 div.sk-label-container {text-align: center;}#sk-container-id-13 div.sk-container {/* jupyter's `normalize.less` sets `[hidden] { display: none; }` but bootstrap.min.css set `[hidden] { display: none !important; }` so we also need the `!important` here to be able to override the default hidden behavior on the sphinx rendered scikit-learn.org. See: https://github.com/scikit-learn/scikit-learn/issues/21755 */display: inline-block !important;position: relative;}#sk-container-id-13 div.sk-text-repr-fallback {display: none;}</style><div id=\"sk-container-id-13\" class=\"sk-top-container\"><div class=\"sk-text-repr-fallback\"><pre>Pipeline(steps=[(&#x27;preprocessor&#x27;,\n",
       "                 ColumnTransformer(transformers=[(&#x27;num&#x27;,\n",
       "                                                  FunctionTransformer(func=&lt;ufunc &#x27;square&#x27;&gt;),\n",
       "                                                  [&#x27;yearsofexperience&#x27;,\n",
       "                                                   &#x27;yearsatcompany&#x27;,\n",
       "                                                   &#x27;basesalary&#x27;,\n",
       "                                                   &#x27;stockgrantvalue&#x27;, &#x27;bonus&#x27;,\n",
       "                                                   &#x27;Masters_Degree&#x27;,\n",
       "                                                   &#x27;Bachelors_Degree&#x27;,\n",
       "                                                   &#x27;Doctorate_Degree&#x27;,\n",
       "                                                   &#x27;Highschool&#x27;, &#x27;Some_College&#x27;,\n",
       "                                                   &#x27;Race_Asian&#x27;, &#x27;Race_White&#x27;,\n",
       "                                                   &#x27;Race_Two_Or_More&#x27;,\n",
       "                                                   &#x27;Race_Black&#x27;,\n",
       "                                                   &#x27;Race_Hispanic&#x27;,\n",
       "                                                   &#x27;in_top_15&#x27;]),\n",
       "                                                 (&#x27;cat&#x27;,\n",
       "                                                  OneHotEncoder(handle_unknown=&#x27;ignore&#x27;),\n",
       "                                                  [&#x27;title&#x27;, &#x27;gender&#x27;,\n",
       "                                                   &#x27;state&#x27;])])),\n",
       "                (&#x27;classifier&#x27;, KNeighborsRegressor())])</pre><b>In a Jupyter environment, please rerun this cell to show the HTML representation or trust the notebook. <br />On GitHub, the HTML representation is unable to render, please try loading this page with nbviewer.org.</b></div><div class=\"sk-container\" hidden><div class=\"sk-item sk-dashed-wrapped\"><div class=\"sk-label-container\"><div class=\"sk-label sk-toggleable\"><input class=\"sk-toggleable__control sk-hidden--visually\" id=\"sk-estimator-id-74\" type=\"checkbox\" ><label for=\"sk-estimator-id-74\" class=\"sk-toggleable__label sk-toggleable__label-arrow\">Pipeline</label><div class=\"sk-toggleable__content\"><pre>Pipeline(steps=[(&#x27;preprocessor&#x27;,\n",
       "                 ColumnTransformer(transformers=[(&#x27;num&#x27;,\n",
       "                                                  FunctionTransformer(func=&lt;ufunc &#x27;square&#x27;&gt;),\n",
       "                                                  [&#x27;yearsofexperience&#x27;,\n",
       "                                                   &#x27;yearsatcompany&#x27;,\n",
       "                                                   &#x27;basesalary&#x27;,\n",
       "                                                   &#x27;stockgrantvalue&#x27;, &#x27;bonus&#x27;,\n",
       "                                                   &#x27;Masters_Degree&#x27;,\n",
       "                                                   &#x27;Bachelors_Degree&#x27;,\n",
       "                                                   &#x27;Doctorate_Degree&#x27;,\n",
       "                                                   &#x27;Highschool&#x27;, &#x27;Some_College&#x27;,\n",
       "                                                   &#x27;Race_Asian&#x27;, &#x27;Race_White&#x27;,\n",
       "                                                   &#x27;Race_Two_Or_More&#x27;,\n",
       "                                                   &#x27;Race_Black&#x27;,\n",
       "                                                   &#x27;Race_Hispanic&#x27;,\n",
       "                                                   &#x27;in_top_15&#x27;]),\n",
       "                                                 (&#x27;cat&#x27;,\n",
       "                                                  OneHotEncoder(handle_unknown=&#x27;ignore&#x27;),\n",
       "                                                  [&#x27;title&#x27;, &#x27;gender&#x27;,\n",
       "                                                   &#x27;state&#x27;])])),\n",
       "                (&#x27;classifier&#x27;, KNeighborsRegressor())])</pre></div></div></div><div class=\"sk-serial\"><div class=\"sk-item sk-dashed-wrapped\"><div class=\"sk-label-container\"><div class=\"sk-label sk-toggleable\"><input class=\"sk-toggleable__control sk-hidden--visually\" id=\"sk-estimator-id-75\" type=\"checkbox\" ><label for=\"sk-estimator-id-75\" class=\"sk-toggleable__label sk-toggleable__label-arrow\">preprocessor: ColumnTransformer</label><div class=\"sk-toggleable__content\"><pre>ColumnTransformer(transformers=[(&#x27;num&#x27;,\n",
       "                                 FunctionTransformer(func=&lt;ufunc &#x27;square&#x27;&gt;),\n",
       "                                 [&#x27;yearsofexperience&#x27;, &#x27;yearsatcompany&#x27;,\n",
       "                                  &#x27;basesalary&#x27;, &#x27;stockgrantvalue&#x27;, &#x27;bonus&#x27;,\n",
       "                                  &#x27;Masters_Degree&#x27;, &#x27;Bachelors_Degree&#x27;,\n",
       "                                  &#x27;Doctorate_Degree&#x27;, &#x27;Highschool&#x27;,\n",
       "                                  &#x27;Some_College&#x27;, &#x27;Race_Asian&#x27;, &#x27;Race_White&#x27;,\n",
       "                                  &#x27;Race_Two_Or_More&#x27;, &#x27;Race_Black&#x27;,\n",
       "                                  &#x27;Race_Hispanic&#x27;, &#x27;in_top_15&#x27;]),\n",
       "                                (&#x27;cat&#x27;, OneHotEncoder(handle_unknown=&#x27;ignore&#x27;),\n",
       "                                 [&#x27;title&#x27;, &#x27;gender&#x27;, &#x27;state&#x27;])])</pre></div></div></div><div class=\"sk-parallel\"><div class=\"sk-parallel-item\"><div class=\"sk-item\"><div class=\"sk-label-container\"><div class=\"sk-label sk-toggleable\"><input class=\"sk-toggleable__control sk-hidden--visually\" id=\"sk-estimator-id-76\" type=\"checkbox\" ><label for=\"sk-estimator-id-76\" class=\"sk-toggleable__label sk-toggleable__label-arrow\">num</label><div class=\"sk-toggleable__content\"><pre>[&#x27;yearsofexperience&#x27;, &#x27;yearsatcompany&#x27;, &#x27;basesalary&#x27;, &#x27;stockgrantvalue&#x27;, &#x27;bonus&#x27;, &#x27;Masters_Degree&#x27;, &#x27;Bachelors_Degree&#x27;, &#x27;Doctorate_Degree&#x27;, &#x27;Highschool&#x27;, &#x27;Some_College&#x27;, &#x27;Race_Asian&#x27;, &#x27;Race_White&#x27;, &#x27;Race_Two_Or_More&#x27;, &#x27;Race_Black&#x27;, &#x27;Race_Hispanic&#x27;, &#x27;in_top_15&#x27;]</pre></div></div></div><div class=\"sk-serial\"><div class=\"sk-item\"><div class=\"sk-estimator sk-toggleable\"><input class=\"sk-toggleable__control sk-hidden--visually\" id=\"sk-estimator-id-77\" type=\"checkbox\" ><label for=\"sk-estimator-id-77\" class=\"sk-toggleable__label sk-toggleable__label-arrow\">FunctionTransformer</label><div class=\"sk-toggleable__content\"><pre>FunctionTransformer(func=&lt;ufunc &#x27;square&#x27;&gt;)</pre></div></div></div></div></div></div><div class=\"sk-parallel-item\"><div class=\"sk-item\"><div class=\"sk-label-container\"><div class=\"sk-label sk-toggleable\"><input class=\"sk-toggleable__control sk-hidden--visually\" id=\"sk-estimator-id-78\" type=\"checkbox\" ><label for=\"sk-estimator-id-78\" class=\"sk-toggleable__label sk-toggleable__label-arrow\">cat</label><div class=\"sk-toggleable__content\"><pre>[&#x27;title&#x27;, &#x27;gender&#x27;, &#x27;state&#x27;]</pre></div></div></div><div class=\"sk-serial\"><div class=\"sk-item\"><div class=\"sk-estimator sk-toggleable\"><input class=\"sk-toggleable__control sk-hidden--visually\" id=\"sk-estimator-id-79\" type=\"checkbox\" ><label for=\"sk-estimator-id-79\" class=\"sk-toggleable__label sk-toggleable__label-arrow\">OneHotEncoder</label><div class=\"sk-toggleable__content\"><pre>OneHotEncoder(handle_unknown=&#x27;ignore&#x27;)</pre></div></div></div></div></div></div></div></div><div class=\"sk-item\"><div class=\"sk-estimator sk-toggleable\"><input class=\"sk-toggleable__control sk-hidden--visually\" id=\"sk-estimator-id-80\" type=\"checkbox\" ><label for=\"sk-estimator-id-80\" class=\"sk-toggleable__label sk-toggleable__label-arrow\">KNeighborsRegressor</label><div class=\"sk-toggleable__content\"><pre>KNeighborsRegressor()</pre></div></div></div></div></div></div></div>"
      ],
      "text/plain": [
       "Pipeline(steps=[('preprocessor',\n",
       "                 ColumnTransformer(transformers=[('num',\n",
       "                                                  FunctionTransformer(func=<ufunc 'square'>),\n",
       "                                                  ['yearsofexperience',\n",
       "                                                   'yearsatcompany',\n",
       "                                                   'basesalary',\n",
       "                                                   'stockgrantvalue', 'bonus',\n",
       "                                                   'Masters_Degree',\n",
       "                                                   'Bachelors_Degree',\n",
       "                                                   'Doctorate_Degree',\n",
       "                                                   'Highschool', 'Some_College',\n",
       "                                                   'Race_Asian', 'Race_White',\n",
       "                                                   'Race_Two_Or_More',\n",
       "                                                   'Race_Black',\n",
       "                                                   'Race_Hispanic',\n",
       "                                                   'in_top_15']),\n",
       "                                                 ('cat',\n",
       "                                                  OneHotEncoder(handle_unknown='ignore'),\n",
       "                                                  ['title', 'gender',\n",
       "                                                   'state'])])),\n",
       "                ('classifier', KNeighborsRegressor())])"
      ]
     },
     "execution_count": 209,
     "metadata": {
     },
     "output_type": "execute_result"
    }
   ],
   "source": [
    "clf.fit(X_train, y_train)"
   ]
  },
  {
   "cell_type": "code",
   "execution_count": 210,
   "metadata": {
    "collapsed": false
   },
   "outputs": [
    {
     "data": {
      "text/plain": [
       "0.9050458531996377"
      ]
     },
     "execution_count": 210,
     "metadata": {
     },
     "output_type": "execute_result"
    }
   ],
   "source": [
    "clf.score(X_test, y_test)"
   ]
  },
  {
   "cell_type": "code",
   "execution_count": 216,
   "metadata": {
    "collapsed": false
   },
   "outputs": [
    {
     "data": {
      "text/html": [
       "<div>\n",
       "<style scoped>\n",
       "    .dataframe tbody tr th:only-of-type {\n",
       "        vertical-align: middle;\n",
       "    }\n",
       "\n",
       "    .dataframe tbody tr th {\n",
       "        vertical-align: top;\n",
       "    }\n",
       "\n",
       "    .dataframe thead th {\n",
       "        text-align: right;\n",
       "    }\n",
       "</style>\n",
       "<table border=\"1\" class=\"dataframe\">\n",
       "  <thead>\n",
       "    <tr style=\"text-align: right;\">\n",
       "      <th></th>\n",
       "      <th>title</th>\n",
       "      <th>yearsofexperience</th>\n",
       "      <th>yearsatcompany</th>\n",
       "      <th>basesalary</th>\n",
       "      <th>stockgrantvalue</th>\n",
       "      <th>bonus</th>\n",
       "      <th>gender</th>\n",
       "      <th>Masters_Degree</th>\n",
       "      <th>Bachelors_Degree</th>\n",
       "      <th>Doctorate_Degree</th>\n",
       "      <th>Highschool</th>\n",
       "      <th>Some_College</th>\n",
       "      <th>Race_Asian</th>\n",
       "      <th>Race_White</th>\n",
       "      <th>Race_Two_Or_More</th>\n",
       "      <th>Race_Black</th>\n",
       "      <th>Race_Hispanic</th>\n",
       "      <th>state</th>\n",
       "      <th>in_top_15</th>\n",
       "    </tr>\n",
       "  </thead>\n",
       "  <tbody>\n",
       "    <tr>\n",
       "      <th>8981</th>\n",
       "      <td>Solution Architect</td>\n",
       "      <td>14.0</td>\n",
       "      <td>8.0</td>\n",
       "      <td>155000.0</td>\n",
       "      <td>0.0</td>\n",
       "      <td>0.0</td>\n",
       "      <td>Female</td>\n",
       "      <td>0</td>\n",
       "      <td>1</td>\n",
       "      <td>0</td>\n",
       "      <td>0</td>\n",
       "      <td>0</td>\n",
       "      <td>0</td>\n",
       "      <td>1</td>\n",
       "      <td>0</td>\n",
       "      <td>0</td>\n",
       "      <td>0</td>\n",
       "      <td>WA</td>\n",
       "      <td>True</td>\n",
       "    </tr>\n",
       "  </tbody>\n",
       "</table>\n",
       "</div>"
      ],
      "text/plain": [
       "                   title  yearsofexperience  yearsatcompany  basesalary  \\\n",
       "8981  Solution Architect               14.0             8.0    155000.0   \n",
       "\n",
       "      stockgrantvalue  bonus  gender  Masters_Degree  Bachelors_Degree  \\\n",
       "8981              0.0    0.0  Female               0                 1   \n",
       "\n",
       "      Doctorate_Degree  Highschool  Some_College  Race_Asian  Race_White  \\\n",
       "8981                 0           0             0           0           1   \n",
       "\n",
       "      Race_Two_Or_More  Race_Black  Race_Hispanic state  in_top_15  \n",
       "8981                 0           0              0    WA       True  "
      ]
     },
     "execution_count": 216,
     "metadata": {
     },
     "output_type": "execute_result"
    }
   ],
   "source": [
    "test = X_train.head(1)\n",
    "test"
   ]
  },
  {
   "cell_type": "code",
   "execution_count": 217,
   "metadata": {
    "collapsed": false
   },
   "outputs": [
    {
     "data": {
      "text/plain": [
       "array([155200.])"
      ]
     },
     "execution_count": 217,
     "metadata": {
     },
     "output_type": "execute_result"
    }
   ],
   "source": [
    "clf.predict(test)"
   ]
  },
  {
   "cell_type": "markdown",
   "metadata": {
    "collapsed": false
   },
   "source": [
    "#### Working Function"
   ]
  },
  {
   "cell_type": "code",
   "execution_count": 223,
   "metadata": {
    "collapsed": false
   },
   "outputs": [
   ],
   "source": [
    "df = pd.read_csv('cleaned_data.csv')\n",
    "df.drop(['Unnamed: 0'], axis = 1, inplace = True)\n",
    "\n",
    "def convert(years):\n",
    "    if years == 0:\n",
    "        return 'No Experience'\n",
    "    elif 1 <= years <= 3:\n",
    "        return 'Little Experience'\n",
    "    elif 4 <= years <= 6:\n",
    "        return 'Medium Experienced'\n",
    "    else:\n",
    "        return 'Very Experienced'\n",
    "\n",
    "df['experience'] = df['yearsofexperience'].apply(convert)\n",
    "\n",
    "user_input = ['state', 'title', 'race', 'education', 'in_top_15', 'gender', 'experience']\n",
    "fill = df.groupby(by = user_input).mean()\n",
    "fill.reset_index(inplace = True)\n",
    "\n",
    "top_15 = list(df['company'].value_counts().head(15).index)\n",
    "\n",
    "def predict(data):\n",
    "    return clf.predict(data)[0]\n",
    "\n",
    "def impute(state, title, race, education, company, gender, yearsofexperience):\n",
    "    top_15_data = None\n",
    "    if company in top_15:\n",
    "        top_15_data = True\n",
    "    else:\n",
    "        top_15_data = False\n",
    "\n",
    "    exp = convert(int(yearsofexperience))\n",
    "\n",
    "    new_data = fill[(fill['state'] == state) & \n",
    "         (fill['title'] == title) & \n",
    "         (fill['race'] == race) & \n",
    "         (fill['gender'] == gender) & \n",
    "         (fill['in_top_15'] == top_15_data) & \n",
    "         (fill['education'] == education) &\n",
    "         (fill['experience'] == exp)]\n",
    "\n",
    "    data = None\n",
    "    if len(new_data) == 0:\n",
    "        return \"Sorry, no matching data found. We are not able to make an accurate prediction.\"\n",
    "    else:\n",
    "        data = new_data.head(1)\n",
    "\n",
    "    return predict(data)"
   ]
  },
  {
   "cell_type": "code",
   "execution_count": 232,
   "metadata": {
    "collapsed": false
   },
   "outputs": [
    {
     "data": {
      "text/plain": [
       "165000.0"
      ]
     },
     "execution_count": 232,
     "metadata": {
     },
     "output_type": "execute_result"
    }
   ],
   "source": [
    "row = impute('CA', 'Software Engineer', 'Asian', 'Masters', 'Other', 'Male', 0)\n",
    "row"
   ]
  },
  {
   "cell_type": "code",
   "execution_count": 0,
   "metadata": {
    "collapsed": false
   },
   "outputs": [
   ],
   "source": [
   ]
  }
 ],
 "metadata": {
  "kernelspec": {
   "display_name": "Python (ds_env)",
   "language": "python",
   "metadata": {
    "debugger": true
   },
   "name": "ds_env",
   "resource_dir": "/projects/0bcf82e6-7441-4432-a339-19b67c22cc5c/.local/share/jupyter/kernels/ds_env"
  },
  "language_info": {
   "codemirror_mode": {
    "name": "ipython",
    "version": 3
   },
   "file_extension": ".py",
   "mimetype": "text/x-python",
   "name": "python",
   "nbconvert_exporter": "python",
   "pygments_lexer": "ipython3",
   "version": "3.8.13"
  }
 },
 "nbformat": 4,
 "nbformat_minor": 4
}